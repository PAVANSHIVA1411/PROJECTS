{
 "cells": [
  {
   "cell_type": "markdown",
   "id": "a9c3ed7a",
   "metadata": {},
   "source": [
    "# FAKE NEWS PREDICTION"
   ]
  },
  {
   "cell_type": "code",
   "execution_count": 1,
   "id": "dbfb6074",
   "metadata": {},
   "outputs": [],
   "source": [
    "#we have labelled data and aim of the project is to predict the fakenews"
   ]
  },
  {
   "cell_type": "code",
   "execution_count": 2,
   "id": "d83faef9",
   "metadata": {},
   "outputs": [],
   "source": [
    "#Dataset Description\n",
    "#train.csv: A full training dataset with the following attributes:\n",
    "\n",
    "#id: unique id for a news article\n",
    "#title: the title of a news article\n",
    "#author: author of the news article\n",
    "#text: the text of the article; could be incomplete\n",
    "#label: a label that marks the article as potentially unreliable\n",
    "#1: unreliable- fake news\n",
    "#0: reliable-not fake news\n",
    "#test.csv: A testing training dataset with all the same attributes at train.csv without the label.\n",
    "\n",
    "\n"
   ]
  },
  {
   "cell_type": "code",
   "execution_count": 3,
   "id": "6904a797",
   "metadata": {},
   "outputs": [],
   "source": [
    "#so in this data set we have most of the feature are labelled data\n",
    "#so we are importing texting editing function\n",
    "#removing stopwords which doesnot had meaning to the content of the data"
   ]
  },
  {
   "cell_type": "markdown",
   "id": "80688130",
   "metadata": {},
   "source": [
    "#contol flow\n",
    "\n",
    "data--data preprocessing-data analysis--data cleaning--splitting data---building the model and training--evaluation--\n",
    "--predicting system\n"
   ]
  },
  {
   "cell_type": "code",
   "execution_count": 6,
   "id": "bb5374c7",
   "metadata": {},
   "outputs": [],
   "source": [
    "import os\n",
    "import pandas as pd\n",
    "import seaborn as sns\n",
    "import matplotlib.pyplot as plt\n",
    "import re## re--regular expression used for searching documents\n",
    "from nltk.corpus import stopwords##corpus--body of the particular text(important text)\n",
    "#nltk--natural languge tool kit(mens about the text)\n",
    "#stopwords are the words which does add much value to a paragraph vertex(ex:a,an,articles,where,what)\n",
    "from nltk.stem.porter import PorterStemmer##--stemming(it takes a word it removes the prefix and the suffix of the word\n",
    "#and returns the root word of it)\n",
    "from sklearn.feature_extraction.text import TfidfVectorizer##(Tfidfvectorizer-used to convert text into feature vectors.\n",
    "# features vectors are numbers)"
   ]
  },
  {
   "cell_type": "code",
   "execution_count": 7,
   "id": "31c74b11",
   "metadata": {},
   "outputs": [
    {
     "name": "stderr",
     "output_type": "stream",
     "text": [
      "[nltk_data] Downloading package stopwords to\n",
      "[nltk_data]     C:\\Users\\pavan\\AppData\\Roaming\\nltk_data...\n",
      "[nltk_data]   Package stopwords is already up-to-date!\n"
     ]
    },
    {
     "data": {
      "text/plain": [
       "True"
      ]
     },
     "execution_count": 7,
     "metadata": {},
     "output_type": "execute_result"
    }
   ],
   "source": [
    "import nltk\n",
    "nltk.download('stopwords')"
   ]
  },
  {
   "cell_type": "code",
   "execution_count": 8,
   "id": "4a3b62df",
   "metadata": {},
   "outputs": [],
   "source": [
    "#printing stopwords"
   ]
  },
  {
   "cell_type": "code",
   "execution_count": 9,
   "id": "71169358",
   "metadata": {},
   "outputs": [
    {
     "name": "stdout",
     "output_type": "stream",
     "text": [
      "['i', 'me', 'my', 'myself', 'we', 'our', 'ours', 'ourselves', 'you', \"you're\", \"you've\", \"you'll\", \"you'd\", 'your', 'yours', 'yourself', 'yourselves', 'he', 'him', 'his', 'himself', 'she', \"she's\", 'her', 'hers', 'herself', 'it', \"it's\", 'its', 'itself', 'they', 'them', 'their', 'theirs', 'themselves', 'what', 'which', 'who', 'whom', 'this', 'that', \"that'll\", 'these', 'those', 'am', 'is', 'are', 'was', 'were', 'be', 'been', 'being', 'have', 'has', 'had', 'having', 'do', 'does', 'did', 'doing', 'a', 'an', 'the', 'and', 'but', 'if', 'or', 'because', 'as', 'until', 'while', 'of', 'at', 'by', 'for', 'with', 'about', 'against', 'between', 'into', 'through', 'during', 'before', 'after', 'above', 'below', 'to', 'from', 'up', 'down', 'in', 'out', 'on', 'off', 'over', 'under', 'again', 'further', 'then', 'once', 'here', 'there', 'when', 'where', 'why', 'how', 'all', 'any', 'both', 'each', 'few', 'more', 'most', 'other', 'some', 'such', 'no', 'nor', 'not', 'only', 'own', 'same', 'so', 'than', 'too', 'very', 's', 't', 'can', 'will', 'just', 'don', \"don't\", 'should', \"should've\", 'now', 'd', 'll', 'm', 'o', 're', 've', 'y', 'ain', 'aren', \"aren't\", 'couldn', \"couldn't\", 'didn', \"didn't\", 'doesn', \"doesn't\", 'hadn', \"hadn't\", 'hasn', \"hasn't\", 'haven', \"haven't\", 'isn', \"isn't\", 'ma', 'mightn', \"mightn't\", 'mustn', \"mustn't\", 'needn', \"needn't\", 'shan', \"shan't\", 'shouldn', \"shouldn't\", 'wasn', \"wasn't\", 'weren', \"weren't\", 'won', \"won't\", 'wouldn', \"wouldn't\"]\n"
     ]
    }
   ],
   "source": [
    "print(stopwords.words('english'))"
   ]
  },
  {
   "cell_type": "markdown",
   "id": "236c503c",
   "metadata": {},
   "source": [
    "above are the stop words which doesnt add any meaning in the content in the dataset\n",
    "and during stemming process we remove all this stopwords"
   ]
  },
  {
   "cell_type": "code",
   "execution_count": 10,
   "id": "259aec7c",
   "metadata": {},
   "outputs": [],
   "source": [
    "#data preprocessing"
   ]
  },
  {
   "cell_type": "code",
   "execution_count": 11,
   "id": "e7600c0d",
   "metadata": {},
   "outputs": [],
   "source": [
    "os.chdir('C:\\\\Users\\\\pavan\\\\Desktop\\\\data science course\\\\project\\\\project on classifier\\\\project file\\\\project 4 fake news\\\\train.csv')"
   ]
  },
  {
   "cell_type": "code",
   "execution_count": 12,
   "id": "2f539ce8",
   "metadata": {},
   "outputs": [],
   "source": [
    "data=pd.read_csv('train.csv')"
   ]
  },
  {
   "cell_type": "code",
   "execution_count": 13,
   "id": "df2d04be",
   "metadata": {},
   "outputs": [
    {
     "data": {
      "text/html": [
       "<div>\n",
       "<style scoped>\n",
       "    .dataframe tbody tr th:only-of-type {\n",
       "        vertical-align: middle;\n",
       "    }\n",
       "\n",
       "    .dataframe tbody tr th {\n",
       "        vertical-align: top;\n",
       "    }\n",
       "\n",
       "    .dataframe thead th {\n",
       "        text-align: right;\n",
       "    }\n",
       "</style>\n",
       "<table border=\"1\" class=\"dataframe\">\n",
       "  <thead>\n",
       "    <tr style=\"text-align: right;\">\n",
       "      <th></th>\n",
       "      <th>id</th>\n",
       "      <th>title</th>\n",
       "      <th>author</th>\n",
       "      <th>text</th>\n",
       "      <th>label</th>\n",
       "    </tr>\n",
       "  </thead>\n",
       "  <tbody>\n",
       "    <tr>\n",
       "      <th>0</th>\n",
       "      <td>0</td>\n",
       "      <td>House Dem Aide: We Didn’t Even See Comey’s Let...</td>\n",
       "      <td>Darrell Lucus</td>\n",
       "      <td>House Dem Aide: We Didn’t Even See Comey’s Let...</td>\n",
       "      <td>1</td>\n",
       "    </tr>\n",
       "    <tr>\n",
       "      <th>1</th>\n",
       "      <td>1</td>\n",
       "      <td>FLYNN: Hillary Clinton, Big Woman on Campus - ...</td>\n",
       "      <td>Daniel J. Flynn</td>\n",
       "      <td>Ever get the feeling your life circles the rou...</td>\n",
       "      <td>0</td>\n",
       "    </tr>\n",
       "    <tr>\n",
       "      <th>2</th>\n",
       "      <td>2</td>\n",
       "      <td>Why the Truth Might Get You Fired</td>\n",
       "      <td>Consortiumnews.com</td>\n",
       "      <td>Why the Truth Might Get You Fired October 29, ...</td>\n",
       "      <td>1</td>\n",
       "    </tr>\n",
       "    <tr>\n",
       "      <th>3</th>\n",
       "      <td>3</td>\n",
       "      <td>15 Civilians Killed In Single US Airstrike Hav...</td>\n",
       "      <td>Jessica Purkiss</td>\n",
       "      <td>Videos 15 Civilians Killed In Single US Airstr...</td>\n",
       "      <td>1</td>\n",
       "    </tr>\n",
       "    <tr>\n",
       "      <th>4</th>\n",
       "      <td>4</td>\n",
       "      <td>Iranian woman jailed for fictional unpublished...</td>\n",
       "      <td>Howard Portnoy</td>\n",
       "      <td>Print \\nAn Iranian woman has been sentenced to...</td>\n",
       "      <td>1</td>\n",
       "    </tr>\n",
       "    <tr>\n",
       "      <th>...</th>\n",
       "      <td>...</td>\n",
       "      <td>...</td>\n",
       "      <td>...</td>\n",
       "      <td>...</td>\n",
       "      <td>...</td>\n",
       "    </tr>\n",
       "    <tr>\n",
       "      <th>20795</th>\n",
       "      <td>20795</td>\n",
       "      <td>Rapper T.I.: Trump a ’Poster Child For White S...</td>\n",
       "      <td>Jerome Hudson</td>\n",
       "      <td>Rapper T. I. unloaded on black celebrities who...</td>\n",
       "      <td>0</td>\n",
       "    </tr>\n",
       "    <tr>\n",
       "      <th>20796</th>\n",
       "      <td>20796</td>\n",
       "      <td>N.F.L. Playoffs: Schedule, Matchups and Odds -...</td>\n",
       "      <td>Benjamin Hoffman</td>\n",
       "      <td>When the Green Bay Packers lost to the Washing...</td>\n",
       "      <td>0</td>\n",
       "    </tr>\n",
       "    <tr>\n",
       "      <th>20797</th>\n",
       "      <td>20797</td>\n",
       "      <td>Macy’s Is Said to Receive Takeover Approach by...</td>\n",
       "      <td>Michael J. de la Merced and Rachel Abrams</td>\n",
       "      <td>The Macy’s of today grew from the union of sev...</td>\n",
       "      <td>0</td>\n",
       "    </tr>\n",
       "    <tr>\n",
       "      <th>20798</th>\n",
       "      <td>20798</td>\n",
       "      <td>NATO, Russia To Hold Parallel Exercises In Bal...</td>\n",
       "      <td>Alex Ansary</td>\n",
       "      <td>NATO, Russia To Hold Parallel Exercises In Bal...</td>\n",
       "      <td>1</td>\n",
       "    </tr>\n",
       "    <tr>\n",
       "      <th>20799</th>\n",
       "      <td>20799</td>\n",
       "      <td>What Keeps the F-35 Alive</td>\n",
       "      <td>David Swanson</td>\n",
       "      <td>David Swanson is an author, activist, journa...</td>\n",
       "      <td>1</td>\n",
       "    </tr>\n",
       "  </tbody>\n",
       "</table>\n",
       "<p>20800 rows × 5 columns</p>\n",
       "</div>"
      ],
      "text/plain": [
       "          id                                              title  \\\n",
       "0          0  House Dem Aide: We Didn’t Even See Comey’s Let...   \n",
       "1          1  FLYNN: Hillary Clinton, Big Woman on Campus - ...   \n",
       "2          2                  Why the Truth Might Get You Fired   \n",
       "3          3  15 Civilians Killed In Single US Airstrike Hav...   \n",
       "4          4  Iranian woman jailed for fictional unpublished...   \n",
       "...      ...                                                ...   \n",
       "20795  20795  Rapper T.I.: Trump a ’Poster Child For White S...   \n",
       "20796  20796  N.F.L. Playoffs: Schedule, Matchups and Odds -...   \n",
       "20797  20797  Macy’s Is Said to Receive Takeover Approach by...   \n",
       "20798  20798  NATO, Russia To Hold Parallel Exercises In Bal...   \n",
       "20799  20799                          What Keeps the F-35 Alive   \n",
       "\n",
       "                                          author  \\\n",
       "0                                  Darrell Lucus   \n",
       "1                                Daniel J. Flynn   \n",
       "2                             Consortiumnews.com   \n",
       "3                                Jessica Purkiss   \n",
       "4                                 Howard Portnoy   \n",
       "...                                          ...   \n",
       "20795                              Jerome Hudson   \n",
       "20796                           Benjamin Hoffman   \n",
       "20797  Michael J. de la Merced and Rachel Abrams   \n",
       "20798                                Alex Ansary   \n",
       "20799                              David Swanson   \n",
       "\n",
       "                                                    text  label  \n",
       "0      House Dem Aide: We Didn’t Even See Comey’s Let...      1  \n",
       "1      Ever get the feeling your life circles the rou...      0  \n",
       "2      Why the Truth Might Get You Fired October 29, ...      1  \n",
       "3      Videos 15 Civilians Killed In Single US Airstr...      1  \n",
       "4      Print \\nAn Iranian woman has been sentenced to...      1  \n",
       "...                                                  ...    ...  \n",
       "20795  Rapper T. I. unloaded on black celebrities who...      0  \n",
       "20796  When the Green Bay Packers lost to the Washing...      0  \n",
       "20797  The Macy’s of today grew from the union of sev...      0  \n",
       "20798  NATO, Russia To Hold Parallel Exercises In Bal...      1  \n",
       "20799    David Swanson is an author, activist, journa...      1  \n",
       "\n",
       "[20800 rows x 5 columns]"
      ]
     },
     "execution_count": 13,
     "metadata": {},
     "output_type": "execute_result"
    }
   ],
   "source": [
    "data"
   ]
  },
  {
   "cell_type": "code",
   "execution_count": 14,
   "id": "47b4c82e",
   "metadata": {},
   "outputs": [],
   "source": [
    "#cheching the number of rows and columns"
   ]
  },
  {
   "cell_type": "code",
   "execution_count": 15,
   "id": "bb72bea5",
   "metadata": {},
   "outputs": [
    {
     "data": {
      "text/plain": [
       "(20800, 5)"
      ]
     },
     "execution_count": 15,
     "metadata": {},
     "output_type": "execute_result"
    }
   ],
   "source": [
    "data.shape"
   ]
  },
  {
   "cell_type": "code",
   "execution_count": 16,
   "id": "914ee526",
   "metadata": {},
   "outputs": [],
   "source": [
    "#finding the missing value\n",
    "#data cleaning"
   ]
  },
  {
   "cell_type": "code",
   "execution_count": 17,
   "id": "2fdaba0b",
   "metadata": {},
   "outputs": [
    {
     "data": {
      "text/plain": [
       "id           0\n",
       "title      558\n",
       "author    1957\n",
       "text        39\n",
       "label        0\n",
       "dtype: int64"
      ]
     },
     "execution_count": 17,
     "metadata": {},
     "output_type": "execute_result"
    }
   ],
   "source": [
    "data.isnull().sum()"
   ]
  },
  {
   "cell_type": "code",
   "execution_count": 18,
   "id": "50e1b2c6",
   "metadata": {},
   "outputs": [],
   "source": [
    "#finding the percentage of null values percent"
   ]
  },
  {
   "cell_type": "code",
   "execution_count": 19,
   "id": "cbf237c4",
   "metadata": {},
   "outputs": [],
   "source": [
    "a=data.isnull().sum()\n",
    "b=len(data)\n",
    "per=(a/b)*100"
   ]
  },
  {
   "cell_type": "code",
   "execution_count": 20,
   "id": "47a6a6f0",
   "metadata": {},
   "outputs": [
    {
     "data": {
      "text/plain": [
       "id        0.000000\n",
       "title     2.682692\n",
       "author    9.408654\n",
       "text      0.187500\n",
       "label     0.000000\n",
       "dtype: float64"
      ]
     },
     "execution_count": 20,
     "metadata": {},
     "output_type": "execute_result"
    }
   ],
   "source": [
    "per"
   ]
  },
  {
   "cell_type": "code",
   "execution_count": 21,
   "id": "dc3486a2",
   "metadata": {},
   "outputs": [
    {
     "name": "stdout",
     "output_type": "stream",
     "text": [
      "<class 'pandas.core.frame.DataFrame'>\n",
      "RangeIndex: 20800 entries, 0 to 20799\n",
      "Data columns (total 5 columns):\n",
      " #   Column  Non-Null Count  Dtype \n",
      "---  ------  --------------  ----- \n",
      " 0   id      20800 non-null  int64 \n",
      " 1   title   20242 non-null  object\n",
      " 2   author  18843 non-null  object\n",
      " 3   text    20761 non-null  object\n",
      " 4   label   20800 non-null  int64 \n",
      "dtypes: int64(2), object(3)\n",
      "memory usage: 812.6+ KB\n"
     ]
    }
   ],
   "source": [
    "data.info()"
   ]
  },
  {
   "cell_type": "code",
   "execution_count": 22,
   "id": "53abc3e0",
   "metadata": {},
   "outputs": [
    {
     "data": {
      "text/plain": [
       "0    Get Ready For Civil Unrest: Survey Finds That ...\n",
       "1    The Dark Agenda Behind Globalism And Open Borders\n",
       "Name: title, dtype: object"
      ]
     },
     "execution_count": 22,
     "metadata": {},
     "output_type": "execute_result"
    }
   ],
   "source": [
    "data.title.mode()"
   ]
  },
  {
   "cell_type": "code",
   "execution_count": 23,
   "id": "2082d256",
   "metadata": {},
   "outputs": [
    {
     "data": {
      "text/plain": [
       "0    Pam Key\n",
       "Name: author, dtype: object"
      ]
     },
     "execution_count": 23,
     "metadata": {},
     "output_type": "execute_result"
    }
   ],
   "source": [
    "data.author.mode()"
   ]
  },
  {
   "cell_type": "code",
   "execution_count": 24,
   "id": "2b93c7a1",
   "metadata": {},
   "outputs": [
    {
     "data": {
      "text/plain": [
       "0     \n",
       "Name: text, dtype: object"
      ]
     },
     "execution_count": 24,
     "metadata": {},
     "output_type": "execute_result"
    }
   ],
   "source": [
    "data.text.mode()"
   ]
  },
  {
   "cell_type": "code",
   "execution_count": 25,
   "id": "f741bc80",
   "metadata": {},
   "outputs": [],
   "source": [
    "#fillling the missing values"
   ]
  },
  {
   "cell_type": "code",
   "execution_count": 26,
   "id": "4ff045ff",
   "metadata": {},
   "outputs": [],
   "source": [
    "news_data=data.fillna('')#since all fetures depends on eachother,using mode can change the respective title and author and text"
   ]
  },
  {
   "cell_type": "code",
   "execution_count": 27,
   "id": "d207f817",
   "metadata": {},
   "outputs": [
    {
     "data": {
      "text/plain": [
       "id        0\n",
       "title     0\n",
       "author    0\n",
       "text      0\n",
       "label     0\n",
       "dtype: int64"
      ]
     },
     "execution_count": 27,
     "metadata": {},
     "output_type": "execute_result"
    }
   ],
   "source": [
    "news_data.isnull().sum()"
   ]
  },
  {
   "cell_type": "code",
   "execution_count": 29,
   "id": "cbefd86f",
   "metadata": {},
   "outputs": [],
   "source": [
    "#merging two features(title and author) to get good accuracy for predicting fake news"
   ]
  },
  {
   "cell_type": "code",
   "execution_count": 30,
   "id": "c5f0736b",
   "metadata": {},
   "outputs": [],
   "source": [
    "news_data['content']=news_data['author']+' : '+news_data['title']"
   ]
  },
  {
   "cell_type": "code",
   "execution_count": 31,
   "id": "4fc01916",
   "metadata": {},
   "outputs": [
    {
     "data": {
      "text/html": [
       "<div>\n",
       "<style scoped>\n",
       "    .dataframe tbody tr th:only-of-type {\n",
       "        vertical-align: middle;\n",
       "    }\n",
       "\n",
       "    .dataframe tbody tr th {\n",
       "        vertical-align: top;\n",
       "    }\n",
       "\n",
       "    .dataframe thead th {\n",
       "        text-align: right;\n",
       "    }\n",
       "</style>\n",
       "<table border=\"1\" class=\"dataframe\">\n",
       "  <thead>\n",
       "    <tr style=\"text-align: right;\">\n",
       "      <th></th>\n",
       "      <th>id</th>\n",
       "      <th>title</th>\n",
       "      <th>author</th>\n",
       "      <th>text</th>\n",
       "      <th>label</th>\n",
       "      <th>content</th>\n",
       "    </tr>\n",
       "  </thead>\n",
       "  <tbody>\n",
       "    <tr>\n",
       "      <th>0</th>\n",
       "      <td>0</td>\n",
       "      <td>House Dem Aide: We Didn’t Even See Comey’s Let...</td>\n",
       "      <td>Darrell Lucus</td>\n",
       "      <td>House Dem Aide: We Didn’t Even See Comey’s Let...</td>\n",
       "      <td>1</td>\n",
       "      <td>Darrell Lucus : House Dem Aide: We Didn’t Even...</td>\n",
       "    </tr>\n",
       "    <tr>\n",
       "      <th>1</th>\n",
       "      <td>1</td>\n",
       "      <td>FLYNN: Hillary Clinton, Big Woman on Campus - ...</td>\n",
       "      <td>Daniel J. Flynn</td>\n",
       "      <td>Ever get the feeling your life circles the rou...</td>\n",
       "      <td>0</td>\n",
       "      <td>Daniel J. Flynn : FLYNN: Hillary Clinton, Big ...</td>\n",
       "    </tr>\n",
       "    <tr>\n",
       "      <th>2</th>\n",
       "      <td>2</td>\n",
       "      <td>Why the Truth Might Get You Fired</td>\n",
       "      <td>Consortiumnews.com</td>\n",
       "      <td>Why the Truth Might Get You Fired October 29, ...</td>\n",
       "      <td>1</td>\n",
       "      <td>Consortiumnews.com : Why the Truth Might Get Y...</td>\n",
       "    </tr>\n",
       "    <tr>\n",
       "      <th>3</th>\n",
       "      <td>3</td>\n",
       "      <td>15 Civilians Killed In Single US Airstrike Hav...</td>\n",
       "      <td>Jessica Purkiss</td>\n",
       "      <td>Videos 15 Civilians Killed In Single US Airstr...</td>\n",
       "      <td>1</td>\n",
       "      <td>Jessica Purkiss : 15 Civilians Killed In Singl...</td>\n",
       "    </tr>\n",
       "    <tr>\n",
       "      <th>4</th>\n",
       "      <td>4</td>\n",
       "      <td>Iranian woman jailed for fictional unpublished...</td>\n",
       "      <td>Howard Portnoy</td>\n",
       "      <td>Print \\nAn Iranian woman has been sentenced to...</td>\n",
       "      <td>1</td>\n",
       "      <td>Howard Portnoy : Iranian woman jailed for fict...</td>\n",
       "    </tr>\n",
       "    <tr>\n",
       "      <th>...</th>\n",
       "      <td>...</td>\n",
       "      <td>...</td>\n",
       "      <td>...</td>\n",
       "      <td>...</td>\n",
       "      <td>...</td>\n",
       "      <td>...</td>\n",
       "    </tr>\n",
       "    <tr>\n",
       "      <th>20795</th>\n",
       "      <td>20795</td>\n",
       "      <td>Rapper T.I.: Trump a ’Poster Child For White S...</td>\n",
       "      <td>Jerome Hudson</td>\n",
       "      <td>Rapper T. I. unloaded on black celebrities who...</td>\n",
       "      <td>0</td>\n",
       "      <td>Jerome Hudson : Rapper T.I.: Trump a ’Poster C...</td>\n",
       "    </tr>\n",
       "    <tr>\n",
       "      <th>20796</th>\n",
       "      <td>20796</td>\n",
       "      <td>N.F.L. Playoffs: Schedule, Matchups and Odds -...</td>\n",
       "      <td>Benjamin Hoffman</td>\n",
       "      <td>When the Green Bay Packers lost to the Washing...</td>\n",
       "      <td>0</td>\n",
       "      <td>Benjamin Hoffman : N.F.L. Playoffs: Schedule, ...</td>\n",
       "    </tr>\n",
       "    <tr>\n",
       "      <th>20797</th>\n",
       "      <td>20797</td>\n",
       "      <td>Macy’s Is Said to Receive Takeover Approach by...</td>\n",
       "      <td>Michael J. de la Merced and Rachel Abrams</td>\n",
       "      <td>The Macy’s of today grew from the union of sev...</td>\n",
       "      <td>0</td>\n",
       "      <td>Michael J. de la Merced and Rachel Abrams : Ma...</td>\n",
       "    </tr>\n",
       "    <tr>\n",
       "      <th>20798</th>\n",
       "      <td>20798</td>\n",
       "      <td>NATO, Russia To Hold Parallel Exercises In Bal...</td>\n",
       "      <td>Alex Ansary</td>\n",
       "      <td>NATO, Russia To Hold Parallel Exercises In Bal...</td>\n",
       "      <td>1</td>\n",
       "      <td>Alex Ansary : NATO, Russia To Hold Parallel Ex...</td>\n",
       "    </tr>\n",
       "    <tr>\n",
       "      <th>20799</th>\n",
       "      <td>20799</td>\n",
       "      <td>What Keeps the F-35 Alive</td>\n",
       "      <td>David Swanson</td>\n",
       "      <td>David Swanson is an author, activist, journa...</td>\n",
       "      <td>1</td>\n",
       "      <td>David Swanson : What Keeps the F-35 Alive</td>\n",
       "    </tr>\n",
       "  </tbody>\n",
       "</table>\n",
       "<p>20800 rows × 6 columns</p>\n",
       "</div>"
      ],
      "text/plain": [
       "          id                                              title  \\\n",
       "0          0  House Dem Aide: We Didn’t Even See Comey’s Let...   \n",
       "1          1  FLYNN: Hillary Clinton, Big Woman on Campus - ...   \n",
       "2          2                  Why the Truth Might Get You Fired   \n",
       "3          3  15 Civilians Killed In Single US Airstrike Hav...   \n",
       "4          4  Iranian woman jailed for fictional unpublished...   \n",
       "...      ...                                                ...   \n",
       "20795  20795  Rapper T.I.: Trump a ’Poster Child For White S...   \n",
       "20796  20796  N.F.L. Playoffs: Schedule, Matchups and Odds -...   \n",
       "20797  20797  Macy’s Is Said to Receive Takeover Approach by...   \n",
       "20798  20798  NATO, Russia To Hold Parallel Exercises In Bal...   \n",
       "20799  20799                          What Keeps the F-35 Alive   \n",
       "\n",
       "                                          author  \\\n",
       "0                                  Darrell Lucus   \n",
       "1                                Daniel J. Flynn   \n",
       "2                             Consortiumnews.com   \n",
       "3                                Jessica Purkiss   \n",
       "4                                 Howard Portnoy   \n",
       "...                                          ...   \n",
       "20795                              Jerome Hudson   \n",
       "20796                           Benjamin Hoffman   \n",
       "20797  Michael J. de la Merced and Rachel Abrams   \n",
       "20798                                Alex Ansary   \n",
       "20799                              David Swanson   \n",
       "\n",
       "                                                    text  label  \\\n",
       "0      House Dem Aide: We Didn’t Even See Comey’s Let...      1   \n",
       "1      Ever get the feeling your life circles the rou...      0   \n",
       "2      Why the Truth Might Get You Fired October 29, ...      1   \n",
       "3      Videos 15 Civilians Killed In Single US Airstr...      1   \n",
       "4      Print \\nAn Iranian woman has been sentenced to...      1   \n",
       "...                                                  ...    ...   \n",
       "20795  Rapper T. I. unloaded on black celebrities who...      0   \n",
       "20796  When the Green Bay Packers lost to the Washing...      0   \n",
       "20797  The Macy’s of today grew from the union of sev...      0   \n",
       "20798  NATO, Russia To Hold Parallel Exercises In Bal...      1   \n",
       "20799    David Swanson is an author, activist, journa...      1   \n",
       "\n",
       "                                                 content  \n",
       "0      Darrell Lucus : House Dem Aide: We Didn’t Even...  \n",
       "1      Daniel J. Flynn : FLYNN: Hillary Clinton, Big ...  \n",
       "2      Consortiumnews.com : Why the Truth Might Get Y...  \n",
       "3      Jessica Purkiss : 15 Civilians Killed In Singl...  \n",
       "4      Howard Portnoy : Iranian woman jailed for fict...  \n",
       "...                                                  ...  \n",
       "20795  Jerome Hudson : Rapper T.I.: Trump a ’Poster C...  \n",
       "20796  Benjamin Hoffman : N.F.L. Playoffs: Schedule, ...  \n",
       "20797  Michael J. de la Merced and Rachel Abrams : Ma...  \n",
       "20798  Alex Ansary : NATO, Russia To Hold Parallel Ex...  \n",
       "20799          David Swanson : What Keeps the F-35 Alive  \n",
       "\n",
       "[20800 rows x 6 columns]"
      ]
     },
     "execution_count": 31,
     "metadata": {},
     "output_type": "execute_result"
    }
   ],
   "source": [
    "news_data"
   ]
  },
  {
   "cell_type": "code",
   "execution_count": 32,
   "id": "f382bc75",
   "metadata": {},
   "outputs": [],
   "source": [
    "#seperating data set"
   ]
  },
  {
   "cell_type": "code",
   "execution_count": 33,
   "id": "c7601951",
   "metadata": {},
   "outputs": [],
   "source": [
    "X=news_data.drop('label',axis=1)\n",
    "y=news_data.label"
   ]
  },
  {
   "cell_type": "code",
   "execution_count": 34,
   "id": "b57f779d",
   "metadata": {},
   "outputs": [
    {
     "data": {
      "text/html": [
       "<div>\n",
       "<style scoped>\n",
       "    .dataframe tbody tr th:only-of-type {\n",
       "        vertical-align: middle;\n",
       "    }\n",
       "\n",
       "    .dataframe tbody tr th {\n",
       "        vertical-align: top;\n",
       "    }\n",
       "\n",
       "    .dataframe thead th {\n",
       "        text-align: right;\n",
       "    }\n",
       "</style>\n",
       "<table border=\"1\" class=\"dataframe\">\n",
       "  <thead>\n",
       "    <tr style=\"text-align: right;\">\n",
       "      <th></th>\n",
       "      <th>id</th>\n",
       "      <th>title</th>\n",
       "      <th>author</th>\n",
       "      <th>text</th>\n",
       "      <th>content</th>\n",
       "    </tr>\n",
       "  </thead>\n",
       "  <tbody>\n",
       "    <tr>\n",
       "      <th>0</th>\n",
       "      <td>0</td>\n",
       "      <td>House Dem Aide: We Didn’t Even See Comey’s Let...</td>\n",
       "      <td>Darrell Lucus</td>\n",
       "      <td>House Dem Aide: We Didn’t Even See Comey’s Let...</td>\n",
       "      <td>Darrell Lucus : House Dem Aide: We Didn’t Even...</td>\n",
       "    </tr>\n",
       "    <tr>\n",
       "      <th>1</th>\n",
       "      <td>1</td>\n",
       "      <td>FLYNN: Hillary Clinton, Big Woman on Campus - ...</td>\n",
       "      <td>Daniel J. Flynn</td>\n",
       "      <td>Ever get the feeling your life circles the rou...</td>\n",
       "      <td>Daniel J. Flynn : FLYNN: Hillary Clinton, Big ...</td>\n",
       "    </tr>\n",
       "    <tr>\n",
       "      <th>2</th>\n",
       "      <td>2</td>\n",
       "      <td>Why the Truth Might Get You Fired</td>\n",
       "      <td>Consortiumnews.com</td>\n",
       "      <td>Why the Truth Might Get You Fired October 29, ...</td>\n",
       "      <td>Consortiumnews.com : Why the Truth Might Get Y...</td>\n",
       "    </tr>\n",
       "    <tr>\n",
       "      <th>3</th>\n",
       "      <td>3</td>\n",
       "      <td>15 Civilians Killed In Single US Airstrike Hav...</td>\n",
       "      <td>Jessica Purkiss</td>\n",
       "      <td>Videos 15 Civilians Killed In Single US Airstr...</td>\n",
       "      <td>Jessica Purkiss : 15 Civilians Killed In Singl...</td>\n",
       "    </tr>\n",
       "    <tr>\n",
       "      <th>4</th>\n",
       "      <td>4</td>\n",
       "      <td>Iranian woman jailed for fictional unpublished...</td>\n",
       "      <td>Howard Portnoy</td>\n",
       "      <td>Print \\nAn Iranian woman has been sentenced to...</td>\n",
       "      <td>Howard Portnoy : Iranian woman jailed for fict...</td>\n",
       "    </tr>\n",
       "    <tr>\n",
       "      <th>...</th>\n",
       "      <td>...</td>\n",
       "      <td>...</td>\n",
       "      <td>...</td>\n",
       "      <td>...</td>\n",
       "      <td>...</td>\n",
       "    </tr>\n",
       "    <tr>\n",
       "      <th>20795</th>\n",
       "      <td>20795</td>\n",
       "      <td>Rapper T.I.: Trump a ’Poster Child For White S...</td>\n",
       "      <td>Jerome Hudson</td>\n",
       "      <td>Rapper T. I. unloaded on black celebrities who...</td>\n",
       "      <td>Jerome Hudson : Rapper T.I.: Trump a ’Poster C...</td>\n",
       "    </tr>\n",
       "    <tr>\n",
       "      <th>20796</th>\n",
       "      <td>20796</td>\n",
       "      <td>N.F.L. Playoffs: Schedule, Matchups and Odds -...</td>\n",
       "      <td>Benjamin Hoffman</td>\n",
       "      <td>When the Green Bay Packers lost to the Washing...</td>\n",
       "      <td>Benjamin Hoffman : N.F.L. Playoffs: Schedule, ...</td>\n",
       "    </tr>\n",
       "    <tr>\n",
       "      <th>20797</th>\n",
       "      <td>20797</td>\n",
       "      <td>Macy’s Is Said to Receive Takeover Approach by...</td>\n",
       "      <td>Michael J. de la Merced and Rachel Abrams</td>\n",
       "      <td>The Macy’s of today grew from the union of sev...</td>\n",
       "      <td>Michael J. de la Merced and Rachel Abrams : Ma...</td>\n",
       "    </tr>\n",
       "    <tr>\n",
       "      <th>20798</th>\n",
       "      <td>20798</td>\n",
       "      <td>NATO, Russia To Hold Parallel Exercises In Bal...</td>\n",
       "      <td>Alex Ansary</td>\n",
       "      <td>NATO, Russia To Hold Parallel Exercises In Bal...</td>\n",
       "      <td>Alex Ansary : NATO, Russia To Hold Parallel Ex...</td>\n",
       "    </tr>\n",
       "    <tr>\n",
       "      <th>20799</th>\n",
       "      <td>20799</td>\n",
       "      <td>What Keeps the F-35 Alive</td>\n",
       "      <td>David Swanson</td>\n",
       "      <td>David Swanson is an author, activist, journa...</td>\n",
       "      <td>David Swanson : What Keeps the F-35 Alive</td>\n",
       "    </tr>\n",
       "  </tbody>\n",
       "</table>\n",
       "<p>20800 rows × 5 columns</p>\n",
       "</div>"
      ],
      "text/plain": [
       "          id                                              title  \\\n",
       "0          0  House Dem Aide: We Didn’t Even See Comey’s Let...   \n",
       "1          1  FLYNN: Hillary Clinton, Big Woman on Campus - ...   \n",
       "2          2                  Why the Truth Might Get You Fired   \n",
       "3          3  15 Civilians Killed In Single US Airstrike Hav...   \n",
       "4          4  Iranian woman jailed for fictional unpublished...   \n",
       "...      ...                                                ...   \n",
       "20795  20795  Rapper T.I.: Trump a ’Poster Child For White S...   \n",
       "20796  20796  N.F.L. Playoffs: Schedule, Matchups and Odds -...   \n",
       "20797  20797  Macy’s Is Said to Receive Takeover Approach by...   \n",
       "20798  20798  NATO, Russia To Hold Parallel Exercises In Bal...   \n",
       "20799  20799                          What Keeps the F-35 Alive   \n",
       "\n",
       "                                          author  \\\n",
       "0                                  Darrell Lucus   \n",
       "1                                Daniel J. Flynn   \n",
       "2                             Consortiumnews.com   \n",
       "3                                Jessica Purkiss   \n",
       "4                                 Howard Portnoy   \n",
       "...                                          ...   \n",
       "20795                              Jerome Hudson   \n",
       "20796                           Benjamin Hoffman   \n",
       "20797  Michael J. de la Merced and Rachel Abrams   \n",
       "20798                                Alex Ansary   \n",
       "20799                              David Swanson   \n",
       "\n",
       "                                                    text  \\\n",
       "0      House Dem Aide: We Didn’t Even See Comey’s Let...   \n",
       "1      Ever get the feeling your life circles the rou...   \n",
       "2      Why the Truth Might Get You Fired October 29, ...   \n",
       "3      Videos 15 Civilians Killed In Single US Airstr...   \n",
       "4      Print \\nAn Iranian woman has been sentenced to...   \n",
       "...                                                  ...   \n",
       "20795  Rapper T. I. unloaded on black celebrities who...   \n",
       "20796  When the Green Bay Packers lost to the Washing...   \n",
       "20797  The Macy’s of today grew from the union of sev...   \n",
       "20798  NATO, Russia To Hold Parallel Exercises In Bal...   \n",
       "20799    David Swanson is an author, activist, journa...   \n",
       "\n",
       "                                                 content  \n",
       "0      Darrell Lucus : House Dem Aide: We Didn’t Even...  \n",
       "1      Daniel J. Flynn : FLYNN: Hillary Clinton, Big ...  \n",
       "2      Consortiumnews.com : Why the Truth Might Get Y...  \n",
       "3      Jessica Purkiss : 15 Civilians Killed In Singl...  \n",
       "4      Howard Portnoy : Iranian woman jailed for fict...  \n",
       "...                                                  ...  \n",
       "20795  Jerome Hudson : Rapper T.I.: Trump a ’Poster C...  \n",
       "20796  Benjamin Hoffman : N.F.L. Playoffs: Schedule, ...  \n",
       "20797  Michael J. de la Merced and Rachel Abrams : Ma...  \n",
       "20798  Alex Ansary : NATO, Russia To Hold Parallel Ex...  \n",
       "20799          David Swanson : What Keeps the F-35 Alive  \n",
       "\n",
       "[20800 rows x 5 columns]"
      ]
     },
     "execution_count": 34,
     "metadata": {},
     "output_type": "execute_result"
    }
   ],
   "source": [
    "X"
   ]
  },
  {
   "cell_type": "code",
   "execution_count": 35,
   "id": "1ac3a43b",
   "metadata": {},
   "outputs": [
    {
     "data": {
      "text/plain": [
       "0        1\n",
       "1        0\n",
       "2        1\n",
       "3        1\n",
       "4        1\n",
       "        ..\n",
       "20795    0\n",
       "20796    0\n",
       "20797    0\n",
       "20798    1\n",
       "20799    1\n",
       "Name: label, Length: 20800, dtype: int64"
      ]
     },
     "execution_count": 35,
     "metadata": {},
     "output_type": "execute_result"
    }
   ],
   "source": [
    "y"
   ]
  },
  {
   "cell_type": "markdown",
   "id": "a2f4f78d",
   "metadata": {},
   "source": [
    "#stemming process--it takes a word removes prefix and suffix and gives only the root word\n",
    "\n",
    "ex-actor,actress,acting as act"
   ]
  },
  {
   "cell_type": "code",
   "execution_count": 36,
   "id": "c46dc631",
   "metadata": {},
   "outputs": [],
   "source": [
    "port_stem=PorterStemmer()"
   ]
  },
  {
   "cell_type": "code",
   "execution_count": 38,
   "id": "55f02e35",
   "metadata": {},
   "outputs": [],
   "source": [
    "#creating a function"
   ]
  },
  {
   "cell_type": "markdown",
   "id": "ae2fdf2b",
   "metadata": {},
   "source": [
    "some cases we need to replicate a percticular code and cannot repeate every time ,to simply several line of code into simple\n",
    "word.we create below stemming function"
   ]
  },
  {
   "cell_type": "code",
   "execution_count": 39,
   "id": "7d0dbf1e",
   "metadata": {},
   "outputs": [],
   "source": [
    "def stemming(content):\n",
    "    stemmed_content=re.sub('[^a-zA-Z]',' ',content)#sub-substitute certain values,^ (upper arrow)---indictes exclusion\n",
    "    #in above case weare excluding every thing which is not alphebet.so we are writing (^a-zA-Z)\n",
    "    #' ' is written so that all the number are being replaced by space \n",
    "    #content--since we feature should be mentioned\n",
    "    stemmed_content=stemmed_content.lower()\n",
    "    stemmed_content=stemmed_content.split()\n",
    "    stemmed_content=[port_stem.stem(word) for word in stemmed_content if not word in stopwords.words('english')]\n",
    "    stemmed_content=' '.join(stemmed_content)\n",
    "    return stemmed_content"
   ]
  },
  {
   "cell_type": "code",
   "execution_count": 40,
   "id": "adb048fa",
   "metadata": {},
   "outputs": [],
   "source": [
    "news_data['content']=news_data['content'].apply(stemming)"
   ]
  },
  {
   "cell_type": "code",
   "execution_count": 41,
   "id": "5c42b333",
   "metadata": {},
   "outputs": [
    {
     "data": {
      "text/html": [
       "<div>\n",
       "<style scoped>\n",
       "    .dataframe tbody tr th:only-of-type {\n",
       "        vertical-align: middle;\n",
       "    }\n",
       "\n",
       "    .dataframe tbody tr th {\n",
       "        vertical-align: top;\n",
       "    }\n",
       "\n",
       "    .dataframe thead th {\n",
       "        text-align: right;\n",
       "    }\n",
       "</style>\n",
       "<table border=\"1\" class=\"dataframe\">\n",
       "  <thead>\n",
       "    <tr style=\"text-align: right;\">\n",
       "      <th></th>\n",
       "      <th>id</th>\n",
       "      <th>title</th>\n",
       "      <th>author</th>\n",
       "      <th>text</th>\n",
       "      <th>label</th>\n",
       "      <th>content</th>\n",
       "    </tr>\n",
       "  </thead>\n",
       "  <tbody>\n",
       "    <tr>\n",
       "      <th>0</th>\n",
       "      <td>0</td>\n",
       "      <td>House Dem Aide: We Didn’t Even See Comey’s Let...</td>\n",
       "      <td>Darrell Lucus</td>\n",
       "      <td>House Dem Aide: We Didn’t Even See Comey’s Let...</td>\n",
       "      <td>1</td>\n",
       "      <td>darrel lucu hous dem aid even see comey letter...</td>\n",
       "    </tr>\n",
       "    <tr>\n",
       "      <th>1</th>\n",
       "      <td>1</td>\n",
       "      <td>FLYNN: Hillary Clinton, Big Woman on Campus - ...</td>\n",
       "      <td>Daniel J. Flynn</td>\n",
       "      <td>Ever get the feeling your life circles the rou...</td>\n",
       "      <td>0</td>\n",
       "      <td>daniel j flynn flynn hillari clinton big woman...</td>\n",
       "    </tr>\n",
       "    <tr>\n",
       "      <th>2</th>\n",
       "      <td>2</td>\n",
       "      <td>Why the Truth Might Get You Fired</td>\n",
       "      <td>Consortiumnews.com</td>\n",
       "      <td>Why the Truth Might Get You Fired October 29, ...</td>\n",
       "      <td>1</td>\n",
       "      <td>consortiumnew com truth might get fire</td>\n",
       "    </tr>\n",
       "    <tr>\n",
       "      <th>3</th>\n",
       "      <td>3</td>\n",
       "      <td>15 Civilians Killed In Single US Airstrike Hav...</td>\n",
       "      <td>Jessica Purkiss</td>\n",
       "      <td>Videos 15 Civilians Killed In Single US Airstr...</td>\n",
       "      <td>1</td>\n",
       "      <td>jessica purkiss civilian kill singl us airstri...</td>\n",
       "    </tr>\n",
       "    <tr>\n",
       "      <th>4</th>\n",
       "      <td>4</td>\n",
       "      <td>Iranian woman jailed for fictional unpublished...</td>\n",
       "      <td>Howard Portnoy</td>\n",
       "      <td>Print \\nAn Iranian woman has been sentenced to...</td>\n",
       "      <td>1</td>\n",
       "      <td>howard portnoy iranian woman jail fiction unpu...</td>\n",
       "    </tr>\n",
       "    <tr>\n",
       "      <th>...</th>\n",
       "      <td>...</td>\n",
       "      <td>...</td>\n",
       "      <td>...</td>\n",
       "      <td>...</td>\n",
       "      <td>...</td>\n",
       "      <td>...</td>\n",
       "    </tr>\n",
       "    <tr>\n",
       "      <th>20795</th>\n",
       "      <td>20795</td>\n",
       "      <td>Rapper T.I.: Trump a ’Poster Child For White S...</td>\n",
       "      <td>Jerome Hudson</td>\n",
       "      <td>Rapper T. I. unloaded on black celebrities who...</td>\n",
       "      <td>0</td>\n",
       "      <td>jerom hudson rapper trump poster child white s...</td>\n",
       "    </tr>\n",
       "    <tr>\n",
       "      <th>20796</th>\n",
       "      <td>20796</td>\n",
       "      <td>N.F.L. Playoffs: Schedule, Matchups and Odds -...</td>\n",
       "      <td>Benjamin Hoffman</td>\n",
       "      <td>When the Green Bay Packers lost to the Washing...</td>\n",
       "      <td>0</td>\n",
       "      <td>benjamin hoffman n f l playoff schedul matchup...</td>\n",
       "    </tr>\n",
       "    <tr>\n",
       "      <th>20797</th>\n",
       "      <td>20797</td>\n",
       "      <td>Macy’s Is Said to Receive Takeover Approach by...</td>\n",
       "      <td>Michael J. de la Merced and Rachel Abrams</td>\n",
       "      <td>The Macy’s of today grew from the union of sev...</td>\n",
       "      <td>0</td>\n",
       "      <td>michael j de la merc rachel abram maci said re...</td>\n",
       "    </tr>\n",
       "    <tr>\n",
       "      <th>20798</th>\n",
       "      <td>20798</td>\n",
       "      <td>NATO, Russia To Hold Parallel Exercises In Bal...</td>\n",
       "      <td>Alex Ansary</td>\n",
       "      <td>NATO, Russia To Hold Parallel Exercises In Bal...</td>\n",
       "      <td>1</td>\n",
       "      <td>alex ansari nato russia hold parallel exercis ...</td>\n",
       "    </tr>\n",
       "    <tr>\n",
       "      <th>20799</th>\n",
       "      <td>20799</td>\n",
       "      <td>What Keeps the F-35 Alive</td>\n",
       "      <td>David Swanson</td>\n",
       "      <td>David Swanson is an author, activist, journa...</td>\n",
       "      <td>1</td>\n",
       "      <td>david swanson keep f aliv</td>\n",
       "    </tr>\n",
       "  </tbody>\n",
       "</table>\n",
       "<p>20800 rows × 6 columns</p>\n",
       "</div>"
      ],
      "text/plain": [
       "          id                                              title  \\\n",
       "0          0  House Dem Aide: We Didn’t Even See Comey’s Let...   \n",
       "1          1  FLYNN: Hillary Clinton, Big Woman on Campus - ...   \n",
       "2          2                  Why the Truth Might Get You Fired   \n",
       "3          3  15 Civilians Killed In Single US Airstrike Hav...   \n",
       "4          4  Iranian woman jailed for fictional unpublished...   \n",
       "...      ...                                                ...   \n",
       "20795  20795  Rapper T.I.: Trump a ’Poster Child For White S...   \n",
       "20796  20796  N.F.L. Playoffs: Schedule, Matchups and Odds -...   \n",
       "20797  20797  Macy’s Is Said to Receive Takeover Approach by...   \n",
       "20798  20798  NATO, Russia To Hold Parallel Exercises In Bal...   \n",
       "20799  20799                          What Keeps the F-35 Alive   \n",
       "\n",
       "                                          author  \\\n",
       "0                                  Darrell Lucus   \n",
       "1                                Daniel J. Flynn   \n",
       "2                             Consortiumnews.com   \n",
       "3                                Jessica Purkiss   \n",
       "4                                 Howard Portnoy   \n",
       "...                                          ...   \n",
       "20795                              Jerome Hudson   \n",
       "20796                           Benjamin Hoffman   \n",
       "20797  Michael J. de la Merced and Rachel Abrams   \n",
       "20798                                Alex Ansary   \n",
       "20799                              David Swanson   \n",
       "\n",
       "                                                    text  label  \\\n",
       "0      House Dem Aide: We Didn’t Even See Comey’s Let...      1   \n",
       "1      Ever get the feeling your life circles the rou...      0   \n",
       "2      Why the Truth Might Get You Fired October 29, ...      1   \n",
       "3      Videos 15 Civilians Killed In Single US Airstr...      1   \n",
       "4      Print \\nAn Iranian woman has been sentenced to...      1   \n",
       "...                                                  ...    ...   \n",
       "20795  Rapper T. I. unloaded on black celebrities who...      0   \n",
       "20796  When the Green Bay Packers lost to the Washing...      0   \n",
       "20797  The Macy’s of today grew from the union of sev...      0   \n",
       "20798  NATO, Russia To Hold Parallel Exercises In Bal...      1   \n",
       "20799    David Swanson is an author, activist, journa...      1   \n",
       "\n",
       "                                                 content  \n",
       "0      darrel lucu hous dem aid even see comey letter...  \n",
       "1      daniel j flynn flynn hillari clinton big woman...  \n",
       "2                 consortiumnew com truth might get fire  \n",
       "3      jessica purkiss civilian kill singl us airstri...  \n",
       "4      howard portnoy iranian woman jail fiction unpu...  \n",
       "...                                                  ...  \n",
       "20795  jerom hudson rapper trump poster child white s...  \n",
       "20796  benjamin hoffman n f l playoff schedul matchup...  \n",
       "20797  michael j de la merc rachel abram maci said re...  \n",
       "20798  alex ansari nato russia hold parallel exercis ...  \n",
       "20799                          david swanson keep f aliv  \n",
       "\n",
       "[20800 rows x 6 columns]"
      ]
     },
     "execution_count": 41,
     "metadata": {},
     "output_type": "execute_result"
    }
   ],
   "source": [
    "news_data"
   ]
  },
  {
   "cell_type": "code",
   "execution_count": 42,
   "id": "9156e4fb",
   "metadata": {},
   "outputs": [],
   "source": [
    "#separating the data and taking only the value"
   ]
  },
  {
   "cell_type": "code",
   "execution_count": 43,
   "id": "6e906701",
   "metadata": {},
   "outputs": [],
   "source": [
    "X1=news_data.content.values\n",
    "y1=news_data.label.values"
   ]
  },
  {
   "cell_type": "code",
   "execution_count": 44,
   "id": "5a64622f",
   "metadata": {},
   "outputs": [
    {
     "data": {
      "text/plain": [
       "array(['darrel lucu hous dem aid even see comey letter jason chaffetz tweet',\n",
       "       'daniel j flynn flynn hillari clinton big woman campu breitbart',\n",
       "       'consortiumnew com truth might get fire', ...,\n",
       "       'michael j de la merc rachel abram maci said receiv takeov approach hudson bay new york time',\n",
       "       'alex ansari nato russia hold parallel exercis balkan',\n",
       "       'david swanson keep f aliv'], dtype=object)"
      ]
     },
     "execution_count": 44,
     "metadata": {},
     "output_type": "execute_result"
    }
   ],
   "source": [
    "X1"
   ]
  },
  {
   "cell_type": "code",
   "execution_count": 45,
   "id": "c13e4a20",
   "metadata": {},
   "outputs": [
    {
     "data": {
      "text/plain": [
       "array([1, 0, 1, ..., 0, 1, 1], dtype=int64)"
      ]
     },
     "execution_count": 45,
     "metadata": {},
     "output_type": "execute_result"
    }
   ],
   "source": [
    "y1"
   ]
  },
  {
   "cell_type": "code",
   "execution_count": 46,
   "id": "c5ee42b6",
   "metadata": {},
   "outputs": [],
   "source": [
    "# converting the categorical(words) into feature vector(numerical)\n"
   ]
  },
  {
   "cell_type": "code",
   "execution_count": 47,
   "id": "2cb16b21",
   "metadata": {},
   "outputs": [],
   "source": [
    "vectorizer=TfidfVectorizer()#-Tfidf-termfrequency-counts the number of word perticular repeating ina document\n",
    "#(repeatation tells the word is very important and assign a perticular numerical value)\n",
    "#tfi-find the number of times a significant word repeated and assign a number and this are called feature vectors\n",
    "#inversedocumentfrequency-finds the repeated words which are not significant and reduces its importance\n",
    "\n",
    "vectorizer.fit(X1)\n",
    "X2=vectorizer.transform(X1)"
   ]
  },
  {
   "cell_type": "code",
   "execution_count": 48,
   "id": "028f7b9e",
   "metadata": {},
   "outputs": [
    {
     "name": "stdout",
     "output_type": "stream",
     "text": [
      "  (0, 15686)\t0.28485063562728646\n",
      "  (0, 13473)\t0.2565896679337957\n",
      "  (0, 8909)\t0.3635963806326075\n",
      "  (0, 8630)\t0.29212514087043684\n",
      "  (0, 7692)\t0.24785219520671603\n",
      "  (0, 7005)\t0.21874169089359144\n",
      "  (0, 4973)\t0.233316966909351\n",
      "  (0, 3792)\t0.2705332480845492\n",
      "  (0, 3600)\t0.3598939188262559\n",
      "  (0, 2959)\t0.2468450128533713\n",
      "  (0, 2483)\t0.3676519686797209\n",
      "  (0, 267)\t0.27010124977708766\n",
      "  (1, 16799)\t0.30071745655510157\n",
      "  (1, 6816)\t0.1904660198296849\n",
      "  (1, 5503)\t0.7143299355715573\n",
      "  (1, 3568)\t0.26373768806048464\n",
      "  (1, 2813)\t0.19094574062359204\n",
      "  (1, 2223)\t0.3827320386859759\n",
      "  (1, 1894)\t0.15521974226349364\n",
      "  (1, 1497)\t0.2939891562094648\n",
      "  (2, 15611)\t0.41544962664721613\n",
      "  (2, 9620)\t0.49351492943649944\n",
      "  (2, 5968)\t0.3474613386728292\n",
      "  (2, 5389)\t0.3866530551182615\n",
      "  (2, 3103)\t0.46097489583229645\n",
      "  :\t:\n",
      "  (20797, 13122)\t0.2482526352197606\n",
      "  (20797, 12344)\t0.27263457663336677\n",
      "  (20797, 12138)\t0.24778257724396507\n",
      "  (20797, 10306)\t0.08038079000566466\n",
      "  (20797, 9588)\t0.174553480255222\n",
      "  (20797, 9518)\t0.2954204003420313\n",
      "  (20797, 8988)\t0.36160868928090795\n",
      "  (20797, 8364)\t0.22322585870464118\n",
      "  (20797, 7042)\t0.21799048897828688\n",
      "  (20797, 3643)\t0.21155500613623743\n",
      "  (20797, 1287)\t0.33538056804139865\n",
      "  (20797, 699)\t0.30685846079762347\n",
      "  (20797, 43)\t0.29710241860700626\n",
      "  (20798, 13046)\t0.22363267488270608\n",
      "  (20798, 11052)\t0.4460515589182236\n",
      "  (20798, 10177)\t0.3192496370187028\n",
      "  (20798, 6889)\t0.32496285694299426\n",
      "  (20798, 5032)\t0.4083701450239529\n",
      "  (20798, 1125)\t0.4460515589182236\n",
      "  (20798, 588)\t0.3112141524638974\n",
      "  (20798, 350)\t0.28446937819072576\n",
      "  (20799, 14852)\t0.5677577267055112\n",
      "  (20799, 8036)\t0.45983893273780013\n",
      "  (20799, 3623)\t0.37927626273066584\n",
      "  (20799, 377)\t0.5677577267055112\n"
     ]
    }
   ],
   "source": [
    "print(X2)"
   ]
  },
  {
   "cell_type": "code",
   "execution_count": 49,
   "id": "a619f59a",
   "metadata": {},
   "outputs": [],
   "source": [
    "#splitting the data into traning and testing "
   ]
  },
  {
   "cell_type": "code",
   "execution_count": 50,
   "id": "6f6aa787",
   "metadata": {},
   "outputs": [],
   "source": [
    "from sklearn.model_selection import train_test_split\n",
    "X_train,X_test,y_train,y_test=train_test_split(X2,y1,test_size=0.2,stratify=y,random_state=2)"
   ]
  },
  {
   "cell_type": "code",
   "execution_count": 52,
   "id": "ba634c4b",
   "metadata": {},
   "outputs": [
    {
     "name": "stdout",
     "output_type": "stream",
     "text": [
      "  (0, 16996)\t0.09995656818816077\n",
      "  (0, 16928)\t0.3360072514082535\n",
      "  (0, 15295)\t0.09807665903342763\n",
      "  (0, 13914)\t0.3334797245354899\n",
      "  (0, 13014)\t0.2680313811122545\n",
      "  (0, 12501)\t0.3929876463935473\n",
      "  (0, 11936)\t0.24142639024498436\n",
      "  (0, 10306)\t0.09662001419895176\n",
      "  (0, 10219)\t0.3019527708144002\n",
      "  (0, 3155)\t0.3400831511004003\n",
      "  (0, 2794)\t0.3776836172783757\n",
      "  (0, 336)\t0.3360072514082535\n",
      "  (1, 16996)\t0.07263181421455335\n",
      "  (1, 15424)\t0.22579404836928033\n",
      "  (1, 15417)\t0.26613170238131584\n",
      "  (1, 15295)\t0.07126580880898774\n",
      "  (1, 13453)\t0.3387500815971264\n",
      "  (1, 11421)\t0.3084666283145136\n",
      "  (1, 10306)\t0.07020736153621741\n",
      "  (1, 10061)\t0.24924889065491332\n",
      "  (1, 9856)\t0.3387500815971264\n",
      "  (1, 5313)\t0.2768869285533855\n",
      "  (1, 2761)\t0.3387500815971264\n",
      "  (1, 2207)\t0.3387500815971264\n",
      "  (1, 956)\t0.2855580802628186\n",
      "  :\t:\n",
      "  (16637, 10008)\t0.32617532466383187\n",
      "  (16637, 9588)\t0.184164927958451\n",
      "  (16637, 8153)\t0.3214731053599403\n",
      "  (16637, 5009)\t0.3538476463585765\n",
      "  (16637, 1868)\t0.40919228974806576\n",
      "  (16637, 364)\t0.2848922858608963\n",
      "  (16638, 16457)\t0.307095142699481\n",
      "  (16638, 16092)\t0.31166809477415836\n",
      "  (16638, 12305)\t0.24545428213457152\n",
      "  (16638, 11871)\t0.30567916471209494\n",
      "  (16638, 7668)\t0.21891767805584614\n",
      "  (16638, 6163)\t0.34864155468839414\n",
      "  (16638, 6066)\t0.24737613258971647\n",
      "  (16638, 3782)\t0.6009306243123999\n",
      "  (16638, 307)\t0.25115645729407504\n",
      "  (16639, 13620)\t0.3626098009895325\n",
      "  (16639, 12906)\t0.33547035805786257\n",
      "  (16639, 11787)\t0.23229968883114552\n",
      "  (16639, 11155)\t0.2711393533267846\n",
      "  (16639, 6188)\t0.27993537585784406\n",
      "  (16639, 4625)\t0.20905678504065878\n",
      "  (16639, 3147)\t0.3439671543920653\n",
      "  (16639, 1468)\t0.4363161280786969\n",
      "  (16639, 961)\t0.27647936423932473\n",
      "  (16639, 184)\t0.34828080184930743\n"
     ]
    }
   ],
   "source": [
    "print(X_train)"
   ]
  },
  {
   "cell_type": "code",
   "execution_count": 53,
   "id": "5498dfdc",
   "metadata": {},
   "outputs": [
    {
     "name": "stdout",
     "output_type": "stream",
     "text": [
      "  (0, 12801)\t0.2910746804557067\n",
      "  (0, 9818)\t0.30786004182651133\n",
      "  (0, 7668)\t0.22945314906455008\n",
      "  (0, 6816)\t0.16094563145945953\n",
      "  (0, 6289)\t0.288254092437116\n",
      "  (0, 5941)\t0.288254092437116\n",
      "  (0, 5233)\t0.21316265672448448\n",
      "  (0, 4346)\t0.3250084367199054\n",
      "  (0, 3395)\t0.3301936745912874\n",
      "  (0, 2959)\t0.24534646237198773\n",
      "  (0, 1667)\t0.30373060380734146\n",
      "  (0, 908)\t0.213510750423647\n",
      "  (0, 239)\t0.34297808354766485\n",
      "  (1, 16996)\t0.09117761343372983\n",
      "  (1, 15295)\t0.08946281236254729\n",
      "  (1, 14046)\t0.42524648908354634\n",
      "  (1, 13190)\t0.36773046084789346\n",
      "  (1, 12741)\t0.24868518461414146\n",
      "  (1, 12279)\t0.3796661151115819\n",
      "  (1, 12041)\t0.37327055071909065\n",
      "  (1, 10306)\t0.08813410128297053\n",
      "  (1, 8813)\t0.42524648908354634\n",
      "  (1, 4008)\t0.23098933893199997\n",
      "  (1, 3339)\t0.2834482751186189\n",
      "  (2, 16868)\t0.344315415802567\n",
      "  :\t:\n",
      "  (4158, 16782)\t0.2796201559111399\n",
      "  (4158, 13954)\t0.2713157796360236\n",
      "  (4158, 13918)\t0.29432702492466434\n",
      "  (4158, 13775)\t0.21479309786895925\n",
      "  (4158, 13600)\t0.2496550139728973\n",
      "  (4158, 11068)\t0.29432702492466434\n",
      "  (4158, 10670)\t0.24617506104822148\n",
      "  (4158, 5768)\t0.32934072196545544\n",
      "  (4158, 3549)\t0.2872208032582607\n",
      "  (4158, 2510)\t0.22655297584422188\n",
      "  (4158, 1296)\t0.30891064506142396\n",
      "  (4158, 273)\t0.293231224080478\n",
      "  (4158, 152)\t0.20393904870694302\n",
      "  (4159, 16996)\t0.11013119816597862\n",
      "  (4159, 15295)\t0.10805993210105909\n",
      "  (4159, 14927)\t0.3088818119678944\n",
      "  (4159, 10306)\t0.10645501464709921\n",
      "  (4159, 6188)\t0.2892693295339005\n",
      "  (4159, 5152)\t0.3423702044974272\n",
      "  (4159, 3150)\t0.3072250132435665\n",
      "  (4159, 2998)\t0.3779346456675232\n",
      "  (4159, 2824)\t0.3186116682102382\n",
      "  (4159, 1208)\t0.3635178622548901\n",
      "  (4159, 566)\t0.32177779021833913\n",
      "  (4159, 347)\t0.3068192329139987\n"
     ]
    }
   ],
   "source": [
    "print(X_test)"
   ]
  },
  {
   "cell_type": "code",
   "execution_count": 54,
   "id": "15d8b48a",
   "metadata": {},
   "outputs": [
    {
     "data": {
      "text/plain": [
       "array([0, 0, 0, ..., 0, 0, 1], dtype=int64)"
      ]
     },
     "execution_count": 54,
     "metadata": {},
     "output_type": "execute_result"
    }
   ],
   "source": [
    "y_train"
   ]
  },
  {
   "cell_type": "code",
   "execution_count": 55,
   "id": "7cb1d109",
   "metadata": {
    "scrolled": true
   },
   "outputs": [
    {
     "data": {
      "text/plain": [
       "array([1, 0, 1, ..., 1, 1, 0], dtype=int64)"
      ]
     },
     "execution_count": 55,
     "metadata": {},
     "output_type": "execute_result"
    }
   ],
   "source": [
    "y_test"
   ]
  },
  {
   "cell_type": "code",
   "execution_count": 56,
   "id": "6f22d4b7",
   "metadata": {},
   "outputs": [],
   "source": [
    "#building model (model1)\n",
    "#LOGISTICREGRESSION"
   ]
  },
  {
   "cell_type": "code",
   "execution_count": 57,
   "id": "5d2f2d4b",
   "metadata": {},
   "outputs": [
    {
     "data": {
      "text/plain": [
       "LogisticRegression()"
      ]
     },
     "execution_count": 57,
     "metadata": {},
     "output_type": "execute_result"
    }
   ],
   "source": [
    " from sklearn.linear_model import LogisticRegression\n",
    "model=LogisticRegression()\n",
    "model.fit(X_train,y_train)"
   ]
  },
  {
   "cell_type": "code",
   "execution_count": 58,
   "id": "25bd7f12",
   "metadata": {},
   "outputs": [],
   "source": [
    "y1_predict=model.predict(X_test)\n",
    "z1_predict=model.predict(X_train)"
   ]
  },
  {
   "cell_type": "code",
   "execution_count": 59,
   "id": "4854af81",
   "metadata": {},
   "outputs": [
    {
     "data": {
      "text/plain": [
       "array([1, 0, 1, ..., 1, 1, 0], dtype=int64)"
      ]
     },
     "execution_count": 59,
     "metadata": {},
     "output_type": "execute_result"
    }
   ],
   "source": [
    "y1_predict"
   ]
  },
  {
   "cell_type": "code",
   "execution_count": 60,
   "id": "e822a209",
   "metadata": {},
   "outputs": [
    {
     "data": {
      "text/plain": [
       "array([0, 0, 0, ..., 0, 0, 1], dtype=int64)"
      ]
     },
     "execution_count": 60,
     "metadata": {},
     "output_type": "execute_result"
    }
   ],
   "source": [
    "z1_predict"
   ]
  },
  {
   "cell_type": "code",
   "execution_count": 62,
   "id": "35b0dd49",
   "metadata": {},
   "outputs": [
    {
     "name": "stdout",
     "output_type": "stream",
     "text": [
      "              precision    recall  f1-score   support\n",
      "\n",
      "           0       0.99      0.96      0.98      2077\n",
      "           1       0.97      0.99      0.98      2083\n",
      "\n",
      "    accuracy                           0.98      4160\n",
      "   macro avg       0.98      0.98      0.98      4160\n",
      "weighted avg       0.98      0.98      0.98      4160\n",
      "\n"
     ]
    },
    {
     "data": {
      "text/plain": [
       "<AxesSubplot:>"
      ]
     },
     "execution_count": 62,
     "metadata": {},
     "output_type": "execute_result"
    },
    {
     "data": {
      "image/png": "[encoded data removed]",
      "text/plain": [
       "<Figure size 432x432 with 2 Axes>"
      ]
     },
     "metadata": {
      "needs_background": "light"
     },
     "output_type": "display_data"
    }
   ],
   "source": [
    "from sklearn.metrics import accuracy_score,confusion_matrix,classification_report\n",
    "print(classification_report(y_test,y1_predict))\n",
    "\n",
    "cf1=pd.DataFrame(confusion_matrix(y_test,y1_predict),columns=['actual YES','actual NO'],index=['predict YES','predict NO'])\n",
    "plt.figure(figsize=(6,6))\n",
    "sns.heatmap(cf1,cbar=True,square=True,annot=True,annot_kws={'size':12},fmt='0.1f',cmap='Blues')"
   ]
  },
  {
   "cell_type": "code",
   "execution_count": 63,
   "id": "f3e2d24d",
   "metadata": {},
   "outputs": [
    {
     "name": "stdout",
     "output_type": "stream",
     "text": [
      "accuracy_score: 0.9790865384615385\n"
     ]
    }
   ],
   "source": [
    "print('accuracy_score:',accuracy_score(y_test,y1_predict))"
   ]
  },
  {
   "cell_type": "code",
   "execution_count": 64,
   "id": "9d974b75",
   "metadata": {},
   "outputs": [
    {
     "name": "stdout",
     "output_type": "stream",
     "text": [
      "accuracy_score: 0.9865985576923076\n"
     ]
    }
   ],
   "source": [
    "from sklearn.metrics import accuracy_score\n",
    "print('accuracy_score:',accuracy_score(y_train,z1_predict))"
   ]
  },
  {
   "cell_type": "code",
   "execution_count": 65,
   "id": "55d47f9e",
   "metadata": {},
   "outputs": [],
   "source": [
    "#building the model(model2)\n",
    "#DECISIONTREECLASSIFIER"
   ]
  },
  {
   "cell_type": "code",
   "execution_count": 66,
   "id": "e38fbca5",
   "metadata": {},
   "outputs": [
    {
     "data": {
      "text/plain": [
       "DecisionTreeClassifier()"
      ]
     },
     "execution_count": 66,
     "metadata": {},
     "output_type": "execute_result"
    }
   ],
   "source": [
    "from sklearn.tree import DecisionTreeClassifier\n",
    "dtree=DecisionTreeClassifier()\n",
    "dtree.fit(X_train,y_train)"
   ]
  },
  {
   "cell_type": "code",
   "execution_count": 67,
   "id": "98636654",
   "metadata": {},
   "outputs": [],
   "source": [
    "y2_predict=dtree.predict(X_test)\n",
    "z2_predict=dtree.predict(X_train)"
   ]
  },
  {
   "cell_type": "code",
   "execution_count": 68,
   "id": "0601fa6c",
   "metadata": {
    "scrolled": true
   },
   "outputs": [
    {
     "data": {
      "text/plain": [
       "array([1, 0, 1, ..., 1, 1, 0], dtype=int64)"
      ]
     },
     "execution_count": 68,
     "metadata": {},
     "output_type": "execute_result"
    }
   ],
   "source": [
    "y2_predict"
   ]
  },
  {
   "cell_type": "code",
   "execution_count": 69,
   "id": "93397d10",
   "metadata": {},
   "outputs": [
    {
     "data": {
      "text/plain": [
       "array([0, 0, 0, ..., 0, 0, 1], dtype=int64)"
      ]
     },
     "execution_count": 69,
     "metadata": {},
     "output_type": "execute_result"
    }
   ],
   "source": [
    "z2_predict"
   ]
  },
  {
   "cell_type": "code",
   "execution_count": 70,
   "id": "50f6c27d",
   "metadata": {},
   "outputs": [
    {
     "name": "stdout",
     "output_type": "stream",
     "text": [
      "              precision    recall  f1-score   support\n",
      "\n",
      "           0       0.99      0.99      0.99      2077\n",
      "           1       0.99      0.99      0.99      2083\n",
      "\n",
      "    accuracy                           0.99      4160\n",
      "   macro avg       0.99      0.99      0.99      4160\n",
      "weighted avg       0.99      0.99      0.99      4160\n",
      "\n"
     ]
    },
    {
     "data": {
      "text/plain": [
       "<AxesSubplot:>"
      ]
     },
     "execution_count": 70,
     "metadata": {},
     "output_type": "execute_result"
    },
    {
     "data": {
      "image/png": "[encoded data removed]",
      "text/plain": [
       "<Figure size 432x432 with 2 Axes>"
      ]
     },
     "metadata": {
      "needs_background": "light"
     },
     "output_type": "display_data"
    }
   ],
   "source": [
    "from sklearn.metrics import classification_report,confusion_matrix\n",
    "print(classification_report(y_test,y2_predict))\n",
    "cf_matrix1=(pd.DataFrame(confusion_matrix(y_test,y2_predict),columns=['actual YES','actual NO'],index=['predict YES','predict NO']))\n",
    "plt.figure(figsize=(6,6))\n",
    "sns.heatmap(cf_matrix1,cbar=True,square=True,fmt='0.1f',annot=True,annot_kws={'size':12},cmap='Blues')"
   ]
  },
  {
   "cell_type": "code",
   "execution_count": 71,
   "id": "f72bb450",
   "metadata": {},
   "outputs": [
    {
     "name": "stdout",
     "output_type": "stream",
     "text": [
      "accuracy_score: 0.9925480769230769\n"
     ]
    }
   ],
   "source": [
    "from sklearn.metrics import accuracy_score\n",
    "print('accuracy_score:',accuracy_score(y_test,y2_predict))"
   ]
  },
  {
   "cell_type": "code",
   "execution_count": 72,
   "id": "62f4dd15",
   "metadata": {},
   "outputs": [
    {
     "name": "stdout",
     "output_type": "stream",
     "text": [
      "accuracy_score: 1.0\n"
     ]
    }
   ],
   "source": [
    "from sklearn.metrics import accuracy_score\n",
    "print('accuracy_score:',accuracy_score(y_train,z2_predict))"
   ]
  },
  {
   "cell_type": "code",
   "execution_count": 73,
   "id": "4cf8244f",
   "metadata": {},
   "outputs": [],
   "source": [
    "#building model(model3)\n",
    "#support vector machine classifier"
   ]
  },
  {
   "cell_type": "code",
   "execution_count": 74,
   "id": "644eb7a2",
   "metadata": {},
   "outputs": [
    {
     "data": {
      "text/plain": [
       "SVC(kernel='linear')"
      ]
     },
     "execution_count": 74,
     "metadata": {},
     "output_type": "execute_result"
    }
   ],
   "source": [
    "from sklearn import svm\n",
    "svmc=svm.SVC(kernel='linear')\n",
    "svmc.fit(X_train,y_train)"
   ]
  },
  {
   "cell_type": "code",
   "execution_count": 75,
   "id": "64bfd53f",
   "metadata": {},
   "outputs": [],
   "source": [
    "y3_predict=svmc.predict(X_test)\n",
    "z3_predict=svmc.predict(X_train)"
   ]
  },
  {
   "cell_type": "code",
   "execution_count": 76,
   "id": "5b8ffcf3",
   "metadata": {},
   "outputs": [
    {
     "data": {
      "text/plain": [
       "array([1, 0, 1, ..., 1, 1, 0], dtype=int64)"
      ]
     },
     "execution_count": 76,
     "metadata": {},
     "output_type": "execute_result"
    }
   ],
   "source": [
    "y3_predict"
   ]
  },
  {
   "cell_type": "code",
   "execution_count": 77,
   "id": "eae2b7ce",
   "metadata": {},
   "outputs": [
    {
     "data": {
      "text/plain": [
       "array([0, 0, 0, ..., 0, 0, 1], dtype=int64)"
      ]
     },
     "execution_count": 77,
     "metadata": {},
     "output_type": "execute_result"
    }
   ],
   "source": [
    "z3_predict"
   ]
  },
  {
   "cell_type": "code",
   "execution_count": 78,
   "id": "30580539",
   "metadata": {},
   "outputs": [
    {
     "name": "stdout",
     "output_type": "stream",
     "text": [
      "              precision    recall  f1-score   support\n",
      "\n",
      "           0       0.99      0.99      0.99      2077\n",
      "           1       0.99      0.99      0.99      2083\n",
      "\n",
      "    accuracy                           0.99      4160\n",
      "   macro avg       0.99      0.99      0.99      4160\n",
      "weighted avg       0.99      0.99      0.99      4160\n",
      "\n"
     ]
    },
    {
     "data": {
      "text/plain": [
       "<AxesSubplot:>"
      ]
     },
     "execution_count": 78,
     "metadata": {},
     "output_type": "execute_result"
    },
    {
     "data": {
      "image/png": "[encoded data removed]",
      "text/plain": [
       "<Figure size 432x432 with 2 Axes>"
      ]
     },
     "metadata": {
      "needs_background": "light"
     },
     "output_type": "display_data"
    }
   ],
   "source": [
    "from sklearn.metrics import classification_report,confusion_matrix\n",
    "print(classification_report(y_test,y3_predict))\n",
    "cf_matrix3=(pd.DataFrame(confusion_matrix(y_test,y3_predict),columns=['actual YES','actual NO'],index=['predict YES','predict NO']))\n",
    "plt.figure(figsize=(6,6))\n",
    "sns.heatmap(cf_matrix3,cbar=True,square=True,annot=True,fmt='0.1f',annot_kws={'size':12},cmap='Blues')"
   ]
  },
  {
   "cell_type": "code",
   "execution_count": 219,
   "id": "17b70e05",
   "metadata": {},
   "outputs": [
    {
     "name": "stdout",
     "output_type": "stream",
     "text": [
      "accuracy_score: 0.9913461538461539\n"
     ]
    }
   ],
   "source": [
    "from sklearn.metrics import accuracy_score\n",
    "print('accuracy_score:',accuracy_score(y_test,y3_predict))"
   ]
  },
  {
   "cell_type": "code",
   "execution_count": 111,
   "id": "ca85da4c",
   "metadata": {},
   "outputs": [
    {
     "name": "stdout",
     "output_type": "stream",
     "text": [
      "accuracy_score: 0.9974158653846154\n"
     ]
    }
   ],
   "source": [
    "from sklearn.metrics import accuracy_score\n",
    "print('accuracy_score:',accuracy_score(y_train,z3_predict))"
   ]
  },
  {
   "cell_type": "code",
   "execution_count": 79,
   "id": "37ebfeb0",
   "metadata": {},
   "outputs": [],
   "source": [
    "#building model(model4)\n",
    "#RANDOMFORESTCLASSIFIER"
   ]
  },
  {
   "cell_type": "code",
   "execution_count": 80,
   "id": "a26c5e67",
   "metadata": {},
   "outputs": [
    {
     "data": {
      "text/plain": [
       "RandomForestClassifier(n_estimators=50)"
      ]
     },
     "execution_count": 80,
     "metadata": {},
     "output_type": "execute_result"
    }
   ],
   "source": [
    "from sklearn.ensemble import RandomForestClassifier\n",
    "rfc=RandomForestClassifier(n_estimators=50)\n",
    "rfc.fit(X_train,y_train)"
   ]
  },
  {
   "cell_type": "code",
   "execution_count": 81,
   "id": "a5bcff36",
   "metadata": {},
   "outputs": [],
   "source": [
    "y4_predict=rfc.predict(X_test)\n",
    "z4_predict=rfc.predict(X_train)"
   ]
  },
  {
   "cell_type": "code",
   "execution_count": 82,
   "id": "27dca9f6",
   "metadata": {},
   "outputs": [
    {
     "data": {
      "text/plain": [
       "array([1, 0, 1, ..., 1, 1, 0], dtype=int64)"
      ]
     },
     "execution_count": 82,
     "metadata": {},
     "output_type": "execute_result"
    }
   ],
   "source": [
    "y4_predict"
   ]
  },
  {
   "cell_type": "code",
   "execution_count": 83,
   "id": "12608d60",
   "metadata": {},
   "outputs": [
    {
     "data": {
      "text/plain": [
       "array([0, 0, 0, ..., 0, 0, 1], dtype=int64)"
      ]
     },
     "execution_count": 83,
     "metadata": {},
     "output_type": "execute_result"
    }
   ],
   "source": [
    "z4_predict"
   ]
  },
  {
   "cell_type": "code",
   "execution_count": 84,
   "id": "4a1df478",
   "metadata": {},
   "outputs": [
    {
     "name": "stdout",
     "output_type": "stream",
     "text": [
      "              precision    recall  f1-score   support\n",
      "\n",
      "           0       1.00      0.99      0.99      2077\n",
      "           1       0.99      1.00      0.99      2083\n",
      "\n",
      "    accuracy                           0.99      4160\n",
      "   macro avg       0.99      0.99      0.99      4160\n",
      "weighted avg       0.99      0.99      0.99      4160\n",
      "\n"
     ]
    },
    {
     "data": {
      "text/plain": [
       "<AxesSubplot:>"
      ]
     },
     "execution_count": 84,
     "metadata": {},
     "output_type": "execute_result"
    },
    {
     "data": {
      "image/png": "[encoded data removed]",
      "text/plain": [
       "<Figure size 432x432 with 2 Axes>"
      ]
     },
     "metadata": {
      "needs_background": "light"
     },
     "output_type": "display_data"
    }
   ],
   "source": [
    "from sklearn.metrics import classification_report,confusion_matrix\n",
    "print(classification_report(y_test,y4_predict))\n",
    "cf_matrix4=(pd.DataFrame(confusion_matrix(y_test,y4_predict),columns=['actual YES','actual NO'],index=['predict YES','predict NO']))\n",
    "plt.figure(figsize=(6,6))\n",
    "sns.heatmap(cf_matrix4,cbar=True,square=True,annot=True,fmt='0.1f',annot_kws={'size':12},cmap='Blues')"
   ]
  },
  {
   "cell_type": "code",
   "execution_count": 85,
   "id": "75324961",
   "metadata": {},
   "outputs": [
    {
     "name": "stdout",
     "output_type": "stream",
     "text": [
      "accuracy_score: 0.99375\n"
     ]
    }
   ],
   "source": [
    "from sklearn.metrics import accuracy_score\n",
    "print('accuracy_score:',accuracy_score(y_test,y4_predict))"
   ]
  },
  {
   "cell_type": "code",
   "execution_count": 86,
   "id": "98321386",
   "metadata": {},
   "outputs": [
    {
     "name": "stdout",
     "output_type": "stream",
     "text": [
      "accuracy score: 1.0\n"
     ]
    }
   ],
   "source": [
    "print('accuracy score:',accuracy_score(y_train,z4_predict))"
   ]
  },
  {
   "cell_type": "code",
   "execution_count": 87,
   "id": "a7e22489",
   "metadata": {},
   "outputs": [],
   "source": [
    "table={'model':['LogisticRegression','DesicionTreeClassifier','support vector machine classifier','RandomForest Classifier'],\n",
    "      'accuracy(X_train)':[0.986,1.0,0.997,1.0],\n",
    "      'accuracy(X_test)':[0.979,0.992,0.991,0.993]}"
   ]
  },
  {
   "cell_type": "code",
   "execution_count": 88,
   "id": "dc4806b0",
   "metadata": {},
   "outputs": [
    {
     "data": {
      "text/html": [
       "<div>\n",
       "<style scoped>\n",
       "    .dataframe tbody tr th:only-of-type {\n",
       "        vertical-align: middle;\n",
       "    }\n",
       "\n",
       "    .dataframe tbody tr th {\n",
       "        vertical-align: top;\n",
       "    }\n",
       "\n",
       "    .dataframe thead th {\n",
       "        text-align: right;\n",
       "    }\n",
       "</style>\n",
       "<table border=\"1\" class=\"dataframe\">\n",
       "  <thead>\n",
       "    <tr style=\"text-align: right;\">\n",
       "      <th></th>\n",
       "      <th>model</th>\n",
       "      <th>accuracy(X_train)</th>\n",
       "      <th>accuracy(X_test)</th>\n",
       "    </tr>\n",
       "  </thead>\n",
       "  <tbody>\n",
       "    <tr>\n",
       "      <th>0</th>\n",
       "      <td>LogisticRegression</td>\n",
       "      <td>0.986</td>\n",
       "      <td>0.979</td>\n",
       "    </tr>\n",
       "    <tr>\n",
       "      <th>1</th>\n",
       "      <td>DesicionTreeClassifier</td>\n",
       "      <td>1.000</td>\n",
       "      <td>0.992</td>\n",
       "    </tr>\n",
       "    <tr>\n",
       "      <th>2</th>\n",
       "      <td>support vector machine classifier</td>\n",
       "      <td>0.997</td>\n",
       "      <td>0.991</td>\n",
       "    </tr>\n",
       "    <tr>\n",
       "      <th>3</th>\n",
       "      <td>RandomForest Classifier</td>\n",
       "      <td>1.000</td>\n",
       "      <td>0.993</td>\n",
       "    </tr>\n",
       "  </tbody>\n",
       "</table>\n",
       "</div>"
      ],
      "text/plain": [
       "                               model  accuracy(X_train)  accuracy(X_test)\n",
       "0                 LogisticRegression              0.986             0.979\n",
       "1             DesicionTreeClassifier              1.000             0.992\n",
       "2  support vector machine classifier              0.997             0.991\n",
       "3            RandomForest Classifier              1.000             0.993"
      ]
     },
     "execution_count": 88,
     "metadata": {},
     "output_type": "execute_result"
    }
   ],
   "source": [
    "pd.DataFrame(table)"
   ]
  },
  {
   "cell_type": "code",
   "execution_count": 89,
   "id": "1f6ee17a",
   "metadata": {},
   "outputs": [],
   "source": [
    "#building a prediction system\n",
    "#since Randomforestregression has better accuracy, so using it to build a prediction system"
   ]
  },
  {
   "cell_type": "code",
   "execution_count": 90,
   "id": "d3cd3d4e",
   "metadata": {},
   "outputs": [
    {
     "name": "stdout",
     "output_type": "stream",
     "text": [
      "[1]\n",
      "the news is fake\n"
     ]
    }
   ],
   "source": [
    "X_news4=X_test[0]\n",
    "\n",
    "prediction4=rfc.predict(X_news4)\n",
    "print(prediction4)\n",
    "\n",
    "if (prediction4[0]==0):\n",
    "    print('the news is real')\n",
    "else:\n",
    "    print('the news is fake')"
   ]
  },
  {
   "cell_type": "code",
   "execution_count": 91,
   "id": "5091901f",
   "metadata": {},
   "outputs": [
    {
     "name": "stdout",
     "output_type": "stream",
     "text": [
      "1\n"
     ]
    }
   ],
   "source": [
    "print(y_test[0])"
   ]
  },
  {
   "cell_type": "code",
   "execution_count": null,
   "id": "3f5e45ce",
   "metadata": {},
   "outputs": [],
   "source": [
    "#so oth the prediction and test are giving same value"
   ]
  }
 ],
 "metadata": {
  "kernelspec": {
   "display_name": "Python 3 (ipykernel)",
   "language": "python",
   "name": "python3"
  },
  "language_info": {
   "codemirror_mode": {
    "name": "ipython",
    "version": 3
   },
   "file_extension": ".py",
   "mimetype": "text/x-python",
   "name": "python",
   "nbconvert_exporter": "python",
   "pygments_lexer": "ipython3",
   "version": "3.9.12"
  }
 },
 "nbformat": 4,
 "nbformat_minor": 5
}
