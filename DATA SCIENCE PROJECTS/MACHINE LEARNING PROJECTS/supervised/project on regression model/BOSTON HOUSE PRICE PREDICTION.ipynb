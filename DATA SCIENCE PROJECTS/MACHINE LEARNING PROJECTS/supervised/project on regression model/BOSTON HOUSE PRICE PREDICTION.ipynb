{
 "cells": [
  {
   "cell_type": "markdown",
   "id": "4940817d",
   "metadata": {},
   "source": [
    "The data has different features which describe the house in boston."
   ]
  },
  {
   "cell_type": "code",
   "execution_count": 1,
   "id": "8665e8d3",
   "metadata": {},
   "outputs": [],
   "source": [
    "import os\n",
    "import pandas as pd\n",
    "import seaborn as sns\n",
    "import matplotlib.pyplot as plt\n",
    "import statsmodels.api as sm\n"
   ]
  },
  {
   "cell_type": "code",
   "execution_count": 2,
   "id": "aaa53446",
   "metadata": {},
   "outputs": [],
   "source": [
    "#data preprocessing"
   ]
  },
  {
   "cell_type": "code",
   "execution_count": 3,
   "id": "3cb99511",
   "metadata": {},
   "outputs": [],
   "source": [
    "os.chdir('C:\\\\Users\\\\pavan\\\\Desktop\\\\data science course\\\\project\\\\project on regressor\\\\project file\\\\project 1')"
   ]
  },
  {
   "cell_type": "code",
   "execution_count": 4,
   "id": "194b6c55",
   "metadata": {},
   "outputs": [],
   "source": [
    "data=pd.read_csv('HousingData.csv')"
   ]
  },
  {
   "cell_type": "code",
   "execution_count": 5,
   "id": "f6c33ca9",
   "metadata": {},
   "outputs": [
    {
     "data": {
      "text/html": [
       "<div>\n",
       "<style scoped>\n",
       "    .dataframe tbody tr th:only-of-type {\n",
       "        vertical-align: middle;\n",
       "    }\n",
       "\n",
       "    .dataframe tbody tr th {\n",
       "        vertical-align: top;\n",
       "    }\n",
       "\n",
       "    .dataframe thead th {\n",
       "        text-align: right;\n",
       "    }\n",
       "</style>\n",
       "<table border=\"1\" class=\"dataframe\">\n",
       "  <thead>\n",
       "    <tr style=\"text-align: right;\">\n",
       "      <th></th>\n",
       "      <th>CRIM</th>\n",
       "      <th>ZN</th>\n",
       "      <th>INDUS</th>\n",
       "      <th>CHAS</th>\n",
       "      <th>NOX</th>\n",
       "      <th>RM</th>\n",
       "      <th>AGE</th>\n",
       "      <th>DIS</th>\n",
       "      <th>RAD</th>\n",
       "      <th>TAX</th>\n",
       "      <th>PTRATIO</th>\n",
       "      <th>B</th>\n",
       "      <th>LSTAT</th>\n",
       "      <th>MEDV</th>\n",
       "    </tr>\n",
       "  </thead>\n",
       "  <tbody>\n",
       "    <tr>\n",
       "      <th>0</th>\n",
       "      <td>0.00632</td>\n",
       "      <td>18.0</td>\n",
       "      <td>2.31</td>\n",
       "      <td>0.0</td>\n",
       "      <td>0.538</td>\n",
       "      <td>6.575</td>\n",
       "      <td>65.2</td>\n",
       "      <td>4.0900</td>\n",
       "      <td>1</td>\n",
       "      <td>296</td>\n",
       "      <td>15.3</td>\n",
       "      <td>396.90</td>\n",
       "      <td>4.98</td>\n",
       "      <td>24.0</td>\n",
       "    </tr>\n",
       "    <tr>\n",
       "      <th>1</th>\n",
       "      <td>0.02731</td>\n",
       "      <td>0.0</td>\n",
       "      <td>7.07</td>\n",
       "      <td>0.0</td>\n",
       "      <td>0.469</td>\n",
       "      <td>6.421</td>\n",
       "      <td>78.9</td>\n",
       "      <td>4.9671</td>\n",
       "      <td>2</td>\n",
       "      <td>242</td>\n",
       "      <td>17.8</td>\n",
       "      <td>396.90</td>\n",
       "      <td>9.14</td>\n",
       "      <td>21.6</td>\n",
       "    </tr>\n",
       "    <tr>\n",
       "      <th>2</th>\n",
       "      <td>0.02729</td>\n",
       "      <td>0.0</td>\n",
       "      <td>7.07</td>\n",
       "      <td>0.0</td>\n",
       "      <td>0.469</td>\n",
       "      <td>7.185</td>\n",
       "      <td>61.1</td>\n",
       "      <td>4.9671</td>\n",
       "      <td>2</td>\n",
       "      <td>242</td>\n",
       "      <td>17.8</td>\n",
       "      <td>392.83</td>\n",
       "      <td>4.03</td>\n",
       "      <td>34.7</td>\n",
       "    </tr>\n",
       "    <tr>\n",
       "      <th>3</th>\n",
       "      <td>0.03237</td>\n",
       "      <td>0.0</td>\n",
       "      <td>2.18</td>\n",
       "      <td>0.0</td>\n",
       "      <td>0.458</td>\n",
       "      <td>6.998</td>\n",
       "      <td>45.8</td>\n",
       "      <td>6.0622</td>\n",
       "      <td>3</td>\n",
       "      <td>222</td>\n",
       "      <td>18.7</td>\n",
       "      <td>394.63</td>\n",
       "      <td>2.94</td>\n",
       "      <td>33.4</td>\n",
       "    </tr>\n",
       "    <tr>\n",
       "      <th>4</th>\n",
       "      <td>0.06905</td>\n",
       "      <td>0.0</td>\n",
       "      <td>2.18</td>\n",
       "      <td>0.0</td>\n",
       "      <td>0.458</td>\n",
       "      <td>7.147</td>\n",
       "      <td>54.2</td>\n",
       "      <td>6.0622</td>\n",
       "      <td>3</td>\n",
       "      <td>222</td>\n",
       "      <td>18.7</td>\n",
       "      <td>396.90</td>\n",
       "      <td>NaN</td>\n",
       "      <td>36.2</td>\n",
       "    </tr>\n",
       "    <tr>\n",
       "      <th>...</th>\n",
       "      <td>...</td>\n",
       "      <td>...</td>\n",
       "      <td>...</td>\n",
       "      <td>...</td>\n",
       "      <td>...</td>\n",
       "      <td>...</td>\n",
       "      <td>...</td>\n",
       "      <td>...</td>\n",
       "      <td>...</td>\n",
       "      <td>...</td>\n",
       "      <td>...</td>\n",
       "      <td>...</td>\n",
       "      <td>...</td>\n",
       "      <td>...</td>\n",
       "    </tr>\n",
       "    <tr>\n",
       "      <th>501</th>\n",
       "      <td>0.06263</td>\n",
       "      <td>0.0</td>\n",
       "      <td>11.93</td>\n",
       "      <td>0.0</td>\n",
       "      <td>0.573</td>\n",
       "      <td>6.593</td>\n",
       "      <td>69.1</td>\n",
       "      <td>2.4786</td>\n",
       "      <td>1</td>\n",
       "      <td>273</td>\n",
       "      <td>21.0</td>\n",
       "      <td>391.99</td>\n",
       "      <td>NaN</td>\n",
       "      <td>22.4</td>\n",
       "    </tr>\n",
       "    <tr>\n",
       "      <th>502</th>\n",
       "      <td>0.04527</td>\n",
       "      <td>0.0</td>\n",
       "      <td>11.93</td>\n",
       "      <td>0.0</td>\n",
       "      <td>0.573</td>\n",
       "      <td>6.120</td>\n",
       "      <td>76.7</td>\n",
       "      <td>2.2875</td>\n",
       "      <td>1</td>\n",
       "      <td>273</td>\n",
       "      <td>21.0</td>\n",
       "      <td>396.90</td>\n",
       "      <td>9.08</td>\n",
       "      <td>20.6</td>\n",
       "    </tr>\n",
       "    <tr>\n",
       "      <th>503</th>\n",
       "      <td>0.06076</td>\n",
       "      <td>0.0</td>\n",
       "      <td>11.93</td>\n",
       "      <td>0.0</td>\n",
       "      <td>0.573</td>\n",
       "      <td>6.976</td>\n",
       "      <td>91.0</td>\n",
       "      <td>2.1675</td>\n",
       "      <td>1</td>\n",
       "      <td>273</td>\n",
       "      <td>21.0</td>\n",
       "      <td>396.90</td>\n",
       "      <td>5.64</td>\n",
       "      <td>23.9</td>\n",
       "    </tr>\n",
       "    <tr>\n",
       "      <th>504</th>\n",
       "      <td>0.10959</td>\n",
       "      <td>0.0</td>\n",
       "      <td>11.93</td>\n",
       "      <td>0.0</td>\n",
       "      <td>0.573</td>\n",
       "      <td>6.794</td>\n",
       "      <td>89.3</td>\n",
       "      <td>2.3889</td>\n",
       "      <td>1</td>\n",
       "      <td>273</td>\n",
       "      <td>21.0</td>\n",
       "      <td>393.45</td>\n",
       "      <td>6.48</td>\n",
       "      <td>22.0</td>\n",
       "    </tr>\n",
       "    <tr>\n",
       "      <th>505</th>\n",
       "      <td>0.04741</td>\n",
       "      <td>0.0</td>\n",
       "      <td>11.93</td>\n",
       "      <td>0.0</td>\n",
       "      <td>0.573</td>\n",
       "      <td>6.030</td>\n",
       "      <td>NaN</td>\n",
       "      <td>2.5050</td>\n",
       "      <td>1</td>\n",
       "      <td>273</td>\n",
       "      <td>21.0</td>\n",
       "      <td>396.90</td>\n",
       "      <td>7.88</td>\n",
       "      <td>11.9</td>\n",
       "    </tr>\n",
       "  </tbody>\n",
       "</table>\n",
       "<p>506 rows × 14 columns</p>\n",
       "</div>"
      ],
      "text/plain": [
       "        CRIM    ZN  INDUS  CHAS    NOX     RM   AGE     DIS  RAD  TAX  \\\n",
       "0    0.00632  18.0   2.31   0.0  0.538  6.575  65.2  4.0900    1  296   \n",
       "1    0.02731   0.0   7.07   0.0  0.469  6.421  78.9  4.9671    2  242   \n",
       "2    0.02729   0.0   7.07   0.0  0.469  7.185  61.1  4.9671    2  242   \n",
       "3    0.03237   0.0   2.18   0.0  0.458  6.998  45.8  6.0622    3  222   \n",
       "4    0.06905   0.0   2.18   0.0  0.458  7.147  54.2  6.0622    3  222   \n",
       "..       ...   ...    ...   ...    ...    ...   ...     ...  ...  ...   \n",
       "501  0.06263   0.0  11.93   0.0  0.573  6.593  69.1  2.4786    1  273   \n",
       "502  0.04527   0.0  11.93   0.0  0.573  6.120  76.7  2.2875    1  273   \n",
       "503  0.06076   0.0  11.93   0.0  0.573  6.976  91.0  2.1675    1  273   \n",
       "504  0.10959   0.0  11.93   0.0  0.573  6.794  89.3  2.3889    1  273   \n",
       "505  0.04741   0.0  11.93   0.0  0.573  6.030   NaN  2.5050    1  273   \n",
       "\n",
       "     PTRATIO       B  LSTAT  MEDV  \n",
       "0       15.3  396.90   4.98  24.0  \n",
       "1       17.8  396.90   9.14  21.6  \n",
       "2       17.8  392.83   4.03  34.7  \n",
       "3       18.7  394.63   2.94  33.4  \n",
       "4       18.7  396.90    NaN  36.2  \n",
       "..       ...     ...    ...   ...  \n",
       "501     21.0  391.99    NaN  22.4  \n",
       "502     21.0  396.90   9.08  20.6  \n",
       "503     21.0  396.90   5.64  23.9  \n",
       "504     21.0  393.45   6.48  22.0  \n",
       "505     21.0  396.90   7.88  11.9  \n",
       "\n",
       "[506 rows x 14 columns]"
      ]
     },
     "execution_count": 5,
     "metadata": {},
     "output_type": "execute_result"
    }
   ],
   "source": [
    "data"
   ]
  },
  {
   "cell_type": "code",
   "execution_count": 6,
   "id": "b1aa04e8",
   "metadata": {},
   "outputs": [],
   "source": [
    "#getting number of rows and columns"
   ]
  },
  {
   "cell_type": "code",
   "execution_count": 7,
   "id": "85eb42f7",
   "metadata": {},
   "outputs": [
    {
     "data": {
      "text/plain": [
       "(506, 14)"
      ]
     },
     "execution_count": 7,
     "metadata": {},
     "output_type": "execute_result"
    }
   ],
   "source": [
    "data.shape"
   ]
  },
  {
   "cell_type": "code",
   "execution_count": 8,
   "id": "7d70e746",
   "metadata": {},
   "outputs": [],
   "source": [
    "#finding the missing value"
   ]
  },
  {
   "cell_type": "code",
   "execution_count": 9,
   "id": "b792ba0d",
   "metadata": {},
   "outputs": [
    {
     "data": {
      "text/plain": [
       "CRIM       20\n",
       "ZN         20\n",
       "INDUS      20\n",
       "CHAS       20\n",
       "NOX         0\n",
       "RM          0\n",
       "AGE        20\n",
       "DIS         0\n",
       "RAD         0\n",
       "TAX         0\n",
       "PTRATIO     0\n",
       "B           0\n",
       "LSTAT      20\n",
       "MEDV        0\n",
       "dtype: int64"
      ]
     },
     "execution_count": 9,
     "metadata": {},
     "output_type": "execute_result"
    }
   ],
   "source": [
    "data.isnull().sum()"
   ]
  },
  {
   "cell_type": "code",
   "execution_count": 10,
   "id": "5e21df5f",
   "metadata": {},
   "outputs": [],
   "source": [
    "#finding the percentage of missing value of the feature"
   ]
  },
  {
   "cell_type": "code",
   "execution_count": 11,
   "id": "31030d6c",
   "metadata": {},
   "outputs": [],
   "source": [
    "a=data.isnull().sum()\n",
    "b=len(data)\n",
    "per=(a/b)*100"
   ]
  },
  {
   "cell_type": "code",
   "execution_count": 12,
   "id": "0d36cf86",
   "metadata": {},
   "outputs": [
    {
     "data": {
      "text/plain": [
       "CRIM       3.952569\n",
       "ZN         3.952569\n",
       "INDUS      3.952569\n",
       "CHAS       3.952569\n",
       "NOX        0.000000\n",
       "RM         0.000000\n",
       "AGE        3.952569\n",
       "DIS        0.000000\n",
       "RAD        0.000000\n",
       "TAX        0.000000\n",
       "PTRATIO    0.000000\n",
       "B          0.000000\n",
       "LSTAT      3.952569\n",
       "MEDV       0.000000\n",
       "dtype: float64"
      ]
     },
     "execution_count": 12,
     "metadata": {},
     "output_type": "execute_result"
    }
   ],
   "source": [
    "per"
   ]
  },
  {
   "cell_type": "code",
   "execution_count": 13,
   "id": "6a66d206",
   "metadata": {},
   "outputs": [],
   "source": [
    "#finding missing values using heatmap"
   ]
  },
  {
   "cell_type": "code",
   "execution_count": 14,
   "id": "1de4958e",
   "metadata": {},
   "outputs": [
    {
     "data": {
      "text/plain": [
       "<AxesSubplot:>"
      ]
     },
     "execution_count": 14,
     "metadata": {},
     "output_type": "execute_result"
    },
    {
     "data": {
      "image/png": "[encoded data removed]",
      "text/plain": [
       "<Figure size 432x288 with 2 Axes>"
      ]
     },
     "metadata": {
      "needs_background": "light"
     },
     "output_type": "display_data"
    }
   ],
   "source": [
    "sns.heatmap(data.isnull())"
   ]
  },
  {
   "cell_type": "code",
   "execution_count": 15,
   "id": "ea64c6a1",
   "metadata": {},
   "outputs": [],
   "source": [
    "#filling the missing value"
   ]
  },
  {
   "cell_type": "code",
   "execution_count": 16,
   "id": "a6daf186",
   "metadata": {},
   "outputs": [],
   "source": [
    "data.CRIM.fillna(data.CRIM.mean(),inplace=True)\n",
    "data.ZN.fillna(data.ZN.mean(),inplace=True)\n",
    "data.INDUS.fillna(data.INDUS.mean(),inplace=True)\n",
    "data.CHAS.fillna(data.CHAS.mean(),inplace=True)\n",
    "data.AGE.fillna(data.AGE.mean(),inplace=True)\n",
    "data.LSTAT.fillna(data.LSTAT.mean(),inplace=True)"
   ]
  },
  {
   "cell_type": "code",
   "execution_count": 17,
   "id": "29eb2611",
   "metadata": {},
   "outputs": [
    {
     "data": {
      "text/html": [
       "<div>\n",
       "<style scoped>\n",
       "    .dataframe tbody tr th:only-of-type {\n",
       "        vertical-align: middle;\n",
       "    }\n",
       "\n",
       "    .dataframe tbody tr th {\n",
       "        vertical-align: top;\n",
       "    }\n",
       "\n",
       "    .dataframe thead th {\n",
       "        text-align: right;\n",
       "    }\n",
       "</style>\n",
       "<table border=\"1\" class=\"dataframe\">\n",
       "  <thead>\n",
       "    <tr style=\"text-align: right;\">\n",
       "      <th></th>\n",
       "      <th>CRIM</th>\n",
       "      <th>ZN</th>\n",
       "      <th>INDUS</th>\n",
       "      <th>CHAS</th>\n",
       "      <th>NOX</th>\n",
       "      <th>RM</th>\n",
       "      <th>AGE</th>\n",
       "      <th>DIS</th>\n",
       "      <th>RAD</th>\n",
       "      <th>TAX</th>\n",
       "      <th>PTRATIO</th>\n",
       "      <th>B</th>\n",
       "      <th>LSTAT</th>\n",
       "      <th>MEDV</th>\n",
       "    </tr>\n",
       "  </thead>\n",
       "  <tbody>\n",
       "    <tr>\n",
       "      <th>0</th>\n",
       "      <td>0.00632</td>\n",
       "      <td>18.0</td>\n",
       "      <td>2.31</td>\n",
       "      <td>0.0</td>\n",
       "      <td>0.538</td>\n",
       "      <td>6.575</td>\n",
       "      <td>65.200000</td>\n",
       "      <td>4.0900</td>\n",
       "      <td>1</td>\n",
       "      <td>296</td>\n",
       "      <td>15.3</td>\n",
       "      <td>396.90</td>\n",
       "      <td>4.980000</td>\n",
       "      <td>24.0</td>\n",
       "    </tr>\n",
       "    <tr>\n",
       "      <th>1</th>\n",
       "      <td>0.02731</td>\n",
       "      <td>0.0</td>\n",
       "      <td>7.07</td>\n",
       "      <td>0.0</td>\n",
       "      <td>0.469</td>\n",
       "      <td>6.421</td>\n",
       "      <td>78.900000</td>\n",
       "      <td>4.9671</td>\n",
       "      <td>2</td>\n",
       "      <td>242</td>\n",
       "      <td>17.8</td>\n",
       "      <td>396.90</td>\n",
       "      <td>9.140000</td>\n",
       "      <td>21.6</td>\n",
       "    </tr>\n",
       "    <tr>\n",
       "      <th>2</th>\n",
       "      <td>0.02729</td>\n",
       "      <td>0.0</td>\n",
       "      <td>7.07</td>\n",
       "      <td>0.0</td>\n",
       "      <td>0.469</td>\n",
       "      <td>7.185</td>\n",
       "      <td>61.100000</td>\n",
       "      <td>4.9671</td>\n",
       "      <td>2</td>\n",
       "      <td>242</td>\n",
       "      <td>17.8</td>\n",
       "      <td>392.83</td>\n",
       "      <td>4.030000</td>\n",
       "      <td>34.7</td>\n",
       "    </tr>\n",
       "    <tr>\n",
       "      <th>3</th>\n",
       "      <td>0.03237</td>\n",
       "      <td>0.0</td>\n",
       "      <td>2.18</td>\n",
       "      <td>0.0</td>\n",
       "      <td>0.458</td>\n",
       "      <td>6.998</td>\n",
       "      <td>45.800000</td>\n",
       "      <td>6.0622</td>\n",
       "      <td>3</td>\n",
       "      <td>222</td>\n",
       "      <td>18.7</td>\n",
       "      <td>394.63</td>\n",
       "      <td>2.940000</td>\n",
       "      <td>33.4</td>\n",
       "    </tr>\n",
       "    <tr>\n",
       "      <th>4</th>\n",
       "      <td>0.06905</td>\n",
       "      <td>0.0</td>\n",
       "      <td>2.18</td>\n",
       "      <td>0.0</td>\n",
       "      <td>0.458</td>\n",
       "      <td>7.147</td>\n",
       "      <td>54.200000</td>\n",
       "      <td>6.0622</td>\n",
       "      <td>3</td>\n",
       "      <td>222</td>\n",
       "      <td>18.7</td>\n",
       "      <td>396.90</td>\n",
       "      <td>12.715432</td>\n",
       "      <td>36.2</td>\n",
       "    </tr>\n",
       "    <tr>\n",
       "      <th>...</th>\n",
       "      <td>...</td>\n",
       "      <td>...</td>\n",
       "      <td>...</td>\n",
       "      <td>...</td>\n",
       "      <td>...</td>\n",
       "      <td>...</td>\n",
       "      <td>...</td>\n",
       "      <td>...</td>\n",
       "      <td>...</td>\n",
       "      <td>...</td>\n",
       "      <td>...</td>\n",
       "      <td>...</td>\n",
       "      <td>...</td>\n",
       "      <td>...</td>\n",
       "    </tr>\n",
       "    <tr>\n",
       "      <th>501</th>\n",
       "      <td>0.06263</td>\n",
       "      <td>0.0</td>\n",
       "      <td>11.93</td>\n",
       "      <td>0.0</td>\n",
       "      <td>0.573</td>\n",
       "      <td>6.593</td>\n",
       "      <td>69.100000</td>\n",
       "      <td>2.4786</td>\n",
       "      <td>1</td>\n",
       "      <td>273</td>\n",
       "      <td>21.0</td>\n",
       "      <td>391.99</td>\n",
       "      <td>12.715432</td>\n",
       "      <td>22.4</td>\n",
       "    </tr>\n",
       "    <tr>\n",
       "      <th>502</th>\n",
       "      <td>0.04527</td>\n",
       "      <td>0.0</td>\n",
       "      <td>11.93</td>\n",
       "      <td>0.0</td>\n",
       "      <td>0.573</td>\n",
       "      <td>6.120</td>\n",
       "      <td>76.700000</td>\n",
       "      <td>2.2875</td>\n",
       "      <td>1</td>\n",
       "      <td>273</td>\n",
       "      <td>21.0</td>\n",
       "      <td>396.90</td>\n",
       "      <td>9.080000</td>\n",
       "      <td>20.6</td>\n",
       "    </tr>\n",
       "    <tr>\n",
       "      <th>503</th>\n",
       "      <td>0.06076</td>\n",
       "      <td>0.0</td>\n",
       "      <td>11.93</td>\n",
       "      <td>0.0</td>\n",
       "      <td>0.573</td>\n",
       "      <td>6.976</td>\n",
       "      <td>91.000000</td>\n",
       "      <td>2.1675</td>\n",
       "      <td>1</td>\n",
       "      <td>273</td>\n",
       "      <td>21.0</td>\n",
       "      <td>396.90</td>\n",
       "      <td>5.640000</td>\n",
       "      <td>23.9</td>\n",
       "    </tr>\n",
       "    <tr>\n",
       "      <th>504</th>\n",
       "      <td>0.10959</td>\n",
       "      <td>0.0</td>\n",
       "      <td>11.93</td>\n",
       "      <td>0.0</td>\n",
       "      <td>0.573</td>\n",
       "      <td>6.794</td>\n",
       "      <td>89.300000</td>\n",
       "      <td>2.3889</td>\n",
       "      <td>1</td>\n",
       "      <td>273</td>\n",
       "      <td>21.0</td>\n",
       "      <td>393.45</td>\n",
       "      <td>6.480000</td>\n",
       "      <td>22.0</td>\n",
       "    </tr>\n",
       "    <tr>\n",
       "      <th>505</th>\n",
       "      <td>0.04741</td>\n",
       "      <td>0.0</td>\n",
       "      <td>11.93</td>\n",
       "      <td>0.0</td>\n",
       "      <td>0.573</td>\n",
       "      <td>6.030</td>\n",
       "      <td>68.518519</td>\n",
       "      <td>2.5050</td>\n",
       "      <td>1</td>\n",
       "      <td>273</td>\n",
       "      <td>21.0</td>\n",
       "      <td>396.90</td>\n",
       "      <td>7.880000</td>\n",
       "      <td>11.9</td>\n",
       "    </tr>\n",
       "  </tbody>\n",
       "</table>\n",
       "<p>506 rows × 14 columns</p>\n",
       "</div>"
      ],
      "text/plain": [
       "        CRIM    ZN  INDUS  CHAS    NOX     RM        AGE     DIS  RAD  TAX  \\\n",
       "0    0.00632  18.0   2.31   0.0  0.538  6.575  65.200000  4.0900    1  296   \n",
       "1    0.02731   0.0   7.07   0.0  0.469  6.421  78.900000  4.9671    2  242   \n",
       "2    0.02729   0.0   7.07   0.0  0.469  7.185  61.100000  4.9671    2  242   \n",
       "3    0.03237   0.0   2.18   0.0  0.458  6.998  45.800000  6.0622    3  222   \n",
       "4    0.06905   0.0   2.18   0.0  0.458  7.147  54.200000  6.0622    3  222   \n",
       "..       ...   ...    ...   ...    ...    ...        ...     ...  ...  ...   \n",
       "501  0.06263   0.0  11.93   0.0  0.573  6.593  69.100000  2.4786    1  273   \n",
       "502  0.04527   0.0  11.93   0.0  0.573  6.120  76.700000  2.2875    1  273   \n",
       "503  0.06076   0.0  11.93   0.0  0.573  6.976  91.000000  2.1675    1  273   \n",
       "504  0.10959   0.0  11.93   0.0  0.573  6.794  89.300000  2.3889    1  273   \n",
       "505  0.04741   0.0  11.93   0.0  0.573  6.030  68.518519  2.5050    1  273   \n",
       "\n",
       "     PTRATIO       B      LSTAT  MEDV  \n",
       "0       15.3  396.90   4.980000  24.0  \n",
       "1       17.8  396.90   9.140000  21.6  \n",
       "2       17.8  392.83   4.030000  34.7  \n",
       "3       18.7  394.63   2.940000  33.4  \n",
       "4       18.7  396.90  12.715432  36.2  \n",
       "..       ...     ...        ...   ...  \n",
       "501     21.0  391.99  12.715432  22.4  \n",
       "502     21.0  396.90   9.080000  20.6  \n",
       "503     21.0  396.90   5.640000  23.9  \n",
       "504     21.0  393.45   6.480000  22.0  \n",
       "505     21.0  396.90   7.880000  11.9  \n",
       "\n",
       "[506 rows x 14 columns]"
      ]
     },
     "execution_count": 17,
     "metadata": {},
     "output_type": "execute_result"
    }
   ],
   "source": [
    "data"
   ]
  },
  {
   "cell_type": "code",
   "execution_count": 18,
   "id": "acd243de",
   "metadata": {},
   "outputs": [],
   "source": [
    "#checking for missing value"
   ]
  },
  {
   "cell_type": "code",
   "execution_count": 19,
   "id": "5f842d76",
   "metadata": {},
   "outputs": [
    {
     "data": {
      "text/plain": [
       "CRIM       0\n",
       "ZN         0\n",
       "INDUS      0\n",
       "CHAS       0\n",
       "NOX        0\n",
       "RM         0\n",
       "AGE        0\n",
       "DIS        0\n",
       "RAD        0\n",
       "TAX        0\n",
       "PTRATIO    0\n",
       "B          0\n",
       "LSTAT      0\n",
       "MEDV       0\n",
       "dtype: int64"
      ]
     },
     "execution_count": 19,
     "metadata": {},
     "output_type": "execute_result"
    }
   ],
   "source": [
    "data.isnull().sum()"
   ]
  },
  {
   "cell_type": "code",
   "execution_count": 20,
   "id": "c5bc2820",
   "metadata": {},
   "outputs": [],
   "source": [
    "#data analysis"
   ]
  },
  {
   "cell_type": "code",
   "execution_count": 21,
   "id": "632dacb5",
   "metadata": {},
   "outputs": [
    {
     "data": {
      "text/html": [
       "<div>\n",
       "<style scoped>\n",
       "    .dataframe tbody tr th:only-of-type {\n",
       "        vertical-align: middle;\n",
       "    }\n",
       "\n",
       "    .dataframe tbody tr th {\n",
       "        vertical-align: top;\n",
       "    }\n",
       "\n",
       "    .dataframe thead th {\n",
       "        text-align: right;\n",
       "    }\n",
       "</style>\n",
       "<table border=\"1\" class=\"dataframe\">\n",
       "  <thead>\n",
       "    <tr style=\"text-align: right;\">\n",
       "      <th></th>\n",
       "      <th>CRIM</th>\n",
       "      <th>ZN</th>\n",
       "      <th>INDUS</th>\n",
       "      <th>CHAS</th>\n",
       "      <th>NOX</th>\n",
       "      <th>RM</th>\n",
       "      <th>AGE</th>\n",
       "      <th>DIS</th>\n",
       "      <th>RAD</th>\n",
       "      <th>TAX</th>\n",
       "      <th>PTRATIO</th>\n",
       "      <th>B</th>\n",
       "      <th>LSTAT</th>\n",
       "      <th>MEDV</th>\n",
       "    </tr>\n",
       "  </thead>\n",
       "  <tbody>\n",
       "    <tr>\n",
       "      <th>count</th>\n",
       "      <td>506.000000</td>\n",
       "      <td>506.000000</td>\n",
       "      <td>506.000000</td>\n",
       "      <td>506.000000</td>\n",
       "      <td>506.000000</td>\n",
       "      <td>506.000000</td>\n",
       "      <td>506.000000</td>\n",
       "      <td>506.000000</td>\n",
       "      <td>506.000000</td>\n",
       "      <td>506.000000</td>\n",
       "      <td>506.000000</td>\n",
       "      <td>506.000000</td>\n",
       "      <td>506.000000</td>\n",
       "      <td>506.000000</td>\n",
       "    </tr>\n",
       "    <tr>\n",
       "      <th>mean</th>\n",
       "      <td>3.611874</td>\n",
       "      <td>11.211934</td>\n",
       "      <td>11.083992</td>\n",
       "      <td>0.069959</td>\n",
       "      <td>0.554695</td>\n",
       "      <td>6.284634</td>\n",
       "      <td>68.518519</td>\n",
       "      <td>3.795043</td>\n",
       "      <td>9.549407</td>\n",
       "      <td>408.237154</td>\n",
       "      <td>18.455534</td>\n",
       "      <td>356.674032</td>\n",
       "      <td>12.715432</td>\n",
       "      <td>22.532806</td>\n",
       "    </tr>\n",
       "    <tr>\n",
       "      <th>std</th>\n",
       "      <td>8.545770</td>\n",
       "      <td>22.921051</td>\n",
       "      <td>6.699165</td>\n",
       "      <td>0.250233</td>\n",
       "      <td>0.115878</td>\n",
       "      <td>0.702617</td>\n",
       "      <td>27.439466</td>\n",
       "      <td>2.105710</td>\n",
       "      <td>8.707259</td>\n",
       "      <td>168.537116</td>\n",
       "      <td>2.164946</td>\n",
       "      <td>91.294864</td>\n",
       "      <td>7.012739</td>\n",
       "      <td>9.197104</td>\n",
       "    </tr>\n",
       "    <tr>\n",
       "      <th>min</th>\n",
       "      <td>0.006320</td>\n",
       "      <td>0.000000</td>\n",
       "      <td>0.460000</td>\n",
       "      <td>0.000000</td>\n",
       "      <td>0.385000</td>\n",
       "      <td>3.561000</td>\n",
       "      <td>2.900000</td>\n",
       "      <td>1.129600</td>\n",
       "      <td>1.000000</td>\n",
       "      <td>187.000000</td>\n",
       "      <td>12.600000</td>\n",
       "      <td>0.320000</td>\n",
       "      <td>1.730000</td>\n",
       "      <td>5.000000</td>\n",
       "    </tr>\n",
       "    <tr>\n",
       "      <th>25%</th>\n",
       "      <td>0.083235</td>\n",
       "      <td>0.000000</td>\n",
       "      <td>5.190000</td>\n",
       "      <td>0.000000</td>\n",
       "      <td>0.449000</td>\n",
       "      <td>5.885500</td>\n",
       "      <td>45.925000</td>\n",
       "      <td>2.100175</td>\n",
       "      <td>4.000000</td>\n",
       "      <td>279.000000</td>\n",
       "      <td>17.400000</td>\n",
       "      <td>375.377500</td>\n",
       "      <td>7.230000</td>\n",
       "      <td>17.025000</td>\n",
       "    </tr>\n",
       "    <tr>\n",
       "      <th>50%</th>\n",
       "      <td>0.290250</td>\n",
       "      <td>0.000000</td>\n",
       "      <td>9.900000</td>\n",
       "      <td>0.000000</td>\n",
       "      <td>0.538000</td>\n",
       "      <td>6.208500</td>\n",
       "      <td>74.450000</td>\n",
       "      <td>3.207450</td>\n",
       "      <td>5.000000</td>\n",
       "      <td>330.000000</td>\n",
       "      <td>19.050000</td>\n",
       "      <td>391.440000</td>\n",
       "      <td>11.995000</td>\n",
       "      <td>21.200000</td>\n",
       "    </tr>\n",
       "    <tr>\n",
       "      <th>75%</th>\n",
       "      <td>3.611874</td>\n",
       "      <td>11.211934</td>\n",
       "      <td>18.100000</td>\n",
       "      <td>0.000000</td>\n",
       "      <td>0.624000</td>\n",
       "      <td>6.623500</td>\n",
       "      <td>93.575000</td>\n",
       "      <td>5.188425</td>\n",
       "      <td>24.000000</td>\n",
       "      <td>666.000000</td>\n",
       "      <td>20.200000</td>\n",
       "      <td>396.225000</td>\n",
       "      <td>16.570000</td>\n",
       "      <td>25.000000</td>\n",
       "    </tr>\n",
       "    <tr>\n",
       "      <th>max</th>\n",
       "      <td>88.976200</td>\n",
       "      <td>100.000000</td>\n",
       "      <td>27.740000</td>\n",
       "      <td>1.000000</td>\n",
       "      <td>0.871000</td>\n",
       "      <td>8.780000</td>\n",
       "      <td>100.000000</td>\n",
       "      <td>12.126500</td>\n",
       "      <td>24.000000</td>\n",
       "      <td>711.000000</td>\n",
       "      <td>22.000000</td>\n",
       "      <td>396.900000</td>\n",
       "      <td>37.970000</td>\n",
       "      <td>50.000000</td>\n",
       "    </tr>\n",
       "  </tbody>\n",
       "</table>\n",
       "</div>"
      ],
      "text/plain": [
       "             CRIM          ZN       INDUS        CHAS         NOX          RM  \\\n",
       "count  506.000000  506.000000  506.000000  506.000000  506.000000  506.000000   \n",
       "mean     3.611874   11.211934   11.083992    0.069959    0.554695    6.284634   \n",
       "std      8.545770   22.921051    6.699165    0.250233    0.115878    0.702617   \n",
       "min      0.006320    0.000000    0.460000    0.000000    0.385000    3.561000   \n",
       "25%      0.083235    0.000000    5.190000    0.000000    0.449000    5.885500   \n",
       "50%      0.290250    0.000000    9.900000    0.000000    0.538000    6.208500   \n",
       "75%      3.611874   11.211934   18.100000    0.000000    0.624000    6.623500   \n",
       "max     88.976200  100.000000   27.740000    1.000000    0.871000    8.780000   \n",
       "\n",
       "              AGE         DIS         RAD         TAX     PTRATIO           B  \\\n",
       "count  506.000000  506.000000  506.000000  506.000000  506.000000  506.000000   \n",
       "mean    68.518519    3.795043    9.549407  408.237154   18.455534  356.674032   \n",
       "std     27.439466    2.105710    8.707259  168.537116    2.164946   91.294864   \n",
       "min      2.900000    1.129600    1.000000  187.000000   12.600000    0.320000   \n",
       "25%     45.925000    2.100175    4.000000  279.000000   17.400000  375.377500   \n",
       "50%     74.450000    3.207450    5.000000  330.000000   19.050000  391.440000   \n",
       "75%     93.575000    5.188425   24.000000  666.000000   20.200000  396.225000   \n",
       "max    100.000000   12.126500   24.000000  711.000000   22.000000  396.900000   \n",
       "\n",
       "            LSTAT        MEDV  \n",
       "count  506.000000  506.000000  \n",
       "mean    12.715432   22.532806  \n",
       "std      7.012739    9.197104  \n",
       "min      1.730000    5.000000  \n",
       "25%      7.230000   17.025000  \n",
       "50%     11.995000   21.200000  \n",
       "75%     16.570000   25.000000  \n",
       "max     37.970000   50.000000  "
      ]
     },
     "execution_count": 21,
     "metadata": {},
     "output_type": "execute_result"
    }
   ],
   "source": [
    "data.describe()#for understanding our dataset better"
   ]
  },
  {
   "cell_type": "code",
   "execution_count": 22,
   "id": "611d3f57",
   "metadata": {},
   "outputs": [],
   "source": [
    "#finding the correlation between each features-method1"
   ]
  },
  {
   "cell_type": "code",
   "execution_count": 23,
   "id": "036aec38",
   "metadata": {},
   "outputs": [],
   "source": [
    "corr=data.corr()"
   ]
  },
  {
   "cell_type": "code",
   "execution_count": 24,
   "id": "42274e73",
   "metadata": {},
   "outputs": [
    {
     "data": {
      "text/html": [
       "<div>\n",
       "<style scoped>\n",
       "    .dataframe tbody tr th:only-of-type {\n",
       "        vertical-align: middle;\n",
       "    }\n",
       "\n",
       "    .dataframe tbody tr th {\n",
       "        vertical-align: top;\n",
       "    }\n",
       "\n",
       "    .dataframe thead th {\n",
       "        text-align: right;\n",
       "    }\n",
       "</style>\n",
       "<table border=\"1\" class=\"dataframe\">\n",
       "  <thead>\n",
       "    <tr style=\"text-align: right;\">\n",
       "      <th></th>\n",
       "      <th>CRIM</th>\n",
       "      <th>ZN</th>\n",
       "      <th>INDUS</th>\n",
       "      <th>CHAS</th>\n",
       "      <th>NOX</th>\n",
       "      <th>RM</th>\n",
       "      <th>AGE</th>\n",
       "      <th>DIS</th>\n",
       "      <th>RAD</th>\n",
       "      <th>TAX</th>\n",
       "      <th>PTRATIO</th>\n",
       "      <th>B</th>\n",
       "      <th>LSTAT</th>\n",
       "      <th>MEDV</th>\n",
       "    </tr>\n",
       "  </thead>\n",
       "  <tbody>\n",
       "    <tr>\n",
       "      <th>CRIM</th>\n",
       "      <td>1.000000</td>\n",
       "      <td>-0.182930</td>\n",
       "      <td>0.391161</td>\n",
       "      <td>-0.052223</td>\n",
       "      <td>0.410377</td>\n",
       "      <td>-0.215434</td>\n",
       "      <td>0.344934</td>\n",
       "      <td>-0.366523</td>\n",
       "      <td>0.608886</td>\n",
       "      <td>0.566528</td>\n",
       "      <td>0.273384</td>\n",
       "      <td>-0.370163</td>\n",
       "      <td>0.434044</td>\n",
       "      <td>-0.379695</td>\n",
       "    </tr>\n",
       "    <tr>\n",
       "      <th>ZN</th>\n",
       "      <td>-0.182930</td>\n",
       "      <td>1.000000</td>\n",
       "      <td>-0.513336</td>\n",
       "      <td>-0.036147</td>\n",
       "      <td>-0.502287</td>\n",
       "      <td>0.316550</td>\n",
       "      <td>-0.541274</td>\n",
       "      <td>0.638388</td>\n",
       "      <td>-0.306316</td>\n",
       "      <td>-0.308334</td>\n",
       "      <td>-0.403085</td>\n",
       "      <td>0.167431</td>\n",
       "      <td>-0.407549</td>\n",
       "      <td>0.365943</td>\n",
       "    </tr>\n",
       "    <tr>\n",
       "      <th>INDUS</th>\n",
       "      <td>0.391161</td>\n",
       "      <td>-0.513336</td>\n",
       "      <td>1.000000</td>\n",
       "      <td>0.058035</td>\n",
       "      <td>0.740965</td>\n",
       "      <td>-0.381457</td>\n",
       "      <td>0.614592</td>\n",
       "      <td>-0.699639</td>\n",
       "      <td>0.593176</td>\n",
       "      <td>0.716062</td>\n",
       "      <td>0.384806</td>\n",
       "      <td>-0.354597</td>\n",
       "      <td>0.567354</td>\n",
       "      <td>-0.478657</td>\n",
       "    </tr>\n",
       "    <tr>\n",
       "      <th>CHAS</th>\n",
       "      <td>-0.052223</td>\n",
       "      <td>-0.036147</td>\n",
       "      <td>0.058035</td>\n",
       "      <td>1.000000</td>\n",
       "      <td>0.073286</td>\n",
       "      <td>0.102284</td>\n",
       "      <td>0.075206</td>\n",
       "      <td>-0.091680</td>\n",
       "      <td>0.001425</td>\n",
       "      <td>-0.031483</td>\n",
       "      <td>-0.109310</td>\n",
       "      <td>0.050055</td>\n",
       "      <td>-0.046166</td>\n",
       "      <td>0.179882</td>\n",
       "    </tr>\n",
       "    <tr>\n",
       "      <th>NOX</th>\n",
       "      <td>0.410377</td>\n",
       "      <td>-0.502287</td>\n",
       "      <td>0.740965</td>\n",
       "      <td>0.073286</td>\n",
       "      <td>1.000000</td>\n",
       "      <td>-0.302188</td>\n",
       "      <td>0.711461</td>\n",
       "      <td>-0.769230</td>\n",
       "      <td>0.611441</td>\n",
       "      <td>0.668023</td>\n",
       "      <td>0.188933</td>\n",
       "      <td>-0.380051</td>\n",
       "      <td>0.572379</td>\n",
       "      <td>-0.427321</td>\n",
       "    </tr>\n",
       "    <tr>\n",
       "      <th>RM</th>\n",
       "      <td>-0.215434</td>\n",
       "      <td>0.316550</td>\n",
       "      <td>-0.381457</td>\n",
       "      <td>0.102284</td>\n",
       "      <td>-0.302188</td>\n",
       "      <td>1.000000</td>\n",
       "      <td>-0.241351</td>\n",
       "      <td>0.205246</td>\n",
       "      <td>-0.209847</td>\n",
       "      <td>-0.292048</td>\n",
       "      <td>-0.355501</td>\n",
       "      <td>0.128069</td>\n",
       "      <td>-0.602962</td>\n",
       "      <td>0.695360</td>\n",
       "    </tr>\n",
       "    <tr>\n",
       "      <th>AGE</th>\n",
       "      <td>0.344934</td>\n",
       "      <td>-0.541274</td>\n",
       "      <td>0.614592</td>\n",
       "      <td>0.075206</td>\n",
       "      <td>0.711461</td>\n",
       "      <td>-0.241351</td>\n",
       "      <td>1.000000</td>\n",
       "      <td>-0.724353</td>\n",
       "      <td>0.449989</td>\n",
       "      <td>0.500589</td>\n",
       "      <td>0.262723</td>\n",
       "      <td>-0.265282</td>\n",
       "      <td>0.574893</td>\n",
       "      <td>-0.380223</td>\n",
       "    </tr>\n",
       "    <tr>\n",
       "      <th>DIS</th>\n",
       "      <td>-0.366523</td>\n",
       "      <td>0.638388</td>\n",
       "      <td>-0.699639</td>\n",
       "      <td>-0.091680</td>\n",
       "      <td>-0.769230</td>\n",
       "      <td>0.205246</td>\n",
       "      <td>-0.724353</td>\n",
       "      <td>1.000000</td>\n",
       "      <td>-0.494588</td>\n",
       "      <td>-0.534432</td>\n",
       "      <td>-0.232471</td>\n",
       "      <td>0.291512</td>\n",
       "      <td>-0.483429</td>\n",
       "      <td>0.249929</td>\n",
       "    </tr>\n",
       "    <tr>\n",
       "      <th>RAD</th>\n",
       "      <td>0.608886</td>\n",
       "      <td>-0.306316</td>\n",
       "      <td>0.593176</td>\n",
       "      <td>0.001425</td>\n",
       "      <td>0.611441</td>\n",
       "      <td>-0.209847</td>\n",
       "      <td>0.449989</td>\n",
       "      <td>-0.494588</td>\n",
       "      <td>1.000000</td>\n",
       "      <td>0.910228</td>\n",
       "      <td>0.464741</td>\n",
       "      <td>-0.444413</td>\n",
       "      <td>0.468440</td>\n",
       "      <td>-0.381626</td>\n",
       "    </tr>\n",
       "    <tr>\n",
       "      <th>TAX</th>\n",
       "      <td>0.566528</td>\n",
       "      <td>-0.308334</td>\n",
       "      <td>0.716062</td>\n",
       "      <td>-0.031483</td>\n",
       "      <td>0.668023</td>\n",
       "      <td>-0.292048</td>\n",
       "      <td>0.500589</td>\n",
       "      <td>-0.534432</td>\n",
       "      <td>0.910228</td>\n",
       "      <td>1.000000</td>\n",
       "      <td>0.460853</td>\n",
       "      <td>-0.441808</td>\n",
       "      <td>0.524545</td>\n",
       "      <td>-0.468536</td>\n",
       "    </tr>\n",
       "    <tr>\n",
       "      <th>PTRATIO</th>\n",
       "      <td>0.273384</td>\n",
       "      <td>-0.403085</td>\n",
       "      <td>0.384806</td>\n",
       "      <td>-0.109310</td>\n",
       "      <td>0.188933</td>\n",
       "      <td>-0.355501</td>\n",
       "      <td>0.262723</td>\n",
       "      <td>-0.232471</td>\n",
       "      <td>0.464741</td>\n",
       "      <td>0.460853</td>\n",
       "      <td>1.000000</td>\n",
       "      <td>-0.177383</td>\n",
       "      <td>0.373343</td>\n",
       "      <td>-0.507787</td>\n",
       "    </tr>\n",
       "    <tr>\n",
       "      <th>B</th>\n",
       "      <td>-0.370163</td>\n",
       "      <td>0.167431</td>\n",
       "      <td>-0.354597</td>\n",
       "      <td>0.050055</td>\n",
       "      <td>-0.380051</td>\n",
       "      <td>0.128069</td>\n",
       "      <td>-0.265282</td>\n",
       "      <td>0.291512</td>\n",
       "      <td>-0.444413</td>\n",
       "      <td>-0.441808</td>\n",
       "      <td>-0.177383</td>\n",
       "      <td>1.000000</td>\n",
       "      <td>-0.368886</td>\n",
       "      <td>0.333461</td>\n",
       "    </tr>\n",
       "    <tr>\n",
       "      <th>LSTAT</th>\n",
       "      <td>0.434044</td>\n",
       "      <td>-0.407549</td>\n",
       "      <td>0.567354</td>\n",
       "      <td>-0.046166</td>\n",
       "      <td>0.572379</td>\n",
       "      <td>-0.602962</td>\n",
       "      <td>0.574893</td>\n",
       "      <td>-0.483429</td>\n",
       "      <td>0.468440</td>\n",
       "      <td>0.524545</td>\n",
       "      <td>0.373343</td>\n",
       "      <td>-0.368886</td>\n",
       "      <td>1.000000</td>\n",
       "      <td>-0.721975</td>\n",
       "    </tr>\n",
       "    <tr>\n",
       "      <th>MEDV</th>\n",
       "      <td>-0.379695</td>\n",
       "      <td>0.365943</td>\n",
       "      <td>-0.478657</td>\n",
       "      <td>0.179882</td>\n",
       "      <td>-0.427321</td>\n",
       "      <td>0.695360</td>\n",
       "      <td>-0.380223</td>\n",
       "      <td>0.249929</td>\n",
       "      <td>-0.381626</td>\n",
       "      <td>-0.468536</td>\n",
       "      <td>-0.507787</td>\n",
       "      <td>0.333461</td>\n",
       "      <td>-0.721975</td>\n",
       "      <td>1.000000</td>\n",
       "    </tr>\n",
       "  </tbody>\n",
       "</table>\n",
       "</div>"
      ],
      "text/plain": [
       "             CRIM        ZN     INDUS      CHAS       NOX        RM       AGE  \\\n",
       "CRIM     1.000000 -0.182930  0.391161 -0.052223  0.410377 -0.215434  0.344934   \n",
       "ZN      -0.182930  1.000000 -0.513336 -0.036147 -0.502287  0.316550 -0.541274   \n",
       "INDUS    0.391161 -0.513336  1.000000  0.058035  0.740965 -0.381457  0.614592   \n",
       "CHAS    -0.052223 -0.036147  0.058035  1.000000  0.073286  0.102284  0.075206   \n",
       "NOX      0.410377 -0.502287  0.740965  0.073286  1.000000 -0.302188  0.711461   \n",
       "RM      -0.215434  0.316550 -0.381457  0.102284 -0.302188  1.000000 -0.241351   \n",
       "AGE      0.344934 -0.541274  0.614592  0.075206  0.711461 -0.241351  1.000000   \n",
       "DIS     -0.366523  0.638388 -0.699639 -0.091680 -0.769230  0.205246 -0.724353   \n",
       "RAD      0.608886 -0.306316  0.593176  0.001425  0.611441 -0.209847  0.449989   \n",
       "TAX      0.566528 -0.308334  0.716062 -0.031483  0.668023 -0.292048  0.500589   \n",
       "PTRATIO  0.273384 -0.403085  0.384806 -0.109310  0.188933 -0.355501  0.262723   \n",
       "B       -0.370163  0.167431 -0.354597  0.050055 -0.380051  0.128069 -0.265282   \n",
       "LSTAT    0.434044 -0.407549  0.567354 -0.046166  0.572379 -0.602962  0.574893   \n",
       "MEDV    -0.379695  0.365943 -0.478657  0.179882 -0.427321  0.695360 -0.380223   \n",
       "\n",
       "              DIS       RAD       TAX   PTRATIO         B     LSTAT      MEDV  \n",
       "CRIM    -0.366523  0.608886  0.566528  0.273384 -0.370163  0.434044 -0.379695  \n",
       "ZN       0.638388 -0.306316 -0.308334 -0.403085  0.167431 -0.407549  0.365943  \n",
       "INDUS   -0.699639  0.593176  0.716062  0.384806 -0.354597  0.567354 -0.478657  \n",
       "CHAS    -0.091680  0.001425 -0.031483 -0.109310  0.050055 -0.046166  0.179882  \n",
       "NOX     -0.769230  0.611441  0.668023  0.188933 -0.380051  0.572379 -0.427321  \n",
       "RM       0.205246 -0.209847 -0.292048 -0.355501  0.128069 -0.602962  0.695360  \n",
       "AGE     -0.724353  0.449989  0.500589  0.262723 -0.265282  0.574893 -0.380223  \n",
       "DIS      1.000000 -0.494588 -0.534432 -0.232471  0.291512 -0.483429  0.249929  \n",
       "RAD     -0.494588  1.000000  0.910228  0.464741 -0.444413  0.468440 -0.381626  \n",
       "TAX     -0.534432  0.910228  1.000000  0.460853 -0.441808  0.524545 -0.468536  \n",
       "PTRATIO -0.232471  0.464741  0.460853  1.000000 -0.177383  0.373343 -0.507787  \n",
       "B        0.291512 -0.444413 -0.441808 -0.177383  1.000000 -0.368886  0.333461  \n",
       "LSTAT   -0.483429  0.468440  0.524545  0.373343 -0.368886  1.000000 -0.721975  \n",
       "MEDV     0.249929 -0.381626 -0.468536 -0.507787  0.333461 -0.721975  1.000000  "
      ]
     },
     "execution_count": 24,
     "metadata": {},
     "output_type": "execute_result"
    }
   ],
   "source": [
    "corr"
   ]
  },
  {
   "cell_type": "code",
   "execution_count": 25,
   "id": "84c70f4e",
   "metadata": {},
   "outputs": [],
   "source": [
    "#constructing heat map to understand correlation"
   ]
  },
  {
   "cell_type": "code",
   "execution_count": 26,
   "id": "9ee44088",
   "metadata": {},
   "outputs": [
    {
     "data": {
      "text/plain": [
       "<AxesSubplot:>"
      ]
     },
     "execution_count": 26,
     "metadata": {},
     "output_type": "execute_result"
    },
    {
     "data": {
      "image/png": "[encoded data removed]",
      "text/plain": [
       "<Figure size 1440x720 with 2 Axes>"
      ]
     },
     "metadata": {
      "needs_background": "light"
     },
     "output_type": "display_data"
    }
   ],
   "source": [
    "plt.figure(figsize=(20,10))\n",
    "sns.heatmap(corr,cbar=True,square=True,fmt='0.1f',annot=True,annot_kws={'size':12},cmap='Reds')"
   ]
  },
  {
   "cell_type": "code",
   "execution_count": 27,
   "id": "aa4afba9",
   "metadata": {},
   "outputs": [],
   "source": [
    "#sperating the data and target"
   ]
  },
  {
   "cell_type": "code",
   "execution_count": 28,
   "id": "3be9a1df",
   "metadata": {},
   "outputs": [],
   "source": [
    "y=data.MEDV\n",
    "X=data.drop('MEDV',axis=1)"
   ]
  },
  {
   "cell_type": "code",
   "execution_count": 29,
   "id": "947584fd",
   "metadata": {
    "scrolled": true
   },
   "outputs": [
    {
     "data": {
      "text/html": [
       "<div>\n",
       "<style scoped>\n",
       "    .dataframe tbody tr th:only-of-type {\n",
       "        vertical-align: middle;\n",
       "    }\n",
       "\n",
       "    .dataframe tbody tr th {\n",
       "        vertical-align: top;\n",
       "    }\n",
       "\n",
       "    .dataframe thead th {\n",
       "        text-align: right;\n",
       "    }\n",
       "</style>\n",
       "<table border=\"1\" class=\"dataframe\">\n",
       "  <thead>\n",
       "    <tr style=\"text-align: right;\">\n",
       "      <th></th>\n",
       "      <th>CRIM</th>\n",
       "      <th>ZN</th>\n",
       "      <th>INDUS</th>\n",
       "      <th>CHAS</th>\n",
       "      <th>NOX</th>\n",
       "      <th>RM</th>\n",
       "      <th>AGE</th>\n",
       "      <th>DIS</th>\n",
       "      <th>RAD</th>\n",
       "      <th>TAX</th>\n",
       "      <th>PTRATIO</th>\n",
       "      <th>B</th>\n",
       "      <th>LSTAT</th>\n",
       "    </tr>\n",
       "  </thead>\n",
       "  <tbody>\n",
       "    <tr>\n",
       "      <th>0</th>\n",
       "      <td>0.00632</td>\n",
       "      <td>18.0</td>\n",
       "      <td>2.31</td>\n",
       "      <td>0.0</td>\n",
       "      <td>0.538</td>\n",
       "      <td>6.575</td>\n",
       "      <td>65.200000</td>\n",
       "      <td>4.0900</td>\n",
       "      <td>1</td>\n",
       "      <td>296</td>\n",
       "      <td>15.3</td>\n",
       "      <td>396.90</td>\n",
       "      <td>4.980000</td>\n",
       "    </tr>\n",
       "    <tr>\n",
       "      <th>1</th>\n",
       "      <td>0.02731</td>\n",
       "      <td>0.0</td>\n",
       "      <td>7.07</td>\n",
       "      <td>0.0</td>\n",
       "      <td>0.469</td>\n",
       "      <td>6.421</td>\n",
       "      <td>78.900000</td>\n",
       "      <td>4.9671</td>\n",
       "      <td>2</td>\n",
       "      <td>242</td>\n",
       "      <td>17.8</td>\n",
       "      <td>396.90</td>\n",
       "      <td>9.140000</td>\n",
       "    </tr>\n",
       "    <tr>\n",
       "      <th>2</th>\n",
       "      <td>0.02729</td>\n",
       "      <td>0.0</td>\n",
       "      <td>7.07</td>\n",
       "      <td>0.0</td>\n",
       "      <td>0.469</td>\n",
       "      <td>7.185</td>\n",
       "      <td>61.100000</td>\n",
       "      <td>4.9671</td>\n",
       "      <td>2</td>\n",
       "      <td>242</td>\n",
       "      <td>17.8</td>\n",
       "      <td>392.83</td>\n",
       "      <td>4.030000</td>\n",
       "    </tr>\n",
       "    <tr>\n",
       "      <th>3</th>\n",
       "      <td>0.03237</td>\n",
       "      <td>0.0</td>\n",
       "      <td>2.18</td>\n",
       "      <td>0.0</td>\n",
       "      <td>0.458</td>\n",
       "      <td>6.998</td>\n",
       "      <td>45.800000</td>\n",
       "      <td>6.0622</td>\n",
       "      <td>3</td>\n",
       "      <td>222</td>\n",
       "      <td>18.7</td>\n",
       "      <td>394.63</td>\n",
       "      <td>2.940000</td>\n",
       "    </tr>\n",
       "    <tr>\n",
       "      <th>4</th>\n",
       "      <td>0.06905</td>\n",
       "      <td>0.0</td>\n",
       "      <td>2.18</td>\n",
       "      <td>0.0</td>\n",
       "      <td>0.458</td>\n",
       "      <td>7.147</td>\n",
       "      <td>54.200000</td>\n",
       "      <td>6.0622</td>\n",
       "      <td>3</td>\n",
       "      <td>222</td>\n",
       "      <td>18.7</td>\n",
       "      <td>396.90</td>\n",
       "      <td>12.715432</td>\n",
       "    </tr>\n",
       "    <tr>\n",
       "      <th>...</th>\n",
       "      <td>...</td>\n",
       "      <td>...</td>\n",
       "      <td>...</td>\n",
       "      <td>...</td>\n",
       "      <td>...</td>\n",
       "      <td>...</td>\n",
       "      <td>...</td>\n",
       "      <td>...</td>\n",
       "      <td>...</td>\n",
       "      <td>...</td>\n",
       "      <td>...</td>\n",
       "      <td>...</td>\n",
       "      <td>...</td>\n",
       "    </tr>\n",
       "    <tr>\n",
       "      <th>501</th>\n",
       "      <td>0.06263</td>\n",
       "      <td>0.0</td>\n",
       "      <td>11.93</td>\n",
       "      <td>0.0</td>\n",
       "      <td>0.573</td>\n",
       "      <td>6.593</td>\n",
       "      <td>69.100000</td>\n",
       "      <td>2.4786</td>\n",
       "      <td>1</td>\n",
       "      <td>273</td>\n",
       "      <td>21.0</td>\n",
       "      <td>391.99</td>\n",
       "      <td>12.715432</td>\n",
       "    </tr>\n",
       "    <tr>\n",
       "      <th>502</th>\n",
       "      <td>0.04527</td>\n",
       "      <td>0.0</td>\n",
       "      <td>11.93</td>\n",
       "      <td>0.0</td>\n",
       "      <td>0.573</td>\n",
       "      <td>6.120</td>\n",
       "      <td>76.700000</td>\n",
       "      <td>2.2875</td>\n",
       "      <td>1</td>\n",
       "      <td>273</td>\n",
       "      <td>21.0</td>\n",
       "      <td>396.90</td>\n",
       "      <td>9.080000</td>\n",
       "    </tr>\n",
       "    <tr>\n",
       "      <th>503</th>\n",
       "      <td>0.06076</td>\n",
       "      <td>0.0</td>\n",
       "      <td>11.93</td>\n",
       "      <td>0.0</td>\n",
       "      <td>0.573</td>\n",
       "      <td>6.976</td>\n",
       "      <td>91.000000</td>\n",
       "      <td>2.1675</td>\n",
       "      <td>1</td>\n",
       "      <td>273</td>\n",
       "      <td>21.0</td>\n",
       "      <td>396.90</td>\n",
       "      <td>5.640000</td>\n",
       "    </tr>\n",
       "    <tr>\n",
       "      <th>504</th>\n",
       "      <td>0.10959</td>\n",
       "      <td>0.0</td>\n",
       "      <td>11.93</td>\n",
       "      <td>0.0</td>\n",
       "      <td>0.573</td>\n",
       "      <td>6.794</td>\n",
       "      <td>89.300000</td>\n",
       "      <td>2.3889</td>\n",
       "      <td>1</td>\n",
       "      <td>273</td>\n",
       "      <td>21.0</td>\n",
       "      <td>393.45</td>\n",
       "      <td>6.480000</td>\n",
       "    </tr>\n",
       "    <tr>\n",
       "      <th>505</th>\n",
       "      <td>0.04741</td>\n",
       "      <td>0.0</td>\n",
       "      <td>11.93</td>\n",
       "      <td>0.0</td>\n",
       "      <td>0.573</td>\n",
       "      <td>6.030</td>\n",
       "      <td>68.518519</td>\n",
       "      <td>2.5050</td>\n",
       "      <td>1</td>\n",
       "      <td>273</td>\n",
       "      <td>21.0</td>\n",
       "      <td>396.90</td>\n",
       "      <td>7.880000</td>\n",
       "    </tr>\n",
       "  </tbody>\n",
       "</table>\n",
       "<p>506 rows × 13 columns</p>\n",
       "</div>"
      ],
      "text/plain": [
       "        CRIM    ZN  INDUS  CHAS    NOX     RM        AGE     DIS  RAD  TAX  \\\n",
       "0    0.00632  18.0   2.31   0.0  0.538  6.575  65.200000  4.0900    1  296   \n",
       "1    0.02731   0.0   7.07   0.0  0.469  6.421  78.900000  4.9671    2  242   \n",
       "2    0.02729   0.0   7.07   0.0  0.469  7.185  61.100000  4.9671    2  242   \n",
       "3    0.03237   0.0   2.18   0.0  0.458  6.998  45.800000  6.0622    3  222   \n",
       "4    0.06905   0.0   2.18   0.0  0.458  7.147  54.200000  6.0622    3  222   \n",
       "..       ...   ...    ...   ...    ...    ...        ...     ...  ...  ...   \n",
       "501  0.06263   0.0  11.93   0.0  0.573  6.593  69.100000  2.4786    1  273   \n",
       "502  0.04527   0.0  11.93   0.0  0.573  6.120  76.700000  2.2875    1  273   \n",
       "503  0.06076   0.0  11.93   0.0  0.573  6.976  91.000000  2.1675    1  273   \n",
       "504  0.10959   0.0  11.93   0.0  0.573  6.794  89.300000  2.3889    1  273   \n",
       "505  0.04741   0.0  11.93   0.0  0.573  6.030  68.518519  2.5050    1  273   \n",
       "\n",
       "     PTRATIO       B      LSTAT  \n",
       "0       15.3  396.90   4.980000  \n",
       "1       17.8  396.90   9.140000  \n",
       "2       17.8  392.83   4.030000  \n",
       "3       18.7  394.63   2.940000  \n",
       "4       18.7  396.90  12.715432  \n",
       "..       ...     ...        ...  \n",
       "501     21.0  391.99  12.715432  \n",
       "502     21.0  396.90   9.080000  \n",
       "503     21.0  396.90   5.640000  \n",
       "504     21.0  393.45   6.480000  \n",
       "505     21.0  396.90   7.880000  \n",
       "\n",
       "[506 rows x 13 columns]"
      ]
     },
     "execution_count": 29,
     "metadata": {},
     "output_type": "execute_result"
    }
   ],
   "source": [
    "X"
   ]
  },
  {
   "cell_type": "code",
   "execution_count": 30,
   "id": "0f1fc45f",
   "metadata": {},
   "outputs": [
    {
     "data": {
      "text/plain": [
       "0      24.0\n",
       "1      21.6\n",
       "2      34.7\n",
       "3      33.4\n",
       "4      36.2\n",
       "       ... \n",
       "501    22.4\n",
       "502    20.6\n",
       "503    23.9\n",
       "504    22.0\n",
       "505    11.9\n",
       "Name: MEDV, Length: 506, dtype: float64"
      ]
     },
     "execution_count": 30,
     "metadata": {},
     "output_type": "execute_result"
    }
   ],
   "source": [
    "y"
   ]
  },
  {
   "cell_type": "code",
   "execution_count": 31,
   "id": "b60cc4ab",
   "metadata": {},
   "outputs": [],
   "source": [
    "#splitting the data into training and testing"
   ]
  },
  {
   "cell_type": "code",
   "execution_count": 32,
   "id": "e3240c95",
   "metadata": {},
   "outputs": [],
   "source": [
    "from sklearn.model_selection import train_test_split\n",
    "X_train,X_test,y_train,y_test=train_test_split(X,y,test_size=0.2,random_state=10)"
   ]
  },
  {
   "cell_type": "code",
   "execution_count": 33,
   "id": "2d22bcda",
   "metadata": {},
   "outputs": [
    {
     "data": {
      "text/html": [
       "<div>\n",
       "<style scoped>\n",
       "    .dataframe tbody tr th:only-of-type {\n",
       "        vertical-align: middle;\n",
       "    }\n",
       "\n",
       "    .dataframe tbody tr th {\n",
       "        vertical-align: top;\n",
       "    }\n",
       "\n",
       "    .dataframe thead th {\n",
       "        text-align: right;\n",
       "    }\n",
       "</style>\n",
       "<table border=\"1\" class=\"dataframe\">\n",
       "  <thead>\n",
       "    <tr style=\"text-align: right;\">\n",
       "      <th></th>\n",
       "      <th>CRIM</th>\n",
       "      <th>ZN</th>\n",
       "      <th>INDUS</th>\n",
       "      <th>CHAS</th>\n",
       "      <th>NOX</th>\n",
       "      <th>RM</th>\n",
       "      <th>AGE</th>\n",
       "      <th>DIS</th>\n",
       "      <th>RAD</th>\n",
       "      <th>TAX</th>\n",
       "      <th>PTRATIO</th>\n",
       "      <th>B</th>\n",
       "      <th>LSTAT</th>\n",
       "    </tr>\n",
       "  </thead>\n",
       "  <tbody>\n",
       "    <tr>\n",
       "      <th>50</th>\n",
       "      <td>0.08873</td>\n",
       "      <td>21.0</td>\n",
       "      <td>5.64</td>\n",
       "      <td>0.000000</td>\n",
       "      <td>0.439</td>\n",
       "      <td>5.963</td>\n",
       "      <td>45.7</td>\n",
       "      <td>6.8147</td>\n",
       "      <td>4</td>\n",
       "      <td>243</td>\n",
       "      <td>16.8</td>\n",
       "      <td>395.56</td>\n",
       "      <td>13.45</td>\n",
       "    </tr>\n",
       "    <tr>\n",
       "      <th>367</th>\n",
       "      <td>13.52220</td>\n",
       "      <td>0.0</td>\n",
       "      <td>18.10</td>\n",
       "      <td>0.069959</td>\n",
       "      <td>0.631</td>\n",
       "      <td>3.863</td>\n",
       "      <td>100.0</td>\n",
       "      <td>1.5106</td>\n",
       "      <td>24</td>\n",
       "      <td>666</td>\n",
       "      <td>20.2</td>\n",
       "      <td>131.42</td>\n",
       "      <td>13.33</td>\n",
       "    </tr>\n",
       "    <tr>\n",
       "      <th>34</th>\n",
       "      <td>1.61282</td>\n",
       "      <td>0.0</td>\n",
       "      <td>8.14</td>\n",
       "      <td>0.000000</td>\n",
       "      <td>0.538</td>\n",
       "      <td>6.096</td>\n",
       "      <td>96.9</td>\n",
       "      <td>3.7598</td>\n",
       "      <td>4</td>\n",
       "      <td>307</td>\n",
       "      <td>21.0</td>\n",
       "      <td>248.31</td>\n",
       "      <td>20.34</td>\n",
       "    </tr>\n",
       "    <tr>\n",
       "      <th>78</th>\n",
       "      <td>0.05646</td>\n",
       "      <td>0.0</td>\n",
       "      <td>12.83</td>\n",
       "      <td>0.000000</td>\n",
       "      <td>0.437</td>\n",
       "      <td>6.232</td>\n",
       "      <td>53.7</td>\n",
       "      <td>5.0141</td>\n",
       "      <td>5</td>\n",
       "      <td>398</td>\n",
       "      <td>18.7</td>\n",
       "      <td>386.40</td>\n",
       "      <td>12.34</td>\n",
       "    </tr>\n",
       "    <tr>\n",
       "      <th>172</th>\n",
       "      <td>0.13914</td>\n",
       "      <td>0.0</td>\n",
       "      <td>4.05</td>\n",
       "      <td>0.000000</td>\n",
       "      <td>0.510</td>\n",
       "      <td>5.572</td>\n",
       "      <td>88.5</td>\n",
       "      <td>2.5961</td>\n",
       "      <td>5</td>\n",
       "      <td>296</td>\n",
       "      <td>16.6</td>\n",
       "      <td>396.90</td>\n",
       "      <td>14.69</td>\n",
       "    </tr>\n",
       "    <tr>\n",
       "      <th>...</th>\n",
       "      <td>...</td>\n",
       "      <td>...</td>\n",
       "      <td>...</td>\n",
       "      <td>...</td>\n",
       "      <td>...</td>\n",
       "      <td>...</td>\n",
       "      <td>...</td>\n",
       "      <td>...</td>\n",
       "      <td>...</td>\n",
       "      <td>...</td>\n",
       "      <td>...</td>\n",
       "      <td>...</td>\n",
       "      <td>...</td>\n",
       "    </tr>\n",
       "    <tr>\n",
       "      <th>320</th>\n",
       "      <td>0.16760</td>\n",
       "      <td>0.0</td>\n",
       "      <td>7.38</td>\n",
       "      <td>0.000000</td>\n",
       "      <td>0.493</td>\n",
       "      <td>6.426</td>\n",
       "      <td>52.3</td>\n",
       "      <td>4.5404</td>\n",
       "      <td>5</td>\n",
       "      <td>287</td>\n",
       "      <td>19.6</td>\n",
       "      <td>396.90</td>\n",
       "      <td>7.20</td>\n",
       "    </tr>\n",
       "    <tr>\n",
       "      <th>15</th>\n",
       "      <td>0.62739</td>\n",
       "      <td>0.0</td>\n",
       "      <td>8.14</td>\n",
       "      <td>0.000000</td>\n",
       "      <td>0.538</td>\n",
       "      <td>5.834</td>\n",
       "      <td>56.5</td>\n",
       "      <td>4.4986</td>\n",
       "      <td>4</td>\n",
       "      <td>307</td>\n",
       "      <td>21.0</td>\n",
       "      <td>395.62</td>\n",
       "      <td>8.47</td>\n",
       "    </tr>\n",
       "    <tr>\n",
       "      <th>484</th>\n",
       "      <td>2.37857</td>\n",
       "      <td>0.0</td>\n",
       "      <td>18.10</td>\n",
       "      <td>0.000000</td>\n",
       "      <td>0.583</td>\n",
       "      <td>5.871</td>\n",
       "      <td>41.9</td>\n",
       "      <td>3.7240</td>\n",
       "      <td>24</td>\n",
       "      <td>666</td>\n",
       "      <td>20.2</td>\n",
       "      <td>370.73</td>\n",
       "      <td>13.34</td>\n",
       "    </tr>\n",
       "    <tr>\n",
       "      <th>125</th>\n",
       "      <td>0.16902</td>\n",
       "      <td>0.0</td>\n",
       "      <td>25.65</td>\n",
       "      <td>0.000000</td>\n",
       "      <td>0.581</td>\n",
       "      <td>5.986</td>\n",
       "      <td>88.4</td>\n",
       "      <td>1.9929</td>\n",
       "      <td>2</td>\n",
       "      <td>188</td>\n",
       "      <td>19.1</td>\n",
       "      <td>385.02</td>\n",
       "      <td>14.81</td>\n",
       "    </tr>\n",
       "    <tr>\n",
       "      <th>265</th>\n",
       "      <td>0.76162</td>\n",
       "      <td>20.0</td>\n",
       "      <td>3.97</td>\n",
       "      <td>0.000000</td>\n",
       "      <td>0.647</td>\n",
       "      <td>5.560</td>\n",
       "      <td>62.8</td>\n",
       "      <td>1.9865</td>\n",
       "      <td>5</td>\n",
       "      <td>264</td>\n",
       "      <td>13.0</td>\n",
       "      <td>392.40</td>\n",
       "      <td>10.45</td>\n",
       "    </tr>\n",
       "  </tbody>\n",
       "</table>\n",
       "<p>404 rows × 13 columns</p>\n",
       "</div>"
      ],
      "text/plain": [
       "         CRIM    ZN  INDUS      CHAS    NOX     RM    AGE     DIS  RAD  TAX  \\\n",
       "50    0.08873  21.0   5.64  0.000000  0.439  5.963   45.7  6.8147    4  243   \n",
       "367  13.52220   0.0  18.10  0.069959  0.631  3.863  100.0  1.5106   24  666   \n",
       "34    1.61282   0.0   8.14  0.000000  0.538  6.096   96.9  3.7598    4  307   \n",
       "78    0.05646   0.0  12.83  0.000000  0.437  6.232   53.7  5.0141    5  398   \n",
       "172   0.13914   0.0   4.05  0.000000  0.510  5.572   88.5  2.5961    5  296   \n",
       "..        ...   ...    ...       ...    ...    ...    ...     ...  ...  ...   \n",
       "320   0.16760   0.0   7.38  0.000000  0.493  6.426   52.3  4.5404    5  287   \n",
       "15    0.62739   0.0   8.14  0.000000  0.538  5.834   56.5  4.4986    4  307   \n",
       "484   2.37857   0.0  18.10  0.000000  0.583  5.871   41.9  3.7240   24  666   \n",
       "125   0.16902   0.0  25.65  0.000000  0.581  5.986   88.4  1.9929    2  188   \n",
       "265   0.76162  20.0   3.97  0.000000  0.647  5.560   62.8  1.9865    5  264   \n",
       "\n",
       "     PTRATIO       B  LSTAT  \n",
       "50      16.8  395.56  13.45  \n",
       "367     20.2  131.42  13.33  \n",
       "34      21.0  248.31  20.34  \n",
       "78      18.7  386.40  12.34  \n",
       "172     16.6  396.90  14.69  \n",
       "..       ...     ...    ...  \n",
       "320     19.6  396.90   7.20  \n",
       "15      21.0  395.62   8.47  \n",
       "484     20.2  370.73  13.34  \n",
       "125     19.1  385.02  14.81  \n",
       "265     13.0  392.40  10.45  \n",
       "\n",
       "[404 rows x 13 columns]"
      ]
     },
     "execution_count": 33,
     "metadata": {},
     "output_type": "execute_result"
    }
   ],
   "source": [
    "X_train"
   ]
  },
  {
   "cell_type": "code",
   "execution_count": 34,
   "id": "a4d2c09e",
   "metadata": {},
   "outputs": [
    {
     "data": {
      "text/html": [
       "<div>\n",
       "<style scoped>\n",
       "    .dataframe tbody tr th:only-of-type {\n",
       "        vertical-align: middle;\n",
       "    }\n",
       "\n",
       "    .dataframe tbody tr th {\n",
       "        vertical-align: top;\n",
       "    }\n",
       "\n",
       "    .dataframe thead th {\n",
       "        text-align: right;\n",
       "    }\n",
       "</style>\n",
       "<table border=\"1\" class=\"dataframe\">\n",
       "  <thead>\n",
       "    <tr style=\"text-align: right;\">\n",
       "      <th></th>\n",
       "      <th>CRIM</th>\n",
       "      <th>ZN</th>\n",
       "      <th>INDUS</th>\n",
       "      <th>CHAS</th>\n",
       "      <th>NOX</th>\n",
       "      <th>RM</th>\n",
       "      <th>AGE</th>\n",
       "      <th>DIS</th>\n",
       "      <th>RAD</th>\n",
       "      <th>TAX</th>\n",
       "      <th>PTRATIO</th>\n",
       "      <th>B</th>\n",
       "      <th>LSTAT</th>\n",
       "    </tr>\n",
       "  </thead>\n",
       "  <tbody>\n",
       "    <tr>\n",
       "      <th>305</th>\n",
       "      <td>0.05479</td>\n",
       "      <td>33.0</td>\n",
       "      <td>11.083992</td>\n",
       "      <td>0.0</td>\n",
       "      <td>0.472</td>\n",
       "      <td>6.616</td>\n",
       "      <td>58.100000</td>\n",
       "      <td>3.3700</td>\n",
       "      <td>7</td>\n",
       "      <td>222</td>\n",
       "      <td>18.4</td>\n",
       "      <td>393.36</td>\n",
       "      <td>8.930000</td>\n",
       "    </tr>\n",
       "    <tr>\n",
       "      <th>193</th>\n",
       "      <td>0.02187</td>\n",
       "      <td>60.0</td>\n",
       "      <td>2.930000</td>\n",
       "      <td>0.0</td>\n",
       "      <td>0.401</td>\n",
       "      <td>6.800</td>\n",
       "      <td>68.518519</td>\n",
       "      <td>6.2196</td>\n",
       "      <td>1</td>\n",
       "      <td>265</td>\n",
       "      <td>15.6</td>\n",
       "      <td>393.37</td>\n",
       "      <td>5.030000</td>\n",
       "    </tr>\n",
       "    <tr>\n",
       "      <th>65</th>\n",
       "      <td>0.03584</td>\n",
       "      <td>80.0</td>\n",
       "      <td>3.370000</td>\n",
       "      <td>0.0</td>\n",
       "      <td>0.398</td>\n",
       "      <td>6.290</td>\n",
       "      <td>17.800000</td>\n",
       "      <td>6.6115</td>\n",
       "      <td>4</td>\n",
       "      <td>337</td>\n",
       "      <td>16.1</td>\n",
       "      <td>396.90</td>\n",
       "      <td>4.670000</td>\n",
       "    </tr>\n",
       "    <tr>\n",
       "      <th>349</th>\n",
       "      <td>0.02899</td>\n",
       "      <td>40.0</td>\n",
       "      <td>1.250000</td>\n",
       "      <td>0.0</td>\n",
       "      <td>0.429</td>\n",
       "      <td>6.939</td>\n",
       "      <td>34.500000</td>\n",
       "      <td>8.7921</td>\n",
       "      <td>1</td>\n",
       "      <td>335</td>\n",
       "      <td>19.7</td>\n",
       "      <td>389.85</td>\n",
       "      <td>12.715432</td>\n",
       "    </tr>\n",
       "    <tr>\n",
       "      <th>151</th>\n",
       "      <td>1.49632</td>\n",
       "      <td>0.0</td>\n",
       "      <td>19.580000</td>\n",
       "      <td>0.0</td>\n",
       "      <td>0.871</td>\n",
       "      <td>5.404</td>\n",
       "      <td>100.000000</td>\n",
       "      <td>1.5916</td>\n",
       "      <td>5</td>\n",
       "      <td>403</td>\n",
       "      <td>14.7</td>\n",
       "      <td>341.60</td>\n",
       "      <td>13.280000</td>\n",
       "    </tr>\n",
       "    <tr>\n",
       "      <th>...</th>\n",
       "      <td>...</td>\n",
       "      <td>...</td>\n",
       "      <td>...</td>\n",
       "      <td>...</td>\n",
       "      <td>...</td>\n",
       "      <td>...</td>\n",
       "      <td>...</td>\n",
       "      <td>...</td>\n",
       "      <td>...</td>\n",
       "      <td>...</td>\n",
       "      <td>...</td>\n",
       "      <td>...</td>\n",
       "      <td>...</td>\n",
       "    </tr>\n",
       "    <tr>\n",
       "      <th>208</th>\n",
       "      <td>0.13587</td>\n",
       "      <td>0.0</td>\n",
       "      <td>10.590000</td>\n",
       "      <td>1.0</td>\n",
       "      <td>0.489</td>\n",
       "      <td>6.064</td>\n",
       "      <td>59.100000</td>\n",
       "      <td>4.2392</td>\n",
       "      <td>4</td>\n",
       "      <td>277</td>\n",
       "      <td>18.6</td>\n",
       "      <td>381.32</td>\n",
       "      <td>14.660000</td>\n",
       "    </tr>\n",
       "    <tr>\n",
       "      <th>174</th>\n",
       "      <td>0.08447</td>\n",
       "      <td>0.0</td>\n",
       "      <td>4.050000</td>\n",
       "      <td>0.0</td>\n",
       "      <td>0.510</td>\n",
       "      <td>5.859</td>\n",
       "      <td>68.700000</td>\n",
       "      <td>2.7019</td>\n",
       "      <td>5</td>\n",
       "      <td>296</td>\n",
       "      <td>16.6</td>\n",
       "      <td>393.23</td>\n",
       "      <td>9.640000</td>\n",
       "    </tr>\n",
       "    <tr>\n",
       "      <th>108</th>\n",
       "      <td>0.12802</td>\n",
       "      <td>0.0</td>\n",
       "      <td>8.560000</td>\n",
       "      <td>0.0</td>\n",
       "      <td>0.520</td>\n",
       "      <td>6.474</td>\n",
       "      <td>97.100000</td>\n",
       "      <td>2.4329</td>\n",
       "      <td>5</td>\n",
       "      <td>384</td>\n",
       "      <td>20.9</td>\n",
       "      <td>395.24</td>\n",
       "      <td>12.270000</td>\n",
       "    </tr>\n",
       "    <tr>\n",
       "      <th>242</th>\n",
       "      <td>0.10290</td>\n",
       "      <td>30.0</td>\n",
       "      <td>4.930000</td>\n",
       "      <td>0.0</td>\n",
       "      <td>0.428</td>\n",
       "      <td>6.358</td>\n",
       "      <td>52.900000</td>\n",
       "      <td>7.0355</td>\n",
       "      <td>6</td>\n",
       "      <td>300</td>\n",
       "      <td>16.6</td>\n",
       "      <td>372.75</td>\n",
       "      <td>11.220000</td>\n",
       "    </tr>\n",
       "    <tr>\n",
       "      <th>102</th>\n",
       "      <td>0.22876</td>\n",
       "      <td>0.0</td>\n",
       "      <td>8.560000</td>\n",
       "      <td>0.0</td>\n",
       "      <td>0.520</td>\n",
       "      <td>6.405</td>\n",
       "      <td>85.400000</td>\n",
       "      <td>2.7147</td>\n",
       "      <td>5</td>\n",
       "      <td>384</td>\n",
       "      <td>20.9</td>\n",
       "      <td>70.80</td>\n",
       "      <td>10.630000</td>\n",
       "    </tr>\n",
       "  </tbody>\n",
       "</table>\n",
       "<p>102 rows × 13 columns</p>\n",
       "</div>"
      ],
      "text/plain": [
       "        CRIM    ZN      INDUS  CHAS    NOX     RM         AGE     DIS  RAD  \\\n",
       "305  0.05479  33.0  11.083992   0.0  0.472  6.616   58.100000  3.3700    7   \n",
       "193  0.02187  60.0   2.930000   0.0  0.401  6.800   68.518519  6.2196    1   \n",
       "65   0.03584  80.0   3.370000   0.0  0.398  6.290   17.800000  6.6115    4   \n",
       "349  0.02899  40.0   1.250000   0.0  0.429  6.939   34.500000  8.7921    1   \n",
       "151  1.49632   0.0  19.580000   0.0  0.871  5.404  100.000000  1.5916    5   \n",
       "..       ...   ...        ...   ...    ...    ...         ...     ...  ...   \n",
       "208  0.13587   0.0  10.590000   1.0  0.489  6.064   59.100000  4.2392    4   \n",
       "174  0.08447   0.0   4.050000   0.0  0.510  5.859   68.700000  2.7019    5   \n",
       "108  0.12802   0.0   8.560000   0.0  0.520  6.474   97.100000  2.4329    5   \n",
       "242  0.10290  30.0   4.930000   0.0  0.428  6.358   52.900000  7.0355    6   \n",
       "102  0.22876   0.0   8.560000   0.0  0.520  6.405   85.400000  2.7147    5   \n",
       "\n",
       "     TAX  PTRATIO       B      LSTAT  \n",
       "305  222     18.4  393.36   8.930000  \n",
       "193  265     15.6  393.37   5.030000  \n",
       "65   337     16.1  396.90   4.670000  \n",
       "349  335     19.7  389.85  12.715432  \n",
       "151  403     14.7  341.60  13.280000  \n",
       "..   ...      ...     ...        ...  \n",
       "208  277     18.6  381.32  14.660000  \n",
       "174  296     16.6  393.23   9.640000  \n",
       "108  384     20.9  395.24  12.270000  \n",
       "242  300     16.6  372.75  11.220000  \n",
       "102  384     20.9   70.80  10.630000  \n",
       "\n",
       "[102 rows x 13 columns]"
      ]
     },
     "execution_count": 34,
     "metadata": {},
     "output_type": "execute_result"
    }
   ],
   "source": [
    "X_test"
   ]
  },
  {
   "cell_type": "code",
   "execution_count": 35,
   "id": "c96dc037",
   "metadata": {},
   "outputs": [
    {
     "data": {
      "text/plain": [
       "50     19.7\n",
       "367    23.1\n",
       "34     13.5\n",
       "78     21.2\n",
       "172    23.1\n",
       "       ... \n",
       "320    23.8\n",
       "15     19.9\n",
       "484    20.6\n",
       "125    21.4\n",
       "265    22.8\n",
       "Name: MEDV, Length: 404, dtype: float64"
      ]
     },
     "execution_count": 35,
     "metadata": {},
     "output_type": "execute_result"
    }
   ],
   "source": [
    "y_train"
   ]
  },
  {
   "cell_type": "code",
   "execution_count": 36,
   "id": "2b86d50e",
   "metadata": {},
   "outputs": [
    {
     "data": {
      "text/plain": [
       "305    28.4\n",
       "193    31.1\n",
       "65     23.5\n",
       "349    26.6\n",
       "151    19.6\n",
       "       ... \n",
       "208    24.4\n",
       "174    22.6\n",
       "108    19.8\n",
       "242    22.2\n",
       "102    18.6\n",
       "Name: MEDV, Length: 102, dtype: float64"
      ]
     },
     "execution_count": 36,
     "metadata": {},
     "output_type": "execute_result"
    }
   ],
   "source": [
    "y_test"
   ]
  },
  {
   "cell_type": "code",
   "execution_count": 37,
   "id": "05e40c2e",
   "metadata": {},
   "outputs": [
    {
     "name": "stdout",
     "output_type": "stream",
     "text": [
      "(404, 13) (102, 13)\n"
     ]
    }
   ],
   "source": [
    "print(X_train.shape,X_test.shape)"
   ]
  },
  {
   "cell_type": "code",
   "execution_count": 39,
   "id": "e0436f88",
   "metadata": {},
   "outputs": [],
   "source": [
    "#building the model(model1)\n",
    "#LINEAR REGRESSION"
   ]
  },
  {
   "cell_type": "code",
   "execution_count": 40,
   "id": "42772363",
   "metadata": {},
   "outputs": [
    {
     "data": {
      "text/plain": [
       "LinearRegression()"
      ]
     },
     "execution_count": 40,
     "metadata": {},
     "output_type": "execute_result"
    }
   ],
   "source": [
    "from sklearn.linear_model import LinearRegression\n",
    "model=LinearRegression()\n",
    "model.fit(X_train,y_train)"
   ]
  },
  {
   "cell_type": "code",
   "execution_count": 41,
   "id": "59c73b6c",
   "metadata": {},
   "outputs": [],
   "source": [
    "y1_predict=model.predict(X_test)\n",
    "z1_predict=model.predict(X_train)"
   ]
  },
  {
   "cell_type": "code",
   "execution_count": 42,
   "id": "1e673a61",
   "metadata": {},
   "outputs": [
    {
     "data": {
      "text/plain": [
       "array([30.69285987, 32.45947718, 30.97629798, 18.98774781, 18.4432069 ,\n",
       "       16.315165  , 35.26140588, 14.35469108, 25.68114839, 31.50746566,\n",
       "       21.47921243, 31.40666025, 28.15509861, 33.81530202, 29.67339235,\n",
       "       39.62715028, 24.50832188, 23.4828441 , 25.75350025, 21.57218516,\n",
       "       32.71829243, 17.45942292, 25.38769457, 25.13438538, 32.16149268,\n",
       "       20.68452049, 19.26932543, 17.83272103, 38.92588115,  1.14855581,\n",
       "       32.39121127, 31.94371004, 26.04869939, 24.28985924, 20.0581588 ,\n",
       "       19.69720305,  3.93911426, 34.89032404, 27.0185702 , 27.78054514,\n",
       "       29.5694474 , 29.64196072, 17.90070223, 31.67173101, 17.65488351,\n",
       "       28.38766361, 18.97254501, 21.54270212, 37.7894384 , 16.43286101,\n",
       "       24.07209793, 19.05233392, 24.55684773, 34.45623573, 26.43774685,\n",
       "       34.47191796, 21.2895608 , 19.779508  , 19.04276528, 24.93870103,\n",
       "       19.40733916, 23.15613043, 39.23022851, 42.17749081, 30.56595769,\n",
       "       16.4754483 , 24.10781102,  3.51895777, 30.92452625, 28.69790491,\n",
       "       18.00715244, 27.01625405, 19.23965348, 25.68202259, 24.98512639,\n",
       "       10.66429365, 38.49182163,  8.04944542, 18.53439565, 30.513903  ,\n",
       "       22.96652122, 15.98143779, 20.3126094 , 27.27398966, 30.79394337,\n",
       "       27.87089763, 26.09185156, 31.68890756, 22.35425175, -5.1839071 ,\n",
       "       21.75344851, 19.98280724, 24.92385599, 23.65998819, 19.16444893,\n",
       "       18.54378391, 27.32691387, 22.86335261, 26.93491495, 23.27127481,\n",
       "       23.96843284, 19.86609221])"
      ]
     },
     "execution_count": 42,
     "metadata": {},
     "output_type": "execute_result"
    }
   ],
   "source": [
    "y1_predict"
   ]
  },
  {
   "cell_type": "code",
   "execution_count": 43,
   "id": "217334c0",
   "metadata": {},
   "outputs": [
    {
     "data": {
      "text/plain": [
       "array([21.18811035, 11.67942012, 14.06223428, 20.77720628, 23.592388  ,\n",
       "       13.6174036 , 28.65191684, 16.12856797, 15.05191942, 21.90397046,\n",
       "       26.4439086 , 29.06568731, 22.69677385, 17.84738627, 16.86728008,\n",
       "       17.78812791, 16.12847696, 20.97873436, 33.78865246, 30.10458805,\n",
       "       21.23666568, 14.13382625, 16.25225987, 28.7197141 , 13.4176699 ,\n",
       "       22.6707503 , 24.2363089 , 31.94551847, 33.15602342,  6.46651569,\n",
       "       35.72724155, 24.44240634, 20.73662423, 24.49539766, 28.01966957,\n",
       "       34.92159404,  6.37179779,  3.86083927, 28.49152338, 17.55260711,\n",
       "       17.77631831, 17.93856811,  6.1717467 , 13.49567559, 36.71669812,\n",
       "       25.89681655, 23.52463969, 26.42022914, 13.17306171, 20.55217177,\n",
       "       35.19824316, 19.97777275, 11.36683417, 16.76576859, 24.76829665,\n",
       "       10.232796  , 14.62731852, 25.94778241, 11.1907862 , 12.05680109,\n",
       "       18.94265116, 18.81964933, 32.55972177, 22.5877648 , 25.45447346,\n",
       "        9.19130229, 22.33085878,  6.87077779, 27.02829826, 20.96293263,\n",
       "       23.87235754, 24.42620748, 27.24683769, 15.18446832, 11.85308678,\n",
       "       23.18130991, 20.42836031, 18.68754381, 22.25113119, 21.15303273,\n",
       "       23.16183128, 19.46932082,  8.20869245, 32.66904462, 22.24708884,\n",
       "       17.28774776, 23.48265747, 23.56340942, 28.87869679, 21.49814816,\n",
       "       30.37269491, 34.73869494, 21.03711676, 31.44208885, 16.34534773,\n",
       "       22.11726886, 22.05901519, 30.8374242 , 27.57612438, 33.61544421,\n",
       "       23.83298403, 21.6428134 , 20.51218349, 22.86278208, 33.85175735,\n",
       "       27.49527941, 30.85812717, 18.05077614, 21.19836382, 30.88304012,\n",
       "       29.78605762, 35.58044435, 24.08052444, 17.5772005 , 22.06711165,\n",
       "       29.98957113, 21.61572145, 22.49673396, 14.12927794, 15.49181249,\n",
       "       13.71372357, 19.69796307, 18.46163304, 27.04386143, 13.41116606,\n",
       "       14.11554696, 33.521648  , 20.71964635, 24.6122844 , 35.39102213,\n",
       "       16.35505158, 23.40566429, 18.98136574, 19.67991168, 40.56512856,\n",
       "       19.41811642, 23.8134617 , 22.19661608,  6.35293354, 18.58528579,\n",
       "       17.65812682, 21.19942924, 23.59557177, 26.86730911, 22.50880741,\n",
       "       13.76610735, 21.31461856, 30.45559669, 21.94991764, 19.25593583,\n",
       "       22.67180162, 22.54913849, 20.98742231, 17.38229114, 17.76445423,\n",
       "       20.95266972, 18.13623199, 13.62241199, 20.04854652, 36.95837925,\n",
       "       10.47705689, 34.34735109, 34.43753824, 20.15275084, 25.50464251,\n",
       "       10.18973336, 11.739562  , 22.82843155, 15.24844117, 42.83039209,\n",
       "        5.55580432, 18.43313978, 24.19754836, 15.4906303 , 17.24010285,\n",
       "       14.50247931, 15.98131586, 11.30644333,  8.23559316, 24.94537756,\n",
       "       27.15582184, 11.95764525,  5.90571899, 24.02684011, 22.57343292,\n",
       "       18.76636375, 30.35387248, 20.92218074, 31.50483683, 17.23051185,\n",
       "       12.15847858, 17.41314405, 25.50958071, 33.21248467, 23.11953385,\n",
       "       16.41557775, 13.2265998 , 35.92691853, 22.31323186, 20.2618988 ,\n",
       "       21.71801078, 38.51166643, 29.36437715, 14.72580272,  8.95834511,\n",
       "       19.93827215, 15.01981548, 36.20073552, 19.27515551,  1.22916196,\n",
       "       18.60010848, 35.41252607, 34.28431779, 18.84730354, 35.03168648,\n",
       "        8.98884077, 13.43648449, 34.06975557, 22.95899574, 20.91517233,\n",
       "       32.15532118, 20.01237769, 24.41368841, 13.80046493, 25.52630091,\n",
       "       16.31011604, 20.96887521, 23.49692483, 17.03551859, 19.20172847,\n",
       "       12.1555361 , 22.42163599, 21.41312502, 24.76064666, 15.99688616,\n",
       "       11.98789027, 12.37856805, 25.29237413, 15.7907034 , 30.43594908,\n",
       "       37.31871101, 23.5060168 , 19.1680334 , 39.59726599, 20.22445768,\n",
       "       16.45109832,  9.18407143, 15.58778593, 15.54611002, 12.90688444,\n",
       "       26.34368196, 28.69670394, 21.31464447, 23.14043933, 25.1141371 ,\n",
       "       16.40542085, 24.84364137, 16.93982514, 17.17772409, 22.34975575,\n",
       "       25.18537025, 14.52667915,  8.91668945, 16.92632243, 20.0409563 ,\n",
       "        6.83845033, 27.41837272, 27.21655185, 36.02657139, 19.83565958,\n",
       "       19.60233073, 14.10480676, 16.22627079, 23.41958813, 31.31571517,\n",
       "       34.43029101, 16.54146521, 17.57255304, 23.63285584, 20.13185822,\n",
       "       16.81940671, 22.56520814, 21.99527981, 28.61088702, 27.51209403,\n",
       "       28.47881641, 14.60183915, 18.85983867, 24.28996513, 30.10110357,\n",
       "       22.07985289, 12.00845109, 25.73195192, 25.26141712, 14.93762675,\n",
       "       32.11771569, 24.76413254, 36.91258578, 13.25637327, 20.19338187,\n",
       "       25.06854115, 18.7897709 , 32.50384782, 38.56519613, 21.14028192,\n",
       "       21.4437885 , 20.36632399, 30.97933269, 27.74599188, 20.15283338,\n",
       "       13.28394284, 12.02879213, 18.08361195, 23.89433579, 22.73710255,\n",
       "       34.10357502, 33.92466559, 35.64683861, 35.69635286, 18.27661858,\n",
       "       13.52579638,  7.84229322, 23.70917328, 17.32122891, 22.69902561,\n",
       "       17.84213496, 24.09219065, 26.67268346, 31.7020771 , 41.77546649,\n",
       "       17.18404645, 17.72729814, 11.15842456, 10.98977963, 26.30566652,\n",
       "       21.30340743, 21.19167685, 18.43252647, 22.9800503 , 20.76265929,\n",
       "       25.65182643, 25.28712998, 21.76540441, 20.66424509, 21.29498845,\n",
       "       26.80619394, 19.75891987,  9.11851659, 19.77537469, 28.66418754,\n",
       "       16.81708177, 43.81376758, 32.20985419, 25.7170198 , 18.79058281,\n",
       "       24.99234611, 13.43998317, 30.76281982, 28.32254682, 21.08612157,\n",
       "       22.23697673, 28.14957486,  4.38474527, 13.59207006, 20.01309335,\n",
       "       27.08085436, 20.25019779, 22.06539093, 22.96588504, 27.77446114,\n",
       "       32.85784605, 28.91000338, 19.58831225, 21.62685307, 31.28477402,\n",
       "       15.09829589, 24.35540845, 19.59637239, 20.13999696, 28.50274107,\n",
       "       17.07995886, 20.00256271, 28.19790957, 19.20325552, 21.05486224,\n",
       "       24.78515591, 19.25460976, 34.76241191,  3.70993147, 37.49294457,\n",
       "       20.59112134, 11.37094919, 20.98570301, 11.25715993, 23.35242644,\n",
       "       24.1677724 , 13.30362625, 16.23554721, 32.26742399, 24.96126674,\n",
       "       20.03662086, 19.02793238, 21.5543705 , 28.77247937])"
      ]
     },
     "execution_count": 43,
     "metadata": {},
     "output_type": "execute_result"
    }
   ],
   "source": [
    "z1_predict"
   ]
  },
  {
   "cell_type": "code",
   "execution_count": 44,
   "id": "f1b9ac0f",
   "metadata": {},
   "outputs": [],
   "source": [
    "#data evaluation"
   ]
  },
  {
   "cell_type": "code",
   "execution_count": null,
   "id": "3af1e90b",
   "metadata": {},
   "outputs": [],
   "source": [
    "#data evaluation for testing data"
   ]
  },
  {
   "cell_type": "code",
   "execution_count": 45,
   "id": "ee940083",
   "metadata": {},
   "outputs": [],
   "source": [
    "#finding r2_score"
   ]
  },
  {
   "cell_type": "code",
   "execution_count": 46,
   "id": "eaa7c702",
   "metadata": {},
   "outputs": [],
   "source": [
    "from sklearn.metrics import r2_score\n",
    "score2=r2_score(y_test,y1_predict)"
   ]
  },
  {
   "cell_type": "code",
   "execution_count": 47,
   "id": "2e21bc03",
   "metadata": {},
   "outputs": [
    {
     "data": {
      "text/plain": [
       "0.6482067942752978"
      ]
     },
     "execution_count": 47,
     "metadata": {},
     "output_type": "execute_result"
    }
   ],
   "source": [
    "score2"
   ]
  },
  {
   "cell_type": "code",
   "execution_count": 48,
   "id": "86799074",
   "metadata": {},
   "outputs": [],
   "source": [
    "from sklearn.metrics import mean_absolute_percentage_error\n",
    "mean_per_score2=mean_absolute_percentage_error(y_test,y1_predict)"
   ]
  },
  {
   "cell_type": "code",
   "execution_count": 49,
   "id": "2ac5c325",
   "metadata": {},
   "outputs": [
    {
     "data": {
      "text/plain": [
       "0.18514839440573405"
      ]
     },
     "execution_count": 49,
     "metadata": {},
     "output_type": "execute_result"
    }
   ],
   "source": [
    "mean_per_score2"
   ]
  },
  {
   "cell_type": "code",
   "execution_count": 72,
   "id": "5e158f0d",
   "metadata": {},
   "outputs": [
    {
     "data": {
      "text/plain": [
       "4.276549295044264"
      ]
     },
     "execution_count": 72,
     "metadata": {},
     "output_type": "execute_result"
    }
   ],
   "source": [
    "from sklearn.metrics import mean_absolute_error\n",
    "mean_ab_score2=mean_absolute_error(y_test,y1_predict)\n",
    "mean_ab_score2\n"
   ]
  },
  {
   "cell_type": "code",
   "execution_count": 50,
   "id": "8581f294",
   "metadata": {},
   "outputs": [],
   "source": [
    "from sklearn.metrics import mean_squared_error\n",
    "mean_sq_score2=mean_squared_error(y_test,y1_predict)"
   ]
  },
  {
   "cell_type": "code",
   "execution_count": 51,
   "id": "ab6797d8",
   "metadata": {},
   "outputs": [
    {
     "data": {
      "text/plain": [
       "36.79079483122533"
      ]
     },
     "execution_count": 51,
     "metadata": {},
     "output_type": "execute_result"
    }
   ],
   "source": [
    "mean_sq_score2"
   ]
  },
  {
   "cell_type": "code",
   "execution_count": 52,
   "id": "8218da50",
   "metadata": {},
   "outputs": [],
   "source": [
    "from math import sqrt\n",
    "RMSE2=sqrt(mean_sq_score2)"
   ]
  },
  {
   "cell_type": "code",
   "execution_count": 53,
   "id": "a9fe8b01",
   "metadata": {},
   "outputs": [
    {
     "data": {
      "text/plain": [
       "6.065541594221024"
      ]
     },
     "execution_count": 53,
     "metadata": {},
     "output_type": "execute_result"
    }
   ],
   "source": [
    "RMSE2"
   ]
  },
  {
   "cell_type": "code",
   "execution_count": 54,
   "id": "21324683",
   "metadata": {},
   "outputs": [],
   "source": [
    "#data evaluation for train value"
   ]
  },
  {
   "cell_type": "code",
   "execution_count": 55,
   "id": "1ccfb94e",
   "metadata": {},
   "outputs": [],
   "source": [
    "from sklearn.metrics import r2_score\n",
    "score1=r2_score(y_train,z1_predict)"
   ]
  },
  {
   "cell_type": "code",
   "execution_count": 56,
   "id": "cadced3c",
   "metadata": {},
   "outputs": [
    {
     "data": {
      "text/plain": [
       "0.7431820438587626"
      ]
     },
     "execution_count": 56,
     "metadata": {},
     "output_type": "execute_result"
    }
   ],
   "source": [
    "score1"
   ]
  },
  {
   "cell_type": "code",
   "execution_count": 57,
   "id": "275e65ea",
   "metadata": {},
   "outputs": [],
   "source": [
    "from sklearn.metrics import mean_absolute_percentage_error\n",
    "mean_per_score1=mean_absolute_percentage_error(y_train,z1_predict)"
   ]
  },
  {
   "cell_type": "code",
   "execution_count": 58,
   "id": "b40396d9",
   "metadata": {},
   "outputs": [
    {
     "data": {
      "text/plain": [
       "0.15929816676330513"
      ]
     },
     "execution_count": 58,
     "metadata": {},
     "output_type": "execute_result"
    }
   ],
   "source": [
    "mean_per_score1"
   ]
  },
  {
   "cell_type": "code",
   "execution_count": 69,
   "id": "a4eb8a65",
   "metadata": {},
   "outputs": [
    {
     "data": {
      "text/plain": [
       "3.1039774059275094"
      ]
     },
     "execution_count": 69,
     "metadata": {},
     "output_type": "execute_result"
    }
   ],
   "source": [
    "from sklearn.metrics import mean_absolute_error\n",
    "mean_ab_score1=mean_absolute_error(y_train,z1_predict)\n",
    "mean_ab_score1\n"
   ]
  },
  {
   "cell_type": "code",
   "execution_count": 70,
   "id": "45963175",
   "metadata": {},
   "outputs": [],
   "source": [
    "from sklearn.metrics import mean_squared_error\n",
    "mean_sq_score1=mean_squared_error(y_train,z1_predict)\n"
   ]
  },
  {
   "cell_type": "code",
   "execution_count": 71,
   "id": "618f3a77",
   "metadata": {
    "scrolled": true
   },
   "outputs": [
    {
     "data": {
      "text/plain": [
       "19.764927973939873"
      ]
     },
     "execution_count": 71,
     "metadata": {},
     "output_type": "execute_result"
    }
   ],
   "source": [
    "mean_sq_score1"
   ]
  },
  {
   "cell_type": "code",
   "execution_count": 61,
   "id": "3ce131f5",
   "metadata": {},
   "outputs": [],
   "source": [
    "from math import sqrt\n",
    "RMSE1=sqrt(mean_sq_score1)"
   ]
  },
  {
   "cell_type": "code",
   "execution_count": 62,
   "id": "d10544f3",
   "metadata": {},
   "outputs": [
    {
     "data": {
      "text/plain": [
       "4.445776419697674"
      ]
     },
     "execution_count": 62,
     "metadata": {},
     "output_type": "execute_result"
    }
   ],
   "source": [
    "RMSE1"
   ]
  },
  {
   "cell_type": "code",
   "execution_count": 73,
   "id": "fc6877f0",
   "metadata": {},
   "outputs": [],
   "source": [
    "table={'precision measurements':['r2_score','mean_abolute_percentage_error','mean_absolute_error','mean_squared_error','RMSE'],\n",
    "      'training data':[0.743,0.1592,3.103,19.76,4.44],\n",
    "      'testing data':[0.648,0.1851,4.27,36.79,6.06]}"
   ]
  },
  {
   "cell_type": "code",
   "execution_count": 74,
   "id": "43910d2d",
   "metadata": {},
   "outputs": [
    {
     "data": {
      "text/html": [
       "<div>\n",
       "<style scoped>\n",
       "    .dataframe tbody tr th:only-of-type {\n",
       "        vertical-align: middle;\n",
       "    }\n",
       "\n",
       "    .dataframe tbody tr th {\n",
       "        vertical-align: top;\n",
       "    }\n",
       "\n",
       "    .dataframe thead th {\n",
       "        text-align: right;\n",
       "    }\n",
       "</style>\n",
       "<table border=\"1\" class=\"dataframe\">\n",
       "  <thead>\n",
       "    <tr style=\"text-align: right;\">\n",
       "      <th></th>\n",
       "      <th>precision measurements</th>\n",
       "      <th>training data</th>\n",
       "      <th>testing data</th>\n",
       "    </tr>\n",
       "  </thead>\n",
       "  <tbody>\n",
       "    <tr>\n",
       "      <th>0</th>\n",
       "      <td>r2_score</td>\n",
       "      <td>0.7430</td>\n",
       "      <td>0.6480</td>\n",
       "    </tr>\n",
       "    <tr>\n",
       "      <th>1</th>\n",
       "      <td>mean_abolute_percentage_error</td>\n",
       "      <td>0.1592</td>\n",
       "      <td>0.1851</td>\n",
       "    </tr>\n",
       "    <tr>\n",
       "      <th>2</th>\n",
       "      <td>mean_absolute_error</td>\n",
       "      <td>3.1030</td>\n",
       "      <td>4.2700</td>\n",
       "    </tr>\n",
       "    <tr>\n",
       "      <th>3</th>\n",
       "      <td>mean_squared_error</td>\n",
       "      <td>19.7600</td>\n",
       "      <td>36.7900</td>\n",
       "    </tr>\n",
       "    <tr>\n",
       "      <th>4</th>\n",
       "      <td>RMSE</td>\n",
       "      <td>4.4400</td>\n",
       "      <td>6.0600</td>\n",
       "    </tr>\n",
       "  </tbody>\n",
       "</table>\n",
       "</div>"
      ],
      "text/plain": [
       "          precision measurements  training data  testing data\n",
       "0                       r2_score         0.7430        0.6480\n",
       "1  mean_abolute_percentage_error         0.1592        0.1851\n",
       "2            mean_absolute_error         3.1030        4.2700\n",
       "3             mean_squared_error        19.7600       36.7900\n",
       "4                           RMSE         4.4400        6.0600"
      ]
     },
     "execution_count": 74,
     "metadata": {},
     "output_type": "execute_result"
    }
   ],
   "source": [
    "pd.DataFrame(table)"
   ]
  },
  {
   "cell_type": "code",
   "execution_count": null,
   "id": "c3705bcc",
   "metadata": {},
   "outputs": [],
   "source": [
    "#plotting for testing data"
   ]
  },
  {
   "cell_type": "code",
   "execution_count": 75,
   "id": "dfefd16b",
   "metadata": {},
   "outputs": [
    {
     "data": {
      "image/png": "[encoded data removed]",
      "text/plain": [
       "<Figure size 432x288 with 1 Axes>"
      ]
     },
     "metadata": {
      "needs_background": "light"
     },
     "output_type": "display_data"
    }
   ],
   "source": [
    "plt.scatter(y_test,y1_predict)\n",
    "plt.xlabel('actual price')\n",
    "plt.ylabel('predicted price')\n",
    "plt.title('actual price vs predicted price')\n",
    "plt.show()"
   ]
  },
  {
   "cell_type": "code",
   "execution_count": null,
   "id": "765c45b4",
   "metadata": {},
   "outputs": [],
   "source": [
    "#plotting for training data"
   ]
  },
  {
   "cell_type": "code",
   "execution_count": 76,
   "id": "f5167dce",
   "metadata": {},
   "outputs": [
    {
     "data": {
      "image/png": "[encoded data removed]",
      "text/plain": [
       "<Figure size 432x288 with 1 Axes>"
      ]
     },
     "metadata": {
      "needs_background": "light"
     },
     "output_type": "display_data"
    }
   ],
   "source": [
    "plt.scatter(y_train,z1_predict)\n",
    "plt.xlabel('actual price')\n",
    "plt.ylabel('predicted price')\n",
    "plt.title('actual price vs predicted price')\n",
    "plt.show()"
   ]
  },
  {
   "cell_type": "code",
   "execution_count": 79,
   "id": "874cdd0c",
   "metadata": {},
   "outputs": [],
   "source": [
    "#values in test and for testing prediction"
   ]
  },
  {
   "cell_type": "code",
   "execution_count": 80,
   "id": "7f9db8e4",
   "metadata": {},
   "outputs": [],
   "source": [
    "table=pd.DataFrame({'actual value':y_test,\n",
    "                   'predict value':y1_predict,\n",
    "                   'diff':y_test-y1_predict})"
   ]
  },
  {
   "cell_type": "code",
   "execution_count": 81,
   "id": "8b71ae1b",
   "metadata": {},
   "outputs": [
    {
     "data": {
      "text/html": [
       "<div>\n",
       "<style scoped>\n",
       "    .dataframe tbody tr th:only-of-type {\n",
       "        vertical-align: middle;\n",
       "    }\n",
       "\n",
       "    .dataframe tbody tr th {\n",
       "        vertical-align: top;\n",
       "    }\n",
       "\n",
       "    .dataframe thead th {\n",
       "        text-align: right;\n",
       "    }\n",
       "</style>\n",
       "<table border=\"1\" class=\"dataframe\">\n",
       "  <thead>\n",
       "    <tr style=\"text-align: right;\">\n",
       "      <th></th>\n",
       "      <th>actual value</th>\n",
       "      <th>predict value</th>\n",
       "      <th>diff</th>\n",
       "    </tr>\n",
       "  </thead>\n",
       "  <tbody>\n",
       "    <tr>\n",
       "      <th>305</th>\n",
       "      <td>28.4</td>\n",
       "      <td>30.692860</td>\n",
       "      <td>-2.292860</td>\n",
       "    </tr>\n",
       "    <tr>\n",
       "      <th>193</th>\n",
       "      <td>31.1</td>\n",
       "      <td>32.459477</td>\n",
       "      <td>-1.359477</td>\n",
       "    </tr>\n",
       "    <tr>\n",
       "      <th>65</th>\n",
       "      <td>23.5</td>\n",
       "      <td>30.976298</td>\n",
       "      <td>-7.476298</td>\n",
       "    </tr>\n",
       "    <tr>\n",
       "      <th>349</th>\n",
       "      <td>26.6</td>\n",
       "      <td>18.987748</td>\n",
       "      <td>7.612252</td>\n",
       "    </tr>\n",
       "    <tr>\n",
       "      <th>151</th>\n",
       "      <td>19.6</td>\n",
       "      <td>18.443207</td>\n",
       "      <td>1.156793</td>\n",
       "    </tr>\n",
       "    <tr>\n",
       "      <th>...</th>\n",
       "      <td>...</td>\n",
       "      <td>...</td>\n",
       "      <td>...</td>\n",
       "    </tr>\n",
       "    <tr>\n",
       "      <th>208</th>\n",
       "      <td>24.4</td>\n",
       "      <td>22.863353</td>\n",
       "      <td>1.536647</td>\n",
       "    </tr>\n",
       "    <tr>\n",
       "      <th>174</th>\n",
       "      <td>22.6</td>\n",
       "      <td>26.934915</td>\n",
       "      <td>-4.334915</td>\n",
       "    </tr>\n",
       "    <tr>\n",
       "      <th>108</th>\n",
       "      <td>19.8</td>\n",
       "      <td>23.271275</td>\n",
       "      <td>-3.471275</td>\n",
       "    </tr>\n",
       "    <tr>\n",
       "      <th>242</th>\n",
       "      <td>22.2</td>\n",
       "      <td>23.968433</td>\n",
       "      <td>-1.768433</td>\n",
       "    </tr>\n",
       "    <tr>\n",
       "      <th>102</th>\n",
       "      <td>18.6</td>\n",
       "      <td>19.866092</td>\n",
       "      <td>-1.266092</td>\n",
       "    </tr>\n",
       "  </tbody>\n",
       "</table>\n",
       "<p>102 rows × 3 columns</p>\n",
       "</div>"
      ],
      "text/plain": [
       "     actual value  predict value      diff\n",
       "305          28.4      30.692860 -2.292860\n",
       "193          31.1      32.459477 -1.359477\n",
       "65           23.5      30.976298 -7.476298\n",
       "349          26.6      18.987748  7.612252\n",
       "151          19.6      18.443207  1.156793\n",
       "..            ...            ...       ...\n",
       "208          24.4      22.863353  1.536647\n",
       "174          22.6      26.934915 -4.334915\n",
       "108          19.8      23.271275 -3.471275\n",
       "242          22.2      23.968433 -1.768433\n",
       "102          18.6      19.866092 -1.266092\n",
       "\n",
       "[102 rows x 3 columns]"
      ]
     },
     "execution_count": 81,
     "metadata": {},
     "output_type": "execute_result"
    }
   ],
   "source": [
    "table"
   ]
  },
  {
   "cell_type": "code",
   "execution_count": null,
   "id": "980db685",
   "metadata": {},
   "outputs": [],
   "source": [
    "#values in training and for training prediction"
   ]
  },
  {
   "cell_type": "code",
   "execution_count": 82,
   "id": "447ce010",
   "metadata": {},
   "outputs": [],
   "source": [
    "table1=pd.DataFrame({'actual value':y_train,\n",
    "                   'predict value':z1_predict,\n",
    "                   'diff':y_train-z1_predict})"
   ]
  },
  {
   "cell_type": "code",
   "execution_count": 83,
   "id": "282b944b",
   "metadata": {},
   "outputs": [
    {
     "data": {
      "text/html": [
       "<div>\n",
       "<style scoped>\n",
       "    .dataframe tbody tr th:only-of-type {\n",
       "        vertical-align: middle;\n",
       "    }\n",
       "\n",
       "    .dataframe tbody tr th {\n",
       "        vertical-align: top;\n",
       "    }\n",
       "\n",
       "    .dataframe thead th {\n",
       "        text-align: right;\n",
       "    }\n",
       "</style>\n",
       "<table border=\"1\" class=\"dataframe\">\n",
       "  <thead>\n",
       "    <tr style=\"text-align: right;\">\n",
       "      <th></th>\n",
       "      <th>actual value</th>\n",
       "      <th>predict value</th>\n",
       "      <th>diff</th>\n",
       "    </tr>\n",
       "  </thead>\n",
       "  <tbody>\n",
       "    <tr>\n",
       "      <th>50</th>\n",
       "      <td>19.7</td>\n",
       "      <td>21.188110</td>\n",
       "      <td>-1.488110</td>\n",
       "    </tr>\n",
       "    <tr>\n",
       "      <th>367</th>\n",
       "      <td>23.1</td>\n",
       "      <td>11.679420</td>\n",
       "      <td>11.420580</td>\n",
       "    </tr>\n",
       "    <tr>\n",
       "      <th>34</th>\n",
       "      <td>13.5</td>\n",
       "      <td>14.062234</td>\n",
       "      <td>-0.562234</td>\n",
       "    </tr>\n",
       "    <tr>\n",
       "      <th>78</th>\n",
       "      <td>21.2</td>\n",
       "      <td>20.777206</td>\n",
       "      <td>0.422794</td>\n",
       "    </tr>\n",
       "    <tr>\n",
       "      <th>172</th>\n",
       "      <td>23.1</td>\n",
       "      <td>23.592388</td>\n",
       "      <td>-0.492388</td>\n",
       "    </tr>\n",
       "    <tr>\n",
       "      <th>...</th>\n",
       "      <td>...</td>\n",
       "      <td>...</td>\n",
       "      <td>...</td>\n",
       "    </tr>\n",
       "    <tr>\n",
       "      <th>320</th>\n",
       "      <td>23.8</td>\n",
       "      <td>24.961267</td>\n",
       "      <td>-1.161267</td>\n",
       "    </tr>\n",
       "    <tr>\n",
       "      <th>15</th>\n",
       "      <td>19.9</td>\n",
       "      <td>20.036621</td>\n",
       "      <td>-0.136621</td>\n",
       "    </tr>\n",
       "    <tr>\n",
       "      <th>484</th>\n",
       "      <td>20.6</td>\n",
       "      <td>19.027932</td>\n",
       "      <td>1.572068</td>\n",
       "    </tr>\n",
       "    <tr>\n",
       "      <th>125</th>\n",
       "      <td>21.4</td>\n",
       "      <td>21.554371</td>\n",
       "      <td>-0.154371</td>\n",
       "    </tr>\n",
       "    <tr>\n",
       "      <th>265</th>\n",
       "      <td>22.8</td>\n",
       "      <td>28.772479</td>\n",
       "      <td>-5.972479</td>\n",
       "    </tr>\n",
       "  </tbody>\n",
       "</table>\n",
       "<p>404 rows × 3 columns</p>\n",
       "</div>"
      ],
      "text/plain": [
       "     actual value  predict value       diff\n",
       "50           19.7      21.188110  -1.488110\n",
       "367          23.1      11.679420  11.420580\n",
       "34           13.5      14.062234  -0.562234\n",
       "78           21.2      20.777206   0.422794\n",
       "172          23.1      23.592388  -0.492388\n",
       "..            ...            ...        ...\n",
       "320          23.8      24.961267  -1.161267\n",
       "15           19.9      20.036621  -0.136621\n",
       "484          20.6      19.027932   1.572068\n",
       "125          21.4      21.554371  -0.154371\n",
       "265          22.8      28.772479  -5.972479\n",
       "\n",
       "[404 rows x 3 columns]"
      ]
     },
     "execution_count": 83,
     "metadata": {},
     "output_type": "execute_result"
    }
   ],
   "source": [
    "table1"
   ]
  },
  {
   "cell_type": "code",
   "execution_count": 84,
   "id": "ee754685",
   "metadata": {},
   "outputs": [],
   "source": [
    "#building model method 2"
   ]
  },
  {
   "cell_type": "code",
   "execution_count": 110,
   "id": "3e3b248b",
   "metadata": {},
   "outputs": [
    {
     "data": {
      "text/plain": [
       "RandomForestRegressor(n_estimators=50)"
      ]
     },
     "execution_count": 110,
     "metadata": {},
     "output_type": "execute_result"
    }
   ],
   "source": [
    "from sklearn.ensemble import RandomForestRegressor\n",
    "rfr=RandomForestRegressor(n_estimators=50)\n",
    "rfr.fit(X_train,y_train)"
   ]
  },
  {
   "cell_type": "code",
   "execution_count": 111,
   "id": "b2c5448c",
   "metadata": {},
   "outputs": [],
   "source": [
    "y2_predict=rfr.predict(X_test)\n",
    "z2_predict=rfr.predict(X_train)"
   ]
  },
  {
   "cell_type": "code",
   "execution_count": 112,
   "id": "02d57fb0",
   "metadata": {},
   "outputs": [
    {
     "data": {
      "text/plain": [
       "array([25.42 , 28.466, 26.342, 25.622, 17.796, 15.996, 45.116, 15.31 ,\n",
       "       21.014, 38.762, 20.068, 25.712, 23.968, 31.7  , 25.31 , 44.074,\n",
       "       24.796, 20.276, 21.538, 17.176, 32.61 , 15.436, 21.688, 24.026,\n",
       "       37.068, 19.362, 18.36 , 15.804, 45.586, 14.526, 33.192, 32.212,\n",
       "       24.48 , 25.114, 16.398, 20.078,  9.034, 35.38 , 23.7  , 22.688,\n",
       "       37.254, 24.614, 11.058, 30.374, 19.292, 26.376, 20.204, 18.57 ,\n",
       "       48.158, 17.378, 20.316, 13.704, 20.85 , 44.506, 27.834, 33.664,\n",
       "       20.402, 20.936, 20.178, 27.852, 20.476, 21.232, 46.774, 43.788,\n",
       "       25.814, 15.104, 23.578,  9.164, 28.19 , 39.152, 15.992, 25.896,\n",
       "       19.362, 37.686, 24.682, 16.888, 43.69 ,  8.926, 19.838, 29.858,\n",
       "       20.402, 21.092, 20.016, 24.232, 31.376, 30.384, 24.404, 33.142,\n",
       "       25.226,  8.82 , 25.224, 19.678, 22.848, 24.052, 19.456, 18.034,\n",
       "       25.236, 21.084, 20.746, 20.214, 22.162, 20.64 ])"
      ]
     },
     "execution_count": 112,
     "metadata": {},
     "output_type": "execute_result"
    }
   ],
   "source": [
    "y2_predict"
   ]
  },
  {
   "cell_type": "code",
   "execution_count": 113,
   "id": "3e7eac51",
   "metadata": {},
   "outputs": [
    {
     "data": {
      "text/plain": [
       "array([19.968, 20.19 , 13.78 , 21.112, 21.726, 14.02 , 25.416, 18.738,\n",
       "       11.79 , 21.664, 23.112, 25.354, 20.068, 11.01 , 19.482, 18.174,\n",
       "       16.27 , 20.77 , 44.47 , 32.824, 21.45 , 13.828, 17.168, 23.374,\n",
       "       11.57 , 22.688, 22.754, 33.086, 28.718,  8.448, 31.78 , 30.286,\n",
       "       17.364, 24.24 , 25.722, 33.456,  9.658,  8.63 , 26.796, 12.594,\n",
       "       14.522, 17.634,  9.622, 15.454, 41.23 , 24.096, 21.178, 19.814,\n",
       "       12.192, 21.148, 41.542, 20.128, 12.748, 18.364, 23.972,  9.684,\n",
       "       15.412, 25.986, 10.002, 13.942, 17.516, 16.496, 29.334, 20.294,\n",
       "       24.324, 14.648, 21.326,  9.482, 24.22 , 18.782, 20.064, 46.48 ,\n",
       "       25.644, 14.936, 10.826, 33.332, 19.006, 16.324, 21.018, 21.458,\n",
       "       23.63 , 18.98 ,  7.794, 32.496, 21.8  , 14.262, 22.386, 21.54 ,\n",
       "       22.642, 20.352, 30.636, 33.088, 20.52 , 25.928, 10.636, 22.356,\n",
       "       23.42 , 33.088, 26.622, 31.828, 21.926, 18.394, 17.658, 22.31 ,\n",
       "       34.14 , 22.84 , 33.764, 19.538, 21.03 , 26.994, 30.142, 35.28 ,\n",
       "       21.014, 17.866, 19.884, 35.384, 19.672, 25.008, 14.744, 14.284,\n",
       "       18.88 , 14.65 , 19.592, 23.842, 14.29 , 14.418, 29.668, 21.758,\n",
       "       23.682, 49.076, 14.124, 20.666, 20.526, 19.1  , 49.218, 22.002,\n",
       "       25.946, 20.078, 13.176, 19.632, 18.446, 24.538, 19.45 , 22.856,\n",
       "       20.332, 13.944, 21.306, 27.67 , 21.66 , 18.966, 21.366, 19.962,\n",
       "       22.862, 14.592, 20.524, 21.238, 19.232, 17.14 , 21.846, 43.248,\n",
       "        7.774, 34.078, 33.994, 20.586, 27.25 , 16.886, 14.648, 17.342,\n",
       "       13.494, 48.818,  8.178, 19.39 , 23.038, 16.128, 19.49 , 21.552,\n",
       "       28.34 ,  6.52 ,  8.178, 26.538, 23.292,  8.736,  6.006, 19.746,\n",
       "       21.254, 20.354, 25.138, 17.914, 34.814, 22.03 , 13.868, 15.104,\n",
       "       23.172, 35.554, 22.462, 13.178, 12.096, 45.574, 21.842, 20.268,\n",
       "       19.4  , 48.62 , 24.24 , 19.552,  8.644, 21.286, 17.862, 35.884,\n",
       "       17.796, 12.63 , 16.386, 34.156, 41.33 , 19.514, 30.412, 13.544,\n",
       "       16.252, 32.118, 15.004, 20.32 , 30.222, 19.468, 24.048, 13.398,\n",
       "       22.35 , 18.192, 20.692, 23.844, 18.4  , 18.126, 13.504, 20.314,\n",
       "       19.928, 26.488, 17.344, 13.848, 13.188, 22.804, 19.46 , 30.964,\n",
       "       45.016, 20.012, 13.546, 46.182, 18.022,  9.696, 15.914, 14.104,\n",
       "       15.924,  9.05 , 24.362, 28.014, 21.122, 20.434, 21.834, 15.62 ,\n",
       "       22.552, 18.   , 19.992, 21.29 , 24.028, 10.912, 12.922, 19.426,\n",
       "       18.052,  6.62 , 22.948, 27.806, 46.458, 18.994, 12.752, 16.722,\n",
       "       19.972, 22.824, 29.176, 37.718, 17.172,  8.404, 21.488, 18.996,\n",
       "       13.232, 20.612, 19.164, 24.894, 21.986, 34.63 , 14.802, 17.51 ,\n",
       "       23.862, 23.352, 19.92 , 14.108, 30.422, 22.792, 14.488, 31.94 ,\n",
       "       25.43 , 43.608,  9.058, 20.676, 25.946, 14.894, 27.318, 44.476,\n",
       "       18.9  , 19.396, 20.68 , 27.606, 27.002, 23.24 , 15.636, 14.686,\n",
       "       14.84 , 23.77 , 23.982, 29.096, 37.146, 29.622, 34.33 , 20.252,\n",
       "       10.452,  8.792, 34.708, 18.222, 21.002, 19.518, 24.43 , 24.342,\n",
       "       32.21 , 48.35 , 17.894, 14.41 , 14.158, 11.844, 24.46 , 21.422,\n",
       "       19.5  , 16.44 , 19.688, 14.38 , 22.362, 24.034, 21.244, 21.418,\n",
       "       24.08 , 21.366, 27.924, 12.654, 19.638, 25.208, 20.046, 47.564,\n",
       "       28.054, 22.258, 16.396, 23.358, 14.064, 30.812, 24.596, 21.   ,\n",
       "       19.374, 25.864, 14.342, 10.91 , 23.416, 24.34 , 20.192, 20.47 ,\n",
       "       21.074, 27.274, 35.52 , 24.262, 19.68 , 21.776, 33.636, 13.712,\n",
       "       22.984, 20.254, 16.908, 30.55 , 18.79 , 12.948, 23.938, 16.94 ,\n",
       "       23.036, 39.874, 15.808, 35.454,  8.682, 43.516, 22.856, 16.69 ,\n",
       "       18.022, 14.97 , 20.336, 28.462, 15.152, 16.952, 42.63 , 23.768,\n",
       "       20.13 , 20.824, 19.726, 22.162])"
      ]
     },
     "execution_count": 113,
     "metadata": {},
     "output_type": "execute_result"
    }
   ],
   "source": [
    "z2_predict"
   ]
  },
  {
   "cell_type": "code",
   "execution_count": 114,
   "id": "ae4b7229",
   "metadata": {},
   "outputs": [],
   "source": [
    "from sklearn.metrics import r2_score\n",
    "score1=r2_score(y_train,z1_predict)"
   ]
  },
  {
   "cell_type": "code",
   "execution_count": 115,
   "id": "180810dc",
   "metadata": {},
   "outputs": [
    {
     "data": {
      "text/plain": [
       "0.7431820438587626"
      ]
     },
     "execution_count": 115,
     "metadata": {},
     "output_type": "execute_result"
    }
   ],
   "source": [
    "score1"
   ]
  },
  {
   "cell_type": "code",
   "execution_count": 116,
   "id": "fa5c547c",
   "metadata": {},
   "outputs": [],
   "source": [
    "from sklearn.metrics import r2_score\n",
    "score2=r2_score(y_test,y2_predict)"
   ]
  },
  {
   "cell_type": "code",
   "execution_count": 117,
   "id": "9ade134d",
   "metadata": {},
   "outputs": [
    {
     "data": {
      "text/plain": [
       "0.8522809091445076"
      ]
     },
     "execution_count": 117,
     "metadata": {},
     "output_type": "execute_result"
    }
   ],
   "source": [
    "score2"
   ]
  },
  {
   "cell_type": "code",
   "execution_count": 118,
   "id": "3e027d06",
   "metadata": {},
   "outputs": [],
   "source": [
    "from sklearn.metrics import mean_absolute_percentage_error\n",
    "mean_per_score1=mean_absolute_percentage_error(y_train,z2_predict)"
   ]
  },
  {
   "cell_type": "code",
   "execution_count": 119,
   "id": "250863aa",
   "metadata": {},
   "outputs": [
    {
     "data": {
      "text/plain": [
       "0.04392900799514082"
      ]
     },
     "execution_count": 119,
     "metadata": {},
     "output_type": "execute_result"
    }
   ],
   "source": [
    "mean_per_score1"
   ]
  },
  {
   "cell_type": "code",
   "execution_count": 120,
   "id": "54467573",
   "metadata": {
    "scrolled": true
   },
   "outputs": [],
   "source": [
    "from sklearn.metrics import mean_absolute_percentage_error\n",
    "mean_per_score2=mean_absolute_percentage_error(y_test,y2_predict)"
   ]
  },
  {
   "cell_type": "code",
   "execution_count": 121,
   "id": "9873640d",
   "metadata": {},
   "outputs": [
    {
     "data": {
      "text/plain": [
       "0.11541797931991223"
      ]
     },
     "execution_count": 121,
     "metadata": {},
     "output_type": "execute_result"
    }
   ],
   "source": [
    "mean_per_score2"
   ]
  },
  {
   "cell_type": "code",
   "execution_count": 134,
   "id": "8575a429",
   "metadata": {},
   "outputs": [
    {
     "data": {
      "text/plain": [
       "2.8255490196078417"
      ]
     },
     "execution_count": 134,
     "metadata": {},
     "output_type": "execute_result"
    }
   ],
   "source": [
    "from sklearn.metrics import mean_absolute_error\n",
    "mean_ab_score1=mean_absolute_error(y_test,y2_predict)\n",
    "mean_ab_score1\n"
   ]
  },
  {
   "cell_type": "code",
   "execution_count": 123,
   "id": "475e9095",
   "metadata": {},
   "outputs": [
    {
     "data": {
      "text/plain": [
       "0.8513960396039605"
      ]
     },
     "execution_count": 123,
     "metadata": {},
     "output_type": "execute_result"
    }
   ],
   "source": [
    "from sklearn.metrics import mean_absolute_error\n",
    "mean_ab_score2=mean_absolute_error(y_train,z2_predict)\n",
    "mean_ab_score2\n"
   ]
  },
  {
   "cell_type": "code",
   "execution_count": 124,
   "id": "1d327537",
   "metadata": {},
   "outputs": [],
   "source": [
    "from sklearn.metrics import mean_squared_error\n",
    "mean_sq_score1=mean_squared_error(y_train,z2_predict)"
   ]
  },
  {
   "cell_type": "code",
   "execution_count": 125,
   "id": "d1a20c70",
   "metadata": {},
   "outputs": [
    {
     "data": {
      "text/plain": [
       "1.7682352277227726"
      ]
     },
     "execution_count": 125,
     "metadata": {},
     "output_type": "execute_result"
    }
   ],
   "source": [
    "mean_sq_score1"
   ]
  },
  {
   "cell_type": "code",
   "execution_count": 126,
   "id": "4642fab2",
   "metadata": {},
   "outputs": [],
   "source": [
    "from sklearn.metrics import mean_squared_error\n",
    "mean_sq_score2=mean_squared_error(y_test,y2_predict)"
   ]
  },
  {
   "cell_type": "code",
   "execution_count": 127,
   "id": "0d92daa7",
   "metadata": {},
   "outputs": [
    {
     "data": {
      "text/plain": [
       "15.448572274509791"
      ]
     },
     "execution_count": 127,
     "metadata": {},
     "output_type": "execute_result"
    }
   ],
   "source": [
    "mean_sq_score2"
   ]
  },
  {
   "cell_type": "code",
   "execution_count": 128,
   "id": "c10e749b",
   "metadata": {},
   "outputs": [],
   "source": [
    "from math import sqrt\n",
    "RMSE1=sqrt(mean_sq_score1)"
   ]
  },
  {
   "cell_type": "code",
   "execution_count": 129,
   "id": "f9ba3630",
   "metadata": {},
   "outputs": [
    {
     "data": {
      "text/plain": [
       "1.3297500621255005"
      ]
     },
     "execution_count": 129,
     "metadata": {},
     "output_type": "execute_result"
    }
   ],
   "source": [
    "RMSE1"
   ]
  },
  {
   "cell_type": "code",
   "execution_count": 130,
   "id": "203b96dd",
   "metadata": {},
   "outputs": [],
   "source": [
    "from math import sqrt\n",
    "RMSE2=sqrt(mean_sq_score2)"
   ]
  },
  {
   "cell_type": "code",
   "execution_count": 131,
   "id": "b29bc2d0",
   "metadata": {},
   "outputs": [
    {
     "data": {
      "text/plain": [
       "3.9304671827290187"
      ]
     },
     "execution_count": 131,
     "metadata": {},
     "output_type": "execute_result"
    }
   ],
   "source": [
    "RMSE2"
   ]
  },
  {
   "cell_type": "code",
   "execution_count": 136,
   "id": "8e1861f0",
   "metadata": {},
   "outputs": [],
   "source": [
    "table2={'precision measurements':['r2_score','mean_abolute_percentage_error','mean_absolute_error','mean_squared_error','RMSE'],\n",
    "      'training data':[0.743,0.044,0.851,1.768,1.32],\n",
    "      'testing data':[0.844,0.114,2.82,15.44,3.93]}\n"
   ]
  },
  {
   "cell_type": "code",
   "execution_count": 137,
   "id": "993b791c",
   "metadata": {},
   "outputs": [
    {
     "data": {
      "text/html": [
       "<div>\n",
       "<style scoped>\n",
       "    .dataframe tbody tr th:only-of-type {\n",
       "        vertical-align: middle;\n",
       "    }\n",
       "\n",
       "    .dataframe tbody tr th {\n",
       "        vertical-align: top;\n",
       "    }\n",
       "\n",
       "    .dataframe thead th {\n",
       "        text-align: right;\n",
       "    }\n",
       "</style>\n",
       "<table border=\"1\" class=\"dataframe\">\n",
       "  <thead>\n",
       "    <tr style=\"text-align: right;\">\n",
       "      <th></th>\n",
       "      <th>precision measurements</th>\n",
       "      <th>training data</th>\n",
       "      <th>testing data</th>\n",
       "    </tr>\n",
       "  </thead>\n",
       "  <tbody>\n",
       "    <tr>\n",
       "      <th>0</th>\n",
       "      <td>r2_score</td>\n",
       "      <td>0.743</td>\n",
       "      <td>0.844</td>\n",
       "    </tr>\n",
       "    <tr>\n",
       "      <th>1</th>\n",
       "      <td>mean_abolute_percentage_error</td>\n",
       "      <td>0.044</td>\n",
       "      <td>0.114</td>\n",
       "    </tr>\n",
       "    <tr>\n",
       "      <th>2</th>\n",
       "      <td>mean_absolute_error</td>\n",
       "      <td>0.851</td>\n",
       "      <td>2.820</td>\n",
       "    </tr>\n",
       "    <tr>\n",
       "      <th>3</th>\n",
       "      <td>mean_squared_error</td>\n",
       "      <td>1.768</td>\n",
       "      <td>15.440</td>\n",
       "    </tr>\n",
       "    <tr>\n",
       "      <th>4</th>\n",
       "      <td>RMSE</td>\n",
       "      <td>1.320</td>\n",
       "      <td>3.930</td>\n",
       "    </tr>\n",
       "  </tbody>\n",
       "</table>\n",
       "</div>"
      ],
      "text/plain": [
       "          precision measurements  training data  testing data\n",
       "0                       r2_score          0.743         0.844\n",
       "1  mean_abolute_percentage_error          0.044         0.114\n",
       "2            mean_absolute_error          0.851         2.820\n",
       "3             mean_squared_error          1.768        15.440\n",
       "4                           RMSE          1.320         3.930"
      ]
     },
     "execution_count": 137,
     "metadata": {},
     "output_type": "execute_result"
    }
   ],
   "source": [
    "pd.DataFrame(table2)"
   ]
  },
  {
   "cell_type": "code",
   "execution_count": 92,
   "id": "35702c48",
   "metadata": {},
   "outputs": [],
   "source": [
    "   # OR"
   ]
  },
  {
   "cell_type": "code",
   "execution_count": 93,
   "id": "9ab58a48",
   "metadata": {},
   "outputs": [
    {
     "data": {
      "text/html": [
       "<table class=\"simpletable\">\n",
       "<caption>OLS Regression Results</caption>\n",
       "<tr>\n",
       "  <th>Dep. Variable:</th>          <td>MEDV</td>       <th>  R-squared (uncentered):</th>      <td>   0.960</td> \n",
       "</tr>\n",
       "<tr>\n",
       "  <th>Model:</th>                   <td>OLS</td>       <th>  Adj. R-squared (uncentered):</th> <td>   0.959</td> \n",
       "</tr>\n",
       "<tr>\n",
       "  <th>Method:</th>             <td>Least Squares</td>  <th>  F-statistic:       </th>          <td>   730.1</td> \n",
       "</tr>\n",
       "<tr>\n",
       "  <th>Date:</th>             <td>Mon, 02 Jan 2023</td> <th>  Prob (F-statistic):</th>          <td>7.35e-265</td>\n",
       "</tr>\n",
       "<tr>\n",
       "  <th>Time:</th>                 <td>15:17:46</td>     <th>  Log-Likelihood:    </th>          <td> -1196.9</td> \n",
       "</tr>\n",
       "<tr>\n",
       "  <th>No. Observations:</th>      <td>   404</td>      <th>  AIC:               </th>          <td>   2420.</td> \n",
       "</tr>\n",
       "<tr>\n",
       "  <th>Df Residuals:</th>          <td>   391</td>      <th>  BIC:               </th>          <td>   2472.</td> \n",
       "</tr>\n",
       "<tr>\n",
       "  <th>Df Model:</th>              <td>    13</td>      <th>                     </th>              <td> </td>    \n",
       "</tr>\n",
       "<tr>\n",
       "  <th>Covariance Type:</th>      <td>nonrobust</td>    <th>                     </th>              <td> </td>    \n",
       "</tr>\n",
       "</table>\n",
       "<table class=\"simpletable\">\n",
       "<tr>\n",
       "     <td></td>        <th>coef</th>     <th>std err</th>      <th>t</th>      <th>P>|t|</th>  <th>[0.025</th>    <th>0.975]</th>  \n",
       "</tr>\n",
       "<tr>\n",
       "  <th>CRIM</th>    <td>   -0.1205</td> <td>    0.034</td> <td>   -3.583</td> <td> 0.000</td> <td>   -0.187</td> <td>   -0.054</td>\n",
       "</tr>\n",
       "<tr>\n",
       "  <th>ZN</th>      <td>    0.0622</td> <td>    0.015</td> <td>    4.089</td> <td> 0.000</td> <td>    0.032</td> <td>    0.092</td>\n",
       "</tr>\n",
       "<tr>\n",
       "  <th>INDUS</th>   <td>   -0.0611</td> <td>    0.067</td> <td>   -0.916</td> <td> 0.360</td> <td>   -0.192</td> <td>    0.070</td>\n",
       "</tr>\n",
       "<tr>\n",
       "  <th>CHAS</th>    <td>    2.2908</td> <td>    1.001</td> <td>    2.289</td> <td> 0.023</td> <td>    0.323</td> <td>    4.258</td>\n",
       "</tr>\n",
       "<tr>\n",
       "  <th>NOX</th>     <td>   -0.9881</td> <td>    3.433</td> <td>   -0.288</td> <td> 0.774</td> <td>   -7.738</td> <td>    5.761</td>\n",
       "</tr>\n",
       "<tr>\n",
       "  <th>RM</th>      <td>    5.3178</td> <td>    0.334</td> <td>   15.920</td> <td> 0.000</td> <td>    4.661</td> <td>    5.975</td>\n",
       "</tr>\n",
       "<tr>\n",
       "  <th>AGE</th>     <td>    0.0005</td> <td>    0.015</td> <td>    0.036</td> <td> 0.971</td> <td>   -0.029</td> <td>    0.030</td>\n",
       "</tr>\n",
       "<tr>\n",
       "  <th>DIS</th>     <td>   -0.9928</td> <td>    0.205</td> <td>   -4.850</td> <td> 0.000</td> <td>   -1.395</td> <td>   -0.590</td>\n",
       "</tr>\n",
       "<tr>\n",
       "  <th>RAD</th>     <td>    0.1549</td> <td>    0.069</td> <td>    2.248</td> <td> 0.025</td> <td>    0.019</td> <td>    0.290</td>\n",
       "</tr>\n",
       "<tr>\n",
       "  <th>TAX</th>     <td>   -0.0083</td> <td>    0.004</td> <td>   -2.078</td> <td> 0.038</td> <td>   -0.016</td> <td>   -0.000</td>\n",
       "</tr>\n",
       "<tr>\n",
       "  <th>PTRATIO</th> <td>   -0.2565</td> <td>    0.123</td> <td>   -2.086</td> <td> 0.038</td> <td>   -0.498</td> <td>   -0.015</td>\n",
       "</tr>\n",
       "<tr>\n",
       "  <th>B</th>       <td>    0.0164</td> <td>    0.003</td> <td>    5.993</td> <td> 0.000</td> <td>    0.011</td> <td>    0.022</td>\n",
       "</tr>\n",
       "<tr>\n",
       "  <th>LSTAT</th>   <td>   -0.4559</td> <td>    0.053</td> <td>   -8.539</td> <td> 0.000</td> <td>   -0.561</td> <td>   -0.351</td>\n",
       "</tr>\n",
       "</table>\n",
       "<table class=\"simpletable\">\n",
       "<tr>\n",
       "  <th>Omnibus:</th>       <td>161.859</td> <th>  Durbin-Watson:     </th> <td>   2.114</td> \n",
       "</tr>\n",
       "<tr>\n",
       "  <th>Prob(Omnibus):</th> <td> 0.000</td>  <th>  Jarque-Bera (JB):  </th> <td>1152.047</td> \n",
       "</tr>\n",
       "<tr>\n",
       "  <th>Skew:</th>          <td> 1.532</td>  <th>  Prob(JB):          </th> <td>6.86e-251</td>\n",
       "</tr>\n",
       "<tr>\n",
       "  <th>Kurtosis:</th>      <td>10.685</td>  <th>  Cond. No.          </th> <td>8.20e+03</td> \n",
       "</tr>\n",
       "</table><br/><br/>Notes:<br/>[1] R² is computed without centering (uncentered) since the model does not contain a constant.<br/>[2] Standard Errors assume that the covariance matrix of the errors is correctly specified.<br/>[3] The condition number is large, 8.2e+03. This might indicate that there are<br/>strong multicollinearity or other numerical problems."
      ],
      "text/plain": [
       "<class 'statsmodels.iolib.summary.Summary'>\n",
       "\"\"\"\n",
       "                                 OLS Regression Results                                \n",
       "=======================================================================================\n",
       "Dep. Variable:                   MEDV   R-squared (uncentered):                   0.960\n",
       "Model:                            OLS   Adj. R-squared (uncentered):              0.959\n",
       "Method:                 Least Squares   F-statistic:                              730.1\n",
       "Date:                Mon, 02 Jan 2023   Prob (F-statistic):                   7.35e-265\n",
       "Time:                        15:17:46   Log-Likelihood:                         -1196.9\n",
       "No. Observations:                 404   AIC:                                      2420.\n",
       "Df Residuals:                     391   BIC:                                      2472.\n",
       "Df Model:                          13                                                  \n",
       "Covariance Type:            nonrobust                                                  \n",
       "==============================================================================\n",
       "                 coef    std err          t      P>|t|      [0.025      0.975]\n",
       "------------------------------------------------------------------------------\n",
       "CRIM          -0.1205      0.034     -3.583      0.000      -0.187      -0.054\n",
       "ZN             0.0622      0.015      4.089      0.000       0.032       0.092\n",
       "INDUS         -0.0611      0.067     -0.916      0.360      -0.192       0.070\n",
       "CHAS           2.2908      1.001      2.289      0.023       0.323       4.258\n",
       "NOX           -0.9881      3.433     -0.288      0.774      -7.738       5.761\n",
       "RM             5.3178      0.334     15.920      0.000       4.661       5.975\n",
       "AGE            0.0005      0.015      0.036      0.971      -0.029       0.030\n",
       "DIS           -0.9928      0.205     -4.850      0.000      -1.395      -0.590\n",
       "RAD            0.1549      0.069      2.248      0.025       0.019       0.290\n",
       "TAX           -0.0083      0.004     -2.078      0.038      -0.016      -0.000\n",
       "PTRATIO       -0.2565      0.123     -2.086      0.038      -0.498      -0.015\n",
       "B              0.0164      0.003      5.993      0.000       0.011       0.022\n",
       "LSTAT         -0.4559      0.053     -8.539      0.000      -0.561      -0.351\n",
       "==============================================================================\n",
       "Omnibus:                      161.859   Durbin-Watson:                   2.114\n",
       "Prob(Omnibus):                  0.000   Jarque-Bera (JB):             1152.047\n",
       "Skew:                           1.532   Prob(JB):                    6.86e-251\n",
       "Kurtosis:                      10.685   Cond. No.                     8.20e+03\n",
       "==============================================================================\n",
       "\n",
       "Notes:\n",
       "[1] R² is computed without centering (uncentered) since the model does not contain a constant.\n",
       "[2] Standard Errors assume that the covariance matrix of the errors is correctly specified.\n",
       "[3] The condition number is large, 8.2e+03. This might indicate that there are\n",
       "strong multicollinearity or other numerical problems.\n",
       "\"\"\""
      ]
     },
     "execution_count": 93,
     "metadata": {},
     "output_type": "execute_result"
    }
   ],
   "source": [
    "import statsmodels.api as sm\n",
    "reg_OLS=sm.OLS(endog=y_train,exog=X_train).fit()\n",
    "reg_OLS.summary()"
   ]
  },
  {
   "cell_type": "code",
   "execution_count": null,
   "id": "1b1885b4",
   "metadata": {},
   "outputs": [],
   "source": [
    "# values for testing and test prediction"
   ]
  },
  {
   "cell_type": "code",
   "execution_count": 94,
   "id": "752c0815",
   "metadata": {},
   "outputs": [],
   "source": [
    "table2=pd.DataFrame({'actual value':y_test,\n",
    "                    'predict value':y2_predict,\n",
    "                    'different':y_test-y2_predict})"
   ]
  },
  {
   "cell_type": "code",
   "execution_count": 95,
   "id": "d6f76a61",
   "metadata": {},
   "outputs": [
    {
     "data": {
      "text/html": [
       "<div>\n",
       "<style scoped>\n",
       "    .dataframe tbody tr th:only-of-type {\n",
       "        vertical-align: middle;\n",
       "    }\n",
       "\n",
       "    .dataframe tbody tr th {\n",
       "        vertical-align: top;\n",
       "    }\n",
       "\n",
       "    .dataframe thead th {\n",
       "        text-align: right;\n",
       "    }\n",
       "</style>\n",
       "<table border=\"1\" class=\"dataframe\">\n",
       "  <thead>\n",
       "    <tr style=\"text-align: right;\">\n",
       "      <th></th>\n",
       "      <th>actual</th>\n",
       "      <th>predict</th>\n",
       "      <th>different</th>\n",
       "    </tr>\n",
       "  </thead>\n",
       "  <tbody>\n",
       "    <tr>\n",
       "      <th>305</th>\n",
       "      <td>28.4</td>\n",
       "      <td>25.168</td>\n",
       "      <td>3.232</td>\n",
       "    </tr>\n",
       "    <tr>\n",
       "      <th>193</th>\n",
       "      <td>31.1</td>\n",
       "      <td>29.886</td>\n",
       "      <td>1.214</td>\n",
       "    </tr>\n",
       "    <tr>\n",
       "      <th>65</th>\n",
       "      <td>23.5</td>\n",
       "      <td>26.430</td>\n",
       "      <td>-2.930</td>\n",
       "    </tr>\n",
       "    <tr>\n",
       "      <th>349</th>\n",
       "      <td>26.6</td>\n",
       "      <td>27.314</td>\n",
       "      <td>-0.714</td>\n",
       "    </tr>\n",
       "    <tr>\n",
       "      <th>151</th>\n",
       "      <td>19.6</td>\n",
       "      <td>18.030</td>\n",
       "      <td>1.570</td>\n",
       "    </tr>\n",
       "    <tr>\n",
       "      <th>...</th>\n",
       "      <td>...</td>\n",
       "      <td>...</td>\n",
       "      <td>...</td>\n",
       "    </tr>\n",
       "    <tr>\n",
       "      <th>208</th>\n",
       "      <td>24.4</td>\n",
       "      <td>21.210</td>\n",
       "      <td>3.190</td>\n",
       "    </tr>\n",
       "    <tr>\n",
       "      <th>174</th>\n",
       "      <td>22.6</td>\n",
       "      <td>20.468</td>\n",
       "      <td>2.132</td>\n",
       "    </tr>\n",
       "    <tr>\n",
       "      <th>108</th>\n",
       "      <td>19.8</td>\n",
       "      <td>20.108</td>\n",
       "      <td>-0.308</td>\n",
       "    </tr>\n",
       "    <tr>\n",
       "      <th>242</th>\n",
       "      <td>22.2</td>\n",
       "      <td>22.320</td>\n",
       "      <td>-0.120</td>\n",
       "    </tr>\n",
       "    <tr>\n",
       "      <th>102</th>\n",
       "      <td>18.6</td>\n",
       "      <td>21.178</td>\n",
       "      <td>-2.578</td>\n",
       "    </tr>\n",
       "  </tbody>\n",
       "</table>\n",
       "<p>102 rows × 3 columns</p>\n",
       "</div>"
      ],
      "text/plain": [
       "     actual  predict  different\n",
       "305    28.4   25.168      3.232\n",
       "193    31.1   29.886      1.214\n",
       "65     23.5   26.430     -2.930\n",
       "349    26.6   27.314     -0.714\n",
       "151    19.6   18.030      1.570\n",
       "..      ...      ...        ...\n",
       "208    24.4   21.210      3.190\n",
       "174    22.6   20.468      2.132\n",
       "108    19.8   20.108     -0.308\n",
       "242    22.2   22.320     -0.120\n",
       "102    18.6   21.178     -2.578\n",
       "\n",
       "[102 rows x 3 columns]"
      ]
     },
     "execution_count": 95,
     "metadata": {},
     "output_type": "execute_result"
    }
   ],
   "source": [
    "table2"
   ]
  },
  {
   "cell_type": "code",
   "execution_count": 138,
   "id": "f4ed6c1d",
   "metadata": {},
   "outputs": [],
   "source": [
    "#values for training and train predicition"
   ]
  },
  {
   "cell_type": "code",
   "execution_count": 139,
   "id": "1a71af36",
   "metadata": {},
   "outputs": [],
   "source": [
    "table22=pd.DataFrame({'actual':y_train,\n",
    "                    'predict':z2_predict,\n",
    "                    'different':y_train-z2_predict})"
   ]
  },
  {
   "cell_type": "code",
   "execution_count": 140,
   "id": "fdf65a8c",
   "metadata": {},
   "outputs": [
    {
     "data": {
      "text/html": [
       "<div>\n",
       "<style scoped>\n",
       "    .dataframe tbody tr th:only-of-type {\n",
       "        vertical-align: middle;\n",
       "    }\n",
       "\n",
       "    .dataframe tbody tr th {\n",
       "        vertical-align: top;\n",
       "    }\n",
       "\n",
       "    .dataframe thead th {\n",
       "        text-align: right;\n",
       "    }\n",
       "</style>\n",
       "<table border=\"1\" class=\"dataframe\">\n",
       "  <thead>\n",
       "    <tr style=\"text-align: right;\">\n",
       "      <th></th>\n",
       "      <th>actual</th>\n",
       "      <th>predict</th>\n",
       "      <th>different</th>\n",
       "    </tr>\n",
       "  </thead>\n",
       "  <tbody>\n",
       "    <tr>\n",
       "      <th>50</th>\n",
       "      <td>19.7</td>\n",
       "      <td>19.968</td>\n",
       "      <td>-0.268</td>\n",
       "    </tr>\n",
       "    <tr>\n",
       "      <th>367</th>\n",
       "      <td>23.1</td>\n",
       "      <td>20.190</td>\n",
       "      <td>2.910</td>\n",
       "    </tr>\n",
       "    <tr>\n",
       "      <th>34</th>\n",
       "      <td>13.5</td>\n",
       "      <td>13.780</td>\n",
       "      <td>-0.280</td>\n",
       "    </tr>\n",
       "    <tr>\n",
       "      <th>78</th>\n",
       "      <td>21.2</td>\n",
       "      <td>21.112</td>\n",
       "      <td>0.088</td>\n",
       "    </tr>\n",
       "    <tr>\n",
       "      <th>172</th>\n",
       "      <td>23.1</td>\n",
       "      <td>21.726</td>\n",
       "      <td>1.374</td>\n",
       "    </tr>\n",
       "    <tr>\n",
       "      <th>...</th>\n",
       "      <td>...</td>\n",
       "      <td>...</td>\n",
       "      <td>...</td>\n",
       "    </tr>\n",
       "    <tr>\n",
       "      <th>320</th>\n",
       "      <td>23.8</td>\n",
       "      <td>23.768</td>\n",
       "      <td>0.032</td>\n",
       "    </tr>\n",
       "    <tr>\n",
       "      <th>15</th>\n",
       "      <td>19.9</td>\n",
       "      <td>20.130</td>\n",
       "      <td>-0.230</td>\n",
       "    </tr>\n",
       "    <tr>\n",
       "      <th>484</th>\n",
       "      <td>20.6</td>\n",
       "      <td>20.824</td>\n",
       "      <td>-0.224</td>\n",
       "    </tr>\n",
       "    <tr>\n",
       "      <th>125</th>\n",
       "      <td>21.4</td>\n",
       "      <td>19.726</td>\n",
       "      <td>1.674</td>\n",
       "    </tr>\n",
       "    <tr>\n",
       "      <th>265</th>\n",
       "      <td>22.8</td>\n",
       "      <td>22.162</td>\n",
       "      <td>0.638</td>\n",
       "    </tr>\n",
       "  </tbody>\n",
       "</table>\n",
       "<p>404 rows × 3 columns</p>\n",
       "</div>"
      ],
      "text/plain": [
       "     actual  predict  different\n",
       "50     19.7   19.968     -0.268\n",
       "367    23.1   20.190      2.910\n",
       "34     13.5   13.780     -0.280\n",
       "78     21.2   21.112      0.088\n",
       "172    23.1   21.726      1.374\n",
       "..      ...      ...        ...\n",
       "320    23.8   23.768      0.032\n",
       "15     19.9   20.130     -0.230\n",
       "484    20.6   20.824     -0.224\n",
       "125    21.4   19.726      1.674\n",
       "265    22.8   22.162      0.638\n",
       "\n",
       "[404 rows x 3 columns]"
      ]
     },
     "execution_count": 140,
     "metadata": {},
     "output_type": "execute_result"
    }
   ],
   "source": [
    "table22"
   ]
  },
  {
   "cell_type": "code",
   "execution_count": 141,
   "id": "6c3245e3",
   "metadata": {},
   "outputs": [],
   "source": [
    "#building the model(model3)\n",
    "#XGBOOST REGRESSOR"
   ]
  },
  {
   "cell_type": "code",
   "execution_count": 142,
   "id": "e86f576e",
   "metadata": {},
   "outputs": [
    {
     "name": "stderr",
     "output_type": "stream",
     "text": [
      "C:\\Users\\pavan\\anaconda3\\lib\\site-packages\\xgboost\\compat.py:36: FutureWarning: pandas.Int64Index is deprecated and will be removed from pandas in a future version. Use pandas.Index with the appropriate dtype instead.\n",
      "  from pandas import MultiIndex, Int64Index\n",
      "C:\\Users\\pavan\\anaconda3\\lib\\site-packages\\xgboost\\data.py:250: FutureWarning: pandas.Int64Index is deprecated and will be removed from pandas in a future version. Use pandas.Index with the appropriate dtype instead.\n",
      "  elif isinstance(data.columns, (pd.Int64Index, pd.RangeIndex)):\n"
     ]
    },
    {
     "data": {
      "text/plain": [
       "XGBRegressor(base_score=0.5, booster='gbtree', colsample_bylevel=1,\n",
       "             colsample_bynode=1, colsample_bytree=1, enable_categorical=False,\n",
       "             gamma=0, gpu_id=-1, importance_type=None,\n",
       "             interaction_constraints='', learning_rate=0.300000012,\n",
       "             max_delta_step=0, max_depth=6, min_child_weight=1, missing=nan,\n",
       "             monotone_constraints='()', n_estimators=100, n_jobs=8,\n",
       "             num_parallel_tree=1, predictor='auto', random_state=0, reg_alpha=0,\n",
       "             reg_lambda=1, scale_pos_weight=1, subsample=1, tree_method='exact',\n",
       "             validate_parameters=1, verbosity=None)"
      ]
     },
     "execution_count": 142,
     "metadata": {},
     "output_type": "execute_result"
    }
   ],
   "source": [
    "\n",
    "from xgboost import XGBRegressor\n",
    "xgb=XGBRegressor()\n",
    "xgb.fit(X_train,y_train)"
   ]
  },
  {
   "cell_type": "code",
   "execution_count": 143,
   "id": "8a65b27b",
   "metadata": {},
   "outputs": [],
   "source": [
    "y3_predict=xgb.predict(X_test)\n",
    "z3_predict=xgb.predict(X_train)"
   ]
  },
  {
   "cell_type": "code",
   "execution_count": 144,
   "id": "bd54d605",
   "metadata": {},
   "outputs": [
    {
     "data": {
      "text/plain": [
       "array([27.711824 , 26.00959  , 26.820293 , 25.972801 , 16.710245 ,\n",
       "       14.5675335, 49.70666  , 16.003792 , 22.616158 , 34.6655   ,\n",
       "       21.798538 , 25.948078 , 25.221388 , 31.517765 , 25.076918 ,\n",
       "       37.681896 , 25.062813 , 23.905128 , 22.755875 , 17.490652 ,\n",
       "       33.543663 , 15.531951 , 21.832397 , 25.426542 , 35.268818 ,\n",
       "       19.441954 , 18.295853 , 15.094591 , 47.980267 , 13.244894 ,\n",
       "       29.080322 , 32.322414 , 22.704697 , 25.130749 , 19.157223 ,\n",
       "       21.12632  ,  7.561903 , 32.93479  , 23.748325 , 23.041327 ,\n",
       "       34.329456 , 24.346962 ,  9.961484 , 27.473906 , 18.402328 ,\n",
       "       27.17885  , 20.215868 , 20.758095 , 49.59718  , 17.293491 ,\n",
       "       20.224976 , 13.055604 , 21.61836  , 47.166454 , 23.824697 ,\n",
       "       34.78381  , 21.415094 , 20.305752 , 21.191254 , 16.182442 ,\n",
       "       18.791512 , 21.755806 , 47.587624 , 44.701466 , 26.592285 ,\n",
       "       15.284394 , 22.447355 , 11.410988 , 27.361397 , 40.773335 ,\n",
       "       15.051592 , 27.718895 , 19.8082   , 44.819103 , 24.941343 ,\n",
       "       17.096788 , 41.74821  ,  7.967624 , 20.579369 , 30.086348 ,\n",
       "       19.943125 , 21.101519 , 18.45845  , 25.618061 , 31.992344 ,\n",
       "       29.921907 , 25.37875  , 31.341377 , 23.908121 ,  8.310455 ,\n",
       "       23.981518 , 19.230667 , 21.799343 , 24.593855 , 18.914385 ,\n",
       "       17.943722 , 25.374926 , 21.775833 , 20.549074 , 20.273045 ,\n",
       "       20.44531  , 17.29653  ], dtype=float32)"
      ]
     },
     "execution_count": 144,
     "metadata": {},
     "output_type": "execute_result"
    }
   ],
   "source": [
    "y3_predict"
   ]
  },
  {
   "cell_type": "code",
   "execution_count": 145,
   "id": "03e0d6c4",
   "metadata": {},
   "outputs": [
    {
     "data": {
      "text/plain": [
       "array([19.724485 , 23.099957 , 13.498227 , 21.181124 , 23.05806  ,\n",
       "       13.603704 , 22.840473 , 18.204979 , 13.085908 , 23.148449 ,\n",
       "       22.791815 , 25.115576 , 18.974335 , 10.893012 , 19.309328 ,\n",
       "       17.410604 , 15.629366 , 20.594816 , 50.005627 , 32.694534 ,\n",
       "       21.78472  , 13.411999 , 16.614048 , 23.610394 , 10.981828 ,\n",
       "       23.761797 , 23.060387 , 33.216152 , 28.201578 ,  8.506635 ,\n",
       "       32.39392  , 29.590033 , 17.157648 , 24.19447  , 26.3877   ,\n",
       "       33.185616 , 10.488954 ,  8.796298 , 27.989256 , 10.486868 ,\n",
       "       15.372093 , 15.311038 , 10.398779 , 15.704087 , 43.099026 ,\n",
       "       24.699629 , 20.972631 , 19.41308  , 10.888262 , 21.688976 ,\n",
       "       38.68723  , 19.198837 , 12.003149 , 17.507936 , 23.891542 ,\n",
       "        9.723495 , 15.399389 , 26.46505  , 10.799047 , 12.729247 ,\n",
       "       18.377193 , 15.219287 , 29.79356  , 20.001143 , 23.811476 ,\n",
       "       14.598476 , 19.805193 , 10.187915 , 23.67444  , 18.681026 ,\n",
       "       20.280712 , 50.001965 , 25.013859 , 14.772164 ,  9.501938 ,\n",
       "       32.995255 , 19.37789  , 15.597895 , 20.202473 , 21.679224 ,\n",
       "       24.704935 , 19.476433 ,  7.2023563, 31.699427 , 22.403223 ,\n",
       "       14.109079 , 21.436337 , 21.680336 , 23.01459  , 20.308207 ,\n",
       "       30.723497 , 35.098347 , 20.918022 , 26.995174 , 10.209264 ,\n",
       "       22.404036 , 23.29893  , 33.09047  , 28.669159 , 31.592623 ,\n",
       "       22.216255 , 17.480686 , 16.120802 , 22.966253 , 35.40144  ,\n",
       "       22.908535 , 34.882774 , 19.494026 , 20.987356 , 24.790808 ,\n",
       "       30.504583 , 36.482246 , 21.503006 , 17.5449   , 19.397936 ,\n",
       "       34.693554 , 19.564705 , 25.01582  , 13.928723 , 13.304394 ,\n",
       "       18.505835 , 12.328892 , 19.982323 , 22.025251 , 13.586763 ,\n",
       "       14.894825 , 31.98702  , 22.494001 , 23.901073 , 50.0086   ,\n",
       "       13.803547 , 20.077553 , 20.777187 , 18.818073 , 49.99642  ,\n",
       "       22.20466  , 26.195045 , 20.160631 , 13.797624 , 19.737616 ,\n",
       "       17.832111 , 24.092707 , 19.36042  , 22.306684 , 20.027273 ,\n",
       "       13.299322 , 20.997522 , 29.073067 , 22.697744 , 18.202755 ,\n",
       "       21.707039 , 19.637959 , 24.454657 , 14.104724 , 19.891796 ,\n",
       "       21.98914  , 20.116535 , 15.017312 , 22.989695 , 42.301014 ,\n",
       "        6.3075914, 34.924927 , 34.575623 , 20.501522 , 28.683489 ,\n",
       "       17.77843  , 10.393675 , 13.895396 , 11.65228  , 49.985878 ,\n",
       "        7.3999867, 19.507935 , 22.610374 , 16.172873 , 19.394836 ,\n",
       "       20.60096  , 27.497412 ,  5.5953507,  7.0301394, 24.8237   ,\n",
       "       23.218767 ,  7.508845 ,  5.017179 , 19.209692 , 21.118517 ,\n",
       "       20.285854 , 23.993244 , 16.273582 , 35.4016   , 23.091978 ,\n",
       "       13.503883 , 15.102255 , 22.895452 , 36.135517 , 22.620537 ,\n",
       "       10.220478 , 12.794437 , 49.988472 , 22.465147 , 20.017918 ,\n",
       "       18.993534 , 49.992016 , 22.508469 , 19.70623  ,  8.291065 ,\n",
       "       21.427778 , 17.20211  , 36.011547 , 17.11338  , 13.790908 ,\n",
       "       16.395626 , 33.297657 , 39.82982  , 18.915565 , 30.080097 ,\n",
       "       13.212916 , 17.180824 , 31.00051  , 11.912629 , 19.362753 ,\n",
       "       30.799326 , 18.4013   , 24.932003 , 11.701472 , 22.305418 ,\n",
       "       19.092415 , 21.087414 , 24.405514 , 19.348185 , 17.542253 ,\n",
       "       12.697757 , 20.904095 , 19.28011  , 28.085579 , 17.409147 ,\n",
       "       13.40048  , 13.404641 , 23.774532 , 20.076189 , 31.50042  ,\n",
       "       44.781372 , 19.110193 , 12.70903  , 49.973    , 18.310122 ,\n",
       "        8.534097 , 14.407812 , 13.377626 , 17.194563 ,  8.293033 ,\n",
       "       24.783243 , 28.38189  , 21.965195 , 20.427187 , 21.39799  ,\n",
       "       15.203631 , 21.905594 , 17.60056  , 23.129221 , 21.69177  ,\n",
       "       23.30886  , 11.488099 , 11.818136 , 19.974445 , 17.726973 ,\n",
       "        5.0028195, 22.610262 , 26.623392 , 48.31799  , 18.48442  ,\n",
       "       13.313889 , 18.970737 , 21.890774 , 23.3949   , 29.912992 ,\n",
       "       35.20025  , 19.047024 ,  7.2051816, 20.513056 , 18.206291 ,\n",
       "       13.0058565, 20.598597 , 18.73224  , 24.404451 , 21.999231 ,\n",
       "       33.41888  , 14.512079 , 17.979643 , 25.013195 , 24.08786  ,\n",
       "       19.297886 , 15.185622 , 30.0987   , 23.952913 , 14.095493 ,\n",
       "       31.47925  , 25.273314 , 41.69618  ,  8.407688 , 20.299967 ,\n",
       "       29.591318 , 14.644592 , 26.716597 , 43.525795 , 18.842209 ,\n",
       "       18.891884 , 21.506525 , 29.02975  , 26.616154 , 24.294466 ,\n",
       "       15.600485 , 15.586397 , 14.269542 , 25.205997 , 25.01807  ,\n",
       "       28.499172 , 37.891033 , 21.921398 , 33.382687 , 20.791334 ,\n",
       "        9.627737 ,  8.709071 , 36.177074 , 18.36394  , 21.237936 ,\n",
       "       18.605417 , 24.405329 , 24.78959  , 32.20629  , 48.522038 ,\n",
       "       18.125235 , 14.514261 , 13.805767 , 11.793419 , 23.703585 ,\n",
       "       21.717222 , 20.387354 , 16.126379 , 20.57071  , 13.869726 ,\n",
       "       23.2942   , 24.081894 , 21.17627  , 21.787388 , 24.45349  ,\n",
       "       20.607946 , 27.869724 , 11.93019  , 19.90946  , 25.002914 ,\n",
       "       20.188437 , 49.99344  , 27.915983 , 21.593277 , 14.532711 ,\n",
       "       23.12222  , 13.992824 , 28.739145 , 24.293081 , 20.111574 ,\n",
       "       16.51697  , 24.524643 , 14.409943 , 11.270846 , 27.491844 ,\n",
       "       23.704952 , 20.368298 , 17.796732 , 20.80966  , 25.011879 ,\n",
       "       37.187958 , 24.588432 , 19.497047 , 21.224321 , 32.91376  ,\n",
       "       13.107829 , 22.207153 , 20.480814 , 16.774498 , 31.182644 ,\n",
       "       18.900038 , 13.076768 , 23.349045 , 17.791883 , 23.11673  ,\n",
       "       49.988384 , 16.679068 , 34.899326 ,  8.094858 , 43.99014  ,\n",
       "       23.40427  , 16.499868 , 16.873175 , 16.288815 , 21.681057 ,\n",
       "       29.785915 , 13.092841 , 17.300035 , 49.974827 , 23.774656 ,\n",
       "       19.91329  , 20.595068 , 21.354418 , 22.814192 ], dtype=float32)"
      ]
     },
     "execution_count": 145,
     "metadata": {},
     "output_type": "execute_result"
    }
   ],
   "source": [
    "z3_predict"
   ]
  },
  {
   "cell_type": "code",
   "execution_count": 146,
   "id": "2cebd323",
   "metadata": {},
   "outputs": [],
   "source": [
    "\n",
    "\n",
    "\n",
    "\n",
    "\n",
    "\n",
    "\n",
    "from sklearn.metrics import r2_score\n",
    "score1=r2_score(y_train,z3_predict)"
   ]
  },
  {
   "cell_type": "code",
   "execution_count": 104,
   "id": "ffc1e902",
   "metadata": {},
   "outputs": [
    {
     "data": {
      "text/plain": [
       "0.9999937614707446"
      ]
     },
     "execution_count": 104,
     "metadata": {},
     "output_type": "execute_result"
    }
   ],
   "source": [
    "score1"
   ]
  },
  {
   "cell_type": "code",
   "execution_count": 105,
   "id": "05181639",
   "metadata": {},
   "outputs": [],
   "source": [
    "from sklearn.metrics import r2_score\n",
    "score2=r2_score(y_test,y3_predict)"
   ]
  },
  {
   "cell_type": "code",
   "execution_count": 106,
   "id": "53992f18",
   "metadata": {},
   "outputs": [
    {
     "data": {
      "text/plain": [
       "0.8707109526473515"
      ]
     },
     "execution_count": 106,
     "metadata": {},
     "output_type": "execute_result"
    }
   ],
   "source": [
    "score2"
   ]
  },
  {
   "cell_type": "code",
   "execution_count": 107,
   "id": "5aaf00fe",
   "metadata": {},
   "outputs": [],
   "source": [
    "from sklearn.metrics import mean_absolute_percentage_error\n",
    "mean_ab_score1=mean_absolute_percentage_error(y_train,z3_predict)"
   ]
  },
  {
   "cell_type": "code",
   "execution_count": 108,
   "id": "24a42163",
   "metadata": {},
   "outputs": [
    {
     "data": {
      "text/plain": [
       "0.000835787890493801"
      ]
     },
     "execution_count": 108,
     "metadata": {},
     "output_type": "execute_result"
    }
   ],
   "source": [
    "mean_ab_score1"
   ]
  },
  {
   "cell_type": "code",
   "execution_count": 109,
   "id": "7091bb9d",
   "metadata": {},
   "outputs": [],
   "source": [
    "from sklearn.metrics import mean_absolute_percentage_error\n",
    "mean_ab_score2=mean_absolute_percentage_error(y_test,y3_predict)"
   ]
  },
  {
   "cell_type": "code",
   "execution_count": 110,
   "id": "0266fe05",
   "metadata": {},
   "outputs": [
    {
     "data": {
      "text/plain": [
       "0.10586736248659138"
      ]
     },
     "execution_count": 110,
     "metadata": {},
     "output_type": "execute_result"
    }
   ],
   "source": [
    "mean_ab_score2"
   ]
  },
  {
   "cell_type": "code",
   "execution_count": 148,
   "id": "6277a4dd",
   "metadata": {},
   "outputs": [
    {
     "data": {
      "text/plain": [
       "0.01581656366291624"
      ]
     },
     "execution_count": 148,
     "metadata": {},
     "output_type": "execute_result"
    }
   ],
   "source": [
    "from sklearn.metrics import mean_absolute_error\n",
    "mean_ab_score1=mean_absolute_error(y_train,z3_predict)\n",
    "mean_ab_score1\n"
   ]
  },
  {
   "cell_type": "code",
   "execution_count": 200,
   "id": "96bcca50",
   "metadata": {},
   "outputs": [
    {
     "data": {
      "text/plain": [
       "2.664460405648924"
      ]
     },
     "execution_count": 200,
     "metadata": {},
     "output_type": "execute_result"
    }
   ],
   "source": [
    "from sklearn.metrics import mean_absolute_error\n",
    "mean_ab_score1=mean_absolute_error(y_test,y3_predict)\n",
    "mean_ab_score1\n"
   ]
  },
  {
   "cell_type": "code",
   "execution_count": 209,
   "id": "c98393fd",
   "metadata": {},
   "outputs": [],
   "source": [
    "from sklearn.metrics import mean_squared_error\n",
    "mean_sq_score1=mean_squared_error(y_train,z3_predict)"
   ]
  },
  {
   "cell_type": "code",
   "execution_count": 210,
   "id": "2b0fc935",
   "metadata": {},
   "outputs": [
    {
     "data": {
      "text/plain": [
       "0.0004801225087581873"
      ]
     },
     "execution_count": 210,
     "metadata": {},
     "output_type": "execute_result"
    }
   ],
   "source": [
    "mean_sq_score1"
   ]
  },
  {
   "cell_type": "code",
   "execution_count": 203,
   "id": "3a7e615a",
   "metadata": {},
   "outputs": [],
   "source": [
    "from sklearn.metrics import mean_squared_error\n",
    "mean_sq_score2=mean_squared_error(y_test,y3_predict)"
   ]
  },
  {
   "cell_type": "code",
   "execution_count": 204,
   "id": "5d1288d9",
   "metadata": {},
   "outputs": [
    {
     "data": {
      "text/plain": [
       "13.521144631764743"
      ]
     },
     "execution_count": 204,
     "metadata": {},
     "output_type": "execute_result"
    }
   ],
   "source": [
    "mean_sq_score2"
   ]
  },
  {
   "cell_type": "code",
   "execution_count": 205,
   "id": "1642fcc1",
   "metadata": {},
   "outputs": [],
   "source": [
    "from math import sqrt\n",
    "RMSE1=sqrt(mean_sq_score1)"
   ]
  },
  {
   "cell_type": "code",
   "execution_count": 206,
   "id": "3bb194ae",
   "metadata": {},
   "outputs": [
    {
     "data": {
      "text/plain": [
       "0.02191169798893247"
      ]
     },
     "execution_count": 206,
     "metadata": {},
     "output_type": "execute_result"
    }
   ],
   "source": [
    "RMSE1"
   ]
  },
  {
   "cell_type": "code",
   "execution_count": 207,
   "id": "e59305aa",
   "metadata": {},
   "outputs": [],
   "source": [
    "from math import sqrt\n",
    "RMSE2=sqrt(mean_sq_score2)"
   ]
  },
  {
   "cell_type": "code",
   "execution_count": 208,
   "id": "563e0cf7",
   "metadata": {},
   "outputs": [
    {
     "data": {
      "text/plain": [
       "3.6771109082763256"
      ]
     },
     "execution_count": 208,
     "metadata": {},
     "output_type": "execute_result"
    }
   ],
   "source": [
    "RMSE2"
   ]
  },
  {
   "cell_type": "code",
   "execution_count": 211,
   "id": "822edab1",
   "metadata": {},
   "outputs": [],
   "source": [
    "table3={'precision measurements':['r2_score','mean_abolute_percentage_error','mean_absolute_error','mean_squared_error','RMSE'],\n",
    "      'training data':[0.999,0.00085,0.015,0.00048,0.021],\n",
    "      'testing data':[0.844,0.114,2.66,13.52,3.67]}"
   ]
  },
  {
   "cell_type": "code",
   "execution_count": 212,
   "id": "5b2a4e22",
   "metadata": {},
   "outputs": [
    {
     "data": {
      "text/html": [
       "<div>\n",
       "<style scoped>\n",
       "    .dataframe tbody tr th:only-of-type {\n",
       "        vertical-align: middle;\n",
       "    }\n",
       "\n",
       "    .dataframe tbody tr th {\n",
       "        vertical-align: top;\n",
       "    }\n",
       "\n",
       "    .dataframe thead th {\n",
       "        text-align: right;\n",
       "    }\n",
       "</style>\n",
       "<table border=\"1\" class=\"dataframe\">\n",
       "  <thead>\n",
       "    <tr style=\"text-align: right;\">\n",
       "      <th></th>\n",
       "      <th>precision measurements</th>\n",
       "      <th>training data</th>\n",
       "      <th>testing data</th>\n",
       "    </tr>\n",
       "  </thead>\n",
       "  <tbody>\n",
       "    <tr>\n",
       "      <th>0</th>\n",
       "      <td>r2_score</td>\n",
       "      <td>0.99900</td>\n",
       "      <td>0.844</td>\n",
       "    </tr>\n",
       "    <tr>\n",
       "      <th>1</th>\n",
       "      <td>mean_abolute_percentage_error</td>\n",
       "      <td>0.00085</td>\n",
       "      <td>0.114</td>\n",
       "    </tr>\n",
       "    <tr>\n",
       "      <th>2</th>\n",
       "      <td>mean_absolute_error</td>\n",
       "      <td>0.01500</td>\n",
       "      <td>2.660</td>\n",
       "    </tr>\n",
       "    <tr>\n",
       "      <th>3</th>\n",
       "      <td>mean_squared_error</td>\n",
       "      <td>0.00048</td>\n",
       "      <td>13.520</td>\n",
       "    </tr>\n",
       "    <tr>\n",
       "      <th>4</th>\n",
       "      <td>RMSE</td>\n",
       "      <td>0.02100</td>\n",
       "      <td>3.670</td>\n",
       "    </tr>\n",
       "  </tbody>\n",
       "</table>\n",
       "</div>"
      ],
      "text/plain": [
       "          precision measurements  training data  testing data\n",
       "0                       r2_score        0.99900         0.844\n",
       "1  mean_abolute_percentage_error        0.00085         0.114\n",
       "2            mean_absolute_error        0.01500         2.660\n",
       "3             mean_squared_error        0.00048        13.520\n",
       "4                           RMSE        0.02100         3.670"
      ]
     },
     "execution_count": 212,
     "metadata": {},
     "output_type": "execute_result"
    }
   ],
   "source": [
    "pd.DataFrame(table3)"
   ]
  },
  {
   "cell_type": "code",
   "execution_count": 213,
   "id": "8c87c080",
   "metadata": {
    "scrolled": true
   },
   "outputs": [
    {
     "data": {
      "text/plain": [
       "Text(0.5, 1.0, 'actual vs predict')"
      ]
     },
     "execution_count": 213,
     "metadata": {},
     "output_type": "execute_result"
    },
    {
     "data": {
      "image/png": "[encoded data removed]",
      "text/plain": [
       "<Figure size 432x288 with 1 Axes>"
      ]
     },
     "metadata": {
      "needs_background": "light"
     },
     "output_type": "display_data"
    }
   ],
   "source": [
    "plt.scatter(y_train,z3_predict)\n",
    "plt.xlabel('actual')\n",
    "plt.ylabel('predict')\n",
    "plt.title('actual vs predict')"
   ]
  },
  {
   "cell_type": "code",
   "execution_count": 214,
   "id": "53fc4ca8",
   "metadata": {},
   "outputs": [
    {
     "data": {
      "text/plain": [
       "Text(0.5, 1.0, 'actual vs predict')"
      ]
     },
     "execution_count": 214,
     "metadata": {},
     "output_type": "execute_result"
    },
    {
     "data": {
      "image/png": "[encoded data removed]",
      "text/plain": [
       "<Figure size 720x720 with 1 Axes>"
      ]
     },
     "metadata": {
      "needs_background": "light"
     },
     "output_type": "display_data"
    }
   ],
   "source": [
    "plt.figure(figsize=(10,10))\n",
    "plt.scatter(y_test,y3_predict)\n",
    "plt.xlabel('actual')\n",
    "plt.ylabel('predict')\n",
    "plt.title('actual vs predict')"
   ]
  },
  {
   "cell_type": "code",
   "execution_count": 215,
   "id": "5e8069eb",
   "metadata": {},
   "outputs": [],
   "source": [
    "#values for test and test prediction (loss function)"
   ]
  },
  {
   "cell_type": "code",
   "execution_count": 216,
   "id": "2cfaaf22",
   "metadata": {},
   "outputs": [],
   "source": [
    "table3=pd.DataFrame({'actaul':y_test,\n",
    "                    'predict':y3_predict,\n",
    "                    'diff':y_test-y3_predict})"
   ]
  },
  {
   "cell_type": "code",
   "execution_count": 217,
   "id": "2ba37d5e",
   "metadata": {},
   "outputs": [
    {
     "data": {
      "text/html": [
       "<div>\n",
       "<style scoped>\n",
       "    .dataframe tbody tr th:only-of-type {\n",
       "        vertical-align: middle;\n",
       "    }\n",
       "\n",
       "    .dataframe tbody tr th {\n",
       "        vertical-align: top;\n",
       "    }\n",
       "\n",
       "    .dataframe thead th {\n",
       "        text-align: right;\n",
       "    }\n",
       "</style>\n",
       "<table border=\"1\" class=\"dataframe\">\n",
       "  <thead>\n",
       "    <tr style=\"text-align: right;\">\n",
       "      <th></th>\n",
       "      <th>actaul</th>\n",
       "      <th>predict</th>\n",
       "      <th>diff</th>\n",
       "    </tr>\n",
       "  </thead>\n",
       "  <tbody>\n",
       "    <tr>\n",
       "      <th>305</th>\n",
       "      <td>28.4</td>\n",
       "      <td>27.711824</td>\n",
       "      <td>0.688176</td>\n",
       "    </tr>\n",
       "    <tr>\n",
       "      <th>193</th>\n",
       "      <td>31.1</td>\n",
       "      <td>26.009590</td>\n",
       "      <td>5.090410</td>\n",
       "    </tr>\n",
       "    <tr>\n",
       "      <th>65</th>\n",
       "      <td>23.5</td>\n",
       "      <td>26.820293</td>\n",
       "      <td>-3.320293</td>\n",
       "    </tr>\n",
       "    <tr>\n",
       "      <th>349</th>\n",
       "      <td>26.6</td>\n",
       "      <td>25.972801</td>\n",
       "      <td>0.627199</td>\n",
       "    </tr>\n",
       "    <tr>\n",
       "      <th>151</th>\n",
       "      <td>19.6</td>\n",
       "      <td>16.710245</td>\n",
       "      <td>2.889755</td>\n",
       "    </tr>\n",
       "    <tr>\n",
       "      <th>...</th>\n",
       "      <td>...</td>\n",
       "      <td>...</td>\n",
       "      <td>...</td>\n",
       "    </tr>\n",
       "    <tr>\n",
       "      <th>208</th>\n",
       "      <td>24.4</td>\n",
       "      <td>21.775833</td>\n",
       "      <td>2.624167</td>\n",
       "    </tr>\n",
       "    <tr>\n",
       "      <th>174</th>\n",
       "      <td>22.6</td>\n",
       "      <td>20.549074</td>\n",
       "      <td>2.050926</td>\n",
       "    </tr>\n",
       "    <tr>\n",
       "      <th>108</th>\n",
       "      <td>19.8</td>\n",
       "      <td>20.273045</td>\n",
       "      <td>-0.473045</td>\n",
       "    </tr>\n",
       "    <tr>\n",
       "      <th>242</th>\n",
       "      <td>22.2</td>\n",
       "      <td>20.445311</td>\n",
       "      <td>1.754689</td>\n",
       "    </tr>\n",
       "    <tr>\n",
       "      <th>102</th>\n",
       "      <td>18.6</td>\n",
       "      <td>17.296530</td>\n",
       "      <td>1.303470</td>\n",
       "    </tr>\n",
       "  </tbody>\n",
       "</table>\n",
       "<p>102 rows × 3 columns</p>\n",
       "</div>"
      ],
      "text/plain": [
       "     actaul    predict      diff\n",
       "305    28.4  27.711824  0.688176\n",
       "193    31.1  26.009590  5.090410\n",
       "65     23.5  26.820293 -3.320293\n",
       "349    26.6  25.972801  0.627199\n",
       "151    19.6  16.710245  2.889755\n",
       "..      ...        ...       ...\n",
       "208    24.4  21.775833  2.624167\n",
       "174    22.6  20.549074  2.050926\n",
       "108    19.8  20.273045 -0.473045\n",
       "242    22.2  20.445311  1.754689\n",
       "102    18.6  17.296530  1.303470\n",
       "\n",
       "[102 rows x 3 columns]"
      ]
     },
     "execution_count": 217,
     "metadata": {},
     "output_type": "execute_result"
    }
   ],
   "source": [
    "\n",
    "\n",
    "table3"
   ]
  },
  {
   "cell_type": "code",
   "execution_count": 218,
   "id": "2080f9e2",
   "metadata": {},
   "outputs": [],
   "source": [
    "#values for train and train prediction (loss function)"
   ]
  },
  {
   "cell_type": "code",
   "execution_count": 219,
   "id": "92643187",
   "metadata": {},
   "outputs": [],
   "source": [
    "table32=pd.DataFrame({'actaul':y_train,\n",
    "                    'predict':z3_predict,\n",
    "                    'diff':y_train-z3_predict})"
   ]
  },
  {
   "cell_type": "code",
   "execution_count": 220,
   "id": "89090c54",
   "metadata": {},
   "outputs": [
    {
     "data": {
      "text/html": [
       "<div>\n",
       "<style scoped>\n",
       "    .dataframe tbody tr th:only-of-type {\n",
       "        vertical-align: middle;\n",
       "    }\n",
       "\n",
       "    .dataframe tbody tr th {\n",
       "        vertical-align: top;\n",
       "    }\n",
       "\n",
       "    .dataframe thead th {\n",
       "        text-align: right;\n",
       "    }\n",
       "</style>\n",
       "<table border=\"1\" class=\"dataframe\">\n",
       "  <thead>\n",
       "    <tr style=\"text-align: right;\">\n",
       "      <th></th>\n",
       "      <th>actaul</th>\n",
       "      <th>predict</th>\n",
       "      <th>diff</th>\n",
       "    </tr>\n",
       "  </thead>\n",
       "  <tbody>\n",
       "    <tr>\n",
       "      <th>50</th>\n",
       "      <td>19.7</td>\n",
       "      <td>19.724485</td>\n",
       "      <td>-0.024485</td>\n",
       "    </tr>\n",
       "    <tr>\n",
       "      <th>367</th>\n",
       "      <td>23.1</td>\n",
       "      <td>23.099957</td>\n",
       "      <td>0.000043</td>\n",
       "    </tr>\n",
       "    <tr>\n",
       "      <th>34</th>\n",
       "      <td>13.5</td>\n",
       "      <td>13.498227</td>\n",
       "      <td>0.001773</td>\n",
       "    </tr>\n",
       "    <tr>\n",
       "      <th>78</th>\n",
       "      <td>21.2</td>\n",
       "      <td>21.181124</td>\n",
       "      <td>0.018876</td>\n",
       "    </tr>\n",
       "    <tr>\n",
       "      <th>172</th>\n",
       "      <td>23.1</td>\n",
       "      <td>23.058060</td>\n",
       "      <td>0.041940</td>\n",
       "    </tr>\n",
       "    <tr>\n",
       "      <th>...</th>\n",
       "      <td>...</td>\n",
       "      <td>...</td>\n",
       "      <td>...</td>\n",
       "    </tr>\n",
       "    <tr>\n",
       "      <th>320</th>\n",
       "      <td>23.8</td>\n",
       "      <td>23.774656</td>\n",
       "      <td>0.025344</td>\n",
       "    </tr>\n",
       "    <tr>\n",
       "      <th>15</th>\n",
       "      <td>19.9</td>\n",
       "      <td>19.913290</td>\n",
       "      <td>-0.013290</td>\n",
       "    </tr>\n",
       "    <tr>\n",
       "      <th>484</th>\n",
       "      <td>20.6</td>\n",
       "      <td>20.595068</td>\n",
       "      <td>0.004932</td>\n",
       "    </tr>\n",
       "    <tr>\n",
       "      <th>125</th>\n",
       "      <td>21.4</td>\n",
       "      <td>21.354418</td>\n",
       "      <td>0.045582</td>\n",
       "    </tr>\n",
       "    <tr>\n",
       "      <th>265</th>\n",
       "      <td>22.8</td>\n",
       "      <td>22.814192</td>\n",
       "      <td>-0.014192</td>\n",
       "    </tr>\n",
       "  </tbody>\n",
       "</table>\n",
       "<p>404 rows × 3 columns</p>\n",
       "</div>"
      ],
      "text/plain": [
       "     actaul    predict      diff\n",
       "50     19.7  19.724485 -0.024485\n",
       "367    23.1  23.099957  0.000043\n",
       "34     13.5  13.498227  0.001773\n",
       "78     21.2  21.181124  0.018876\n",
       "172    23.1  23.058060  0.041940\n",
       "..      ...        ...       ...\n",
       "320    23.8  23.774656  0.025344\n",
       "15     19.9  19.913290 -0.013290\n",
       "484    20.6  20.595068  0.004932\n",
       "125    21.4  21.354418  0.045582\n",
       "265    22.8  22.814192 -0.014192\n",
       "\n",
       "[404 rows x 3 columns]"
      ]
     },
     "execution_count": 220,
     "metadata": {},
     "output_type": "execute_result"
    }
   ],
   "source": [
    "table32"
   ]
  },
  {
   "cell_type": "code",
   "execution_count": 221,
   "id": "e08e17b3",
   "metadata": {},
   "outputs": [],
   "source": [
    "#building the model(model 4)\n",
    "#support vector machine regressor"
   ]
  },
  {
   "cell_type": "code",
   "execution_count": 222,
   "id": "0f154f9c",
   "metadata": {},
   "outputs": [
    {
     "data": {
      "text/plain": [
       "SVR(kernel='linear')"
      ]
     },
     "execution_count": 222,
     "metadata": {},
     "output_type": "execute_result"
    }
   ],
   "source": [
    "from sklearn import svm\n",
    "svmr=svm.SVR(kernel='linear')\n",
    "svmr.fit(X_train,y_train)"
   ]
  },
  {
   "cell_type": "code",
   "execution_count": 223,
   "id": "1e20140a",
   "metadata": {},
   "outputs": [],
   "source": [
    "y4_predict=svmr.predict(X_test)\n",
    "z4_predict=svmr.predict(X_train)"
   ]
  },
  {
   "cell_type": "code",
   "execution_count": 224,
   "id": "616b0d01",
   "metadata": {},
   "outputs": [
    {
     "data": {
      "text/plain": [
       "array([28.58645817, 29.8275375 , 29.48846233, 22.49981601, 18.1211502 ,\n",
       "       15.63422803, 32.49562866, 14.20624937, 23.60672173, 31.44250375,\n",
       "       19.93673435, 28.92418245, 25.83043202, 31.70014097, 29.7942945 ,\n",
       "       38.83195508, 25.50552328, 20.46770285, 24.52788753, 22.07034337,\n",
       "       29.34431792, 17.31114412, 23.07106828, 24.89730174, 31.74147347,\n",
       "       20.84701696, 19.26144486, 17.6029222 , 36.84659364, -0.80825392,\n",
       "       31.93783109, 29.61912511, 26.57990205, 25.18990756, 19.09630827,\n",
       "       19.18230496,  6.26623314, 33.70097554, 25.22960131, 25.5497672 ,\n",
       "       31.9738962 , 26.94446528, 17.46169642, 30.659338  , 17.49051931,\n",
       "       27.53492747, 18.77377555, 18.92083754, 35.95571277, 16.26245303,\n",
       "       21.48670903, 18.68784519, 22.54263804, 34.34841422, 25.15723622,\n",
       "       33.22253744, 19.96969633, 19.66838368, 17.57192577, 23.66654686,\n",
       "       18.92221046, 21.97293835, 38.29142783, 41.57428636, 29.36632925,\n",
       "       16.72783932, 23.95456977,  2.60114616, 27.08132195, 32.66672799,\n",
       "       17.63233767, 26.93512836, 17.85884156, 21.1733529 , 23.85132078,\n",
       "       14.41252558, 37.57659438,  8.35438889, 18.06584304, 30.47250226,\n",
       "       22.27485048, 18.87801328, 20.79718057, 26.64520235, 28.46873185,\n",
       "       26.46714511, 25.24748542, 31.97684241, 23.24892933, -5.598936  ,\n",
       "       22.84886321, 18.57458954, 23.4787573 , 24.14564237, 17.87699999,\n",
       "       19.36690448, 25.51666915, 22.000393  , 24.03170043, 21.50262731,\n",
       "       23.55293841, 17.59356794])"
      ]
     },
     "execution_count": 224,
     "metadata": {},
     "output_type": "execute_result"
    }
   ],
   "source": [
    "y4_predict"
   ]
  },
  {
   "cell_type": "code",
   "execution_count": 225,
   "id": "47cf5d8b",
   "metadata": {},
   "outputs": [
    {
     "data": {
      "text/plain": [
       "array([21.38260145,  4.91697809, 14.16924686, 20.45859749, 20.50649073,\n",
       "       13.60208086, 26.39400664, 17.88209119, 14.92051193, 20.63816178,\n",
       "       25.03355551, 26.67822615, 21.28069   , 17.42162298, 15.58716957,\n",
       "       17.87745118, 16.24405985, 19.45371051, 28.89084716, 30.25978259,\n",
       "       20.56539312, 15.88119401, 15.8991069 , 26.42171266, 13.26057596,\n",
       "       20.23880846, 23.62128526, 30.80809424, 30.44181639,  6.50707587,\n",
       "       33.16922001, 26.73583814, 19.67806292, 25.09387962, 27.63994037,\n",
       "       33.28364487,  5.18136773,  1.3398205 , 27.94223878, 15.68408403,\n",
       "       17.95090715, 17.3161763 ,  5.17304861, 15.00926062, 35.0866807 ,\n",
       "       25.97114476, 22.59036013, 24.89432976, 10.84690985, 21.50762171,\n",
       "       33.94759869, 19.6086344 ,  9.68321022, 17.89391241, 24.32254555,\n",
       "        9.43195884, 16.46588391, 24.91709986, 11.31933052, 11.32003179,\n",
       "       18.31841156, 20.12535932, 30.50687201, 20.8269454 , 24.06700679,\n",
       "       11.8512112 , 22.47481478,  6.54775587, 26.95186151, 19.55131311,\n",
       "       22.0033513 , 18.8758037 , 27.45988501, 15.43826551, 12.79693597,\n",
       "       24.68151591, 19.32435057, 19.79653097, 21.24805841, 21.12196258,\n",
       "       23.07651649, 17.59508979,  8.73150892, 30.82686527, 21.24350137,\n",
       "       15.72127128, 22.58288527, 22.70039869, 25.95961149, 20.43535509,\n",
       "       29.95830745, 32.8227847 , 20.76049046, 26.8548306 , 15.50209215,\n",
       "       22.76784781, 22.64483156, 30.67185312, 25.91410293, 32.1822996 ,\n",
       "       22.74029745, 19.34742472, 17.73396908, 20.66266335, 31.22179137,\n",
       "       25.88787741, 31.17476256, 16.8782709 , 21.26393182, 29.72589657,\n",
       "       28.98299446, 33.50343062, 21.85874914, 17.56541683, 22.45824948,\n",
       "       29.20086472, 21.18757671, 23.97213789, 13.75261485, 14.42953386,\n",
       "       14.18670862, 16.58319393, 17.99443225, 26.91229844, 13.22231251,\n",
       "       13.94478363, 31.30712373, 19.33034201, 24.55877858, 33.42385398,\n",
       "       13.36410457, 22.00605855, 16.51449885, 18.56369958, 39.54413978,\n",
       "       20.39197993, 25.3984184 , 20.31596461,  6.43285516, 18.45490611,\n",
       "       18.30455443, 22.70649093, 21.44812129, 25.51140311, 20.95504489,\n",
       "       15.43857589, 21.45579345, 29.10781118, 20.92149948, 18.43624009,\n",
       "       20.53834455, 19.54168996, 21.4078124 , 16.90290546, 17.54153982,\n",
       "       20.38714931, 16.61908567,  7.55625207, 19.38927318, 36.91989222,\n",
       "       12.09913093, 32.92662691, 33.79734896, 19.38946918, 24.57138302,\n",
       "       12.97943662, 10.51171646, 20.79826699, 13.61116998, 41.45119648,\n",
       "        6.08860483, 17.77575398, 24.62976258, 15.00864254, 17.15557865,\n",
       "       15.04013753,  9.82101943, 11.53102496,  8.56983628, 25.61141079,\n",
       "       26.19134691, 12.68870781,  6.0327927 , 21.72489619, 22.09148637,\n",
       "       18.61698221, 28.65084582, 19.45625366, 32.334359  , 18.95534385,\n",
       "       11.30424947, 15.8302855 , 24.13100533, 32.55136258, 23.20665749,\n",
       "       14.01314237, 13.30814981, 35.31336187, 21.9772298 , 20.61859423,\n",
       "       21.82288292, 35.22741242, 28.35785463, 15.01457988,  8.00104815,\n",
       "       19.49208835, 16.24327174, 33.84821434, 19.18814384,  0.87008787,\n",
       "       18.74140095, 34.39896926, 32.9076645 , 18.89223668, 31.92727494,\n",
       "       11.16985645, 11.88011032, 32.78976348, 21.89605795, 20.2833644 ,\n",
       "       31.01936187, 19.86189202, 22.8190916 , 10.83492476, 23.22311427,\n",
       "       15.15428266, 21.88560193, 23.25054133, 17.54467796, 18.20308437,\n",
       "       12.86347906, 23.03586855, 21.44709709, 24.87999192, 15.95494091,\n",
       "       11.49049647, 13.36459106, 22.63473035, 15.56153546, 29.2434545 ,\n",
       "       35.89703673, 20.68847748, 17.61965219, 39.17771518, 18.41568854,\n",
       "       15.16237169, 10.41661633, 15.10670672, 13.54401078, 11.04434071,\n",
       "       25.58865693, 26.72066773, 21.36115883, 22.33838544, 23.10433344,\n",
       "       16.89556554, 24.61001915, 15.88349631, 17.10576604, 21.62264746,\n",
       "       25.22904183, 13.10920246, 11.36985338, 15.0296484 , 19.7246176 ,\n",
       "        5.28497984, 25.6510176 , 28.48672464, 35.39352214, 19.85483808,\n",
       "       19.52584142, 12.51207806, 13.22661374, 23.56930207, 29.04068187,\n",
       "       33.85210441, 15.07339536, 16.96285523, 22.47504316, 19.26423426,\n",
       "       16.68615868, 22.84115273, 21.44215054, 26.96143147, 27.11844146,\n",
       "       28.34999171, 14.62368239, 18.88020533, 21.17255815, 28.12190207,\n",
       "       21.44773812, 11.52825842, 26.98760293, 23.52210804, 14.80372158,\n",
       "       30.64904511, 25.28822354, 36.00604752, 14.52544886, 19.92075161,\n",
       "       23.6251355 , 16.99910026, 29.39980114, 37.010964  , 19.29753219,\n",
       "       20.68040384, 22.5452292 , 28.50970051, 26.4305759 , 20.88203457,\n",
       "       12.83618348, 14.55453535, 16.70008476, 24.94337626, 21.67983077,\n",
       "       32.47904692, 30.77144341, 35.63688104, 33.39921826, 14.98908143,\n",
       "       12.9597738 ,  8.26639827, 25.49690782, 16.78500345, 22.5150459 ,\n",
       "       19.68185655, 25.18360678, 26.96981879, 32.19704978, 40.30454077,\n",
       "       17.5935535 , 15.48036831, 14.38381677, 11.67589193, 23.6634942 ,\n",
       "       21.50110702, 19.7371345 , 18.28385273, 21.8294291 , 19.46110815,\n",
       "       24.0932628 , 22.82885498, 21.2463382 , 19.17157545, 21.7829161 ,\n",
       "       24.23791252, 15.90983002,  5.48359716, 18.26496931, 27.14655681,\n",
       "       16.86081224, 42.29042719, 30.76835707, 23.63238226, 17.71363551,\n",
       "       24.17634127, 15.05411736, 29.52636005, 24.12664431, 20.8698168 ,\n",
       "       22.95198321, 28.43527859,  6.28013336, 12.80803563, 18.35614046,\n",
       "       27.30470982, 19.9294094 , 22.92054328, 21.89789964, 25.29965834,\n",
       "       30.99320619, 26.07437019, 19.35172678, 20.99353602, 31.81990401,\n",
       "       14.60341845, 23.414942  , 18.82437566, 18.57853689, 28.91848268,\n",
       "       17.83654716, 19.12129148, 27.28898206, 18.584234  , 21.55869853,\n",
       "       20.74455949, 18.01330071, 33.94672421,  4.8188356 , 36.12483935,\n",
       "       22.2282224 , 12.81250846, 20.23054174,  7.29307323, 21.68400908,\n",
       "       23.75870273, 13.17819972, 16.6043368 , 27.20283907, 24.36355601,\n",
       "       19.70704943, 18.63197011, 20.30450948, 26.24581389])"
      ]
     },
     "execution_count": 225,
     "metadata": {},
     "output_type": "execute_result"
    }
   ],
   "source": [
    "z4_predict"
   ]
  },
  {
   "cell_type": "code",
   "execution_count": 226,
   "id": "dd3b33bc",
   "metadata": {},
   "outputs": [],
   "source": [
    "from sklearn.metrics import r2_score\n",
    "score1=r2_score(y_train,z4_predict)"
   ]
  },
  {
   "cell_type": "code",
   "execution_count": 227,
   "id": "c1cc11e4",
   "metadata": {},
   "outputs": [
    {
     "data": {
      "text/plain": [
       "0.7095432862212439"
      ]
     },
     "execution_count": 227,
     "metadata": {},
     "output_type": "execute_result"
    }
   ],
   "source": [
    "score1"
   ]
  },
  {
   "cell_type": "code",
   "execution_count": 171,
   "id": "40502bdb",
   "metadata": {},
   "outputs": [],
   "source": [
    "from sklearn.metrics import r2_score\n",
    "score2=r2_score(y_test,y4_predict)"
   ]
  },
  {
   "cell_type": "code",
   "execution_count": 172,
   "id": "d18d8b10",
   "metadata": {},
   "outputs": [
    {
     "data": {
      "text/plain": [
       "0.6346702914168716"
      ]
     },
     "execution_count": 172,
     "metadata": {},
     "output_type": "execute_result"
    }
   ],
   "source": [
    "score2"
   ]
  },
  {
   "cell_type": "code",
   "execution_count": 173,
   "id": "bfedb195",
   "metadata": {},
   "outputs": [],
   "source": [
    "from sklearn.metrics import mean_absolute_percentage_error\n",
    "mean_ab_score1=mean_absolute_percentage_error(y_train,z4_predict)"
   ]
  },
  {
   "cell_type": "code",
   "execution_count": 174,
   "id": "936286eb",
   "metadata": {},
   "outputs": [
    {
     "data": {
      "text/plain": [
       "0.14574687556147628"
      ]
     },
     "execution_count": 174,
     "metadata": {},
     "output_type": "execute_result"
    }
   ],
   "source": [
    "mean_ab_score1"
   ]
  },
  {
   "cell_type": "code",
   "execution_count": 175,
   "id": "efdb3550",
   "metadata": {},
   "outputs": [],
   "source": [
    "from sklearn.metrics import mean_absolute_percentage_error\n",
    "mean_ab_score2=mean_absolute_percentage_error(y_test,y4_predict)"
   ]
  },
  {
   "cell_type": "code",
   "execution_count": 176,
   "id": "09a967e1",
   "metadata": {},
   "outputs": [
    {
     "data": {
      "text/plain": [
       "0.17335863585659578"
      ]
     },
     "execution_count": 176,
     "metadata": {},
     "output_type": "execute_result"
    }
   ],
   "source": [
    "mean_ab_score2"
   ]
  },
  {
   "cell_type": "code",
   "execution_count": 183,
   "id": "41012f49",
   "metadata": {},
   "outputs": [
    {
     "data": {
      "text/plain": [
       "2.9336560556487496"
      ]
     },
     "execution_count": 183,
     "metadata": {},
     "output_type": "execute_result"
    }
   ],
   "source": [
    "from sklearn.metrics import mean_absolute_error\n",
    "mean_ab_score1=mean_absolute_error(y_train,z4_predict)\n",
    "mean_ab_score1\n"
   ]
  },
  {
   "cell_type": "code",
   "execution_count": 228,
   "id": "91910e3c",
   "metadata": {},
   "outputs": [
    {
     "data": {
      "text/plain": [
       "4.136119854565941"
      ]
     },
     "execution_count": 228,
     "metadata": {},
     "output_type": "execute_result"
    }
   ],
   "source": [
    "from sklearn.metrics import mean_absolute_error\n",
    "mean_ab_score2=mean_absolute_error(y_test,y4_predict)\n",
    "mean_ab_score2\n"
   ]
  },
  {
   "cell_type": "code",
   "execution_count": 229,
   "id": "67034162",
   "metadata": {},
   "outputs": [
    {
     "data": {
      "text/plain": [
       "22.353795325071413"
      ]
     },
     "execution_count": 229,
     "metadata": {},
     "output_type": "execute_result"
    }
   ],
   "source": [
    "from sklearn.metrics import mean_squared_error\n",
    "mean_sq_score1=mean_squared_error(y_train,z4_predict)\n",
    "mean_sq_score1"
   ]
  },
  {
   "cell_type": "code",
   "execution_count": 230,
   "id": "bd6ee9cd",
   "metadata": {},
   "outputs": [
    {
     "data": {
      "text/plain": [
       "38.206452357557374"
      ]
     },
     "execution_count": 230,
     "metadata": {},
     "output_type": "execute_result"
    }
   ],
   "source": [
    "from sklearn.metrics import mean_squared_error\n",
    "mean_sq_score2=mean_squared_error(y_test,y4_predict)\n",
    "mean_sq_score2"
   ]
  },
  {
   "cell_type": "code",
   "execution_count": 231,
   "id": "4d3675c5",
   "metadata": {},
   "outputs": [],
   "source": [
    "from math import sqrt\n",
    "RMSE1=sqrt(mean_sq_score1)"
   ]
  },
  {
   "cell_type": "code",
   "execution_count": 232,
   "id": "d91e7d87",
   "metadata": {},
   "outputs": [
    {
     "data": {
      "text/plain": [
       "4.727980047025517"
      ]
     },
     "execution_count": 232,
     "metadata": {},
     "output_type": "execute_result"
    }
   ],
   "source": [
    "RMSE1"
   ]
  },
  {
   "cell_type": "code",
   "execution_count": 233,
   "id": "38fd8fbf",
   "metadata": {},
   "outputs": [],
   "source": [
    "from math import sqrt\n",
    "RMSE2=sqrt(mean_sq_score2)"
   ]
  },
  {
   "cell_type": "code",
   "execution_count": 234,
   "id": "84e33f18",
   "metadata": {},
   "outputs": [
    {
     "data": {
      "text/plain": [
       "6.181136817573073"
      ]
     },
     "execution_count": 234,
     "metadata": {},
     "output_type": "execute_result"
    }
   ],
   "source": [
    "RMSE2"
   ]
  },
  {
   "cell_type": "code",
   "execution_count": 235,
   "id": "2d8ee83e",
   "metadata": {},
   "outputs": [],
   "source": [
    "table4={'precision measurements':['r2_score','mean_abolute_percentage_error','mean_absolute_error','mean_squared_error','RMSE'],\n",
    "      'training data':[0.709,0.1457,2.93,22.35,4.72],\n",
    "      'testing data':[0.636,0.173,4.13,38.2,6.18]}"
   ]
  },
  {
   "cell_type": "code",
   "execution_count": 236,
   "id": "1f8a650f",
   "metadata": {},
   "outputs": [
    {
     "data": {
      "text/html": [
       "<div>\n",
       "<style scoped>\n",
       "    .dataframe tbody tr th:only-of-type {\n",
       "        vertical-align: middle;\n",
       "    }\n",
       "\n",
       "    .dataframe tbody tr th {\n",
       "        vertical-align: top;\n",
       "    }\n",
       "\n",
       "    .dataframe thead th {\n",
       "        text-align: right;\n",
       "    }\n",
       "</style>\n",
       "<table border=\"1\" class=\"dataframe\">\n",
       "  <thead>\n",
       "    <tr style=\"text-align: right;\">\n",
       "      <th></th>\n",
       "      <th>precision measurements</th>\n",
       "      <th>training data</th>\n",
       "      <th>testing data</th>\n",
       "    </tr>\n",
       "  </thead>\n",
       "  <tbody>\n",
       "    <tr>\n",
       "      <th>0</th>\n",
       "      <td>r2_score</td>\n",
       "      <td>0.7090</td>\n",
       "      <td>0.636</td>\n",
       "    </tr>\n",
       "    <tr>\n",
       "      <th>1</th>\n",
       "      <td>mean_abolute_percentage_error</td>\n",
       "      <td>0.1457</td>\n",
       "      <td>0.173</td>\n",
       "    </tr>\n",
       "    <tr>\n",
       "      <th>2</th>\n",
       "      <td>mean_absolute_error</td>\n",
       "      <td>2.9300</td>\n",
       "      <td>4.130</td>\n",
       "    </tr>\n",
       "    <tr>\n",
       "      <th>3</th>\n",
       "      <td>mean_squared_error</td>\n",
       "      <td>22.3500</td>\n",
       "      <td>38.200</td>\n",
       "    </tr>\n",
       "    <tr>\n",
       "      <th>4</th>\n",
       "      <td>RMSE</td>\n",
       "      <td>4.7200</td>\n",
       "      <td>6.180</td>\n",
       "    </tr>\n",
       "  </tbody>\n",
       "</table>\n",
       "</div>"
      ],
      "text/plain": [
       "          precision measurements  training data  testing data\n",
       "0                       r2_score         0.7090         0.636\n",
       "1  mean_abolute_percentage_error         0.1457         0.173\n",
       "2            mean_absolute_error         2.9300         4.130\n",
       "3             mean_squared_error        22.3500        38.200\n",
       "4                           RMSE         4.7200         6.180"
      ]
     },
     "execution_count": 236,
     "metadata": {},
     "output_type": "execute_result"
    }
   ],
   "source": [
    "pd.DataFrame(table4)"
   ]
  },
  {
   "cell_type": "code",
   "execution_count": 149,
   "id": "bb2a19cd",
   "metadata": {},
   "outputs": [
    {
     "data": {
      "text/plain": [
       "Text(0.5, 1.0, 'actual vs predict')"
      ]
     },
     "execution_count": 149,
     "metadata": {},
     "output_type": "execute_result"
    },
    {
     "data": {
      "image/png": "[encoded data removed]",
      "text/plain": [
       "<Figure size 432x288 with 1 Axes>"
      ]
     },
     "metadata": {
      "needs_background": "light"
     },
     "output_type": "display_data"
    }
   ],
   "source": [
    "plt.scatter(y_train,z4_predict)\n",
    "plt.xlabel('actual')\n",
    "plt.ylabel('predict')\n",
    "plt.title('actual vs predict')"
   ]
  },
  {
   "cell_type": "code",
   "execution_count": 150,
   "id": "48d61d7b",
   "metadata": {},
   "outputs": [
    {
     "data": {
      "text/plain": [
       "Text(0.5, 1.0, 'actual vs predict')"
      ]
     },
     "execution_count": 150,
     "metadata": {},
     "output_type": "execute_result"
    },
    {
     "data": {
      "image/png": "[encoded data removed]",
      "text/plain": [
       "<Figure size 432x288 with 1 Axes>"
      ]
     },
     "metadata": {
      "needs_background": "light"
     },
     "output_type": "display_data"
    }
   ],
   "source": [
    "plt.scatter(y_test,y4_predict)\n",
    "plt.xlabel('actual')\n",
    "plt.ylabel('predict')\n",
    "plt.title('actual vs predict')"
   ]
  },
  {
   "cell_type": "code",
   "execution_count": 151,
   "id": "6e1d4659",
   "metadata": {},
   "outputs": [],
   "source": [
    "table4=pd.DataFrame({'actual':y_train,\n",
    "                    'predict':z4_predict,\n",
    "                    'diff':y_train-z4_predict})"
   ]
  },
  {
   "cell_type": "code",
   "execution_count": 152,
   "id": "c159924c",
   "metadata": {},
   "outputs": [
    {
     "data": {
      "text/html": [
       "<div>\n",
       "<style scoped>\n",
       "    .dataframe tbody tr th:only-of-type {\n",
       "        vertical-align: middle;\n",
       "    }\n",
       "\n",
       "    .dataframe tbody tr th {\n",
       "        vertical-align: top;\n",
       "    }\n",
       "\n",
       "    .dataframe thead th {\n",
       "        text-align: right;\n",
       "    }\n",
       "</style>\n",
       "<table border=\"1\" class=\"dataframe\">\n",
       "  <thead>\n",
       "    <tr style=\"text-align: right;\">\n",
       "      <th></th>\n",
       "      <th>actual</th>\n",
       "      <th>predict</th>\n",
       "      <th>diff</th>\n",
       "    </tr>\n",
       "  </thead>\n",
       "  <tbody>\n",
       "    <tr>\n",
       "      <th>50</th>\n",
       "      <td>19.7</td>\n",
       "      <td>21.382601</td>\n",
       "      <td>-1.682601</td>\n",
       "    </tr>\n",
       "    <tr>\n",
       "      <th>367</th>\n",
       "      <td>23.1</td>\n",
       "      <td>4.916978</td>\n",
       "      <td>18.183022</td>\n",
       "    </tr>\n",
       "    <tr>\n",
       "      <th>34</th>\n",
       "      <td>13.5</td>\n",
       "      <td>14.169247</td>\n",
       "      <td>-0.669247</td>\n",
       "    </tr>\n",
       "    <tr>\n",
       "      <th>78</th>\n",
       "      <td>21.2</td>\n",
       "      <td>20.458597</td>\n",
       "      <td>0.741403</td>\n",
       "    </tr>\n",
       "    <tr>\n",
       "      <th>172</th>\n",
       "      <td>23.1</td>\n",
       "      <td>20.506491</td>\n",
       "      <td>2.593509</td>\n",
       "    </tr>\n",
       "    <tr>\n",
       "      <th>...</th>\n",
       "      <td>...</td>\n",
       "      <td>...</td>\n",
       "      <td>...</td>\n",
       "    </tr>\n",
       "    <tr>\n",
       "      <th>320</th>\n",
       "      <td>23.8</td>\n",
       "      <td>24.363556</td>\n",
       "      <td>-0.563556</td>\n",
       "    </tr>\n",
       "    <tr>\n",
       "      <th>15</th>\n",
       "      <td>19.9</td>\n",
       "      <td>19.707049</td>\n",
       "      <td>0.192951</td>\n",
       "    </tr>\n",
       "    <tr>\n",
       "      <th>484</th>\n",
       "      <td>20.6</td>\n",
       "      <td>18.631970</td>\n",
       "      <td>1.968030</td>\n",
       "    </tr>\n",
       "    <tr>\n",
       "      <th>125</th>\n",
       "      <td>21.4</td>\n",
       "      <td>20.304509</td>\n",
       "      <td>1.095491</td>\n",
       "    </tr>\n",
       "    <tr>\n",
       "      <th>265</th>\n",
       "      <td>22.8</td>\n",
       "      <td>26.245814</td>\n",
       "      <td>-3.445814</td>\n",
       "    </tr>\n",
       "  </tbody>\n",
       "</table>\n",
       "<p>404 rows × 3 columns</p>\n",
       "</div>"
      ],
      "text/plain": [
       "     actual    predict       diff\n",
       "50     19.7  21.382601  -1.682601\n",
       "367    23.1   4.916978  18.183022\n",
       "34     13.5  14.169247  -0.669247\n",
       "78     21.2  20.458597   0.741403\n",
       "172    23.1  20.506491   2.593509\n",
       "..      ...        ...        ...\n",
       "320    23.8  24.363556  -0.563556\n",
       "15     19.9  19.707049   0.192951\n",
       "484    20.6  18.631970   1.968030\n",
       "125    21.4  20.304509   1.095491\n",
       "265    22.8  26.245814  -3.445814\n",
       "\n",
       "[404 rows x 3 columns]"
      ]
     },
     "execution_count": 152,
     "metadata": {},
     "output_type": "execute_result"
    }
   ],
   "source": [
    "table4"
   ]
  },
  {
   "cell_type": "code",
   "execution_count": 153,
   "id": "0854e559",
   "metadata": {},
   "outputs": [],
   "source": [
    "table41=pd.DataFrame({'actual':y_test,\n",
    "                    'predict':y4_predict,\n",
    "                    'diff':y_test-y4_predict})"
   ]
  },
  {
   "cell_type": "code",
   "execution_count": 154,
   "id": "9f80ec18",
   "metadata": {},
   "outputs": [
    {
     "data": {
      "text/html": [
       "<div>\n",
       "<style scoped>\n",
       "    .dataframe tbody tr th:only-of-type {\n",
       "        vertical-align: middle;\n",
       "    }\n",
       "\n",
       "    .dataframe tbody tr th {\n",
       "        vertical-align: top;\n",
       "    }\n",
       "\n",
       "    .dataframe thead th {\n",
       "        text-align: right;\n",
       "    }\n",
       "</style>\n",
       "<table border=\"1\" class=\"dataframe\">\n",
       "  <thead>\n",
       "    <tr style=\"text-align: right;\">\n",
       "      <th></th>\n",
       "      <th>actual</th>\n",
       "      <th>predict</th>\n",
       "      <th>diff</th>\n",
       "    </tr>\n",
       "  </thead>\n",
       "  <tbody>\n",
       "    <tr>\n",
       "      <th>305</th>\n",
       "      <td>28.4</td>\n",
       "      <td>28.586458</td>\n",
       "      <td>-0.186458</td>\n",
       "    </tr>\n",
       "    <tr>\n",
       "      <th>193</th>\n",
       "      <td>31.1</td>\n",
       "      <td>29.827538</td>\n",
       "      <td>1.272462</td>\n",
       "    </tr>\n",
       "    <tr>\n",
       "      <th>65</th>\n",
       "      <td>23.5</td>\n",
       "      <td>29.488462</td>\n",
       "      <td>-5.988462</td>\n",
       "    </tr>\n",
       "    <tr>\n",
       "      <th>349</th>\n",
       "      <td>26.6</td>\n",
       "      <td>22.499816</td>\n",
       "      <td>4.100184</td>\n",
       "    </tr>\n",
       "    <tr>\n",
       "      <th>151</th>\n",
       "      <td>19.6</td>\n",
       "      <td>18.121150</td>\n",
       "      <td>1.478850</td>\n",
       "    </tr>\n",
       "    <tr>\n",
       "      <th>...</th>\n",
       "      <td>...</td>\n",
       "      <td>...</td>\n",
       "      <td>...</td>\n",
       "    </tr>\n",
       "    <tr>\n",
       "      <th>208</th>\n",
       "      <td>24.4</td>\n",
       "      <td>22.000393</td>\n",
       "      <td>2.399607</td>\n",
       "    </tr>\n",
       "    <tr>\n",
       "      <th>174</th>\n",
       "      <td>22.6</td>\n",
       "      <td>24.031700</td>\n",
       "      <td>-1.431700</td>\n",
       "    </tr>\n",
       "    <tr>\n",
       "      <th>108</th>\n",
       "      <td>19.8</td>\n",
       "      <td>21.502627</td>\n",
       "      <td>-1.702627</td>\n",
       "    </tr>\n",
       "    <tr>\n",
       "      <th>242</th>\n",
       "      <td>22.2</td>\n",
       "      <td>23.552938</td>\n",
       "      <td>-1.352938</td>\n",
       "    </tr>\n",
       "    <tr>\n",
       "      <th>102</th>\n",
       "      <td>18.6</td>\n",
       "      <td>17.593568</td>\n",
       "      <td>1.006432</td>\n",
       "    </tr>\n",
       "  </tbody>\n",
       "</table>\n",
       "<p>102 rows × 3 columns</p>\n",
       "</div>"
      ],
      "text/plain": [
       "     actual    predict      diff\n",
       "305    28.4  28.586458 -0.186458\n",
       "193    31.1  29.827538  1.272462\n",
       "65     23.5  29.488462 -5.988462\n",
       "349    26.6  22.499816  4.100184\n",
       "151    19.6  18.121150  1.478850\n",
       "..      ...        ...       ...\n",
       "208    24.4  22.000393  2.399607\n",
       "174    22.6  24.031700 -1.431700\n",
       "108    19.8  21.502627 -1.702627\n",
       "242    22.2  23.552938 -1.352938\n",
       "102    18.6  17.593568  1.006432\n",
       "\n",
       "[102 rows x 3 columns]"
      ]
     },
     "execution_count": 154,
     "metadata": {},
     "output_type": "execute_result"
    }
   ],
   "source": [
    "table41"
   ]
  },
  {
   "cell_type": "code",
   "execution_count": null,
   "id": "967092a4",
   "metadata": {},
   "outputs": [],
   "source": []
  }
 ],
 "metadata": {
  "kernelspec": {
   "display_name": "Python 3 (ipykernel)",
   "language": "python",
   "name": "python3"
  },
  "language_info": {
   "codemirror_mode": {
    "name": "ipython",
    "version": 3
   },
   "file_extension": ".py",
   "mimetype": "text/x-python",
   "name": "python",
   "nbconvert_exporter": "python",
   "pygments_lexer": "ipython3",
   "version": "3.9.12"
  }
 },
 "nbformat": 4,
 "nbformat_minor": 5
}
