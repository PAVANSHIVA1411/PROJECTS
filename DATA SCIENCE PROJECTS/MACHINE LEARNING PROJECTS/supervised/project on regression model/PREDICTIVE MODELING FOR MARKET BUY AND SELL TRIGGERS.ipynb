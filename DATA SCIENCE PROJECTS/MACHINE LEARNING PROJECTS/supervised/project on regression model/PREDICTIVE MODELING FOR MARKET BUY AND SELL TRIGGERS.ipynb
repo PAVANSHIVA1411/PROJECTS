{
 "cells": [
  {
   "cell_type": "markdown",
   "id": "712b9b38",
   "metadata": {
    "id": "712b9b38"
   },
   "source": [
    "# STOCK PRICE PREDICTION"
   ]
  },
  {
   "cell_type": "code",
   "execution_count": 1,
   "id": "k-MpSbRglqvV",
   "metadata": {
    "id": "k-MpSbRglqvV"
   },
   "outputs": [
    {
     "name": "stdout",
     "output_type": "stream",
     "text": [
      "Requirement already satisfied: yfinance in c:\\users\\pavan\\anaconda3\\lib\\site-packages (0.2.9)\n",
      "Requirement already satisfied: pandas>=1.3.0 in c:\\users\\pavan\\anaconda3\\lib\\site-packages (from yfinance) (1.4.2)\n",
      "Requirement already satisfied: pytz>=2022.5 in c:\\users\\pavan\\anaconda3\\lib\\site-packages (from yfinance) (2022.7.1)\n",
      "Requirement already satisfied: multitasking>=0.0.7 in c:\\users\\pavan\\anaconda3\\lib\\site-packages (from yfinance) (0.0.11)\n",
      "Requirement already satisfied: appdirs>=1.4.4 in c:\\users\\pavan\\anaconda3\\lib\\site-packages (from yfinance) (1.4.4)\n",
      "Requirement already satisfied: cryptography>=3.3.2 in c:\\users\\pavan\\anaconda3\\lib\\site-packages (from yfinance) (3.4.8)\n",
      "Requirement already satisfied: beautifulsoup4>=4.11.1 in c:\\users\\pavan\\anaconda3\\lib\\site-packages (from yfinance) (4.11.1)\n",
      "Requirement already satisfied: lxml>=4.9.1 in c:\\users\\pavan\\anaconda3\\lib\\site-packages (from yfinance) (4.9.2)\n",
      "Requirement already satisfied: numpy>=1.16.5 in c:\\users\\pavan\\anaconda3\\lib\\site-packages (from yfinance) (1.21.5)\n",
      "Requirement already satisfied: frozendict>=2.3.4 in c:\\users\\pavan\\anaconda3\\lib\\site-packages (from yfinance) (2.3.4)\n",
      "Requirement already satisfied: requests>=2.26 in c:\\users\\pavan\\anaconda3\\lib\\site-packages (from yfinance) (2.27.1)\n",
      "Requirement already satisfied: html5lib>=1.1 in c:\\users\\pavan\\anaconda3\\lib\\site-packages (from yfinance) (1.1)\n",
      "Requirement already satisfied: soupsieve>1.2 in c:\\users\\pavan\\anaconda3\\lib\\site-packages (from beautifulsoup4>=4.11.1->yfinance) (2.3.1)\n",
      "Requirement already satisfied: cffi>=1.12 in c:\\users\\pavan\\anaconda3\\lib\\site-packages (from cryptography>=3.3.2->yfinance) (1.15.0)\n",
      "Requirement already satisfied: pycparser in c:\\users\\pavan\\anaconda3\\lib\\site-packages (from cffi>=1.12->cryptography>=3.3.2->yfinance) (2.21)\n",
      "Requirement already satisfied: six>=1.9 in c:\\users\\pavan\\anaconda3\\lib\\site-packages (from html5lib>=1.1->yfinance) (1.16.0)\n",
      "Requirement already satisfied: webencodings in c:\\users\\pavan\\anaconda3\\lib\\site-packages (from html5lib>=1.1->yfinance) (0.5.1)\n",
      "Requirement already satisfied: python-dateutil>=2.8.1 in c:\\users\\pavan\\anaconda3\\lib\\site-packages (from pandas>=1.3.0->yfinance) (2.8.2)\n",
      "Requirement already satisfied: urllib3<1.27,>=1.21.1 in c:\\users\\pavan\\anaconda3\\lib\\site-packages (from requests>=2.26->yfinance) (1.26.9)\n",
      "Requirement already satisfied: idna<4,>=2.5 in c:\\users\\pavan\\anaconda3\\lib\\site-packages (from requests>=2.26->yfinance) (3.3)\n",
      "Requirement already satisfied: charset-normalizer~=2.0.0 in c:\\users\\pavan\\anaconda3\\lib\\site-packages (from requests>=2.26->yfinance) (2.0.4)\n",
      "Requirement already satisfied: certifi>=2017.4.17 in c:\\users\\pavan\\anaconda3\\lib\\site-packages (from requests>=2.26->yfinance) (2021.10.8)\n",
      "Note: you may need to restart the kernel to use updated packages.\n"
     ]
    }
   ],
   "source": [
    "pip install yfinance"
   ]
  },
  {
   "cell_type": "code",
   "execution_count": 2,
   "id": "f74d75bb",
   "metadata": {
    "id": "f74d75bb"
   },
   "outputs": [],
   "source": [
    "#importing the library"
   ]
  },
  {
   "cell_type": "code",
   "execution_count": 3,
   "id": "20f07538",
   "metadata": {
    "executionInfo": {
     "elapsed": 677,
     "status": "ok",
     "timestamp": 1675634496278,
     "user": {
      "displayName": "Nandhashree M S",
      "userId": "00326800609865145959"
     },
     "user_tz": 300
    },
    "id": "20f07538"
   },
   "outputs": [],
   "source": [
    "import os\n",
    "import pandas as pd\n",
    "import numpy as np\n",
    "import matplotlib.pyplot as plt\n",
    "import seaborn as sns\n",
    "import datetime\n",
    "import math\n",
    "from sklearn.linear_model import LinearRegression"
   ]
  },
  {
   "cell_type": "markdown",
   "id": "caa0d802",
   "metadata": {
    "id": "caa0d802"
   },
   "source": [
    "Data Preprocessing/Collection"
   ]
  },
  {
   "cell_type": "code",
   "execution_count": 5,
   "id": "d64cec74",
   "metadata": {
    "executionInfo": {
     "elapsed": 1490,
     "status": "ok",
     "timestamp": 1675634349890,
     "user": {
      "displayName": "Nandhashree M S",
      "userId": "00326800609865145959"
     },
     "user_tz": 300
    },
    "id": "d64cec74"
   },
   "outputs": [],
   "source": [
    "import yfinance as yahoofinance\n",
    "startDate=datetime.datetime(2018,2,18)\n",
    "endDate=datetime.datetime(2023,2,15)\n",
    "GetTataInformation=yahoofinance.Ticker('TATAMOTORS.NS')\n",
    "data=round(GetTataInformation.history(start=startDate,end=endDate),2)\n",
    "index_as_datetime=pd.to_datetime(data.index)\n",
    "data.index=index_as_datetime.date\n",
    "data.index.names=['Date']"
   ]
  },
  {
   "cell_type": "code",
   "execution_count": 6,
   "id": "e96140ef",
   "metadata": {
    "id": "e96140ef"
   },
   "outputs": [],
   "source": [
    "#printing first 10 records of the dataset"
   ]
  },
  {
   "cell_type": "code",
   "execution_count": 7,
   "id": "c4da7d8d",
   "metadata": {
    "colab": {
     "base_uri": "https://localhost:8080/",
     "height": 395
    },
    "executionInfo": {
     "elapsed": 391,
     "status": "ok",
     "timestamp": 1675634353301,
     "user": {
      "displayName": "Nandhashree M S",
      "userId": "00326800609865145959"
     },
     "user_tz": 300
    },
    "id": "c4da7d8d",
    "outputId": "45f9132e-6421-44a8-c027-217487140a8a"
   },
   "outputs": [
    {
     "data": {
      "text/html": [
       "<div>\n",
       "<style scoped>\n",
       "    .dataframe tbody tr th:only-of-type {\n",
       "        vertical-align: middle;\n",
       "    }\n",
       "\n",
       "    .dataframe tbody tr th {\n",
       "        vertical-align: top;\n",
       "    }\n",
       "\n",
       "    .dataframe thead th {\n",
       "        text-align: right;\n",
       "    }\n",
       "</style>\n",
       "<table border=\"1\" class=\"dataframe\">\n",
       "  <thead>\n",
       "    <tr style=\"text-align: right;\">\n",
       "      <th></th>\n",
       "      <th>Open</th>\n",
       "      <th>High</th>\n",
       "      <th>Low</th>\n",
       "      <th>Close</th>\n",
       "      <th>Volume</th>\n",
       "      <th>Dividends</th>\n",
       "      <th>Stock Splits</th>\n",
       "    </tr>\n",
       "    <tr>\n",
       "      <th>Date</th>\n",
       "      <th></th>\n",
       "      <th></th>\n",
       "      <th></th>\n",
       "      <th></th>\n",
       "      <th></th>\n",
       "      <th></th>\n",
       "      <th></th>\n",
       "    </tr>\n",
       "  </thead>\n",
       "  <tbody>\n",
       "    <tr>\n",
       "      <th>2018-02-19</th>\n",
       "      <td>373.70</td>\n",
       "      <td>374.70</td>\n",
       "      <td>362.80</td>\n",
       "      <td>368.75</td>\n",
       "      <td>5658765</td>\n",
       "      <td>0.0</td>\n",
       "      <td>0.0</td>\n",
       "    </tr>\n",
       "    <tr>\n",
       "      <th>2018-02-20</th>\n",
       "      <td>370.35</td>\n",
       "      <td>370.90</td>\n",
       "      <td>366.50</td>\n",
       "      <td>369.30</td>\n",
       "      <td>3972114</td>\n",
       "      <td>0.0</td>\n",
       "      <td>0.0</td>\n",
       "    </tr>\n",
       "    <tr>\n",
       "      <th>2018-02-21</th>\n",
       "      <td>372.50</td>\n",
       "      <td>372.50</td>\n",
       "      <td>362.85</td>\n",
       "      <td>364.45</td>\n",
       "      <td>8640166</td>\n",
       "      <td>0.0</td>\n",
       "      <td>0.0</td>\n",
       "    </tr>\n",
       "    <tr>\n",
       "      <th>2018-02-22</th>\n",
       "      <td>363.00</td>\n",
       "      <td>363.00</td>\n",
       "      <td>357.50</td>\n",
       "      <td>358.50</td>\n",
       "      <td>10870704</td>\n",
       "      <td>0.0</td>\n",
       "      <td>0.0</td>\n",
       "    </tr>\n",
       "    <tr>\n",
       "      <th>2018-02-23</th>\n",
       "      <td>360.10</td>\n",
       "      <td>364.60</td>\n",
       "      <td>358.75</td>\n",
       "      <td>360.20</td>\n",
       "      <td>6751064</td>\n",
       "      <td>0.0</td>\n",
       "      <td>0.0</td>\n",
       "    </tr>\n",
       "    <tr>\n",
       "      <th>2018-02-26</th>\n",
       "      <td>362.00</td>\n",
       "      <td>373.50</td>\n",
       "      <td>362.00</td>\n",
       "      <td>372.05</td>\n",
       "      <td>10576794</td>\n",
       "      <td>0.0</td>\n",
       "      <td>0.0</td>\n",
       "    </tr>\n",
       "    <tr>\n",
       "      <th>2018-02-27</th>\n",
       "      <td>375.00</td>\n",
       "      <td>376.60</td>\n",
       "      <td>370.35</td>\n",
       "      <td>372.55</td>\n",
       "      <td>6156672</td>\n",
       "      <td>0.0</td>\n",
       "      <td>0.0</td>\n",
       "    </tr>\n",
       "    <tr>\n",
       "      <th>2018-02-28</th>\n",
       "      <td>370.00</td>\n",
       "      <td>373.65</td>\n",
       "      <td>367.15</td>\n",
       "      <td>369.90</td>\n",
       "      <td>8009429</td>\n",
       "      <td>0.0</td>\n",
       "      <td>0.0</td>\n",
       "    </tr>\n",
       "    <tr>\n",
       "      <th>2018-03-01</th>\n",
       "      <td>369.75</td>\n",
       "      <td>376.30</td>\n",
       "      <td>369.05</td>\n",
       "      <td>370.75</td>\n",
       "      <td>6991806</td>\n",
       "      <td>0.0</td>\n",
       "      <td>0.0</td>\n",
       "    </tr>\n",
       "    <tr>\n",
       "      <th>2018-03-05</th>\n",
       "      <td>368.75</td>\n",
       "      <td>368.75</td>\n",
       "      <td>350.10</td>\n",
       "      <td>352.05</td>\n",
       "      <td>14665325</td>\n",
       "      <td>0.0</td>\n",
       "      <td>0.0</td>\n",
       "    </tr>\n",
       "  </tbody>\n",
       "</table>\n",
       "</div>"
      ],
      "text/plain": [
       "              Open    High     Low   Close    Volume  Dividends  Stock Splits\n",
       "Date                                                                         \n",
       "2018-02-19  373.70  374.70  362.80  368.75   5658765        0.0           0.0\n",
       "2018-02-20  370.35  370.90  366.50  369.30   3972114        0.0           0.0\n",
       "2018-02-21  372.50  372.50  362.85  364.45   8640166        0.0           0.0\n",
       "2018-02-22  363.00  363.00  357.50  358.50  10870704        0.0           0.0\n",
       "2018-02-23  360.10  364.60  358.75  360.20   6751064        0.0           0.0\n",
       "2018-02-26  362.00  373.50  362.00  372.05  10576794        0.0           0.0\n",
       "2018-02-27  375.00  376.60  370.35  372.55   6156672        0.0           0.0\n",
       "2018-02-28  370.00  373.65  367.15  369.90   8009429        0.0           0.0\n",
       "2018-03-01  369.75  376.30  369.05  370.75   6991806        0.0           0.0\n",
       "2018-03-05  368.75  368.75  350.10  352.05  14665325        0.0           0.0"
      ]
     },
     "execution_count": 7,
     "metadata": {},
     "output_type": "execute_result"
    }
   ],
   "source": [
    "data.head(10)"
   ]
  },
  {
   "cell_type": "code",
   "execution_count": 8,
   "id": "9a453059",
   "metadata": {
    "id": "9a453059"
   },
   "outputs": [],
   "source": [
    "#printing the shape of the data"
   ]
  },
  {
   "cell_type": "code",
   "execution_count": 9,
   "id": "bcfa9a29",
   "metadata": {
    "colab": {
     "base_uri": "https://localhost:8080/"
    },
    "executionInfo": {
     "elapsed": 165,
     "status": "ok",
     "timestamp": 1675634355292,
     "user": {
      "displayName": "Nandhashree M S",
      "userId": "00326800609865145959"
     },
     "user_tz": 300
    },
    "id": "bcfa9a29",
    "outputId": "d6051b48-6afa-481c-a01d-8c635e70af6a"
   },
   "outputs": [
    {
     "data": {
      "text/plain": [
       "(1227, 7)"
      ]
     },
     "execution_count": 9,
     "metadata": {},
     "output_type": "execute_result"
    }
   ],
   "source": [
    "data.shape"
   ]
  },
  {
   "cell_type": "code",
   "execution_count": 10,
   "id": "e8a98902",
   "metadata": {
    "id": "e8a98902"
   },
   "outputs": [],
   "source": [
    "#printing type of data of each feature"
   ]
  },
  {
   "cell_type": "code",
   "execution_count": 11,
   "id": "703cb050",
   "metadata": {
    "colab": {
     "base_uri": "https://localhost:8080/"
    },
    "executionInfo": {
     "elapsed": 221,
     "status": "ok",
     "timestamp": 1675634356869,
     "user": {
      "displayName": "Nandhashree M S",
      "userId": "00326800609865145959"
     },
     "user_tz": 300
    },
    "id": "703cb050",
    "outputId": "57d388cb-d66c-47f3-94a4-6297459eaa4e"
   },
   "outputs": [
    {
     "name": "stdout",
     "output_type": "stream",
     "text": [
      "<class 'pandas.core.frame.DataFrame'>\n",
      "Index: 1227 entries, 2018-02-19 to 2023-02-03\n",
      "Data columns (total 7 columns):\n",
      " #   Column        Non-Null Count  Dtype  \n",
      "---  ------        --------------  -----  \n",
      " 0   Open          1227 non-null   float64\n",
      " 1   High          1227 non-null   float64\n",
      " 2   Low           1227 non-null   float64\n",
      " 3   Close         1227 non-null   float64\n",
      " 4   Volume        1227 non-null   int64  \n",
      " 5   Dividends     1227 non-null   float64\n",
      " 6   Stock Splits  1227 non-null   float64\n",
      "dtypes: float64(6), int64(1)\n",
      "memory usage: 76.7+ KB\n"
     ]
    }
   ],
   "source": [
    "data.info()"
   ]
  },
  {
   "cell_type": "markdown",
   "id": "f6ffe321",
   "metadata": {
    "id": "f6ffe321"
   },
   "source": [
    "Data Cleaning"
   ]
  },
  {
   "cell_type": "code",
   "execution_count": 12,
   "id": "71324319",
   "metadata": {
    "executionInfo": {
     "elapsed": 9,
     "status": "ok",
     "timestamp": 1675634358364,
     "user": {
      "displayName": "Nandhashree M S",
      "userId": "00326800609865145959"
     },
     "user_tz": 300
    },
    "id": "71324319"
   },
   "outputs": [],
   "source": [
    "#checking for missing values"
   ]
  },
  {
   "cell_type": "code",
   "execution_count": 13,
   "id": "b2cfa37f",
   "metadata": {
    "colab": {
     "base_uri": "https://localhost:8080/"
    },
    "executionInfo": {
     "elapsed": 178,
     "status": "ok",
     "timestamp": 1675634362598,
     "user": {
      "displayName": "Nandhashree M S",
      "userId": "00326800609865145959"
     },
     "user_tz": 300
    },
    "id": "b2cfa37f",
    "outputId": "e50f2f17-507a-47be-b437-07383d6c8503"
   },
   "outputs": [
    {
     "data": {
      "text/plain": [
       "Open            0\n",
       "High            0\n",
       "Low             0\n",
       "Close           0\n",
       "Volume          0\n",
       "Dividends       0\n",
       "Stock Splits    0\n",
       "dtype: int64"
      ]
     },
     "execution_count": 13,
     "metadata": {},
     "output_type": "execute_result"
    }
   ],
   "source": [
    "data.isnull().sum()"
   ]
  },
  {
   "cell_type": "code",
   "execution_count": 14,
   "id": "8d9a204e",
   "metadata": {
    "id": "8d9a204e"
   },
   "outputs": [],
   "source": [
    "#so there are no missing values"
   ]
  },
  {
   "cell_type": "markdown",
   "id": "4b34e53c",
   "metadata": {
    "executionInfo": {
     "elapsed": 156,
     "status": "ok",
     "timestamp": 1675634364734,
     "user": {
      "displayName": "Nandhashree M S",
      "userId": "00326800609865145959"
     },
     "user_tz": 300
    },
    "id": "f61b7f84"
   },
   "source": [
    "data visualisation"
   ]
  },
  {
   "cell_type": "code",
   "execution_count": 15,
   "id": "fc245a5a",
   "metadata": {
    "id": "fc245a5a"
   },
   "outputs": [],
   "source": [
    "#plotting how the closing price history over the years"
   ]
  },
  {
   "cell_type": "code",
   "execution_count": 16,
   "id": "b007474c",
   "metadata": {
    "colab": {
     "base_uri": "https://localhost:8080/",
     "height": 630
    },
    "executionInfo": {
     "elapsed": 457,
     "status": "ok",
     "timestamp": 1675634368907,
     "user": {
      "displayName": "Nandhashree M S",
      "userId": "00326800609865145959"
     },
     "user_tz": 300
    },
    "id": "b007474c",
    "outputId": "c690bc40-a7c8-4045-9ed7-469edbbeefc4"
   },
   "outputs": [
    {
     "data": {
      "image/png": "[encoded data removed]",
      "text/plain": [
       "<Figure size 1152x720 with 1 Axes>"
      ]
     },
     "metadata": {
      "needs_background": "light"
     },
     "output_type": "display_data"
    }
   ],
   "source": [
    "plt.figure(figsize=(16,10))\n",
    "plt.plot(data['Close'])\n",
    "plt.grid()\n",
    "plt.xlabel('years',fontsize=18)\n",
    "plt.ylabel('close price',fontsize=18)\n",
    "plt.title('close price history')\n",
    "plt.show()"
   ]
  },
  {
   "cell_type": "code",
   "execution_count": 17,
   "id": "be46a750",
   "metadata": {
    "id": "be46a750"
   },
   "outputs": [],
   "source": [
    "#checking for correlation between each column"
   ]
  },
  {
   "cell_type": "code",
   "execution_count": 18,
   "id": "bf86af25",
   "metadata": {
    "executionInfo": {
     "elapsed": 197,
     "status": "ok",
     "timestamp": 1675634372092,
     "user": {
      "displayName": "Nandhashree M S",
      "userId": "00326800609865145959"
     },
     "user_tz": 300
    },
    "id": "bf86af25"
   },
   "outputs": [],
   "source": [
    "corr=data.corr()"
   ]
  },
  {
   "cell_type": "code",
   "execution_count": 19,
   "id": "6a46b38a",
   "metadata": {
    "colab": {
     "base_uri": "https://localhost:8080/",
     "height": 514
    },
    "executionInfo": {
     "elapsed": 957,
     "status": "ok",
     "timestamp": 1675634374669,
     "user": {
      "displayName": "Nandhashree M S",
      "userId": "00326800609865145959"
     },
     "user_tz": 300
    },
    "id": "6a46b38a",
    "outputId": "d40ccf78-ae80-44d9-c294-7012ef0cd17d"
   },
   "outputs": [
    {
     "data": {
      "text/plain": [
       "<AxesSubplot:>"
      ]
     },
     "execution_count": 19,
     "metadata": {},
     "output_type": "execute_result"
    },
    {
     "data": {
      "image/png": "[encoded data removed]",
      "text/plain": [
       "<Figure size 576x576 with 2 Axes>"
      ]
     },
     "metadata": {
      "needs_background": "light"
     },
     "output_type": "display_data"
    }
   ],
   "source": [
    "plt.figure(figsize=(8,8))\n",
    "sns.heatmap(corr,cbar=True,square=True,annot=True,annot_kws={'size':12},fmt='0.2f',cmap='Reds')"
   ]
  },
  {
   "cell_type": "code",
   "execution_count": 20,
   "id": "7a42371f",
   "metadata": {
    "id": "7a42371f"
   },
   "outputs": [],
   "source": [
    "#checking values of last two features"
   ]
  },
  {
   "cell_type": "code",
   "execution_count": 21,
   "id": "88f425e9",
   "metadata": {
    "colab": {
     "base_uri": "https://localhost:8080/"
    },
    "executionInfo": {
     "elapsed": 146,
     "status": "ok",
     "timestamp": 1675634378213,
     "user": {
      "displayName": "Nandhashree M S",
      "userId": "00326800609865145959"
     },
     "user_tz": 300
    },
    "id": "88f425e9",
    "outputId": "65d24cdd-9ef9-4997-c94a-68018ffe7bd8"
   },
   "outputs": [
    {
     "data": {
      "text/plain": [
       "Dividends  Stock Splits\n",
       "0.0        0.0             1227\n",
       "dtype: int64"
      ]
     },
     "execution_count": 21,
     "metadata": {},
     "output_type": "execute_result"
    }
   ],
   "source": [
    "data[['Dividends','Stock Splits']].value_counts()"
   ]
  },
  {
   "cell_type": "code",
   "execution_count": 22,
   "id": "76741b92",
   "metadata": {
    "colab": {
     "base_uri": "https://localhost:8080/",
     "height": 455
    },
    "executionInfo": {
     "elapsed": 165,
     "status": "ok",
     "timestamp": 1675634380583,
     "user": {
      "displayName": "Nandhashree M S",
      "userId": "00326800609865145959"
     },
     "user_tz": 300
    },
    "id": "76741b92",
    "outputId": "bdb3885b-03a9-49a0-8de1-945ada629c4c"
   },
   "outputs": [
    {
     "data": {
      "text/html": [
       "<div>\n",
       "<style scoped>\n",
       "    .dataframe tbody tr th:only-of-type {\n",
       "        vertical-align: middle;\n",
       "    }\n",
       "\n",
       "    .dataframe tbody tr th {\n",
       "        vertical-align: top;\n",
       "    }\n",
       "\n",
       "    .dataframe thead th {\n",
       "        text-align: right;\n",
       "    }\n",
       "</style>\n",
       "<table border=\"1\" class=\"dataframe\">\n",
       "  <thead>\n",
       "    <tr style=\"text-align: right;\">\n",
       "      <th></th>\n",
       "      <th>Open</th>\n",
       "      <th>High</th>\n",
       "      <th>Low</th>\n",
       "      <th>Close</th>\n",
       "      <th>Volume</th>\n",
       "      <th>Dividends</th>\n",
       "      <th>Stock Splits</th>\n",
       "    </tr>\n",
       "    <tr>\n",
       "      <th>Date</th>\n",
       "      <th></th>\n",
       "      <th></th>\n",
       "      <th></th>\n",
       "      <th></th>\n",
       "      <th></th>\n",
       "      <th></th>\n",
       "      <th></th>\n",
       "    </tr>\n",
       "  </thead>\n",
       "  <tbody>\n",
       "    <tr>\n",
       "      <th>2018-02-19</th>\n",
       "      <td>373.70</td>\n",
       "      <td>374.7</td>\n",
       "      <td>362.80</td>\n",
       "      <td>368.75</td>\n",
       "      <td>5658765</td>\n",
       "      <td>0.0</td>\n",
       "      <td>0.0</td>\n",
       "    </tr>\n",
       "    <tr>\n",
       "      <th>2018-02-20</th>\n",
       "      <td>370.35</td>\n",
       "      <td>370.9</td>\n",
       "      <td>366.50</td>\n",
       "      <td>369.30</td>\n",
       "      <td>3972114</td>\n",
       "      <td>0.0</td>\n",
       "      <td>0.0</td>\n",
       "    </tr>\n",
       "    <tr>\n",
       "      <th>2018-02-21</th>\n",
       "      <td>372.50</td>\n",
       "      <td>372.5</td>\n",
       "      <td>362.85</td>\n",
       "      <td>364.45</td>\n",
       "      <td>8640166</td>\n",
       "      <td>0.0</td>\n",
       "      <td>0.0</td>\n",
       "    </tr>\n",
       "    <tr>\n",
       "      <th>2018-02-22</th>\n",
       "      <td>363.00</td>\n",
       "      <td>363.0</td>\n",
       "      <td>357.50</td>\n",
       "      <td>358.50</td>\n",
       "      <td>10870704</td>\n",
       "      <td>0.0</td>\n",
       "      <td>0.0</td>\n",
       "    </tr>\n",
       "    <tr>\n",
       "      <th>2018-02-23</th>\n",
       "      <td>360.10</td>\n",
       "      <td>364.6</td>\n",
       "      <td>358.75</td>\n",
       "      <td>360.20</td>\n",
       "      <td>6751064</td>\n",
       "      <td>0.0</td>\n",
       "      <td>0.0</td>\n",
       "    </tr>\n",
       "    <tr>\n",
       "      <th>...</th>\n",
       "      <td>...</td>\n",
       "      <td>...</td>\n",
       "      <td>...</td>\n",
       "      <td>...</td>\n",
       "      <td>...</td>\n",
       "      <td>...</td>\n",
       "      <td>...</td>\n",
       "    </tr>\n",
       "    <tr>\n",
       "      <th>2023-01-30</th>\n",
       "      <td>445.60</td>\n",
       "      <td>450.0</td>\n",
       "      <td>437.65</td>\n",
       "      <td>443.65</td>\n",
       "      <td>18316743</td>\n",
       "      <td>0.0</td>\n",
       "      <td>0.0</td>\n",
       "    </tr>\n",
       "    <tr>\n",
       "      <th>2023-01-31</th>\n",
       "      <td>443.70</td>\n",
       "      <td>454.8</td>\n",
       "      <td>440.90</td>\n",
       "      <td>452.10</td>\n",
       "      <td>25154475</td>\n",
       "      <td>0.0</td>\n",
       "      <td>0.0</td>\n",
       "    </tr>\n",
       "    <tr>\n",
       "      <th>2023-02-01</th>\n",
       "      <td>456.80</td>\n",
       "      <td>461.5</td>\n",
       "      <td>437.65</td>\n",
       "      <td>446.65</td>\n",
       "      <td>23798589</td>\n",
       "      <td>0.0</td>\n",
       "      <td>0.0</td>\n",
       "    </tr>\n",
       "    <tr>\n",
       "      <th>2023-02-02</th>\n",
       "      <td>446.75</td>\n",
       "      <td>449.2</td>\n",
       "      <td>440.70</td>\n",
       "      <td>444.80</td>\n",
       "      <td>11344554</td>\n",
       "      <td>0.0</td>\n",
       "      <td>0.0</td>\n",
       "    </tr>\n",
       "    <tr>\n",
       "      <th>2023-02-03</th>\n",
       "      <td>447.00</td>\n",
       "      <td>450.8</td>\n",
       "      <td>442.35</td>\n",
       "      <td>445.45</td>\n",
       "      <td>13067403</td>\n",
       "      <td>0.0</td>\n",
       "      <td>0.0</td>\n",
       "    </tr>\n",
       "  </tbody>\n",
       "</table>\n",
       "<p>1227 rows × 7 columns</p>\n",
       "</div>"
      ],
      "text/plain": [
       "              Open   High     Low   Close    Volume  Dividends  Stock Splits\n",
       "Date                                                                        \n",
       "2018-02-19  373.70  374.7  362.80  368.75   5658765        0.0           0.0\n",
       "2018-02-20  370.35  370.9  366.50  369.30   3972114        0.0           0.0\n",
       "2018-02-21  372.50  372.5  362.85  364.45   8640166        0.0           0.0\n",
       "2018-02-22  363.00  363.0  357.50  358.50  10870704        0.0           0.0\n",
       "2018-02-23  360.10  364.6  358.75  360.20   6751064        0.0           0.0\n",
       "...            ...    ...     ...     ...       ...        ...           ...\n",
       "2023-01-30  445.60  450.0  437.65  443.65  18316743        0.0           0.0\n",
       "2023-01-31  443.70  454.8  440.90  452.10  25154475        0.0           0.0\n",
       "2023-02-01  456.80  461.5  437.65  446.65  23798589        0.0           0.0\n",
       "2023-02-02  446.75  449.2  440.70  444.80  11344554        0.0           0.0\n",
       "2023-02-03  447.00  450.8  442.35  445.45  13067403        0.0           0.0\n",
       "\n",
       "[1227 rows x 7 columns]"
      ]
     },
     "execution_count": 22,
     "metadata": {},
     "output_type": "execute_result"
    }
   ],
   "source": [
    "data"
   ]
  },
  {
   "cell_type": "code",
   "execution_count": 23,
   "id": "1a99d8d0",
   "metadata": {
    "id": "1a99d8d0"
   },
   "outputs": [],
   "source": [
    "#so last features have no relation with other feature"
   ]
  },
  {
   "cell_type": "code",
   "execution_count": 24,
   "id": "ea5461eb",
   "metadata": {
    "id": "ea5461eb"
   },
   "outputs": [],
   "source": [
    "#removing last two features"
   ]
  },
  {
   "cell_type": "code",
   "execution_count": 25,
   "id": "d50c4ace",
   "metadata": {
    "colab": {
     "base_uri": "https://localhost:8080/",
     "height": 455
    },
    "executionInfo": {
     "elapsed": 169,
     "status": "ok",
     "timestamp": 1675634383154,
     "user": {
      "displayName": "Nandhashree M S",
      "userId": "00326800609865145959"
     },
     "user_tz": 300
    },
    "id": "d50c4ace",
    "outputId": "23236ea1-1541-4829-c895-63e58c39d8ad"
   },
   "outputs": [
    {
     "data": {
      "text/html": [
       "<div>\n",
       "<style scoped>\n",
       "    .dataframe tbody tr th:only-of-type {\n",
       "        vertical-align: middle;\n",
       "    }\n",
       "\n",
       "    .dataframe tbody tr th {\n",
       "        vertical-align: top;\n",
       "    }\n",
       "\n",
       "    .dataframe thead th {\n",
       "        text-align: right;\n",
       "    }\n",
       "</style>\n",
       "<table border=\"1\" class=\"dataframe\">\n",
       "  <thead>\n",
       "    <tr style=\"text-align: right;\">\n",
       "      <th></th>\n",
       "      <th>Open</th>\n",
       "      <th>High</th>\n",
       "      <th>Low</th>\n",
       "      <th>Close</th>\n",
       "      <th>Volume</th>\n",
       "    </tr>\n",
       "    <tr>\n",
       "      <th>Date</th>\n",
       "      <th></th>\n",
       "      <th></th>\n",
       "      <th></th>\n",
       "      <th></th>\n",
       "      <th></th>\n",
       "    </tr>\n",
       "  </thead>\n",
       "  <tbody>\n",
       "    <tr>\n",
       "      <th>2018-02-19</th>\n",
       "      <td>373.70</td>\n",
       "      <td>374.7</td>\n",
       "      <td>362.80</td>\n",
       "      <td>368.75</td>\n",
       "      <td>5658765</td>\n",
       "    </tr>\n",
       "    <tr>\n",
       "      <th>2018-02-20</th>\n",
       "      <td>370.35</td>\n",
       "      <td>370.9</td>\n",
       "      <td>366.50</td>\n",
       "      <td>369.30</td>\n",
       "      <td>3972114</td>\n",
       "    </tr>\n",
       "    <tr>\n",
       "      <th>2018-02-21</th>\n",
       "      <td>372.50</td>\n",
       "      <td>372.5</td>\n",
       "      <td>362.85</td>\n",
       "      <td>364.45</td>\n",
       "      <td>8640166</td>\n",
       "    </tr>\n",
       "    <tr>\n",
       "      <th>2018-02-22</th>\n",
       "      <td>363.00</td>\n",
       "      <td>363.0</td>\n",
       "      <td>357.50</td>\n",
       "      <td>358.50</td>\n",
       "      <td>10870704</td>\n",
       "    </tr>\n",
       "    <tr>\n",
       "      <th>2018-02-23</th>\n",
       "      <td>360.10</td>\n",
       "      <td>364.6</td>\n",
       "      <td>358.75</td>\n",
       "      <td>360.20</td>\n",
       "      <td>6751064</td>\n",
       "    </tr>\n",
       "    <tr>\n",
       "      <th>...</th>\n",
       "      <td>...</td>\n",
       "      <td>...</td>\n",
       "      <td>...</td>\n",
       "      <td>...</td>\n",
       "      <td>...</td>\n",
       "    </tr>\n",
       "    <tr>\n",
       "      <th>2023-01-30</th>\n",
       "      <td>445.60</td>\n",
       "      <td>450.0</td>\n",
       "      <td>437.65</td>\n",
       "      <td>443.65</td>\n",
       "      <td>18316743</td>\n",
       "    </tr>\n",
       "    <tr>\n",
       "      <th>2023-01-31</th>\n",
       "      <td>443.70</td>\n",
       "      <td>454.8</td>\n",
       "      <td>440.90</td>\n",
       "      <td>452.10</td>\n",
       "      <td>25154475</td>\n",
       "    </tr>\n",
       "    <tr>\n",
       "      <th>2023-02-01</th>\n",
       "      <td>456.80</td>\n",
       "      <td>461.5</td>\n",
       "      <td>437.65</td>\n",
       "      <td>446.65</td>\n",
       "      <td>23798589</td>\n",
       "    </tr>\n",
       "    <tr>\n",
       "      <th>2023-02-02</th>\n",
       "      <td>446.75</td>\n",
       "      <td>449.2</td>\n",
       "      <td>440.70</td>\n",
       "      <td>444.80</td>\n",
       "      <td>11344554</td>\n",
       "    </tr>\n",
       "    <tr>\n",
       "      <th>2023-02-03</th>\n",
       "      <td>447.00</td>\n",
       "      <td>450.8</td>\n",
       "      <td>442.35</td>\n",
       "      <td>445.45</td>\n",
       "      <td>13067403</td>\n",
       "    </tr>\n",
       "  </tbody>\n",
       "</table>\n",
       "<p>1227 rows × 5 columns</p>\n",
       "</div>"
      ],
      "text/plain": [
       "              Open   High     Low   Close    Volume\n",
       "Date                                               \n",
       "2018-02-19  373.70  374.7  362.80  368.75   5658765\n",
       "2018-02-20  370.35  370.9  366.50  369.30   3972114\n",
       "2018-02-21  372.50  372.5  362.85  364.45   8640166\n",
       "2018-02-22  363.00  363.0  357.50  358.50  10870704\n",
       "2018-02-23  360.10  364.6  358.75  360.20   6751064\n",
       "...            ...    ...     ...     ...       ...\n",
       "2023-01-30  445.60  450.0  437.65  443.65  18316743\n",
       "2023-01-31  443.70  454.8  440.90  452.10  25154475\n",
       "2023-02-01  456.80  461.5  437.65  446.65  23798589\n",
       "2023-02-02  446.75  449.2  440.70  444.80  11344554\n",
       "2023-02-03  447.00  450.8  442.35  445.45  13067403\n",
       "\n",
       "[1227 rows x 5 columns]"
      ]
     },
     "execution_count": 25,
     "metadata": {},
     "output_type": "execute_result"
    }
   ],
   "source": [
    "data=data.drop(['Dividends','Stock Splits'],axis=1)\n",
    "data"
   ]
  },
  {
   "cell_type": "code",
   "execution_count": 26,
   "id": "b014788c",
   "metadata": {
    "colab": {
     "base_uri": "https://localhost:8080/",
     "height": 301
    },
    "executionInfo": {
     "elapsed": 147,
     "status": "ok",
     "timestamp": 1675634385875,
     "user": {
      "displayName": "Nandhashree M S",
      "userId": "00326800609865145959"
     },
     "user_tz": 300
    },
    "id": "b014788c",
    "outputId": "225dd3e5-318c-49a8-e399-737c6fc4a04e"
   },
   "outputs": [
    {
     "data": {
      "text/html": [
       "<div>\n",
       "<style scoped>\n",
       "    .dataframe tbody tr th:only-of-type {\n",
       "        vertical-align: middle;\n",
       "    }\n",
       "\n",
       "    .dataframe tbody tr th {\n",
       "        vertical-align: top;\n",
       "    }\n",
       "\n",
       "    .dataframe thead th {\n",
       "        text-align: right;\n",
       "    }\n",
       "</style>\n",
       "<table border=\"1\" class=\"dataframe\">\n",
       "  <thead>\n",
       "    <tr style=\"text-align: right;\">\n",
       "      <th></th>\n",
       "      <th>Open</th>\n",
       "      <th>High</th>\n",
       "      <th>Low</th>\n",
       "      <th>Close</th>\n",
       "      <th>Volume</th>\n",
       "    </tr>\n",
       "  </thead>\n",
       "  <tbody>\n",
       "    <tr>\n",
       "      <th>count</th>\n",
       "      <td>1227.000000</td>\n",
       "      <td>1227.000000</td>\n",
       "      <td>1227.000000</td>\n",
       "      <td>1227.000000</td>\n",
       "      <td>1.227000e+03</td>\n",
       "    </tr>\n",
       "    <tr>\n",
       "      <th>mean</th>\n",
       "      <td>272.742910</td>\n",
       "      <td>277.008965</td>\n",
       "      <td>267.855542</td>\n",
       "      <td>272.102404</td>\n",
       "      <td>3.751056e+07</td>\n",
       "    </tr>\n",
       "    <tr>\n",
       "      <th>std</th>\n",
       "      <td>128.181558</td>\n",
       "      <td>129.430409</td>\n",
       "      <td>126.546498</td>\n",
       "      <td>127.886196</td>\n",
       "      <td>3.690374e+07</td>\n",
       "    </tr>\n",
       "    <tr>\n",
       "      <th>min</th>\n",
       "      <td>66.500000</td>\n",
       "      <td>66.900000</td>\n",
       "      <td>63.500000</td>\n",
       "      <td>65.300000</td>\n",
       "      <td>2.871205e+06</td>\n",
       "    </tr>\n",
       "    <tr>\n",
       "      <th>25%</th>\n",
       "      <td>166.725000</td>\n",
       "      <td>169.725000</td>\n",
       "      <td>163.450000</td>\n",
       "      <td>166.150000</td>\n",
       "      <td>1.443867e+07</td>\n",
       "    </tr>\n",
       "    <tr>\n",
       "      <th>50%</th>\n",
       "      <td>267.300000</td>\n",
       "      <td>271.000000</td>\n",
       "      <td>260.600000</td>\n",
       "      <td>266.600000</td>\n",
       "      <td>2.523673e+07</td>\n",
       "    </tr>\n",
       "    <tr>\n",
       "      <th>75%</th>\n",
       "      <td>395.475000</td>\n",
       "      <td>399.700000</td>\n",
       "      <td>390.275000</td>\n",
       "      <td>394.625000</td>\n",
       "      <td>4.886764e+07</td>\n",
       "    </tr>\n",
       "    <tr>\n",
       "      <th>max</th>\n",
       "      <td>531.450000</td>\n",
       "      <td>536.700000</td>\n",
       "      <td>520.250000</td>\n",
       "      <td>530.150000</td>\n",
       "      <td>3.905778e+08</td>\n",
       "    </tr>\n",
       "  </tbody>\n",
       "</table>\n",
       "</div>"
      ],
      "text/plain": [
       "              Open         High          Low        Close        Volume\n",
       "count  1227.000000  1227.000000  1227.000000  1227.000000  1.227000e+03\n",
       "mean    272.742910   277.008965   267.855542   272.102404  3.751056e+07\n",
       "std     128.181558   129.430409   126.546498   127.886196  3.690374e+07\n",
       "min      66.500000    66.900000    63.500000    65.300000  2.871205e+06\n",
       "25%     166.725000   169.725000   163.450000   166.150000  1.443867e+07\n",
       "50%     267.300000   271.000000   260.600000   266.600000  2.523673e+07\n",
       "75%     395.475000   399.700000   390.275000   394.625000  4.886764e+07\n",
       "max     531.450000   536.700000   520.250000   530.150000  3.905778e+08"
      ]
     },
     "execution_count": 26,
     "metadata": {},
     "output_type": "execute_result"
    }
   ],
   "source": [
    "data.describe()"
   ]
  },
  {
   "cell_type": "code",
   "execution_count": 27,
   "id": "7cf0b0df",
   "metadata": {
    "id": "7cf0b0df"
   },
   "outputs": [],
   "source": [
    "#adding new columns into my data to increase the performance"
   ]
  },
  {
   "cell_type": "code",
   "execution_count": 28,
   "id": "38a6a3b6",
   "metadata": {
    "executionInfo": {
     "elapsed": 2,
     "status": "ok",
     "timestamp": 1675634388291,
     "user": {
      "displayName": "Nandhashree M S",
      "userId": "00326800609865145959"
     },
     "user_tz": 300
    },
    "id": "38a6a3b6"
   },
   "outputs": [],
   "source": [
    "ema9 = data['Close'].ewm(span=9, adjust=False).mean()\n",
    "ema50 = data['Close'].ewm(span=50, adjust=False).mean()\n",
    "ema200 = data['Close'].ewm(span=200, adjust=False).mean()"
   ]
  },
  {
   "cell_type": "markdown",
   "id": "8d10498c",
   "metadata": {
    "id": "8d10498c"
   },
   "source": [
    "Data Visualization"
   ]
  },
  {
   "cell_type": "code",
   "execution_count": null,
   "id": "1290a223",
   "metadata": {},
   "outputs": [],
   "source": [
    "#plotting the graph for close history for past 5 years"
   ]
  },
  {
   "cell_type": "code",
   "execution_count": 29,
   "id": "85a9c517",
   "metadata": {
    "colab": {
     "base_uri": "https://localhost:8080/",
     "height": 648
    },
    "executionInfo": {
     "elapsed": 813,
     "status": "ok",
     "timestamp": 1675634392345,
     "user": {
      "displayName": "Nandhashree M S",
      "userId": "00326800609865145959"
     },
     "user_tz": 300
    },
    "id": "85a9c517",
    "outputId": "e7c3cf87-a6d8-4159-908a-46444b834ca7"
   },
   "outputs": [
    {
     "data": {
      "text/plain": [
       "Text(0.5, 1.0, 'closing price history through out 5 years with ema')"
      ]
     },
     "execution_count": 29,
     "metadata": {},
     "output_type": "execute_result"
    },
    {
     "data": {
      "image/png": "[encoded data removed]",
      "text/plain": [
       "<Figure size 1440x720 with 1 Axes>"
      ]
     },
     "metadata": {
      "needs_background": "light"
     },
     "output_type": "display_data"
    }
   ],
   "source": [
    "plt.figure(figsize=(20,10))\n",
    "plt.plot(data.Close,label='Close')\n",
    "plt.plot(ema9,label='9EMA')\n",
    "plt.plot(ema50,label='50EMA')\n",
    "plt.plot(ema200,label='200EMA')\n",
    "plt.grid()\n",
    "plt.legend()\n",
    "plt.xlabel('years',fontsize=20)\n",
    "plt.ylabel('Closing price',fontsize=20)\n",
    "plt.title('closing price history through out 5 years with ema')"
   ]
  },
  {
   "cell_type": "code",
   "execution_count": 31,
   "id": "2163c76e",
   "metadata": {
    "id": "2163c76e"
   },
   "outputs": [],
   "source": [
    "#adding moving average features into dataset to improve the performance"
   ]
  },
  {
   "cell_type": "code",
   "execution_count": 32,
   "id": "113aae73",
   "metadata": {
    "colab": {
     "base_uri": "https://localhost:8080/",
     "height": 455
    },
    "executionInfo": {
     "elapsed": 23,
     "status": "ok",
     "timestamp": 1675634398533,
     "user": {
      "displayName": "Nandhashree M S",
      "userId": "00326800609865145959"
     },
     "user_tz": 300
    },
    "id": "113aae73",
    "outputId": "49c753e5-5a3d-4399-9be3-26a40b5906c3"
   },
   "outputs": [
    {
     "data": {
      "text/html": [
       "<div>\n",
       "<style scoped>\n",
       "    .dataframe tbody tr th:only-of-type {\n",
       "        vertical-align: middle;\n",
       "    }\n",
       "\n",
       "    .dataframe tbody tr th {\n",
       "        vertical-align: top;\n",
       "    }\n",
       "\n",
       "    .dataframe thead th {\n",
       "        text-align: right;\n",
       "    }\n",
       "</style>\n",
       "<table border=\"1\" class=\"dataframe\">\n",
       "  <thead>\n",
       "    <tr style=\"text-align: right;\">\n",
       "      <th></th>\n",
       "      <th>Open</th>\n",
       "      <th>High</th>\n",
       "      <th>Low</th>\n",
       "      <th>Close</th>\n",
       "      <th>Volume</th>\n",
       "      <th>EMA_9</th>\n",
       "      <th>EMA_50</th>\n",
       "      <th>EMA_200</th>\n",
       "    </tr>\n",
       "    <tr>\n",
       "      <th>Date</th>\n",
       "      <th></th>\n",
       "      <th></th>\n",
       "      <th></th>\n",
       "      <th></th>\n",
       "      <th></th>\n",
       "      <th></th>\n",
       "      <th></th>\n",
       "      <th></th>\n",
       "    </tr>\n",
       "  </thead>\n",
       "  <tbody>\n",
       "    <tr>\n",
       "      <th>2018-02-19</th>\n",
       "      <td>373.70</td>\n",
       "      <td>374.7</td>\n",
       "      <td>362.80</td>\n",
       "      <td>368.75</td>\n",
       "      <td>5658765</td>\n",
       "      <td>368.750000</td>\n",
       "      <td>368.750000</td>\n",
       "      <td>368.750000</td>\n",
       "    </tr>\n",
       "    <tr>\n",
       "      <th>2018-02-20</th>\n",
       "      <td>370.35</td>\n",
       "      <td>370.9</td>\n",
       "      <td>366.50</td>\n",
       "      <td>369.30</td>\n",
       "      <td>3972114</td>\n",
       "      <td>368.860000</td>\n",
       "      <td>368.771569</td>\n",
       "      <td>368.755473</td>\n",
       "    </tr>\n",
       "    <tr>\n",
       "      <th>2018-02-21</th>\n",
       "      <td>372.50</td>\n",
       "      <td>372.5</td>\n",
       "      <td>362.85</td>\n",
       "      <td>364.45</td>\n",
       "      <td>8640166</td>\n",
       "      <td>367.978000</td>\n",
       "      <td>368.602095</td>\n",
       "      <td>368.712632</td>\n",
       "    </tr>\n",
       "    <tr>\n",
       "      <th>2018-02-22</th>\n",
       "      <td>363.00</td>\n",
       "      <td>363.0</td>\n",
       "      <td>357.50</td>\n",
       "      <td>358.50</td>\n",
       "      <td>10870704</td>\n",
       "      <td>366.082400</td>\n",
       "      <td>368.205935</td>\n",
       "      <td>368.611014</td>\n",
       "    </tr>\n",
       "    <tr>\n",
       "      <th>2018-02-23</th>\n",
       "      <td>360.10</td>\n",
       "      <td>364.6</td>\n",
       "      <td>358.75</td>\n",
       "      <td>360.20</td>\n",
       "      <td>6751064</td>\n",
       "      <td>364.905920</td>\n",
       "      <td>367.891977</td>\n",
       "      <td>368.527322</td>\n",
       "    </tr>\n",
       "    <tr>\n",
       "      <th>...</th>\n",
       "      <td>...</td>\n",
       "      <td>...</td>\n",
       "      <td>...</td>\n",
       "      <td>...</td>\n",
       "      <td>...</td>\n",
       "      <td>...</td>\n",
       "      <td>...</td>\n",
       "      <td>...</td>\n",
       "    </tr>\n",
       "    <tr>\n",
       "      <th>2023-01-30</th>\n",
       "      <td>445.60</td>\n",
       "      <td>450.0</td>\n",
       "      <td>437.65</td>\n",
       "      <td>443.65</td>\n",
       "      <td>18316743</td>\n",
       "      <td>423.263733</td>\n",
       "      <td>412.401377</td>\n",
       "      <td>420.354842</td>\n",
       "    </tr>\n",
       "    <tr>\n",
       "      <th>2023-01-31</th>\n",
       "      <td>443.70</td>\n",
       "      <td>454.8</td>\n",
       "      <td>440.90</td>\n",
       "      <td>452.10</td>\n",
       "      <td>25154475</td>\n",
       "      <td>429.030986</td>\n",
       "      <td>413.958186</td>\n",
       "      <td>420.670714</td>\n",
       "    </tr>\n",
       "    <tr>\n",
       "      <th>2023-02-01</th>\n",
       "      <td>456.80</td>\n",
       "      <td>461.5</td>\n",
       "      <td>437.65</td>\n",
       "      <td>446.65</td>\n",
       "      <td>23798589</td>\n",
       "      <td>432.554789</td>\n",
       "      <td>415.240218</td>\n",
       "      <td>420.929214</td>\n",
       "    </tr>\n",
       "    <tr>\n",
       "      <th>2023-02-02</th>\n",
       "      <td>446.75</td>\n",
       "      <td>449.2</td>\n",
       "      <td>440.70</td>\n",
       "      <td>444.80</td>\n",
       "      <td>11344554</td>\n",
       "      <td>435.003831</td>\n",
       "      <td>416.399425</td>\n",
       "      <td>421.166734</td>\n",
       "    </tr>\n",
       "    <tr>\n",
       "      <th>2023-02-03</th>\n",
       "      <td>447.00</td>\n",
       "      <td>450.8</td>\n",
       "      <td>442.35</td>\n",
       "      <td>445.45</td>\n",
       "      <td>13067403</td>\n",
       "      <td>437.093065</td>\n",
       "      <td>417.538663</td>\n",
       "      <td>421.408359</td>\n",
       "    </tr>\n",
       "  </tbody>\n",
       "</table>\n",
       "<p>1227 rows × 8 columns</p>\n",
       "</div>"
      ],
      "text/plain": [
       "              Open   High     Low   Close    Volume       EMA_9      EMA_50  \\\n",
       "Date                                                                          \n",
       "2018-02-19  373.70  374.7  362.80  368.75   5658765  368.750000  368.750000   \n",
       "2018-02-20  370.35  370.9  366.50  369.30   3972114  368.860000  368.771569   \n",
       "2018-02-21  372.50  372.5  362.85  364.45   8640166  367.978000  368.602095   \n",
       "2018-02-22  363.00  363.0  357.50  358.50  10870704  366.082400  368.205935   \n",
       "2018-02-23  360.10  364.6  358.75  360.20   6751064  364.905920  367.891977   \n",
       "...            ...    ...     ...     ...       ...         ...         ...   \n",
       "2023-01-30  445.60  450.0  437.65  443.65  18316743  423.263733  412.401377   \n",
       "2023-01-31  443.70  454.8  440.90  452.10  25154475  429.030986  413.958186   \n",
       "2023-02-01  456.80  461.5  437.65  446.65  23798589  432.554789  415.240218   \n",
       "2023-02-02  446.75  449.2  440.70  444.80  11344554  435.003831  416.399425   \n",
       "2023-02-03  447.00  450.8  442.35  445.45  13067403  437.093065  417.538663   \n",
       "\n",
       "               EMA_200  \n",
       "Date                    \n",
       "2018-02-19  368.750000  \n",
       "2018-02-20  368.755473  \n",
       "2018-02-21  368.712632  \n",
       "2018-02-22  368.611014  \n",
       "2018-02-23  368.527322  \n",
       "...                ...  \n",
       "2023-01-30  420.354842  \n",
       "2023-01-31  420.670714  \n",
       "2023-02-01  420.929214  \n",
       "2023-02-02  421.166734  \n",
       "2023-02-03  421.408359  \n",
       "\n",
       "[1227 rows x 8 columns]"
      ]
     },
     "execution_count": 32,
     "metadata": {},
     "output_type": "execute_result"
    }
   ],
   "source": [
    "data=data.assign(EMA_9=ema9,EMA_50=ema50,EMA_200=ema200)\n",
    "data"
   ]
  },
  {
   "cell_type": "markdown",
   "id": "23372282",
   "metadata": {
    "id": "23372282"
   },
   "source": [
    "\n",
    "\n",
    "EDA-Exploratory data analysis\n",
    "\n"
   ]
  },
  {
   "cell_type": "code",
   "execution_count": 33,
   "id": "ebef80ac",
   "metadata": {
    "id": "ebef80ac"
   },
   "outputs": [],
   "source": [
    "#seperating training and testing dataset"
   ]
  },
  {
   "cell_type": "code",
   "execution_count": 34,
   "id": "b2e12b11",
   "metadata": {
    "executionInfo": {
     "elapsed": 215,
     "status": "ok",
     "timestamp": 1675634401897,
     "user": {
      "displayName": "Nandhashree M S",
      "userId": "00326800609865145959"
     },
     "user_tz": 300
    },
    "id": "b2e12b11"
   },
   "outputs": [],
   "source": [
    "X=data.drop('Close',axis=1)\n",
    "Y=data['Close']"
   ]
  },
  {
   "cell_type": "code",
   "execution_count": 35,
   "id": "881de051",
   "metadata": {
    "colab": {
     "base_uri": "https://localhost:8080/",
     "height": 455
    },
    "executionInfo": {
     "elapsed": 206,
     "status": "ok",
     "timestamp": 1675634403935,
     "user": {
      "displayName": "Nandhashree M S",
      "userId": "00326800609865145959"
     },
     "user_tz": 300
    },
    "id": "881de051",
    "outputId": "d8d8ec75-cce6-44d6-8adf-2cc269d4c9e6"
   },
   "outputs": [
    {
     "data": {
      "text/html": [
       "<div>\n",
       "<style scoped>\n",
       "    .dataframe tbody tr th:only-of-type {\n",
       "        vertical-align: middle;\n",
       "    }\n",
       "\n",
       "    .dataframe tbody tr th {\n",
       "        vertical-align: top;\n",
       "    }\n",
       "\n",
       "    .dataframe thead th {\n",
       "        text-align: right;\n",
       "    }\n",
       "</style>\n",
       "<table border=\"1\" class=\"dataframe\">\n",
       "  <thead>\n",
       "    <tr style=\"text-align: right;\">\n",
       "      <th></th>\n",
       "      <th>Open</th>\n",
       "      <th>High</th>\n",
       "      <th>Low</th>\n",
       "      <th>Volume</th>\n",
       "      <th>EMA_9</th>\n",
       "      <th>EMA_50</th>\n",
       "      <th>EMA_200</th>\n",
       "    </tr>\n",
       "    <tr>\n",
       "      <th>Date</th>\n",
       "      <th></th>\n",
       "      <th></th>\n",
       "      <th></th>\n",
       "      <th></th>\n",
       "      <th></th>\n",
       "      <th></th>\n",
       "      <th></th>\n",
       "    </tr>\n",
       "  </thead>\n",
       "  <tbody>\n",
       "    <tr>\n",
       "      <th>2018-02-19</th>\n",
       "      <td>373.70</td>\n",
       "      <td>374.7</td>\n",
       "      <td>362.80</td>\n",
       "      <td>5658765</td>\n",
       "      <td>368.750000</td>\n",
       "      <td>368.750000</td>\n",
       "      <td>368.750000</td>\n",
       "    </tr>\n",
       "    <tr>\n",
       "      <th>2018-02-20</th>\n",
       "      <td>370.35</td>\n",
       "      <td>370.9</td>\n",
       "      <td>366.50</td>\n",
       "      <td>3972114</td>\n",
       "      <td>368.860000</td>\n",
       "      <td>368.771569</td>\n",
       "      <td>368.755473</td>\n",
       "    </tr>\n",
       "    <tr>\n",
       "      <th>2018-02-21</th>\n",
       "      <td>372.50</td>\n",
       "      <td>372.5</td>\n",
       "      <td>362.85</td>\n",
       "      <td>8640166</td>\n",
       "      <td>367.978000</td>\n",
       "      <td>368.602095</td>\n",
       "      <td>368.712632</td>\n",
       "    </tr>\n",
       "    <tr>\n",
       "      <th>2018-02-22</th>\n",
       "      <td>363.00</td>\n",
       "      <td>363.0</td>\n",
       "      <td>357.50</td>\n",
       "      <td>10870704</td>\n",
       "      <td>366.082400</td>\n",
       "      <td>368.205935</td>\n",
       "      <td>368.611014</td>\n",
       "    </tr>\n",
       "    <tr>\n",
       "      <th>2018-02-23</th>\n",
       "      <td>360.10</td>\n",
       "      <td>364.6</td>\n",
       "      <td>358.75</td>\n",
       "      <td>6751064</td>\n",
       "      <td>364.905920</td>\n",
       "      <td>367.891977</td>\n",
       "      <td>368.527322</td>\n",
       "    </tr>\n",
       "    <tr>\n",
       "      <th>...</th>\n",
       "      <td>...</td>\n",
       "      <td>...</td>\n",
       "      <td>...</td>\n",
       "      <td>...</td>\n",
       "      <td>...</td>\n",
       "      <td>...</td>\n",
       "      <td>...</td>\n",
       "    </tr>\n",
       "    <tr>\n",
       "      <th>2023-01-30</th>\n",
       "      <td>445.60</td>\n",
       "      <td>450.0</td>\n",
       "      <td>437.65</td>\n",
       "      <td>18316743</td>\n",
       "      <td>423.263733</td>\n",
       "      <td>412.401377</td>\n",
       "      <td>420.354842</td>\n",
       "    </tr>\n",
       "    <tr>\n",
       "      <th>2023-01-31</th>\n",
       "      <td>443.70</td>\n",
       "      <td>454.8</td>\n",
       "      <td>440.90</td>\n",
       "      <td>25154475</td>\n",
       "      <td>429.030986</td>\n",
       "      <td>413.958186</td>\n",
       "      <td>420.670714</td>\n",
       "    </tr>\n",
       "    <tr>\n",
       "      <th>2023-02-01</th>\n",
       "      <td>456.80</td>\n",
       "      <td>461.5</td>\n",
       "      <td>437.65</td>\n",
       "      <td>23798589</td>\n",
       "      <td>432.554789</td>\n",
       "      <td>415.240218</td>\n",
       "      <td>420.929214</td>\n",
       "    </tr>\n",
       "    <tr>\n",
       "      <th>2023-02-02</th>\n",
       "      <td>446.75</td>\n",
       "      <td>449.2</td>\n",
       "      <td>440.70</td>\n",
       "      <td>11344554</td>\n",
       "      <td>435.003831</td>\n",
       "      <td>416.399425</td>\n",
       "      <td>421.166734</td>\n",
       "    </tr>\n",
       "    <tr>\n",
       "      <th>2023-02-03</th>\n",
       "      <td>447.00</td>\n",
       "      <td>450.8</td>\n",
       "      <td>442.35</td>\n",
       "      <td>13067403</td>\n",
       "      <td>437.093065</td>\n",
       "      <td>417.538663</td>\n",
       "      <td>421.408359</td>\n",
       "    </tr>\n",
       "  </tbody>\n",
       "</table>\n",
       "<p>1227 rows × 7 columns</p>\n",
       "</div>"
      ],
      "text/plain": [
       "              Open   High     Low    Volume       EMA_9      EMA_50  \\\n",
       "Date                                                                  \n",
       "2018-02-19  373.70  374.7  362.80   5658765  368.750000  368.750000   \n",
       "2018-02-20  370.35  370.9  366.50   3972114  368.860000  368.771569   \n",
       "2018-02-21  372.50  372.5  362.85   8640166  367.978000  368.602095   \n",
       "2018-02-22  363.00  363.0  357.50  10870704  366.082400  368.205935   \n",
       "2018-02-23  360.10  364.6  358.75   6751064  364.905920  367.891977   \n",
       "...            ...    ...     ...       ...         ...         ...   \n",
       "2023-01-30  445.60  450.0  437.65  18316743  423.263733  412.401377   \n",
       "2023-01-31  443.70  454.8  440.90  25154475  429.030986  413.958186   \n",
       "2023-02-01  456.80  461.5  437.65  23798589  432.554789  415.240218   \n",
       "2023-02-02  446.75  449.2  440.70  11344554  435.003831  416.399425   \n",
       "2023-02-03  447.00  450.8  442.35  13067403  437.093065  417.538663   \n",
       "\n",
       "               EMA_200  \n",
       "Date                    \n",
       "2018-02-19  368.750000  \n",
       "2018-02-20  368.755473  \n",
       "2018-02-21  368.712632  \n",
       "2018-02-22  368.611014  \n",
       "2018-02-23  368.527322  \n",
       "...                ...  \n",
       "2023-01-30  420.354842  \n",
       "2023-01-31  420.670714  \n",
       "2023-02-01  420.929214  \n",
       "2023-02-02  421.166734  \n",
       "2023-02-03  421.408359  \n",
       "\n",
       "[1227 rows x 7 columns]"
      ]
     },
     "execution_count": 35,
     "metadata": {},
     "output_type": "execute_result"
    }
   ],
   "source": [
    "X"
   ]
  },
  {
   "cell_type": "code",
   "execution_count": 36,
   "id": "090fdd42",
   "metadata": {
    "colab": {
     "base_uri": "https://localhost:8080/"
    },
    "executionInfo": {
     "elapsed": 156,
     "status": "ok",
     "timestamp": 1675634406193,
     "user": {
      "displayName": "Nandhashree M S",
      "userId": "00326800609865145959"
     },
     "user_tz": 300
    },
    "id": "090fdd42",
    "outputId": "4aea8862-db6c-44bc-da84-84c64710da32"
   },
   "outputs": [
    {
     "data": {
      "text/plain": [
       "Date\n",
       "2018-02-19    368.75\n",
       "2018-02-20    369.30\n",
       "2018-02-21    364.45\n",
       "2018-02-22    358.50\n",
       "2018-02-23    360.20\n",
       "               ...  \n",
       "2023-01-30    443.65\n",
       "2023-01-31    452.10\n",
       "2023-02-01    446.65\n",
       "2023-02-02    444.80\n",
       "2023-02-03    445.45\n",
       "Name: Close, Length: 1227, dtype: float64"
      ]
     },
     "execution_count": 36,
     "metadata": {},
     "output_type": "execute_result"
    }
   ],
   "source": [
    "Y"
   ]
  },
  {
   "cell_type": "code",
   "execution_count": 37,
   "id": "f6a51e54",
   "metadata": {
    "id": "f6a51e54"
   },
   "outputs": [],
   "source": [
    "#shifting rows by one postion upward"
   ]
  },
  {
   "cell_type": "code",
   "execution_count": 38,
   "id": "b52fc122",
   "metadata": {
    "executionInfo": {
     "elapsed": 154,
     "status": "ok",
     "timestamp": 1675634409032,
     "user": {
      "displayName": "Nandhashree M S",
      "userId": "00326800609865145959"
     },
     "user_tz": 300
    },
    "id": "b52fc122"
   },
   "outputs": [],
   "source": [
    "days_shifted=1\n",
    "yy=Y.shift(periods=-days_shifted)\n",
    "y = yy.dropna(axis=0)\n",
    "X = X.iloc[:len(y), :]"
   ]
  },
  {
   "cell_type": "code",
   "execution_count": 39,
   "id": "e326c812",
   "metadata": {
    "id": "e326c812"
   },
   "outputs": [],
   "source": [
    "#printing dependent and independent variable"
   ]
  },
  {
   "cell_type": "code",
   "execution_count": 40,
   "id": "a8a0641c",
   "metadata": {
    "colab": {
     "base_uri": "https://localhost:8080/",
     "height": 455
    },
    "executionInfo": {
     "elapsed": 157,
     "status": "ok",
     "timestamp": 1675634411548,
     "user": {
      "displayName": "Nandhashree M S",
      "userId": "00326800609865145959"
     },
     "user_tz": 300
    },
    "id": "a8a0641c",
    "outputId": "8859dd8a-c7c6-4d17-cac3-9bc9c0d5803a"
   },
   "outputs": [
    {
     "data": {
      "text/html": [
       "<div>\n",
       "<style scoped>\n",
       "    .dataframe tbody tr th:only-of-type {\n",
       "        vertical-align: middle;\n",
       "    }\n",
       "\n",
       "    .dataframe tbody tr th {\n",
       "        vertical-align: top;\n",
       "    }\n",
       "\n",
       "    .dataframe thead th {\n",
       "        text-align: right;\n",
       "    }\n",
       "</style>\n",
       "<table border=\"1\" class=\"dataframe\">\n",
       "  <thead>\n",
       "    <tr style=\"text-align: right;\">\n",
       "      <th></th>\n",
       "      <th>Open</th>\n",
       "      <th>High</th>\n",
       "      <th>Low</th>\n",
       "      <th>Volume</th>\n",
       "      <th>EMA_9</th>\n",
       "      <th>EMA_50</th>\n",
       "      <th>EMA_200</th>\n",
       "    </tr>\n",
       "    <tr>\n",
       "      <th>Date</th>\n",
       "      <th></th>\n",
       "      <th></th>\n",
       "      <th></th>\n",
       "      <th></th>\n",
       "      <th></th>\n",
       "      <th></th>\n",
       "      <th></th>\n",
       "    </tr>\n",
       "  </thead>\n",
       "  <tbody>\n",
       "    <tr>\n",
       "      <th>2018-02-19</th>\n",
       "      <td>373.70</td>\n",
       "      <td>374.7</td>\n",
       "      <td>362.80</td>\n",
       "      <td>5658765</td>\n",
       "      <td>368.750000</td>\n",
       "      <td>368.750000</td>\n",
       "      <td>368.750000</td>\n",
       "    </tr>\n",
       "    <tr>\n",
       "      <th>2018-02-20</th>\n",
       "      <td>370.35</td>\n",
       "      <td>370.9</td>\n",
       "      <td>366.50</td>\n",
       "      <td>3972114</td>\n",
       "      <td>368.860000</td>\n",
       "      <td>368.771569</td>\n",
       "      <td>368.755473</td>\n",
       "    </tr>\n",
       "    <tr>\n",
       "      <th>2018-02-21</th>\n",
       "      <td>372.50</td>\n",
       "      <td>372.5</td>\n",
       "      <td>362.85</td>\n",
       "      <td>8640166</td>\n",
       "      <td>367.978000</td>\n",
       "      <td>368.602095</td>\n",
       "      <td>368.712632</td>\n",
       "    </tr>\n",
       "    <tr>\n",
       "      <th>2018-02-22</th>\n",
       "      <td>363.00</td>\n",
       "      <td>363.0</td>\n",
       "      <td>357.50</td>\n",
       "      <td>10870704</td>\n",
       "      <td>366.082400</td>\n",
       "      <td>368.205935</td>\n",
       "      <td>368.611014</td>\n",
       "    </tr>\n",
       "    <tr>\n",
       "      <th>2018-02-23</th>\n",
       "      <td>360.10</td>\n",
       "      <td>364.6</td>\n",
       "      <td>358.75</td>\n",
       "      <td>6751064</td>\n",
       "      <td>364.905920</td>\n",
       "      <td>367.891977</td>\n",
       "      <td>368.527322</td>\n",
       "    </tr>\n",
       "    <tr>\n",
       "      <th>...</th>\n",
       "      <td>...</td>\n",
       "      <td>...</td>\n",
       "      <td>...</td>\n",
       "      <td>...</td>\n",
       "      <td>...</td>\n",
       "      <td>...</td>\n",
       "      <td>...</td>\n",
       "    </tr>\n",
       "    <tr>\n",
       "      <th>2023-01-27</th>\n",
       "      <td>438.00</td>\n",
       "      <td>453.4</td>\n",
       "      <td>435.15</td>\n",
       "      <td>63360467</td>\n",
       "      <td>418.167166</td>\n",
       "      <td>411.125923</td>\n",
       "      <td>420.120719</td>\n",
       "    </tr>\n",
       "    <tr>\n",
       "      <th>2023-01-30</th>\n",
       "      <td>445.60</td>\n",
       "      <td>450.0</td>\n",
       "      <td>437.65</td>\n",
       "      <td>18316743</td>\n",
       "      <td>423.263733</td>\n",
       "      <td>412.401377</td>\n",
       "      <td>420.354842</td>\n",
       "    </tr>\n",
       "    <tr>\n",
       "      <th>2023-01-31</th>\n",
       "      <td>443.70</td>\n",
       "      <td>454.8</td>\n",
       "      <td>440.90</td>\n",
       "      <td>25154475</td>\n",
       "      <td>429.030986</td>\n",
       "      <td>413.958186</td>\n",
       "      <td>420.670714</td>\n",
       "    </tr>\n",
       "    <tr>\n",
       "      <th>2023-02-01</th>\n",
       "      <td>456.80</td>\n",
       "      <td>461.5</td>\n",
       "      <td>437.65</td>\n",
       "      <td>23798589</td>\n",
       "      <td>432.554789</td>\n",
       "      <td>415.240218</td>\n",
       "      <td>420.929214</td>\n",
       "    </tr>\n",
       "    <tr>\n",
       "      <th>2023-02-02</th>\n",
       "      <td>446.75</td>\n",
       "      <td>449.2</td>\n",
       "      <td>440.70</td>\n",
       "      <td>11344554</td>\n",
       "      <td>435.003831</td>\n",
       "      <td>416.399425</td>\n",
       "      <td>421.166734</td>\n",
       "    </tr>\n",
       "  </tbody>\n",
       "</table>\n",
       "<p>1226 rows × 7 columns</p>\n",
       "</div>"
      ],
      "text/plain": [
       "              Open   High     Low    Volume       EMA_9      EMA_50  \\\n",
       "Date                                                                  \n",
       "2018-02-19  373.70  374.7  362.80   5658765  368.750000  368.750000   \n",
       "2018-02-20  370.35  370.9  366.50   3972114  368.860000  368.771569   \n",
       "2018-02-21  372.50  372.5  362.85   8640166  367.978000  368.602095   \n",
       "2018-02-22  363.00  363.0  357.50  10870704  366.082400  368.205935   \n",
       "2018-02-23  360.10  364.6  358.75   6751064  364.905920  367.891977   \n",
       "...            ...    ...     ...       ...         ...         ...   \n",
       "2023-01-27  438.00  453.4  435.15  63360467  418.167166  411.125923   \n",
       "2023-01-30  445.60  450.0  437.65  18316743  423.263733  412.401377   \n",
       "2023-01-31  443.70  454.8  440.90  25154475  429.030986  413.958186   \n",
       "2023-02-01  456.80  461.5  437.65  23798589  432.554789  415.240218   \n",
       "2023-02-02  446.75  449.2  440.70  11344554  435.003831  416.399425   \n",
       "\n",
       "               EMA_200  \n",
       "Date                    \n",
       "2018-02-19  368.750000  \n",
       "2018-02-20  368.755473  \n",
       "2018-02-21  368.712632  \n",
       "2018-02-22  368.611014  \n",
       "2018-02-23  368.527322  \n",
       "...                ...  \n",
       "2023-01-27  420.120719  \n",
       "2023-01-30  420.354842  \n",
       "2023-01-31  420.670714  \n",
       "2023-02-01  420.929214  \n",
       "2023-02-02  421.166734  \n",
       "\n",
       "[1226 rows x 7 columns]"
      ]
     },
     "execution_count": 40,
     "metadata": {},
     "output_type": "execute_result"
    }
   ],
   "source": [
    "X"
   ]
  },
  {
   "cell_type": "code",
   "execution_count": 41,
   "id": "2f1b5c88",
   "metadata": {
    "colab": {
     "base_uri": "https://localhost:8080/"
    },
    "executionInfo": {
     "elapsed": 158,
     "status": "ok",
     "timestamp": 1675634413882,
     "user": {
      "displayName": "Nandhashree M S",
      "userId": "00326800609865145959"
     },
     "user_tz": 300
    },
    "id": "2f1b5c88",
    "outputId": "9a650a53-4298-41ee-ba93-1ccd27d9202e"
   },
   "outputs": [
    {
     "data": {
      "text/plain": [
       "Date\n",
       "2018-02-19    369.30\n",
       "2018-02-20    364.45\n",
       "2018-02-21    358.50\n",
       "2018-02-22    360.20\n",
       "2018-02-23    372.05\n",
       "               ...  \n",
       "2023-01-27    443.65\n",
       "2023-01-30    452.10\n",
       "2023-01-31    446.65\n",
       "2023-02-01    444.80\n",
       "2023-02-02    445.45\n",
       "Name: Close, Length: 1226, dtype: float64"
      ]
     },
     "execution_count": 41,
     "metadata": {},
     "output_type": "execute_result"
    }
   ],
   "source": [
    "y"
   ]
  },
  {
   "cell_type": "markdown",
   "id": "75226f3b",
   "metadata": {
    "id": "75226f3b"
   },
   "source": [
    "Splitting The Data"
   ]
  },
  {
   "cell_type": "code",
   "execution_count": 42,
   "id": "91be759f",
   "metadata": {
    "id": "91be759f"
   },
   "outputs": [],
   "source": [
    "#splitting the X and Y into 75% training dataset and 25% testing dataset"
   ]
  },
  {
   "cell_type": "code",
   "execution_count": 43,
   "id": "882fb5ef",
   "metadata": {
    "id": "882fb5ef"
   },
   "outputs": [],
   "source": [
    "#calculating the 75% data from total dataset"
   ]
  },
  {
   "cell_type": "code",
   "execution_count": 44,
   "id": "6d18970f",
   "metadata": {
    "colab": {
     "base_uri": "https://localhost:8080/"
    },
    "executionInfo": {
     "elapsed": 154,
     "status": "ok",
     "timestamp": 1675634416962,
     "user": {
      "displayName": "Nandhashree M S",
      "userId": "00326800609865145959"
     },
     "user_tz": 300
    },
    "id": "6d18970f",
    "outputId": "21505118-7df0-41b2-d082-235dea7c739f"
   },
   "outputs": [
    {
     "name": "stdout",
     "output_type": "stream",
     "text": [
      "lenght of my training dataset is: 921\n"
     ]
    }
   ],
   "source": [
    "len_of_training_dataset=math.ceil(len(data)*0.75)\n",
    "print('lenght of my training dataset is:',len_of_training_dataset)"
   ]
  },
  {
   "cell_type": "code",
   "execution_count": 45,
   "id": "3c79d7ea",
   "metadata": {
    "id": "3c79d7ea"
   },
   "outputs": [],
   "source": [
    "#training dataset should be of length :859"
   ]
  },
  {
   "cell_type": "code",
   "execution_count": 46,
   "id": "c42f60a6",
   "metadata": {
    "executionInfo": {
     "elapsed": 180,
     "status": "ok",
     "timestamp": 1675634419597,
     "user": {
      "displayName": "Nandhashree M S",
      "userId": "00326800609865145959"
     },
     "user_tz": 300
    },
    "id": "c42f60a6"
   },
   "outputs": [],
   "source": [
    "X_train = X.iloc[:len_of_training_dataset,:]\n",
    "y_train=y.iloc[:len_of_training_dataset]\n",
    "X_test=X.iloc[len_of_training_dataset:,:]\n",
    "y_test=y.iloc[len_of_training_dataset:]"
   ]
  },
  {
   "cell_type": "code",
   "execution_count": 47,
   "id": "3166901f",
   "metadata": {
    "id": "3166901f"
   },
   "outputs": [],
   "source": [
    "#printing x_train,y_train,x_test,y_test and the shape od the data"
   ]
  },
  {
   "cell_type": "code",
   "execution_count": 48,
   "id": "a0056ebb",
   "metadata": {
    "colab": {
     "base_uri": "https://localhost:8080/",
     "height": 455
    },
    "executionInfo": {
     "elapsed": 165,
     "status": "ok",
     "timestamp": 1675634421914,
     "user": {
      "displayName": "Nandhashree M S",
      "userId": "00326800609865145959"
     },
     "user_tz": 300
    },
    "id": "a0056ebb",
    "outputId": "aeb8855f-49c2-43e6-87f8-8273a9130acd"
   },
   "outputs": [
    {
     "data": {
      "text/html": [
       "<div>\n",
       "<style scoped>\n",
       "    .dataframe tbody tr th:only-of-type {\n",
       "        vertical-align: middle;\n",
       "    }\n",
       "\n",
       "    .dataframe tbody tr th {\n",
       "        vertical-align: top;\n",
       "    }\n",
       "\n",
       "    .dataframe thead th {\n",
       "        text-align: right;\n",
       "    }\n",
       "</style>\n",
       "<table border=\"1\" class=\"dataframe\">\n",
       "  <thead>\n",
       "    <tr style=\"text-align: right;\">\n",
       "      <th></th>\n",
       "      <th>Open</th>\n",
       "      <th>High</th>\n",
       "      <th>Low</th>\n",
       "      <th>Volume</th>\n",
       "      <th>EMA_9</th>\n",
       "      <th>EMA_50</th>\n",
       "      <th>EMA_200</th>\n",
       "    </tr>\n",
       "    <tr>\n",
       "      <th>Date</th>\n",
       "      <th></th>\n",
       "      <th></th>\n",
       "      <th></th>\n",
       "      <th></th>\n",
       "      <th></th>\n",
       "      <th></th>\n",
       "      <th></th>\n",
       "    </tr>\n",
       "  </thead>\n",
       "  <tbody>\n",
       "    <tr>\n",
       "      <th>2018-02-19</th>\n",
       "      <td>373.70</td>\n",
       "      <td>374.70</td>\n",
       "      <td>362.80</td>\n",
       "      <td>5658765</td>\n",
       "      <td>368.750000</td>\n",
       "      <td>368.750000</td>\n",
       "      <td>368.750000</td>\n",
       "    </tr>\n",
       "    <tr>\n",
       "      <th>2018-02-20</th>\n",
       "      <td>370.35</td>\n",
       "      <td>370.90</td>\n",
       "      <td>366.50</td>\n",
       "      <td>3972114</td>\n",
       "      <td>368.860000</td>\n",
       "      <td>368.771569</td>\n",
       "      <td>368.755473</td>\n",
       "    </tr>\n",
       "    <tr>\n",
       "      <th>2018-02-21</th>\n",
       "      <td>372.50</td>\n",
       "      <td>372.50</td>\n",
       "      <td>362.85</td>\n",
       "      <td>8640166</td>\n",
       "      <td>367.978000</td>\n",
       "      <td>368.602095</td>\n",
       "      <td>368.712632</td>\n",
       "    </tr>\n",
       "    <tr>\n",
       "      <th>2018-02-22</th>\n",
       "      <td>363.00</td>\n",
       "      <td>363.00</td>\n",
       "      <td>357.50</td>\n",
       "      <td>10870704</td>\n",
       "      <td>366.082400</td>\n",
       "      <td>368.205935</td>\n",
       "      <td>368.611014</td>\n",
       "    </tr>\n",
       "    <tr>\n",
       "      <th>2018-02-23</th>\n",
       "      <td>360.10</td>\n",
       "      <td>364.60</td>\n",
       "      <td>358.75</td>\n",
       "      <td>6751064</td>\n",
       "      <td>364.905920</td>\n",
       "      <td>367.891977</td>\n",
       "      <td>368.527322</td>\n",
       "    </tr>\n",
       "    <tr>\n",
       "      <th>...</th>\n",
       "      <td>...</td>\n",
       "      <td>...</td>\n",
       "      <td>...</td>\n",
       "      <td>...</td>\n",
       "      <td>...</td>\n",
       "      <td>...</td>\n",
       "      <td>...</td>\n",
       "    </tr>\n",
       "    <tr>\n",
       "      <th>2021-11-08</th>\n",
       "      <td>493.90</td>\n",
       "      <td>504.85</td>\n",
       "      <td>490.25</td>\n",
       "      <td>31736426</td>\n",
       "      <td>488.725838</td>\n",
       "      <td>407.712503</td>\n",
       "      <td>320.651698</td>\n",
       "    </tr>\n",
       "    <tr>\n",
       "      <th>2021-11-09</th>\n",
       "      <td>505.00</td>\n",
       "      <td>520.65</td>\n",
       "      <td>503.50</td>\n",
       "      <td>50458762</td>\n",
       "      <td>492.910670</td>\n",
       "      <td>411.710052</td>\n",
       "      <td>322.532279</td>\n",
       "    </tr>\n",
       "    <tr>\n",
       "      <th>2021-11-10</th>\n",
       "      <td>506.25</td>\n",
       "      <td>515.95</td>\n",
       "      <td>500.20</td>\n",
       "      <td>26615777</td>\n",
       "      <td>496.478536</td>\n",
       "      <td>415.593972</td>\n",
       "      <td>324.405092</td>\n",
       "    </tr>\n",
       "    <tr>\n",
       "      <th>2021-11-11</th>\n",
       "      <td>510.00</td>\n",
       "      <td>519.00</td>\n",
       "      <td>501.00</td>\n",
       "      <td>29256213</td>\n",
       "      <td>497.872829</td>\n",
       "      <td>419.039306</td>\n",
       "      <td>326.186633</td>\n",
       "    </tr>\n",
       "    <tr>\n",
       "      <th>2021-11-12</th>\n",
       "      <td>506.95</td>\n",
       "      <td>509.55</td>\n",
       "      <td>497.35</td>\n",
       "      <td>20731808</td>\n",
       "      <td>499.708263</td>\n",
       "      <td>422.490706</td>\n",
       "      <td>327.986269</td>\n",
       "    </tr>\n",
       "  </tbody>\n",
       "</table>\n",
       "<p>921 rows × 7 columns</p>\n",
       "</div>"
      ],
      "text/plain": [
       "              Open    High     Low    Volume       EMA_9      EMA_50  \\\n",
       "Date                                                                   \n",
       "2018-02-19  373.70  374.70  362.80   5658765  368.750000  368.750000   \n",
       "2018-02-20  370.35  370.90  366.50   3972114  368.860000  368.771569   \n",
       "2018-02-21  372.50  372.50  362.85   8640166  367.978000  368.602095   \n",
       "2018-02-22  363.00  363.00  357.50  10870704  366.082400  368.205935   \n",
       "2018-02-23  360.10  364.60  358.75   6751064  364.905920  367.891977   \n",
       "...            ...     ...     ...       ...         ...         ...   \n",
       "2021-11-08  493.90  504.85  490.25  31736426  488.725838  407.712503   \n",
       "2021-11-09  505.00  520.65  503.50  50458762  492.910670  411.710052   \n",
       "2021-11-10  506.25  515.95  500.20  26615777  496.478536  415.593972   \n",
       "2021-11-11  510.00  519.00  501.00  29256213  497.872829  419.039306   \n",
       "2021-11-12  506.95  509.55  497.35  20731808  499.708263  422.490706   \n",
       "\n",
       "               EMA_200  \n",
       "Date                    \n",
       "2018-02-19  368.750000  \n",
       "2018-02-20  368.755473  \n",
       "2018-02-21  368.712632  \n",
       "2018-02-22  368.611014  \n",
       "2018-02-23  368.527322  \n",
       "...                ...  \n",
       "2021-11-08  320.651698  \n",
       "2021-11-09  322.532279  \n",
       "2021-11-10  324.405092  \n",
       "2021-11-11  326.186633  \n",
       "2021-11-12  327.986269  \n",
       "\n",
       "[921 rows x 7 columns]"
      ]
     },
     "execution_count": 48,
     "metadata": {},
     "output_type": "execute_result"
    }
   ],
   "source": [
    "X_train"
   ]
  },
  {
   "cell_type": "code",
   "execution_count": 49,
   "id": "e1546f4e",
   "metadata": {
    "colab": {
     "base_uri": "https://localhost:8080/"
    },
    "executionInfo": {
     "elapsed": 9,
     "status": "ok",
     "timestamp": 1675634424208,
     "user": {
      "displayName": "Nandhashree M S",
      "userId": "00326800609865145959"
     },
     "user_tz": 300
    },
    "id": "e1546f4e",
    "outputId": "4f9c5890-98bd-4352-acc8-0953d8079273"
   },
   "outputs": [
    {
     "data": {
      "text/plain": [
       "Date\n",
       "2018-02-19    369.30\n",
       "2018-02-20    364.45\n",
       "2018-02-21    358.50\n",
       "2018-02-22    360.20\n",
       "2018-02-23    372.05\n",
       "               ...  \n",
       "2021-11-08    509.65\n",
       "2021-11-09    510.75\n",
       "2021-11-10    503.45\n",
       "2021-11-11    507.05\n",
       "2021-11-12    505.45\n",
       "Name: Close, Length: 921, dtype: float64"
      ]
     },
     "execution_count": 49,
     "metadata": {},
     "output_type": "execute_result"
    }
   ],
   "source": [
    "y_train"
   ]
  },
  {
   "cell_type": "code",
   "execution_count": 50,
   "id": "6d60511b",
   "metadata": {
    "colab": {
     "base_uri": "https://localhost:8080/",
     "height": 455
    },
    "executionInfo": {
     "elapsed": 216,
     "status": "ok",
     "timestamp": 1675634426593,
     "user": {
      "displayName": "Nandhashree M S",
      "userId": "00326800609865145959"
     },
     "user_tz": 300
    },
    "id": "6d60511b",
    "outputId": "5b4dd533-9a69-49a1-d53f-125ca2ab9811"
   },
   "outputs": [
    {
     "data": {
      "text/html": [
       "<div>\n",
       "<style scoped>\n",
       "    .dataframe tbody tr th:only-of-type {\n",
       "        vertical-align: middle;\n",
       "    }\n",
       "\n",
       "    .dataframe tbody tr th {\n",
       "        vertical-align: top;\n",
       "    }\n",
       "\n",
       "    .dataframe thead th {\n",
       "        text-align: right;\n",
       "    }\n",
       "</style>\n",
       "<table border=\"1\" class=\"dataframe\">\n",
       "  <thead>\n",
       "    <tr style=\"text-align: right;\">\n",
       "      <th></th>\n",
       "      <th>Open</th>\n",
       "      <th>High</th>\n",
       "      <th>Low</th>\n",
       "      <th>Volume</th>\n",
       "      <th>EMA_9</th>\n",
       "      <th>EMA_50</th>\n",
       "      <th>EMA_200</th>\n",
       "    </tr>\n",
       "    <tr>\n",
       "      <th>Date</th>\n",
       "      <th></th>\n",
       "      <th></th>\n",
       "      <th></th>\n",
       "      <th></th>\n",
       "      <th></th>\n",
       "      <th></th>\n",
       "      <th></th>\n",
       "    </tr>\n",
       "  </thead>\n",
       "  <tbody>\n",
       "    <tr>\n",
       "      <th>2021-11-15</th>\n",
       "      <td>506.25</td>\n",
       "      <td>514.90</td>\n",
       "      <td>504.50</td>\n",
       "      <td>18014977</td>\n",
       "      <td>500.856611</td>\n",
       "      <td>425.744012</td>\n",
       "      <td>329.752077</td>\n",
       "    </tr>\n",
       "    <tr>\n",
       "      <th>2021-11-16</th>\n",
       "      <td>506.90</td>\n",
       "      <td>526.85</td>\n",
       "      <td>506.20</td>\n",
       "      <td>55897781</td>\n",
       "      <td>504.495288</td>\n",
       "      <td>429.403070</td>\n",
       "      <td>331.635638</td>\n",
       "    </tr>\n",
       "    <tr>\n",
       "      <th>2021-11-17</th>\n",
       "      <td>520.25</td>\n",
       "      <td>536.70</td>\n",
       "      <td>520.25</td>\n",
       "      <td>48463415</td>\n",
       "      <td>509.626231</td>\n",
       "      <td>433.353930</td>\n",
       "      <td>333.610906</td>\n",
       "    </tr>\n",
       "    <tr>\n",
       "      <th>2021-11-18</th>\n",
       "      <td>531.45</td>\n",
       "      <td>534.20</td>\n",
       "      <td>501.30</td>\n",
       "      <td>47197742</td>\n",
       "      <td>509.640985</td>\n",
       "      <td>436.347893</td>\n",
       "      <td>335.363036</td>\n",
       "    </tr>\n",
       "    <tr>\n",
       "      <th>2021-11-22</th>\n",
       "      <td>512.25</td>\n",
       "      <td>512.25</td>\n",
       "      <td>478.40</td>\n",
       "      <td>40044849</td>\n",
       "      <td>504.932788</td>\n",
       "      <td>438.298956</td>\n",
       "      <td>336.862906</td>\n",
       "    </tr>\n",
       "    <tr>\n",
       "      <th>...</th>\n",
       "      <td>...</td>\n",
       "      <td>...</td>\n",
       "      <td>...</td>\n",
       "      <td>...</td>\n",
       "      <td>...</td>\n",
       "      <td>...</td>\n",
       "      <td>...</td>\n",
       "    </tr>\n",
       "    <tr>\n",
       "      <th>2023-01-27</th>\n",
       "      <td>438.00</td>\n",
       "      <td>453.40</td>\n",
       "      <td>435.15</td>\n",
       "      <td>63360467</td>\n",
       "      <td>418.167166</td>\n",
       "      <td>411.125923</td>\n",
       "      <td>420.120719</td>\n",
       "    </tr>\n",
       "    <tr>\n",
       "      <th>2023-01-30</th>\n",
       "      <td>445.60</td>\n",
       "      <td>450.00</td>\n",
       "      <td>437.65</td>\n",
       "      <td>18316743</td>\n",
       "      <td>423.263733</td>\n",
       "      <td>412.401377</td>\n",
       "      <td>420.354842</td>\n",
       "    </tr>\n",
       "    <tr>\n",
       "      <th>2023-01-31</th>\n",
       "      <td>443.70</td>\n",
       "      <td>454.80</td>\n",
       "      <td>440.90</td>\n",
       "      <td>25154475</td>\n",
       "      <td>429.030986</td>\n",
       "      <td>413.958186</td>\n",
       "      <td>420.670714</td>\n",
       "    </tr>\n",
       "    <tr>\n",
       "      <th>2023-02-01</th>\n",
       "      <td>456.80</td>\n",
       "      <td>461.50</td>\n",
       "      <td>437.65</td>\n",
       "      <td>23798589</td>\n",
       "      <td>432.554789</td>\n",
       "      <td>415.240218</td>\n",
       "      <td>420.929214</td>\n",
       "    </tr>\n",
       "    <tr>\n",
       "      <th>2023-02-02</th>\n",
       "      <td>446.75</td>\n",
       "      <td>449.20</td>\n",
       "      <td>440.70</td>\n",
       "      <td>11344554</td>\n",
       "      <td>435.003831</td>\n",
       "      <td>416.399425</td>\n",
       "      <td>421.166734</td>\n",
       "    </tr>\n",
       "  </tbody>\n",
       "</table>\n",
       "<p>305 rows × 7 columns</p>\n",
       "</div>"
      ],
      "text/plain": [
       "              Open    High     Low    Volume       EMA_9      EMA_50  \\\n",
       "Date                                                                   \n",
       "2021-11-15  506.25  514.90  504.50  18014977  500.856611  425.744012   \n",
       "2021-11-16  506.90  526.85  506.20  55897781  504.495288  429.403070   \n",
       "2021-11-17  520.25  536.70  520.25  48463415  509.626231  433.353930   \n",
       "2021-11-18  531.45  534.20  501.30  47197742  509.640985  436.347893   \n",
       "2021-11-22  512.25  512.25  478.40  40044849  504.932788  438.298956   \n",
       "...            ...     ...     ...       ...         ...         ...   \n",
       "2023-01-27  438.00  453.40  435.15  63360467  418.167166  411.125923   \n",
       "2023-01-30  445.60  450.00  437.65  18316743  423.263733  412.401377   \n",
       "2023-01-31  443.70  454.80  440.90  25154475  429.030986  413.958186   \n",
       "2023-02-01  456.80  461.50  437.65  23798589  432.554789  415.240218   \n",
       "2023-02-02  446.75  449.20  440.70  11344554  435.003831  416.399425   \n",
       "\n",
       "               EMA_200  \n",
       "Date                    \n",
       "2021-11-15  329.752077  \n",
       "2021-11-16  331.635638  \n",
       "2021-11-17  333.610906  \n",
       "2021-11-18  335.363036  \n",
       "2021-11-22  336.862906  \n",
       "...                ...  \n",
       "2023-01-27  420.120719  \n",
       "2023-01-30  420.354842  \n",
       "2023-01-31  420.670714  \n",
       "2023-02-01  420.929214  \n",
       "2023-02-02  421.166734  \n",
       "\n",
       "[305 rows x 7 columns]"
      ]
     },
     "execution_count": 50,
     "metadata": {},
     "output_type": "execute_result"
    }
   ],
   "source": [
    "X_test"
   ]
  },
  {
   "cell_type": "code",
   "execution_count": 51,
   "id": "0f4e7ccd",
   "metadata": {
    "colab": {
     "base_uri": "https://localhost:8080/"
    },
    "executionInfo": {
     "elapsed": 154,
     "status": "ok",
     "timestamp": 1675634428906,
     "user": {
      "displayName": "Nandhashree M S",
      "userId": "00326800609865145959"
     },
     "user_tz": 300
    },
    "id": "0f4e7ccd",
    "outputId": "be06c3aa-6b39-42bc-a726-b159054c617a"
   },
   "outputs": [
    {
     "data": {
      "text/plain": [
       "Date\n",
       "2021-11-15    519.05\n",
       "2021-11-16    530.15\n",
       "2021-11-17    509.70\n",
       "2021-11-18    486.10\n",
       "2021-11-22    495.50\n",
       "               ...  \n",
       "2023-01-27    443.65\n",
       "2023-01-30    452.10\n",
       "2023-01-31    446.65\n",
       "2023-02-01    444.80\n",
       "2023-02-02    445.45\n",
       "Name: Close, Length: 305, dtype: float64"
      ]
     },
     "execution_count": 51,
     "metadata": {},
     "output_type": "execute_result"
    }
   ],
   "source": [
    "y_test"
   ]
  },
  {
   "cell_type": "code",
   "execution_count": 52,
   "id": "1eb71214",
   "metadata": {
    "id": "1eb71214"
   },
   "outputs": [],
   "source": [
    "#printing the shape of x_train,x_test,y_train,y_test"
   ]
  },
  {
   "cell_type": "code",
   "execution_count": 53,
   "id": "d161d43e",
   "metadata": {
    "colab": {
     "base_uri": "https://localhost:8080/"
    },
    "executionInfo": {
     "elapsed": 22,
     "status": "ok",
     "timestamp": 1675634457255,
     "user": {
      "displayName": "Nandhashree M S",
      "userId": "00326800609865145959"
     },
     "user_tz": 300
    },
    "id": "d161d43e",
    "outputId": "e7fc2bcb-bbdd-4d2b-8357-c3b98420b898"
   },
   "outputs": [
    {
     "name": "stdout",
     "output_type": "stream",
     "text": [
      "(921, 7) (305, 7) (921,) (305,)\n"
     ]
    }
   ],
   "source": [
    "print(X_train.shape,X_test.shape,y_train.shape,y_test.shape)"
   ]
  },
  {
   "cell_type": "markdown",
   "id": "bb692244",
   "metadata": {
    "id": "bb692244"
   },
   "source": [
    "Building the Model"
   ]
  },
  {
   "cell_type": "code",
   "execution_count": 54,
   "id": "5bdfc249",
   "metadata": {
    "colab": {
     "base_uri": "https://localhost:8080/"
    },
    "executionInfo": {
     "elapsed": 155,
     "status": "ok",
     "timestamp": 1675634508107,
     "user": {
      "displayName": "Nandhashree M S",
      "userId": "00326800609865145959"
     },
     "user_tz": 300
    },
    "id": "5bdfc249",
    "outputId": "6547c55e-c885-405a-9185-357f79db9732"
   },
   "outputs": [
    {
     "data": {
      "text/plain": [
       "LinearRegression()"
      ]
     },
     "execution_count": 54,
     "metadata": {},
     "output_type": "execute_result"
    }
   ],
   "source": [
    "model=LinearRegression()\n",
    "model.fit(X_train,y_train)"
   ]
  },
  {
   "cell_type": "code",
   "execution_count": 55,
   "id": "a2ff21ff",
   "metadata": {
    "executionInfo": {
     "elapsed": 149,
     "status": "ok",
     "timestamp": 1675634511214,
     "user": {
      "displayName": "Nandhashree M S",
      "userId": "00326800609865145959"
     },
     "user_tz": 300
    },
    "id": "a2ff21ff"
   },
   "outputs": [],
   "source": [
    "# evaluating test model\n",
    "y_predict=model.predict(X_test)"
   ]
  },
  {
   "cell_type": "code",
   "execution_count": 56,
   "id": "d4c3a7d2",
   "metadata": {
    "colab": {
     "base_uri": "https://localhost:8080/"
    },
    "executionInfo": {
     "elapsed": 144,
     "status": "ok",
     "timestamp": 1675634512270,
     "user": {
      "displayName": "Nandhashree M S",
      "userId": "00326800609865145959"
     },
     "user_tz": 300
    },
    "id": "d4c3a7d2",
    "outputId": "10ef6aca-d469-4156-9cde-373241127d4c"
   },
   "outputs": [
    {
     "data": {
      "text/plain": [
       "array([510.82185745, 521.61606133, 532.34103698, 514.5774238 ,\n",
       "       490.85735581, 491.03841574, 491.42953407, 489.85305198,\n",
       "       468.17382056, 458.54264337, 467.7985801 , 472.04202413,\n",
       "       473.36550564, 479.96817373, 470.26106377, 477.96698565,\n",
       "       491.34652578, 491.04632612, 492.39679722, 499.90501716,\n",
       "       484.35635314, 493.47950035, 489.33073581, 474.7457579 ,\n",
       "       445.75747492, 455.62493074, 467.49179418, 472.04167486,\n",
       "       463.61473653, 465.5784378 , 477.43328253, 475.82177301,\n",
       "       470.76444044, 478.83815337, 495.98817867, 488.53800921,\n",
       "       487.15294422, 486.10732079, 488.30144084, 499.37823734,\n",
       "       501.57461794, 506.78908912, 504.33832983, 509.75419618,\n",
       "       520.74431835, 513.74727465, 514.71273028, 515.24467727,\n",
       "       501.24944669, 485.73465321, 483.53935272, 494.43707914,\n",
       "       502.08606466, 511.08070634, 501.95988842, 508.5674552 ,\n",
       "       506.90310579, 501.34710971, 495.03308944, 484.43387023,\n",
       "       498.48846926, 505.27767773, 499.67673464, 474.60219365,\n",
       "       493.50674027, 499.80115202, 503.00312858, 494.97905881,\n",
       "       493.3453713 , 476.83960627, 477.75924695, 428.56334779,\n",
       "       457.399544  , 449.44422939, 445.56428192, 441.49433427,\n",
       "       418.23432493, 389.5651449 , 382.59813738, 400.27659068,\n",
       "       422.45287466, 412.5605271 , 406.61103795, 417.30883515,\n",
       "       420.89904441, 430.0076224 , 427.73013428, 432.14343984,\n",
       "       437.80732243, 429.6559294 , 428.06767952, 427.80449737,\n",
       "       432.65543923, 435.96672829, 432.45441501, 435.80825949,\n",
       "       443.48786745, 455.80636763, 456.35607823, 450.67038583,\n",
       "       451.72591816, 451.73091352, 438.26394107, 432.51747814,\n",
       "       428.38061306, 425.16595512, 435.19314805, 443.22035528,\n",
       "       440.73574201, 426.57729123, 432.08372113, 426.51909228,\n",
       "       432.78621297, 440.79030644, 433.37856762, 426.98367107,\n",
       "       426.79208653, 409.57896133, 396.78037656, 397.90600185,\n",
       "       382.61682481, 371.4690742 , 411.19855633, 399.29763243,\n",
       "       417.92417279, 417.65340874, 400.11509311, 416.28323396,\n",
       "       425.19739575, 419.02068039, 416.93356508, 409.39943438,\n",
       "       428.29388007, 440.0664775 , 443.22977874, 439.29572295,\n",
       "       436.77278197, 433.45188329, 427.83805678, 432.09118304,\n",
       "       432.90220791, 428.39643229, 424.02202144, 408.89387569,\n",
       "       404.12435821, 410.55473978, 400.35507138, 386.88240512,\n",
       "       381.13802279, 392.98777628, 389.93366829, 403.51792447,\n",
       "       406.69827393, 412.71325602, 412.57414173, 415.09759014,\n",
       "       415.032177  , 405.84877535, 407.26211919, 412.04247897,\n",
       "       411.46201653, 427.49663839, 435.45986766, 434.76286981,\n",
       "       428.57686762, 428.05768771, 424.73879299, 436.38850258,\n",
       "       448.67211186, 446.51441549, 455.05658291, 450.17135054,\n",
       "       453.73324627, 448.53727044, 440.22120015, 438.24747242,\n",
       "       437.25438892, 448.27561217, 473.33842564, 470.89464445,\n",
       "       463.98917459, 461.0094898 , 466.23337298, 466.88500719,\n",
       "       469.16184524, 477.36822507, 474.08278684, 485.73153194,\n",
       "       486.75095206, 480.3341193 , 473.98048883, 456.39088712,\n",
       "       456.12146963, 459.8748053 , 460.06950657, 465.61941452,\n",
       "       452.07672077, 466.27216382, 469.16780979, 462.0830315 ,\n",
       "       458.27775825, 456.51771108, 446.97198386, 441.7719992 ,\n",
       "       441.77160323, 448.27773893, 454.2708593 , 449.80648189,\n",
       "       448.17154239, 433.03848242, 423.56593449, 437.99737841,\n",
       "       427.23277713, 428.26520472, 421.71136508, 400.80603816,\n",
       "       392.39276233, 400.10420914, 402.63084496, 399.97989196,\n",
       "       396.85034421, 402.97930062, 412.79156321, 407.46869882,\n",
       "       393.51690457, 392.11612856, 391.9456823 , 397.71049776,\n",
       "       398.57033748, 393.66816462, 402.02495209, 398.1238947 ,\n",
       "       393.58174482, 396.57020531, 399.05344891, 405.31407533,\n",
       "       405.01779347, 406.0240071 , 410.84703924, 416.60702005,\n",
       "       419.56818706, 416.45247139, 420.70709541, 432.7716595 ,\n",
       "       433.3220783 , 410.42613744, 418.17966864, 432.15106628,\n",
       "       434.05163584, 430.3973079 , 421.89643838, 420.96630402,\n",
       "       420.63787839, 421.91773335, 423.21350769, 419.4605341 ,\n",
       "       429.72047062, 434.69197957, 432.0579554 , 435.72855604,\n",
       "       436.54662422, 435.11389691, 429.35269288, 425.53943221,\n",
       "       419.39016192, 414.56401853, 411.66843969, 410.4560806 ,\n",
       "       416.16619512, 415.8618822 , 416.9617165 , 420.12514158,\n",
       "       415.5264381 , 408.73596576, 404.02795457, 393.11920171,\n",
       "       378.89238634, 382.84205093, 391.9757575 , 389.96862562,\n",
       "       382.7718983 , 386.11943173, 391.05070588, 392.72406277,\n",
       "       385.57545406, 381.93625215, 381.60779037, 387.4820368 ,\n",
       "       411.60094859, 414.57253819, 411.1707043 , 409.6028939 ,\n",
       "       407.87056601, 414.8529065 , 407.64596779, 400.47511549,\n",
       "       406.23758286, 405.78455452, 418.62916646, 419.82180439,\n",
       "       446.0017079 , 441.53511038, 448.37069513, 446.72460105,\n",
       "       442.10490783])"
      ]
     },
     "execution_count": 56,
     "metadata": {},
     "output_type": "execute_result"
    }
   ],
   "source": [
    "y_predict"
   ]
  },
  {
   "cell_type": "code",
   "execution_count": 57,
   "id": "5e83ea4a",
   "metadata": {
    "executionInfo": {
     "elapsed": 155,
     "status": "ok",
     "timestamp": 1675634515013,
     "user": {
      "displayName": "Nandhashree M S",
      "userId": "00326800609865145959"
     },
     "user_tz": 300
    },
    "id": "5e83ea4a"
   },
   "outputs": [],
   "source": [
    "yt=pd.Series(y_predict)\n",
    "ema9test = yt.ewm(span=9, adjust=False).mean()\n",
    "ema50test = yt.ewm(span=50, adjust=False).mean()\n",
    "ema200test = yt.ewm(span=200, adjust=False).mean()"
   ]
  },
  {
   "cell_type": "code",
   "execution_count": 58,
   "id": "a3f43277",
   "metadata": {
    "id": "a3f43277"
   },
   "outputs": [],
   "source": [
    "#printing the shape"
   ]
  },
  {
   "cell_type": "code",
   "execution_count": 59,
   "id": "12da7e97",
   "metadata": {
    "colab": {
     "base_uri": "https://localhost:8080/"
    },
    "executionInfo": {
     "elapsed": 137,
     "status": "ok",
     "timestamp": 1675634516974,
     "user": {
      "displayName": "Nandhashree M S",
      "userId": "00326800609865145959"
     },
     "user_tz": 300
    },
    "id": "12da7e97",
    "outputId": "5204d730-ad4a-4a29-e889-02bf2d61c8b9"
   },
   "outputs": [
    {
     "data": {
      "text/plain": [
       "(305,)"
      ]
     },
     "execution_count": 59,
     "metadata": {},
     "output_type": "execute_result"
    }
   ],
   "source": [
    "y_predict.shape"
   ]
  },
  {
   "cell_type": "code",
   "execution_count": 60,
   "id": "6ef83da6",
   "metadata": {
    "colab": {
     "base_uri": "https://localhost:8080/"
    },
    "executionInfo": {
     "elapsed": 153,
     "status": "ok",
     "timestamp": 1675634518641,
     "user": {
      "displayName": "Nandhashree M S",
      "userId": "00326800609865145959"
     },
     "user_tz": 300
    },
    "id": "6ef83da6",
    "outputId": "27858bb3-922c-47e3-b556-f816ba447f63"
   },
   "outputs": [
    {
     "data": {
      "text/plain": [
       "array([365.64082113, 365.83826513, 364.21576924, 356.98077617,\n",
       "       360.41950653, 369.23896029, 370.96008291, 368.74853343,\n",
       "       372.2787184 , 355.36435788, 349.01275492, 350.09183841,\n",
       "       343.37829982, 342.38132749, 347.22701276, 351.63428348,\n",
       "       350.7753501 , 353.36499901, 341.91207508, 334.18848779,\n",
       "       335.80694331, 334.76067679, 335.00905514, 331.04124892,\n",
       "       327.81630349, 330.49221695, 326.8928356 , 335.88947511,\n",
       "       340.19245266, 358.36127149, 366.60778497, 361.64273928,\n",
       "       362.26290457, 354.29345102, 351.58949095, 360.23610664,\n",
       "       355.89969439, 342.2148147 , 335.63740869, 334.03368185,\n",
       "       331.84163196, 338.74061969, 334.57086276, 329.74281312,\n",
       "       329.06562997, 330.10305828, 333.15304842, 338.74302482,\n",
       "       340.541278  , 329.47865352, 331.69372222, 332.7520284 ,\n",
       "       330.36096415, 342.43868484, 334.7796012 , 328.95772664,\n",
       "       324.5965202 , 310.90520046, 310.35045982, 313.75778327,\n",
       "       305.79248392, 298.38828933, 307.68010494, 310.41028352,\n",
       "       294.6064493 , 291.31329692, 294.39330177, 294.63888533,\n",
       "       286.9631818 , 283.00285799, 285.92857553, 287.21162113,\n",
       "       283.54352689, 291.91829184, 302.1715721 , 309.64514093,\n",
       "       308.41617568, 308.56700111, 307.12163462, 304.20130246,\n",
       "       301.86358354, 306.9577616 , 306.25423081, 304.76861589,\n",
       "       304.50059519, 304.03207306, 293.15050179, 278.06066879,\n",
       "       271.82892559, 264.07725314, 265.56915651, 267.46367361,\n",
       "       267.26166682, 266.23142376, 254.78564646, 268.42091691,\n",
       "       272.66332322, 272.96606673, 268.62459131, 266.83442153,\n",
       "       263.99785393, 252.55026729, 255.3352203 , 250.07379016,\n",
       "       253.24945214, 250.35014063, 254.27281623, 259.71374973,\n",
       "       256.8384167 , 258.71901491, 265.62724437, 267.90581814,\n",
       "       264.0697456 , 262.99015741, 260.94418233, 258.70388704,\n",
       "       254.99575534, 250.84172582, 254.3036309 , 256.95939575,\n",
       "       251.75741223, 243.77879046, 246.54959343, 249.26643598,\n",
       "       256.56414052, 266.74806293, 269.12723952, 259.47050803,\n",
       "       255.07131346, 256.69967848, 259.35389833, 260.99832431,\n",
       "       258.88281914, 264.3874152 , 267.14260318, 262.86146373,\n",
       "       264.52841465, 266.24998806, 276.21213939, 276.68304255,\n",
       "       270.05517504, 260.78492763, 266.02321889, 259.80351462,\n",
       "       253.39201333, 251.26148017, 240.51076588, 242.68646351,\n",
       "       237.92945051, 233.7024216 , 227.52872533, 223.42357596,\n",
       "       224.8193385 , 227.94858832, 226.52081256, 219.35813153,\n",
       "       210.78327059, 182.51195872, 187.2978068 , 183.07839024,\n",
       "       183.91048888, 182.12680143, 184.43745196, 180.81483683,\n",
       "       174.69010131, 171.04594427, 172.54982936, 169.92442529,\n",
       "       165.02925567, 169.72879456, 172.35228625, 178.34029121,\n",
       "       175.04538487, 181.26656754, 188.39597234, 186.73664849,\n",
       "       196.53521903, 192.97376542, 197.37133748, 187.34488536,\n",
       "       179.4249945 , 178.44667014, 179.96523857, 178.23947109,\n",
       "       182.27004834, 185.54795034, 184.39919903, 182.26956423,\n",
       "       178.82506341, 180.74425264, 175.68166523, 175.75366875,\n",
       "       171.86496027, 172.55233662, 175.51657575, 168.84234964,\n",
       "       163.11778186, 161.47688484, 156.84820711, 157.12115541,\n",
       "       163.63825345, 165.91122809, 165.91506812, 173.20561345,\n",
       "       175.08701195, 172.76193239, 174.56540135, 177.45982383,\n",
       "       173.55499463, 168.49692065, 169.0174957 , 170.32693853,\n",
       "       171.95219055, 171.53543798, 168.73985381, 166.46458948,\n",
       "       169.87697085, 176.15367668, 178.55794084, 181.25186974,\n",
       "       185.07001471, 182.18155275, 193.28075175, 183.07742337,\n",
       "       184.84894877, 184.47739616, 182.0333576 , 181.65096664,\n",
       "       177.18184963, 179.61336985, 175.49416784, 175.0833762 ,\n",
       "       171.73372077, 172.620042  , 174.72657365, 181.64189028,\n",
       "       182.85980679, 180.64048529, 176.56388675, 175.59531016,\n",
       "       183.03843884, 142.51899162, 149.08869222, 151.6579059 ,\n",
       "       157.94951909, 157.00025563, 160.16140448, 163.1566871 ,\n",
       "       164.89307506, 168.56975419, 172.357849  , 175.17117182,\n",
       "       180.66457621, 180.5074361 , 178.34307384, 181.51521631,\n",
       "       193.81037767, 190.02330522, 190.04557039, 182.40083001,\n",
       "       182.60841592, 184.26568775, 181.61108849, 179.14418026,\n",
       "       178.74314729, 182.40749231, 182.53848258, 180.55819534,\n",
       "       177.07099047, 171.01791676, 172.26802595, 171.19057861,\n",
       "       169.28410074, 186.84855159, 199.07016056, 203.59784614,\n",
       "       204.65941829, 205.05235924, 202.21307157, 204.61499302,\n",
       "       214.3728087 , 215.89297702, 215.84869785, 230.07720564,\n",
       "       228.39958589, 236.59822348, 236.01955464, 232.22909693,\n",
       "       223.72302323, 222.84511823, 216.47627318, 214.08993594,\n",
       "       208.93062056, 210.36269436, 199.94815034, 194.65715971,\n",
       "       186.15179864, 186.80085398, 187.47321825, 182.29192981,\n",
       "       183.75457955, 174.52368301, 174.3268094 , 173.570384  ,\n",
       "       188.33542376, 178.93408551, 177.3287611 , 176.49157119,\n",
       "       180.69332564, 180.89331617, 182.85530218, 176.43221555,\n",
       "       174.85782607, 172.38570863, 172.19789484, 174.77203546,\n",
       "       171.69344167, 168.98810167, 166.7325325 , 169.5647956 ,\n",
       "       169.50030568, 166.31397073, 164.3029029 , 159.88674911,\n",
       "       158.50499578, 158.00767126, 157.45597818, 158.71151779,\n",
       "       157.66038548, 159.04770234, 160.19726295, 165.79457878,\n",
       "       163.48401508, 167.43806181, 163.30740313, 162.81096269,\n",
       "       165.90859838, 162.69728365, 155.3052543 , 155.16144979,\n",
       "       151.16653216, 154.67432735, 159.96614925, 160.61581429,\n",
       "       168.12879742, 169.07506962, 162.32842604, 157.16408123,\n",
       "       157.88565914, 156.54684091, 153.29244042, 147.08397479,\n",
       "       147.13411407, 140.17236462, 135.38840815, 134.4975285 ,\n",
       "       130.63621635, 130.62499946, 123.89394034, 124.3248677 ,\n",
       "       119.18114369, 122.4799899 , 123.03531896, 123.38767798,\n",
       "       120.39021414, 119.68865584, 120.87245386, 122.67819508,\n",
       "       113.93033   , 109.25504981, 109.5106857 , 109.84785296,\n",
       "       118.5339308 , 119.02107579, 114.73088796, 114.08766655,\n",
       "       113.11026813, 108.16704259, 116.75797987, 119.61406499,\n",
       "       120.23465458, 131.64319015, 129.66252668, 127.52405464,\n",
       "       128.35620775, 125.15046417, 123.17603677, 122.91192984,\n",
       "       133.60411543, 132.37178748, 130.89742993, 124.35547694,\n",
       "       125.4070774 , 119.43112128, 117.76032427, 116.06182277,\n",
       "       121.19443347, 120.74395049, 117.6321904 , 118.82716111,\n",
       "       117.27549345, 120.52768939, 128.07113194, 125.90500916,\n",
       "       126.0256628 , 140.27412557, 138.66770293, 132.56260007,\n",
       "       130.86545443, 132.84654074, 128.69599882, 148.8122921 ,\n",
       "       170.25636788, 169.80489088, 177.09374174, 175.62748866,\n",
       "       176.74898719, 173.17326385, 174.64163851, 170.25821832,\n",
       "       175.82102552, 172.11414345, 173.86016592, 167.2944472 ,\n",
       "       171.54950224, 170.20101484, 169.25173411, 168.71715945,\n",
       "       167.16473654, 162.40381514, 165.03091127, 164.50530773,\n",
       "       168.19174553, 164.66447777, 164.67824026, 161.25103541,\n",
       "       159.43474239, 167.55918564, 168.59576842, 163.52028342,\n",
       "       164.14778071, 160.90456385, 160.58830192, 172.13535957,\n",
       "       181.02325926, 176.10660831, 179.61459623, 176.86881686,\n",
       "       178.44306865, 177.75575011, 176.7745125 , 175.88362695,\n",
       "       174.99110365, 175.87809805, 182.39276598, 185.33344181,\n",
       "       185.20035882, 192.56462635, 192.61895873, 187.1969646 ,\n",
       "       185.93340341, 183.29420521, 190.86321086, 196.23608408,\n",
       "       194.90984546, 196.27377814, 199.76238477, 198.52892957,\n",
       "       197.93580046, 198.46804085, 192.89040926, 187.53811092,\n",
       "       187.71301859, 188.47816703, 183.44493706, 178.51578528,\n",
       "       186.61819578, 187.56380855, 181.20341228, 164.44230084,\n",
       "       164.4693797 , 181.1065971 , 178.74018251, 174.76553476,\n",
       "       169.57120129, 172.00932261, 170.28794238, 169.77649991,\n",
       "       172.66225381, 168.24599993, 161.79105299, 157.66420026,\n",
       "       159.70638628, 152.36733699, 149.60358094, 145.03356578,\n",
       "       143.73760436, 131.42332592, 126.95344813, 128.25305332,\n",
       "       122.99380333, 125.67856575, 114.37592834, 105.68241662,\n",
       "       100.62436782,  88.41811325,  88.85593326,  84.14858051,\n",
       "        80.27763599,  76.3853334 ,  73.74688947,  76.72458256,\n",
       "        68.63204805,  66.68656007,  69.83608222,  70.33703907,\n",
       "        72.86008268,  68.17631888,  69.14286793,  69.06560772,\n",
       "        64.96312878,  67.47962751,  69.16348944,  73.66667624,\n",
       "        74.53420039,  75.25692863,  73.80045066,  75.44896259,\n",
       "        80.33434214,  74.96283759,  74.47163257,  76.99126265,\n",
       "        75.56082231,  75.1398518 ,  77.18322285,  78.06630788,\n",
       "        90.95120524,  83.09092593,  82.95021445,  82.41180721,\n",
       "        83.67272866,  82.331257  ,  87.92242096,  85.33292328,\n",
       "        88.34333176,  83.92287939,  83.86987718,  81.36438741,\n",
       "        84.10149898,  83.42755671,  84.54611724,  82.85635039,\n",
       "        84.47631006,  85.22436923,  86.18528366,  86.04136614,\n",
       "        89.82565576,  95.13201965,  99.05715042,  99.33087582,\n",
       "       108.47762188, 116.97726092, 113.25513874, 110.73933851,\n",
       "       107.94771862, 104.54028029, 101.59201686,  95.63866675,\n",
       "        94.3611435 ,  96.06952327, 101.31202671, 103.3691719 ,\n",
       "       104.56085141, 108.48036991, 104.37614684, 102.82130168,\n",
       "        99.32841156,  99.47015008, 100.43409613, 102.25083757,\n",
       "       104.85524073, 108.34312741, 110.6684501 , 107.43233268,\n",
       "       107.4300928 , 107.2515998 , 110.02399307, 105.70454524,\n",
       "       104.1603529 , 101.89215785, 106.21485719, 104.8248916 ,\n",
       "       108.58081351, 106.99231689, 105.88804609, 104.16611196,\n",
       "       102.91431479, 106.06736331, 106.68944986, 104.67543188,\n",
       "       104.22828824, 111.20856827, 112.93730733, 116.07325677,\n",
       "       116.82900499, 118.56827658, 123.60223255, 123.52714231,\n",
       "       125.37283164, 129.62362284, 127.89119067, 123.57726927,\n",
       "       126.56634536, 126.15727803, 123.9726446 , 121.7665463 ,\n",
       "       122.22472624, 126.56842156, 135.030136  , 144.03802956,\n",
       "       143.2923923 , 142.68260978, 143.03267766, 148.79870224,\n",
       "       152.8524207 , 151.84362605, 150.15017967, 144.53171346,\n",
       "       137.90927279, 141.10994498, 145.20424579, 149.1336876 ,\n",
       "       147.69524091, 152.77041176, 148.22897042, 148.75413247,\n",
       "       140.52283954, 132.79915769, 131.76729974, 125.04234562,\n",
       "       126.99214792, 132.45489143, 133.0565056 , 133.07398692,\n",
       "       134.35995538, 134.33859809, 142.25897036, 141.50082298,\n",
       "       141.42110343, 140.56442705, 135.75058543, 135.28353626,\n",
       "       131.50135455, 130.73920621, 127.59109781, 129.05020957,\n",
       "       128.96364406, 131.09947235, 133.00273971, 137.45251468,\n",
       "       135.78089771, 134.19499108, 138.23915491, 131.23823852,\n",
       "       132.37375842, 132.29597033, 135.94984152, 135.66328984,\n",
       "       137.11098206, 141.23412084, 140.1148036 , 145.14602605,\n",
       "       149.828874  , 152.62172038, 147.29215283, 150.28054903,\n",
       "       157.74074784, 174.73190613, 172.17425577, 168.42586255,\n",
       "       170.88207786, 174.43105932, 173.0797035 , 174.15260991,\n",
       "       181.69375246, 179.77802074, 184.6702289 , 184.82855351,\n",
       "       185.88976132, 185.18251631, 182.05726671, 185.05442064,\n",
       "       178.98758794, 179.96927973, 178.87602429, 177.26514539,\n",
       "       182.59217868, 181.93136901, 178.7107201 , 169.13537734,\n",
       "       163.16407966, 167.72279192, 176.5927852 , 185.09211572,\n",
       "       183.92994961, 183.31077095, 185.61696983, 186.31101774,\n",
       "       190.56592398, 191.23659991, 194.39129639, 198.28450834,\n",
       "       199.77232672, 220.44087968, 243.75476101, 244.01636357,\n",
       "       245.88654014, 258.0813234 , 249.24562586, 259.11722393,\n",
       "       272.81306475, 293.52141589, 292.62794158, 286.74288641,\n",
       "       268.63812796, 270.00600855, 269.80702244, 270.82311579,\n",
       "       320.39747572, 332.10946081, 329.07898783, 320.37772907,\n",
       "       335.48287255, 329.03633178, 327.31014693, 328.52446045,\n",
       "       326.46266766, 330.95544428, 332.42617372, 331.94091786,\n",
       "       325.26497286, 309.42216   , 307.11321586, 324.82508691,\n",
       "       323.86091454, 331.46116621, 328.1608729 , 326.55706964,\n",
       "       341.00620869, 353.50297189, 342.67833578, 328.4856848 ,\n",
       "       323.15278037, 318.03131557, 321.11704436, 319.14468022,\n",
       "       313.69244305, 317.43849483, 310.50210143, 308.15625654,\n",
       "       300.7549537 , 302.44617418, 309.40814309, 297.56116299,\n",
       "       285.64474552, 298.37198684, 295.47592389, 304.14980166,\n",
       "       306.05843947, 304.15442649, 310.56771281, 307.93311354,\n",
       "       316.60218467, 321.50771534, 291.80598973, 296.52370856,\n",
       "       301.57970141, 310.64650112, 300.42572818, 298.92095837,\n",
       "       298.78619831, 296.96610286, 296.01382495, 299.90934023,\n",
       "       306.96393266, 304.12601525, 296.28066034, 290.19017662,\n",
       "       293.1623844 , 289.58358775, 298.46711238, 302.61690448,\n",
       "       312.41357609, 316.88512121, 329.4079052 , 316.69414465,\n",
       "       318.95345681, 332.27823521, 318.83834031, 309.24494   ,\n",
       "       312.24980135, 311.59567753, 316.04412795, 317.30307623,\n",
       "       320.67743517, 319.34972047, 314.37263785, 322.29524666,\n",
       "       321.68940073, 325.02492417, 333.34900131, 347.78058434,\n",
       "       348.88468871, 347.56337663, 344.48428702, 349.54825364,\n",
       "       350.34147801, 356.17447347, 352.63502357, 347.33796677,\n",
       "       335.59866872, 330.9186284 , 341.27444929, 337.58436646,\n",
       "       334.61701727, 340.33720452, 341.08270713, 342.67571739,\n",
       "       341.558219  , 344.78869023, 341.17716898, 346.37595668,\n",
       "       333.36211998, 310.47925247, 306.75685235, 304.10980383,\n",
       "       307.23544402, 309.01815824, 310.26241182, 309.03187911,\n",
       "       312.66711496, 306.57980908, 302.56392941, 302.80355923,\n",
       "       296.57822776, 292.49294463, 292.30327804, 285.06196845,\n",
       "       292.09619923, 296.80514259, 295.43969497, 301.29041808,\n",
       "       300.03502417, 296.78011187, 299.77485785, 299.27090726,\n",
       "       294.18609385, 290.60615097, 304.14505456, 305.89988813,\n",
       "       304.15215378, 295.22277703, 293.32236911, 283.70266479,\n",
       "       279.32561955, 273.3400455 , 286.14442775, 283.3064695 ,\n",
       "       283.75843726, 291.05562695, 286.61846144, 293.37593879,\n",
       "       292.30307288, 293.80186277, 296.04514819, 292.2723045 ,\n",
       "       295.24238326, 300.06461997, 297.8146903 , 304.65282282,\n",
       "       310.23158872, 309.6539601 , 309.67353205, 303.48688104,\n",
       "       297.23481126, 310.47212068, 320.5121214 , 319.72474226,\n",
       "       330.13946374, 328.53491468, 329.66452913, 333.97371268,\n",
       "       330.92573692, 339.63952827, 347.37082274, 339.91405767,\n",
       "       373.75385374, 390.38251503, 413.44291299, 426.52074167,\n",
       "       513.41740718, 506.53633192, 519.07375899, 494.69513865,\n",
       "       487.46795026, 503.04325376, 496.28965053, 482.49421504,\n",
       "       504.75641254, 499.26137867, 483.55415471, 480.60055153,\n",
       "       478.04543   , 496.26415138, 490.53387178, 490.32515943,\n",
       "       499.45446457, 515.70466188, 509.37468094, 510.79832852,\n",
       "       501.79292118])"
      ]
     },
     "execution_count": 60,
     "metadata": {},
     "output_type": "execute_result"
    }
   ],
   "source": [
    "# evaluating train model\n",
    "z_predict=model.predict(X_train)\n",
    "z_predict"
   ]
  },
  {
   "cell_type": "code",
   "execution_count": 61,
   "id": "6e2ee99e",
   "metadata": {
    "colab": {
     "base_uri": "https://localhost:8080/"
    },
    "executionInfo": {
     "elapsed": 181,
     "status": "ok",
     "timestamp": 1675634521651,
     "user": {
      "displayName": "Nandhashree M S",
      "userId": "00326800609865145959"
     },
     "user_tz": 300
    },
    "id": "6e2ee99e",
    "outputId": "c50b51d3-5a4d-4b3b-91c1-59fd6cba8391"
   },
   "outputs": [
    {
     "data": {
      "text/plain": [
       "(921,)"
      ]
     },
     "execution_count": 61,
     "metadata": {},
     "output_type": "execute_result"
    }
   ],
   "source": [
    "z_predict.shape"
   ]
  },
  {
   "cell_type": "code",
   "execution_count": 62,
   "id": "124082c5",
   "metadata": {
    "executionInfo": {
     "elapsed": 145,
     "status": "ok",
     "timestamp": 1675634523805,
     "user": {
      "displayName": "Nandhashree M S",
      "userId": "00326800609865145959"
     },
     "user_tz": 300
    },
    "id": "124082c5"
   },
   "outputs": [],
   "source": [
    "z=pd.Series(z_predict)\n",
    "ema9train = z.ewm(span=9, adjust=False).mean()\n",
    "ema50train = z.ewm(span=50, adjust=False).mean()\n",
    "ema200train = z.ewm(span=200, adjust=False).mean()"
   ]
  },
  {
   "cell_type": "code",
   "execution_count": 63,
   "id": "ca65d674",
   "metadata": {
    "id": "ca65d674"
   },
   "outputs": [],
   "source": [
    "#printing precision measurements for testing dataset"
   ]
  },
  {
   "cell_type": "code",
   "execution_count": 64,
   "id": "5f23a931",
   "metadata": {
    "colab": {
     "base_uri": "https://localhost:8080/"
    },
    "executionInfo": {
     "elapsed": 31,
     "status": "ok",
     "timestamp": 1675634529682,
     "user": {
      "displayName": "Nandhashree M S",
      "userId": "00326800609865145959"
     },
     "user_tz": 300
    },
    "id": "5f23a931",
    "outputId": "6f1bb970-e616-4eba-ccea-81372ed7dd31"
   },
   "outputs": [
    {
     "data": {
      "text/plain": [
       "0.9088629627136403"
      ]
     },
     "execution_count": 64,
     "metadata": {},
     "output_type": "execute_result"
    }
   ],
   "source": [
    "from sklearn.metrics import r2_score\n",
    "score1=r2_score(y_test,y_predict)\n",
    "score1"
   ]
  },
  {
   "cell_type": "code",
   "execution_count": 65,
   "id": "aac621f8",
   "metadata": {
    "colab": {
     "base_uri": "https://localhost:8080/"
    },
    "executionInfo": {
     "elapsed": 32,
     "status": "ok",
     "timestamp": 1675634531247,
     "user": {
      "displayName": "Nandhashree M S",
      "userId": "00326800609865145959"
     },
     "user_tz": 300
    },
    "id": "aac621f8",
    "outputId": "aad341c8-0b17-4e97-f200-71b696efffd8"
   },
   "outputs": [
    {
     "data": {
      "text/plain": [
       "7.681834697820651"
      ]
     },
     "execution_count": 65,
     "metadata": {},
     "output_type": "execute_result"
    }
   ],
   "source": [
    "from sklearn.metrics import mean_absolute_error\n",
    "mean_ab_error1=mean_absolute_error(y_test,y_predict)\n",
    "mean_ab_error1"
   ]
  },
  {
   "cell_type": "code",
   "execution_count": 66,
   "id": "ba530eb4",
   "metadata": {
    "colab": {
     "base_uri": "https://localhost:8080/"
    },
    "executionInfo": {
     "elapsed": 5,
     "status": "ok",
     "timestamp": 1675634533601,
     "user": {
      "displayName": "Nandhashree M S",
      "userId": "00326800609865145959"
     },
     "user_tz": 300
    },
    "id": "ba530eb4",
    "outputId": "278796b5-00e3-477d-c843-b8c7699ebe28"
   },
   "outputs": [
    {
     "data": {
      "text/plain": [
       "111.87859272595598"
      ]
     },
     "execution_count": 66,
     "metadata": {},
     "output_type": "execute_result"
    }
   ],
   "source": [
    "from sklearn.metrics import mean_squared_error\n",
    "mean_sq_error1=mean_squared_error(y_test,y_predict)\n",
    "mean_sq_error1"
   ]
  },
  {
   "cell_type": "code",
   "execution_count": 67,
   "id": "8f1e2d35",
   "metadata": {
    "colab": {
     "base_uri": "https://localhost:8080/"
    },
    "executionInfo": {
     "elapsed": 141,
     "status": "ok",
     "timestamp": 1675634535165,
     "user": {
      "displayName": "Nandhashree M S",
      "userId": "00326800609865145959"
     },
     "user_tz": 300
    },
    "id": "8f1e2d35",
    "outputId": "840d8e5c-15ca-4eb2-80e6-6c8a7771373b"
   },
   "outputs": [
    {
     "data": {
      "text/plain": [
       "10.577267734436715"
      ]
     },
     "execution_count": 67,
     "metadata": {},
     "output_type": "execute_result"
    }
   ],
   "source": [
    "from math import sqrt\n",
    "RMSE1=sqrt(mean_sq_error1)\n",
    "RMSE1"
   ]
  },
  {
   "cell_type": "code",
   "execution_count": 68,
   "id": "2f443f26",
   "metadata": {
    "id": "2f443f26"
   },
   "outputs": [],
   "source": [
    "#printing precision measurements for training dataset"
   ]
  },
  {
   "cell_type": "code",
   "execution_count": 69,
   "id": "f4d17b81",
   "metadata": {
    "colab": {
     "base_uri": "https://localhost:8080/"
    },
    "executionInfo": {
     "elapsed": 8,
     "status": "ok",
     "timestamp": 1675634537186,
     "user": {
      "displayName": "Nandhashree M S",
      "userId": "00326800609865145959"
     },
     "user_tz": 300
    },
    "id": "f4d17b81",
    "outputId": "4af287df-c985-4364-8811-bda7f06f5e59"
   },
   "outputs": [
    {
     "data": {
      "text/plain": [
       "0.9935236705274865"
      ]
     },
     "execution_count": 69,
     "metadata": {},
     "output_type": "execute_result"
    }
   ],
   "source": [
    "from sklearn.metrics import r2_score\n",
    "score2=r2_score(y_train,z_predict)\n",
    "score2"
   ]
  },
  {
   "cell_type": "code",
   "execution_count": 70,
   "id": "485203c6",
   "metadata": {
    "colab": {
     "base_uri": "https://localhost:8080/"
    },
    "executionInfo": {
     "elapsed": 152,
     "status": "ok",
     "timestamp": 1675634539261,
     "user": {
      "displayName": "Nandhashree M S",
      "userId": "00326800609865145959"
     },
     "user_tz": 300
    },
    "id": "485203c6",
    "outputId": "18c63bb7-9109-4f0c-8035-07b829e9f3e4"
   },
   "outputs": [
    {
     "data": {
      "text/plain": [
       "4.954189455082822"
      ]
     },
     "execution_count": 70,
     "metadata": {},
     "output_type": "execute_result"
    }
   ],
   "source": [
    "from sklearn.metrics import mean_absolute_error\n",
    "mean_ab_error2=mean_absolute_error(y_train,z_predict)\n",
    "mean_ab_error2"
   ]
  },
  {
   "cell_type": "code",
   "execution_count": 71,
   "id": "6be57e50",
   "metadata": {
    "colab": {
     "base_uri": "https://localhost:8080/"
    },
    "executionInfo": {
     "elapsed": 148,
     "status": "ok",
     "timestamp": 1675634541026,
     "user": {
      "displayName": "Nandhashree M S",
      "userId": "00326800609865145959"
     },
     "user_tz": 300
    },
    "id": "6be57e50",
    "outputId": "f2ccd0c8-a197-4f18-f3aa-9a69cddebe1e"
   },
   "outputs": [
    {
     "data": {
      "text/plain": [
       "56.50529034472963"
      ]
     },
     "execution_count": 71,
     "metadata": {},
     "output_type": "execute_result"
    }
   ],
   "source": [
    "from sklearn.metrics import mean_squared_error\n",
    "mean_sq_error2=mean_squared_error(y_train,z_predict)\n",
    "mean_sq_error2"
   ]
  },
  {
   "cell_type": "code",
   "execution_count": 72,
   "id": "aea01dae",
   "metadata": {
    "colab": {
     "base_uri": "https://localhost:8080/"
    },
    "executionInfo": {
     "elapsed": 152,
     "status": "ok",
     "timestamp": 1675634542745,
     "user": {
      "displayName": "Nandhashree M S",
      "userId": "00326800609865145959"
     },
     "user_tz": 300
    },
    "id": "aea01dae",
    "outputId": "cdd2bfd4-42ec-47ca-e348-849a51bd76c0"
   },
   "outputs": [
    {
     "data": {
      "text/plain": [
       "7.517000089445897"
      ]
     },
     "execution_count": 72,
     "metadata": {},
     "output_type": "execute_result"
    }
   ],
   "source": [
    "#ROOT MEAN SQUARE ERROR\n",
    "from math import sqrt\n",
    "RMSE2=sqrt(mean_sq_error2)\n",
    "RMSE2"
   ]
  },
  {
   "cell_type": "code",
   "execution_count": 73,
   "id": "30254b93",
   "metadata": {
    "executionInfo": {
     "elapsed": 153,
     "status": "ok",
     "timestamp": 1675634544894,
     "user": {
      "displayName": "Nandhashree M S",
      "userId": "00326800609865145959"
     },
     "user_tz": 300
    },
    "id": "30254b93"
   },
   "outputs": [],
   "source": [
    "table={'precision measurements':['r2_score','mean_absolute_error','mean_squared_error','RMSE'],\n",
    "      'testing data':[0.908,7.68,111.87,10.577],\n",
    "      'training data':[0.993,4.954,56.505,7.517]}"
   ]
  },
  {
   "cell_type": "code",
   "execution_count": 74,
   "id": "d51dd3f9",
   "metadata": {
    "colab": {
     "base_uri": "https://localhost:8080/",
     "height": 175
    },
    "executionInfo": {
     "elapsed": 157,
     "status": "ok",
     "timestamp": 1675634560232,
     "user": {
      "displayName": "Nandhashree M S",
      "userId": "00326800609865145959"
     },
     "user_tz": 300
    },
    "id": "d51dd3f9",
    "outputId": "3023ddfc-96f1-46a8-bf04-783fea2cd4a8"
   },
   "outputs": [
    {
     "data": {
      "text/html": [
       "<div>\n",
       "<style scoped>\n",
       "    .dataframe tbody tr th:only-of-type {\n",
       "        vertical-align: middle;\n",
       "    }\n",
       "\n",
       "    .dataframe tbody tr th {\n",
       "        vertical-align: top;\n",
       "    }\n",
       "\n",
       "    .dataframe thead th {\n",
       "        text-align: right;\n",
       "    }\n",
       "</style>\n",
       "<table border=\"1\" class=\"dataframe\">\n",
       "  <thead>\n",
       "    <tr style=\"text-align: right;\">\n",
       "      <th></th>\n",
       "      <th>precision measurements</th>\n",
       "      <th>testing data</th>\n",
       "      <th>training data</th>\n",
       "    </tr>\n",
       "  </thead>\n",
       "  <tbody>\n",
       "    <tr>\n",
       "      <th>0</th>\n",
       "      <td>r2_score</td>\n",
       "      <td>0.908</td>\n",
       "      <td>0.993</td>\n",
       "    </tr>\n",
       "    <tr>\n",
       "      <th>1</th>\n",
       "      <td>mean_absolute_error</td>\n",
       "      <td>7.680</td>\n",
       "      <td>4.954</td>\n",
       "    </tr>\n",
       "    <tr>\n",
       "      <th>2</th>\n",
       "      <td>mean_squared_error</td>\n",
       "      <td>111.870</td>\n",
       "      <td>56.505</td>\n",
       "    </tr>\n",
       "    <tr>\n",
       "      <th>3</th>\n",
       "      <td>RMSE</td>\n",
       "      <td>10.577</td>\n",
       "      <td>7.517</td>\n",
       "    </tr>\n",
       "  </tbody>\n",
       "</table>\n",
       "</div>"
      ],
      "text/plain": [
       "  precision measurements  testing data  training data\n",
       "0               r2_score         0.908          0.993\n",
       "1    mean_absolute_error         7.680          4.954\n",
       "2     mean_squared_error       111.870         56.505\n",
       "3                   RMSE        10.577          7.517"
      ]
     },
     "execution_count": 74,
     "metadata": {},
     "output_type": "execute_result"
    }
   ],
   "source": [
    "table=pd.DataFrame(table)\n",
    "table"
   ]
  },
  {
   "cell_type": "markdown",
   "id": "0fd1182b",
   "metadata": {
    "id": "0fd1182b"
   },
   "source": [
    "model evaluation"
   ]
  },
  {
   "cell_type": "code",
   "execution_count": 75,
   "id": "777415f6",
   "metadata": {
    "id": "777415f6"
   },
   "outputs": [],
   "source": [
    "#plotting graph for test dataset"
   ]
  },
  {
   "cell_type": "code",
   "execution_count": 76,
   "id": "59ecaa1c",
   "metadata": {
    "colab": {
     "base_uri": "https://localhost:8080/",
     "height": 549
    },
    "executionInfo": {
     "elapsed": 560,
     "status": "ok",
     "timestamp": 1675634968402,
     "user": {
      "displayName": "Nandhashree M S",
      "userId": "00326800609865145959"
     },
     "user_tz": 300
    },
    "id": "59ecaa1c",
    "outputId": "57d8cbd9-6227-412b-9078-69a1594c8602",
    "scrolled": true
   },
   "outputs": [
    {
     "data": {
      "text/plain": [
       "Text(0.5, 1.0, 'closing price history for testing data set with predicted values')"
      ]
     },
     "execution_count": 76,
     "metadata": {},
     "output_type": "execute_result"
    },
    {
     "data": {
      "image/png": "[encoded data removed]",
      "text/plain": [
       "<Figure size 1152x576 with 1 Axes>"
      ]
     },
     "metadata": {
      "needs_background": "light"
     },
     "output_type": "display_data"
    }
   ],
   "source": [
    "plt.figure(figsize=(16,8))\n",
    "plt.plot(y_test,label='actual')\n",
    "plt.plot(y_test.index,y_predict,label='predicted')\n",
    "#plt.plot(y_test.index,ema9test, label='9EMA')\n",
    "#plt.plot(y_test.index,ema50test, label='50EMA')\n",
    "plt.grid()\n",
    "plt.legend()\n",
    "plt.xlabel('years',fontsize=20)\n",
    "plt.ylabel('Closing price',fontsize=20)\n",
    "plt.title('closing price history for testing data set with predicted values',fontsize=25)"
   ]
  },
  {
   "cell_type": "code",
   "execution_count": 77,
   "id": "8945d8ec",
   "metadata": {
    "id": "8945d8ec"
   },
   "outputs": [],
   "source": [
    "#prediction signals for buying and selling in testing data set"
   ]
  },
  {
   "cell_type": "code",
   "execution_count": 78,
   "id": "90962b63",
   "metadata": {
    "executionInfo": {
     "elapsed": 297,
     "status": "ok",
     "timestamp": 1675634601664,
     "user": {
      "displayName": "Nandhashree M S",
      "userId": "00326800609865145959"
     },
     "user_tz": 300
    },
    "id": "90962b63"
   },
   "outputs": [],
   "source": [
    "X_test1=X_test.copy()\n",
    "X_test1['Signal'] = np.where(X_test['EMA_9'] > X_test['EMA_50'], 1, 0)\n",
    "X_test1['Position'] = X_test1['Signal'].diff()\n",
    "X_test1['Buy'] = np.where(X_test1['Position'] == 1, y_test.values, np.NAN)\n",
    "X_test1['Sell'] = np.where(X_test1['Position'] == -1, y_test.values, np.NAN)"
   ]
  },
  {
   "cell_type": "code",
   "execution_count": 79,
   "id": "df9c742b",
   "metadata": {
    "colab": {
     "base_uri": "https://localhost:8080/",
     "height": 525
    },
    "executionInfo": {
     "elapsed": 618,
     "status": "ok",
     "timestamp": 1675634876860,
     "user": {
      "displayName": "Nandhashree M S",
      "userId": "00326800609865145959"
     },
     "user_tz": 300
    },
    "id": "df9c742b",
    "outputId": "d940b7c4-90e2-4c56-b5f7-8c1f47244ea8"
   },
   "outputs": [
    {
     "data": {
      "image/png": "[encoded data removed]",
      "text/plain": [
       "<Figure size 1152x576 with 1 Axes>"
      ]
     },
     "metadata": {
      "needs_background": "light"
     },
     "output_type": "display_data"
    }
   ],
   "source": [
    "# Visualize the close price with EMA also Buy and Sell Signals\n",
    "plt.figure(figsize=(16,8))\n",
    "#plt.plot(y_test,label='actual')\n",
    "plt.plot(y_test.index,y_predict,label='predicted')\n",
    "plt.plot(y_test.index,ema9test, label='9EMA')\n",
    "plt.plot(y_test.index,ema50test, label='50EMA')\n",
    "plt.grid()\n",
    "plt.legend()\n",
    "plt.title('Close Price for Buy and Sell Signals', fontsize=18)\n",
    "plt.ylabel('Close Price', fontsize=18)\n",
    "plt.xlabel('year', fontsize=18)\n",
    "\n",
    "# Make buy or sell signal\n",
    "plt.scatter(X_test.index, X_test1['Buy'], label='Buy Signal', marker='^', color='green',s=70)\n",
    "plt.scatter(X_test.index, X_test1['Sell'], label='Sell Signal', marker='v', color='red',s=70)\n",
    "\n",
    "# Show the graph\n",
    "plt.show()"
   ]
  },
  {
   "cell_type": "code",
   "execution_count": null,
   "id": "54736dec",
   "metadata": {
    "id": "54736dec"
   },
   "outputs": [],
   "source": []
  },
  {
   "cell_type": "code",
   "execution_count": null,
   "id": "7c679091",
   "metadata": {
    "id": "7c679091"
   },
   "outputs": [],
   "source": []
  }
 ],
 "metadata": {
  "colab": {
   "provenance": []
  },
  "kernelspec": {
   "display_name": "Python 3 (ipykernel)",
   "language": "python",
   "name": "python3"
  },
  "language_info": {
   "codemirror_mode": {
    "name": "ipython",
    "version": 3
   },
   "file_extension": ".py",
   "mimetype": "text/x-python",
   "name": "python",
   "nbconvert_exporter": "python",
   "pygments_lexer": "ipython3",
   "version": "3.9.12"
  }
 },
 "nbformat": 4,
 "nbformat_minor": 5
}
